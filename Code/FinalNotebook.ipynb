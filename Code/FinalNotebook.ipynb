{
 "cells": [
  {
   "cell_type": "markdown",
   "metadata": {},
   "source": [
    "# BIA 6304 Predictive Models Fall 2017\n",
    "## Final Project \n",
    "## UCern Questions\n",
    "### Stuent:  Leonardo Ji\n",
    "### 12/9/2017"
   ]
  },
  {
   "cell_type": "markdown",
   "metadata": {},
   "source": [
    "### Import common library"
   ]
  },
  {
   "cell_type": "code",
   "execution_count": 964,
   "metadata": {
    "collapsed": true
   },
   "outputs": [],
   "source": [
    "import pandas as pd   #we almost always need pandas because we like data frames\n",
    "import numpy as np\n",
    "from bs4 import BeautifulSoup\n",
    "import urllib3\n",
    "import json\n",
    "import math\n",
    "import re\n",
    "from nltk.stem.porter import PorterStemmer\n",
    "from sklearn.model_selection import train_test_split, cross_val_score, GridSearchCV, KFold\n",
    "from sklearn.neighbors import KNeighborsClassifier\n",
    "from sklearn.cluster import KMeans\n",
    "from sklearn.decomposition import TruncatedSVD\n",
    "from sklearn.decomposition import NMF\n",
    "from sklearn.decomposition import LatentDirichletAllocation\n",
    "from sklearn.feature_extraction import text \n",
    "from sklearn.feature_extraction.text import TfidfVectorizer\n",
    "from sklearn.feature_extraction.text import CountVectorizer\n",
    "from sklearn.preprocessing import Normalizer\n",
    "from sklearn.ensemble import RandomForestClassifier\n",
    "from sklearn.datasets import make_classification\n",
    "from sklearn import metrics\n",
    "from sklearn.metrics.pairwise import euclidean_distances\n",
    "from sklearn.metrics import mean_squared_error, mean_absolute_error, r2_score, explained_variance_score\n",
    "from sklearn.metrics import accuracy_score, precision_score, recall_score, f1_score\n",
    "from sklearn.metrics import roc_curve, auc, confusion_matrix, classification_report\n",
    "import matplotlib as mpl\n",
    "import matplotlib.pyplot as plt\n",
    "from sklearn.utils import shuffle\n",
    "from matplotlib import pyplot\n",
    "import time\n",
    "pd.set_option('display.max_colwidth', 150) #important for getting all the text\n",
    "%matplotlib inline"
   ]
  },
  {
   "cell_type": "markdown",
   "metadata": {},
   "source": [
    "### The Story\n",
    "UCern is a social network site that allows collaboration between client support and development organizations.  There are many groups within UCern.  \n",
    "\n",
    "Typically, support person would post a discussion thread as a question and an engineer would answer this question.  If the question is resolved then the discussion will be marked “Resolved” status.\n",
    "\n",
    "We try to find a machine learning model to predict resolved status based on the data."
   ]
  },
  {
   "cell_type": "markdown",
   "metadata": {},
   "source": [
    "### Gather data\n",
    "A python web scrapping is used to call UCern Content API to retrieve this data. The results are saved in a Panda .bin file to be read again."
   ]
  },
  {
   "cell_type": "code",
   "execution_count": null,
   "metadata": {
    "collapsed": true
   },
   "outputs": [],
   "source": [
    "ucern = {}\n",
    "#http://urllib3.readthedocs.io/en/latest/user-guide.html\n",
    "http = urllib3.PoolManager()\n",
    "headers = urllib3.util.make_headers(basic_auth='user:changeit')\n",
    "\n",
    "url = 'https://connectupgradedev.ucern.com/api/core/v3/places/1356468/contents?sort=dateCreatedDesc&fields=%40all&filter=place%28https%3A//connectupgradedev.ucern.com/api/core/v3/places/1356468%29&abridged=false&count=100'\n",
    " \n",
    "def loadContent(jsondata, ucern, count):\n",
    "    for content in jsondata['list']:\n",
    "        ucern[count] = {}\n",
    "        ucern[count]['contentID'] = content['contentID'];\n",
    "        if ('type' in content):\n",
    "            ucern[count]['type'] = content['type']\n",
    "        if ('subject' in content):\n",
    "            ucern[count]['subject'] = content['subject']\n",
    "        if ('viewCount' in content):\n",
    "            ucern[count]['viewCount'] = content['viewCount']\n",
    "        if ('replyCount' in content):\n",
    "            ucern[count]['replyCount'] = content['replyCount']\n",
    "        if ('lastActivityDate' in content):\n",
    "            ucern[count]['lastActivityDate'] = content['lastActivityDate']\n",
    "        if ('author' in content):\n",
    "            ucern[count]['author'] = content['author']['displayName']\n",
    "        if ('content' in content):\n",
    "            # remove html tags using BeautifulSoup\n",
    "            soup = BeautifulSoup(content['content']['text'], \"lxml\")\n",
    "            ucern[count]['content'] = soup.get_text()\n",
    "        if ('question' in content):\n",
    "            ucern[count]['question'] = content['question']\n",
    "            ucern[count]['resolved'] = False\n",
    "            if ('resolved' in content and content['resolved'] == 'resolved'):\n",
    "                ucern[count]['resolved'] = True\n",
    "                if ('answer' in content):\n",
    "                    ucern[count]['answerLink'] = content['answer']\n",
    "                    req2 = http.request('GET', content['answer'], headers=headers)\n",
    "                    json2 = json.loads(req2.data)\n",
    "                    if ('content' in json2):\n",
    "                        # remove html tags using BeautifulSoup\n",
    "                        soup2 = BeautifulSoup(json2['content']['text'], \"lxml\")\n",
    "                        ucern[count]['answer'] = soup2.get_text()\n",
    "                        if ('author' in json2):\n",
    "                            ucern[count]['answerAuthor'] = json2['author']['displayName']\n",
    "        count = count + 1\n",
    "    return count\n",
    "\n",
    "i = 0\n",
    "count = 0\n",
    "while(url and i < 10):\n",
    "    #print(url)\n",
    "    req = http.request('GET', url, headers=headers)\n",
    "    jsondata = json.loads(req.data)\n",
    "    \n",
    "    count = loadContent(jsondata, ucern, count)\n",
    "    \n",
    "    if (jsondata and jsondata['links'] and 'next' in jsondata['links']):\n",
    "        url = jsondata['links']['next']\n",
    "    i = i + 1\n",
    "    \n",
    "# convert data to panda dataframe\n",
    "ucernDf = pd.DataFrame.from_dict(ucern,orient=\"index\")"
   ]
  },
  {
   "cell_type": "code",
   "execution_count": 884,
   "metadata": {},
   "outputs": [
    {
     "name": "stdout",
     "output_type": "stream",
     "text": [
      "C:\\Users\\lj015625\\Desktop\\Predictive Model\\Final Project\n"
     ]
    }
   ],
   "source": [
    "cd C:/Users/lj015625/Desktop/Predictive Model/Final Project"
   ]
  },
  {
   "cell_type": "code",
   "execution_count": 1039,
   "metadata": {
    "collapsed": true
   },
   "outputs": [],
   "source": [
    "# save data to disk\n",
    "#ucernDf.to_pickle(\"ucernDf.bin\")\n",
    "ucernDf = pd.read_pickle(\"ucernDf_CM.bin\")"
   ]
  },
  {
   "cell_type": "code",
   "execution_count": 1040,
   "metadata": {},
   "outputs": [
    {
     "data": {
      "text/html": [
       "<div>\n",
       "<style>\n",
       "    .dataframe thead tr:only-child th {\n",
       "        text-align: right;\n",
       "    }\n",
       "\n",
       "    .dataframe thead th {\n",
       "        text-align: left;\n",
       "    }\n",
       "\n",
       "    .dataframe tbody tr th {\n",
       "        vertical-align: top;\n",
       "    }\n",
       "</style>\n",
       "<table border=\"1\" class=\"dataframe\">\n",
       "  <thead>\n",
       "    <tr style=\"text-align: right;\">\n",
       "      <th></th>\n",
       "      <th>contentID</th>\n",
       "      <th>type</th>\n",
       "      <th>subject</th>\n",
       "      <th>viewCount</th>\n",
       "      <th>replyCount</th>\n",
       "      <th>lastActivityDate</th>\n",
       "      <th>author</th>\n",
       "      <th>content</th>\n",
       "      <th>question</th>\n",
       "      <th>resolved</th>\n",
       "      <th>answerLink</th>\n",
       "      <th>answer</th>\n",
       "      <th>answerAuthor</th>\n",
       "    </tr>\n",
       "  </thead>\n",
       "  <tbody>\n",
       "    <tr>\n",
       "      <th>0</th>\n",
       "      <td>4124703</td>\n",
       "      <td>discussion</td>\n",
       "      <td>398 server running out of memory at intermountain</td>\n",
       "      <td>34</td>\n",
       "      <td>8</td>\n",
       "      <td>2017-05-18T16:59:53.867+0000</td>\n",
       "      <td>Sandeep Talluri</td>\n",
       "      <td>Issue: out of memory errors at intermountain attached heap dumps    description:  Care Management   entry:        398   started:      17 May 2017 ...</td>\n",
       "      <td>True</td>\n",
       "      <td>True</td>\n",
       "      <td>https://connectcrt.ucern.com/api/core/v3/messages/4884699</td>\n",
       "      <td>What care management package is ihc_ut client is on? I reviewed the Java heap dump file.  The 532.6MB out of 743MB of heap is used by loading UM w...</td>\n",
       "      <td>Leonardo Ji</td>\n",
       "    </tr>\n",
       "    <tr>\n",
       "      <th>1</th>\n",
       "      <td>4118973</td>\n",
       "      <td>discussion</td>\n",
       "      <td>interqual/mcg&amp;#160; Content upgrade</td>\n",
       "      <td>9</td>\n",
       "      <td>0</td>\n",
       "      <td>2017-05-15T22:04:39.899+0000</td>\n",
       "      <td>Sandeep Talluri</td>\n",
       "      <td>I have a client who upgraded to Interqual 2017 a couple of weeks back and was down with this product for a week until he backed out and upgraded t...</td>\n",
       "      <td>True</td>\n",
       "      <td>False</td>\n",
       "      <td>NaN</td>\n",
       "      <td>NaN</td>\n",
       "      <td>NaN</td>\n",
       "    </tr>\n",
       "    <tr>\n",
       "      <th>2</th>\n",
       "      <td>4110891</td>\n",
       "      <td>discussion</td>\n",
       "      <td>3.6 Package Question</td>\n",
       "      <td>27</td>\n",
       "      <td>2</td>\n",
       "      <td>2017-05-12T14:27:37.615+0000</td>\n",
       "      <td>Larissa Lynn</td>\n",
       "      <td>I wanted to confirm if these are the proper packages for ACM 3.6:   97713 – Care Management 3.6 2015.0197716 – Mpages (US): Care Management 3.6 20...</td>\n",
       "      <td>False</td>\n",
       "      <td>False</td>\n",
       "      <td>NaN</td>\n",
       "      <td>NaN</td>\n",
       "      <td>NaN</td>\n",
       "    </tr>\n",
       "    <tr>\n",
       "      <th>3</th>\n",
       "      <td>4092330</td>\n",
       "      <td>discussion</td>\n",
       "      <td>FLHO_FL M1751 needs onboarded for Curaspan</td>\n",
       "      <td>22</td>\n",
       "      <td>2</td>\n",
       "      <td>2017-05-08T19:00:59.980+0000</td>\n",
       "      <td>Vinit Patel</td>\n",
       "      <td>Zip secure file is attached.</td>\n",
       "      <td>False</td>\n",
       "      <td>False</td>\n",
       "      <td>NaN</td>\n",
       "      <td>NaN</td>\n",
       "      <td>NaN</td>\n",
       "    </tr>\n",
       "    <tr>\n",
       "      <th>4</th>\n",
       "      <td>4091795</td>\n",
       "      <td>discussion</td>\n",
       "      <td>Internal server errors</td>\n",
       "      <td>22</td>\n",
       "      <td>1</td>\n",
       "      <td>2017-05-08T17:22:35.427+0000</td>\n",
       "      <td>Sandeep Talluri</td>\n",
       "      <td>I know this is unrelated and shouldn't cause any issues with Care Management but I have a client wanting to fix this error . Any advice ?Also I ju...</td>\n",
       "      <td>True</td>\n",
       "      <td>True</td>\n",
       "      <td>https://connectcrt.ucern.com/api/core/v3/messages/4854613</td>\n",
       "      <td>I have logged a Jira to fix this.  [RCM-1609] Internal ear and external ear error - JIRA This is from websphere gladiator code cache error.</td>\n",
       "      <td>Leonardo Ji</td>\n",
       "    </tr>\n",
       "  </tbody>\n",
       "</table>\n",
       "</div>"
      ],
      "text/plain": [
       "  contentID        type                                            subject  \\\n",
       "0   4124703  discussion  398 server running out of memory at intermountain   \n",
       "1   4118973  discussion                interqual/mcg&#160; Content upgrade   \n",
       "2   4110891  discussion                               3.6 Package Question   \n",
       "3   4092330  discussion         FLHO_FL M1751 needs onboarded for Curaspan   \n",
       "4   4091795  discussion                             Internal server errors   \n",
       "\n",
       "   viewCount  replyCount              lastActivityDate           author  \\\n",
       "0         34           8  2017-05-18T16:59:53.867+0000  Sandeep Talluri   \n",
       "1          9           0  2017-05-15T22:04:39.899+0000  Sandeep Talluri   \n",
       "2         27           2  2017-05-12T14:27:37.615+0000     Larissa Lynn   \n",
       "3         22           2  2017-05-08T19:00:59.980+0000      Vinit Patel   \n",
       "4         22           1  2017-05-08T17:22:35.427+0000  Sandeep Talluri   \n",
       "\n",
       "                                                                                                                                                 content  \\\n",
       "0  Issue: out of memory errors at intermountain attached heap dumps    description:  Care Management   entry:        398   started:      17 May 2017 ...   \n",
       "1  I have a client who upgraded to Interqual 2017 a couple of weeks back and was down with this product for a week until he backed out and upgraded t...   \n",
       "2  I wanted to confirm if these are the proper packages for ACM 3.6:   97713 – Care Management 3.6 2015.0197716 – Mpages (US): Care Management 3.6 20...   \n",
       "3                                                                                                                           Zip secure file is attached.   \n",
       "4  I know this is unrelated and shouldn't cause any issues with Care Management but I have a client wanting to fix this error . Any advice ?Also I ju...   \n",
       "\n",
       "  question resolved  \\\n",
       "0     True     True   \n",
       "1     True    False   \n",
       "2    False    False   \n",
       "3    False    False   \n",
       "4     True     True   \n",
       "\n",
       "                                                  answerLink  \\\n",
       "0  https://connectcrt.ucern.com/api/core/v3/messages/4884699   \n",
       "1                                                        NaN   \n",
       "2                                                        NaN   \n",
       "3                                                        NaN   \n",
       "4  https://connectcrt.ucern.com/api/core/v3/messages/4854613   \n",
       "\n",
       "                                                                                                                                                  answer  \\\n",
       "0  What care management package is ihc_ut client is on? I reviewed the Java heap dump file.  The 532.6MB out of 743MB of heap is used by loading UM w...   \n",
       "1                                                                                                                                                    NaN   \n",
       "2                                                                                                                                                    NaN   \n",
       "3                                                                                                                                                    NaN   \n",
       "4            I have logged a Jira to fix this.  [RCM-1609] Internal ear and external ear error - JIRA This is from websphere gladiator code cache error.   \n",
       "\n",
       "  answerAuthor  \n",
       "0  Leonardo Ji  \n",
       "1          NaN  \n",
       "2          NaN  \n",
       "3          NaN  \n",
       "4  Leonardo Ji  "
      ]
     },
     "execution_count": 1040,
     "metadata": {},
     "output_type": "execute_result"
    }
   ],
   "source": [
    "ucernDf.head()"
   ]
  },
  {
   "cell_type": "code",
   "execution_count": 1049,
   "metadata": {},
   "outputs": [
    {
     "data": {
      "text/plain": [
       "Index(['index', 'contentID', 'type', 'subject', 'viewCount', 'replyCount',\n",
       "       'lastActivityDate', 'author', 'content', 'question', 'resolved',\n",
       "       'answerLink', 'answer', 'answerAuthor'],\n",
       "      dtype='object')"
      ]
     },
     "execution_count": 1049,
     "metadata": {},
     "output_type": "execute_result"
    }
   ],
   "source": [
    "ucernDf.columns"
   ]
  },
  {
   "cell_type": "code",
   "execution_count": 1041,
   "metadata": {},
   "outputs": [
    {
     "data": {
      "text/html": [
       "<div>\n",
       "<style>\n",
       "    .dataframe thead tr:only-child th {\n",
       "        text-align: right;\n",
       "    }\n",
       "\n",
       "    .dataframe thead th {\n",
       "        text-align: left;\n",
       "    }\n",
       "\n",
       "    .dataframe tbody tr th {\n",
       "        vertical-align: top;\n",
       "    }\n",
       "</style>\n",
       "<table border=\"1\" class=\"dataframe\">\n",
       "  <thead>\n",
       "    <tr style=\"text-align: right;\">\n",
       "      <th></th>\n",
       "      <th>Column Type</th>\n",
       "      <th>Count</th>\n",
       "    </tr>\n",
       "  </thead>\n",
       "  <tbody>\n",
       "    <tr>\n",
       "      <th>0</th>\n",
       "      <td>int64</td>\n",
       "      <td>2</td>\n",
       "    </tr>\n",
       "    <tr>\n",
       "      <th>1</th>\n",
       "      <td>object</td>\n",
       "      <td>11</td>\n",
       "    </tr>\n",
       "  </tbody>\n",
       "</table>\n",
       "</div>"
      ],
      "text/plain": [
       "  Column Type  Count\n",
       "0       int64      2\n",
       "1      object     11"
      ]
     },
     "execution_count": 1041,
     "metadata": {},
     "output_type": "execute_result"
    }
   ],
   "source": [
    "dtype_df = ucernDf.dtypes.reset_index()\n",
    "dtype_df.columns = [\"Count\", \"Column Type\"]\n",
    "dtype_df\n",
    "dtype_df.groupby(\"Column Type\").aggregate('count').reset_index()"
   ]
  },
  {
   "cell_type": "markdown",
   "metadata": {},
   "source": [
    "### Exploratory data analysis"
   ]
  },
  {
   "cell_type": "code",
   "execution_count": 1042,
   "metadata": {},
   "outputs": [
    {
     "data": {
      "text/plain": [
       "(848, 13)"
      ]
     },
     "execution_count": 1042,
     "metadata": {},
     "output_type": "execute_result"
    },
    {
     "data": {
      "image/png": "[encoded data removed]",
      "text/plain": [
       "<matplotlib.figure.Figure at 0x1d1d6748>"
      ]
     },
     "metadata": {},
     "output_type": "display_data"
    }
   ],
   "source": [
    "ucernDf['type'].value_counts().plot(kind='bar')\n",
    "ucernDf = ucernDf[(ucernDf['type'] == 'discussion')]\n",
    "ucernDf.shape"
   ]
  },
  {
   "cell_type": "code",
   "execution_count": 1044,
   "metadata": {},
   "outputs": [
    {
     "data": {
      "text/plain": [
       "True     627\n",
       "False    221\n",
       "Name: question, dtype: int64"
      ]
     },
     "execution_count": 1044,
     "metadata": {},
     "output_type": "execute_result"
    }
   ],
   "source": [
    "ucernDf['question'].value_counts()"
   ]
  },
  {
   "cell_type": "code",
   "execution_count": 1045,
   "metadata": {},
   "outputs": [
    {
     "data": {
      "text/plain": [
       "<matplotlib.axes._subplots.AxesSubplot at 0x1f010668>"
      ]
     },
     "execution_count": 1045,
     "metadata": {},
     "output_type": "execute_result"
    },
    {
     "data": {
      "image/png": "[encoded data removed]",
      "text/plain": [
       "<matplotlib.figure.Figure at 0x1269f780>"
      ]
     },
     "metadata": {},
     "output_type": "display_data"
    }
   ],
   "source": [
    "# Lot of discussion but many are not marked as question\n",
    "ucernDf['question'].value_counts().plot(kind='bar')"
   ]
  },
  {
   "cell_type": "markdown",
   "metadata": {},
   "source": [
    "#### Resolved question\n",
    "#### more target = 0 than target = 1.  We will look for models have higher Sensitivity and Precision ratios on target = 1.\n",
    "$$Sensitivity  = \\frac{True Positive}{True Positive + False Negative}$$\n",
    "$$Precision = \\frac{True Positive}{True Positive + False Positive}$$"
   ]
  },
  {
   "cell_type": "code",
   "execution_count": 1046,
   "metadata": {},
   "outputs": [
    {
     "data": {
      "text/plain": [
       "<matplotlib.axes._subplots.AxesSubplot at 0x1ef6d588>"
      ]
     },
     "execution_count": 1046,
     "metadata": {},
     "output_type": "execute_result"
    },
    {
     "data": {
      "image/png": "[encoded data removed]",
      "text/plain": [
       "<matplotlib.figure.Figure at 0x126ab7b8>"
      ]
     },
     "metadata": {},
     "output_type": "display_data"
    }
   ],
   "source": [
    "ucernDf = ucernDf[(ucernDf['question'] == True)]\n",
    "ucernDf['resolved'] = (ucernDf['resolved'] != False).astype(int)\n",
    "ucernDf['resolved'].value_counts().plot(kind='bar')"
   ]
  },
  {
   "cell_type": "code",
   "execution_count": 1047,
   "metadata": {},
   "outputs": [
    {
     "data": {
      "text/plain": [
       "(627, 14)"
      ]
     },
     "execution_count": 1047,
     "metadata": {},
     "output_type": "execute_result"
    }
   ],
   "source": [
    "ucernDf = ucernDf.reset_index()\n",
    "ucernDf.shape"
   ]
  },
  {
   "cell_type": "markdown",
   "metadata": {},
   "source": [
    "### Pre-processing to combine special terms, remove stop words."
   ]
  },
  {
   "cell_type": "code",
   "execution_count": 796,
   "metadata": {
    "collapsed": true
   },
   "outputs": [],
   "source": [
    "# start preprocessing\n",
    "# Preprocessing to replace words\n",
    "my_dict = {'care management':'caremanagement', 'case management' : 'caremanagement', 'cm' : 'caremanagement', \n",
    "           'worklists':'worklist','carefinder pro':'carefinderpro','care finder pro':'carefinderpro', 'tlc':'ensocare',\n",
    "           'um worklist': 'umWorklist','discharge worklist':'dischargeWorklist','assignment worklist':'assignmentWorklist',\n",
    "           'clinical reviews':'clinicalreview','clinical review':'clinicalreview','errors' : 'error', 'visit information' : 'visitInformation',\n",
    "           'insurance information':'insuranceInformation',\n",
    "           'discharge planning':'dischargePlanning', 'post-acute':'postacute','post acute':'postacute','don\\'t':'donot'}\n",
    "\n",
    "def multiple_replace(dict, text): \n",
    "  \"\"\" Replace in 'text' all occurences of any key in the given\n",
    "  dictionary by its corresponding value.  Returns the new tring.\"\"\" \n",
    "  lowerText = str(text).lower()\n",
    "\n",
    "  # Create a regular expression  from the dictionary keys\n",
    "  regex = re.compile(\"(%s)\" % \"|\".join(map(re.escape, dict.keys())))\n",
    "\n",
    "  # For each match, look-up corresponding value in dictionary\n",
    "  return regex.sub(lambda mo: dict[mo.string[mo.start():mo.end()]], lowerText)\n",
    "\n",
    "ucernDf['cleancontent'] = ucernDf.content.apply(lambda x: multiple_replace(my_dict, x))\n",
    "ucernDf['cleansubject'] = ucernDf.subject.apply(lambda x: multiple_replace(my_dict, x))\n",
    "ucernDf['cleananswer'] = ucernDf.answer.apply(lambda x: multiple_replace(my_dict, x))"
   ]
  },
  {
   "cell_type": "code",
   "execution_count": 797,
   "metadata": {},
   "outputs": [
    {
     "name": "stdout",
     "output_type": "stream",
     "text": [
      "318\n",
      "377\n"
     ]
    }
   ],
   "source": [
    "skl_stopwords = text.ENGLISH_STOP_WORDS\n",
    "myStopwords = set(skl_stopwords)\n",
    "print(len(myStopwords))\n",
    "# Remove common exception stack trace tokens\n",
    "myStopwords.update(set(['caremanagement','http','https','java','javax','com','cerner','service','enterprise','server','jdbc','internal','run','invoke',\n",
    "                        'common','transaction','org','execute','client','reflect','sun','reflect','requesthandler','doprivileged','transactionmanager','container',\n",
    "                        'lang','security','auth','native','method','subject','thread','accesscontroller','delegatingmethodaccessorimpl','interceptorchainimpl','servercontainer',\n",
    "                        'cadence', 'intercept', 'caremanagementserver', 'util','unable','nativemethodaccessorimpl','servicemanager','rrservice', 'executors','spcinterceptor',\n",
    "                        '00','01','10','11','12', '13', '14', '15', '16', '17', '53','91','160']))\n",
    "print(len(myStopwords))"
   ]
  },
  {
   "cell_type": "code",
   "execution_count": 798,
   "metadata": {
    "collapsed": true
   },
   "outputs": [],
   "source": [
    "ps = PorterStemmer() #define method (http://www.nltk.org/api/nltk.stem.html#nltk.stem.porter.PorterStemmer)\n",
    "ucernDf['cleancontent'] = [ps.stem(word) for word in ucernDf['cleancontent']] \n",
    "ucernDf['cleansubject'] = [ps.stem(word) for word in ucernDf['cleansubject']] "
   ]
  },
  {
   "cell_type": "markdown",
   "metadata": {},
   "source": [
    "### For resolved questions is there common words between questions\n",
    "$$SharedWordsRatio  = \\frac{NumberOfSharedWordsInQ1 + NumberOfSharedWordsInQ2}{Q1WordsLength + Q2WordsLength}$$"
   ]
  },
  {
   "cell_type": "code",
   "execution_count": 799,
   "metadata": {
    "collapsed": true
   },
   "outputs": [],
   "source": [
    "def word_match_share(question1, question2):\n",
    "    q1words = {}\n",
    "    q2words = {}\n",
    "    for word in str(question1).lower().split():\n",
    "        q1words[word] = 1\n",
    "    for word in str(question2).lower().split():\n",
    "        q2words[word] = 1\n",
    "    if len(q1words) == 0 or len(q2words) == 0:\n",
    "        # The computer-generated chaff includes a few questions that are nothing but stopwords\n",
    "        return 0\n",
    "    shared_words_in_q1 = [w for w in q1words.keys() if w in q2words]\n",
    "    shared_words_in_q2 = [w for w in q2words.keys() if w in q1words]\n",
    "    R = (len(shared_words_in_q1) + len(shared_words_in_q2))/(len(q1words) + len(q2words))\n",
    "    return R"
   ]
  },
  {
   "cell_type": "code",
   "execution_count": 800,
   "metadata": {
    "collapsed": true
   },
   "outputs": [],
   "source": [
    "question_shared_ratios = []\n",
    "\n",
    "for index1, row1 in ucernDf.iterrows():\n",
    "    q1 = row1['cleancontent']\n",
    "    q1ID = row1['contentID']\n",
    "    q1_resolved = row1['resolved']\n",
    "    for index2, row2 in ucernDf.iterrows():\n",
    "        q2 = row2['cleancontent']\n",
    "        q2ID = row2['contentID']\n",
    "        q2_resolved = row2['resolved']\n",
    "        if q1 != q2:\n",
    "            row = [q1ID, q1, q1_resolved, q2ID, q2, q2_resolved, word_match_share(q1, q2)]\n",
    "            question_shared_ratios.append(row)"
   ]
  },
  {
   "cell_type": "markdown",
   "metadata": {},
   "source": [
    "### Lots of question shared the same text.  The question with more shared words with other question then it is likely resolved."
   ]
  },
  {
   "cell_type": "code",
   "execution_count": 801,
   "metadata": {},
   "outputs": [
    {
     "data": {
      "text/html": [
       "<div>\n",
       "<style>\n",
       "    .dataframe thead tr:only-child th {\n",
       "        text-align: right;\n",
       "    }\n",
       "\n",
       "    .dataframe thead th {\n",
       "        text-align: left;\n",
       "    }\n",
       "\n",
       "    .dataframe tbody tr th {\n",
       "        vertical-align: top;\n",
       "    }\n",
       "</style>\n",
       "<table border=\"1\" class=\"dataframe\">\n",
       "  <thead>\n",
       "    <tr style=\"text-align: right;\">\n",
       "      <th></th>\n",
       "      <th>q1ContentID</th>\n",
       "      <th>q1</th>\n",
       "      <th>q1Resolved</th>\n",
       "      <th>q2ContentID</th>\n",
       "      <th>q2</th>\n",
       "      <th>q2Resolved</th>\n",
       "      <th>SharedWordsRatio</th>\n",
       "    </tr>\n",
       "  </thead>\n",
       "  <tbody>\n",
       "    <tr>\n",
       "      <th>212490</th>\n",
       "      <td>1043251</td>\n",
       "      <td>does anyone know what this error really means?  and more importantly, how to fix it?  somehow caremanagement is not communicating to oauth. note: ...</td>\n",
       "      <td>0</td>\n",
       "      <td>1165737</td>\n",
       "      <td>the following health checks were done for the caremanagement internal web server. verify that all checks passed with the expected results. failed ...</td>\n",
       "      <td>1</td>\n",
       "      <td>0.538071</td>\n",
       "    </tr>\n",
       "    <tr>\n",
       "      <th>99724</th>\n",
       "      <td>1927851</td>\n",
       "      <td>issue : secondary review request freezes and throws error.client : east_medomain : prod screen shot attached. 1) unable able to repoduce the issue...</td>\n",
       "      <td>1</td>\n",
       "      <td>1342677</td>\n",
       "      <td>issue : when a user tries to assign multiple patients by left clicking several patients at one time, then click the assign me button, an error com...</td>\n",
       "      <td>1</td>\n",
       "      <td>0.553763</td>\n",
       "    </tr>\n",
       "    <tr>\n",
       "      <th>119725</th>\n",
       "      <td>1342677</td>\n",
       "      <td>issue : when a user tries to assign multiple patients by left clicking several patients at one time, then click the assign me button, an error com...</td>\n",
       "      <td>1</td>\n",
       "      <td>1927851</td>\n",
       "      <td>issue : secondary review request freezes and throws error.client : east_medomain : prod screen shot attached. 1) unable able to repoduce the issue...</td>\n",
       "      <td>1</td>\n",
       "      <td>0.553763</td>\n",
       "    </tr>\n",
       "    <tr>\n",
       "      <th>72166</th>\n",
       "      <td>2209551</td>\n",
       "      <td>sr#410110371client: ihc_utdomain: prodcodelevel: 3.1 stp issue: error opening jata in bedrock !entry com.cerner.bedrock.internal.application.util....</td>\n",
       "      <td>1</td>\n",
       "      <td>1635216</td>\n",
       "      <td>ashw_ca prodissue: issue opening jata wizard     exception: current error 12/9/14 8:36 am:java.lang.runtimeexception: java.lang.reflect.invocation...</td>\n",
       "      <td>1</td>\n",
       "      <td>0.559036</td>\n",
       "    </tr>\n",
       "    <tr>\n",
       "      <th>110917</th>\n",
       "      <td>1635216</td>\n",
       "      <td>ashw_ca prodissue: issue opening jata wizard     exception: current error 12/9/14 8:36 am:java.lang.runtimeexception: java.lang.reflect.invocation...</td>\n",
       "      <td>1</td>\n",
       "      <td>2209551</td>\n",
       "      <td>sr#410110371client: ihc_utdomain: prodcodelevel: 3.1 stp issue: error opening jata in bedrock !entry com.cerner.bedrock.internal.application.util....</td>\n",
       "      <td>1</td>\n",
       "      <td>0.559036</td>\n",
       "    </tr>\n",
       "  </tbody>\n",
       "</table>\n",
       "</div>"
      ],
      "text/plain": [
       "       q1ContentID  \\\n",
       "212490     1043251   \n",
       "99724      1927851   \n",
       "119725     1342677   \n",
       "72166      2209551   \n",
       "110917     1635216   \n",
       "\n",
       "                                                                                                                                                           q1  \\\n",
       "212490  does anyone know what this error really means?  and more importantly, how to fix it?  somehow caremanagement is not communicating to oauth. note: ...   \n",
       "99724   issue : secondary review request freezes and throws error.client : east_medomain : prod screen shot attached. 1) unable able to repoduce the issue...   \n",
       "119725  issue : when a user tries to assign multiple patients by left clicking several patients at one time, then click the assign me button, an error com...   \n",
       "72166   sr#410110371client: ihc_utdomain: prodcodelevel: 3.1 stp issue: error opening jata in bedrock !entry com.cerner.bedrock.internal.application.util....   \n",
       "110917  ashw_ca prodissue: issue opening jata wizard     exception: current error 12/9/14 8:36 am:java.lang.runtimeexception: java.lang.reflect.invocation...   \n",
       "\n",
       "        q1Resolved q2ContentID  \\\n",
       "212490           0     1165737   \n",
       "99724            1     1342677   \n",
       "119725           1     1927851   \n",
       "72166            1     1635216   \n",
       "110917           1     2209551   \n",
       "\n",
       "                                                                                                                                                           q2  \\\n",
       "212490  the following health checks were done for the caremanagement internal web server. verify that all checks passed with the expected results. failed ...   \n",
       "99724   issue : when a user tries to assign multiple patients by left clicking several patients at one time, then click the assign me button, an error com...   \n",
       "119725  issue : secondary review request freezes and throws error.client : east_medomain : prod screen shot attached. 1) unable able to repoduce the issue...   \n",
       "72166   ashw_ca prodissue: issue opening jata wizard     exception: current error 12/9/14 8:36 am:java.lang.runtimeexception: java.lang.reflect.invocation...   \n",
       "110917  sr#410110371client: ihc_utdomain: prodcodelevel: 3.1 stp issue: error opening jata in bedrock !entry com.cerner.bedrock.internal.application.util....   \n",
       "\n",
       "        q2Resolved  SharedWordsRatio  \n",
       "212490           1          0.538071  \n",
       "99724            1          0.553763  \n",
       "119725           1          0.553763  \n",
       "72166            1          0.559036  \n",
       "110917           1          0.559036  "
      ]
     },
     "execution_count": 801,
     "metadata": {},
     "output_type": "execute_result"
    }
   ],
   "source": [
    "cols = [\"q1ContentID\", \"q1\", \"q1Resolved\", \"q2ContentID\", \"q2\", \"q2Resolved\", \"SharedWordsRatio\"]                \n",
    "question_shared_ratios = pd.DataFrame(question_shared_ratios, columns=cols)\n",
    "question_shared_ratios = question_shared_ratios.sort_values('SharedWordsRatio')\n",
    "question_shared_ratios.tail() "
   ]
  },
  {
   "cell_type": "code",
   "execution_count": 802,
   "metadata": {
    "collapsed": true
   },
   "outputs": [],
   "source": [
    "maxSharedWordsRatio = []\n",
    "sumSharedWordsRatio = []\n",
    "for index, row in ucernDf.iterrows():\n",
    "    id = row['contentID']\n",
    "    # get max shared words ratio with other resolved questions \n",
    "    allq1 = question_shared_ratios[(question_shared_ratios.q1ContentID == id)]\n",
    "    maxRatio = allq1['SharedWordsRatio'].max()\n",
    "    maxSharedWordsRatio.append(maxRatio)"
   ]
  },
  {
   "cell_type": "code",
   "execution_count": 803,
   "metadata": {
    "collapsed": true
   },
   "outputs": [],
   "source": [
    "ucernDf['MaxSharedWordsRatio'] = maxSharedWordsRatio\n",
    "ucernDf['MaxSharedWordsRatio'].fillna(0, inplace=True) "
   ]
  },
  {
   "cell_type": "markdown",
   "metadata": {},
   "source": [
    "### Convert text to Document Matrix"
   ]
  },
  {
   "cell_type": "markdown",
   "metadata": {},
   "source": [
    "Document frequency df(j) shows the number of document containing word j. Inverse document frequency idf(j) reverses scale by applying logarithmically scale on it. If word j is in many documents then it is less important, if word j appears in a few documents then it is unique and more important.\n",
    "$$idf(j) = log(\\frac{N}{df(j)})$$\n",
    "\n",
    "\n",
    "Term frequency tf(j) of term j is the raw count of term j in the document. The term frequency inverse-document-frequency tf_idf weighting is calculated by multiply tf(j) and idf(j).\n",
    "$$tf\\_idf(j) = tf(j) ∗ idf(j)$$"
   ]
  },
  {
   "cell_type": "code",
   "execution_count": 804,
   "metadata": {},
   "outputs": [
    {
     "name": "stdout",
     "output_type": "stream",
     "text": [
      "(627, 142)\n"
     ]
    },
    {
     "data": {
      "text/html": [
       "<div>\n",
       "<style>\n",
       "    .dataframe thead tr:only-child th {\n",
       "        text-align: right;\n",
       "    }\n",
       "\n",
       "    .dataframe thead th {\n",
       "        text-align: left;\n",
       "    }\n",
       "\n",
       "    .dataframe tbody tr th {\n",
       "        vertical-align: top;\n",
       "    }\n",
       "</style>\n",
       "<table border=\"1\" class=\"dataframe\">\n",
       "  <thead>\n",
       "    <tr style=\"text-align: right;\">\n",
       "      <th></th>\n",
       "      <th>22</th>\n",
       "      <th>398</th>\n",
       "      <th>43</th>\n",
       "      <th>able</th>\n",
       "      <th>access</th>\n",
       "      <th>add</th>\n",
       "      <th>advice</th>\n",
       "      <th>ahs_fl</th>\n",
       "      <th>application</th>\n",
       "      <th>attached</th>\n",
       "      <th>...</th>\n",
       "      <th>user</th>\n",
       "      <th>users</th>\n",
       "      <th>using</th>\n",
       "      <th>version</th>\n",
       "      <th>work</th>\n",
       "      <th>worker</th>\n",
       "      <th>workflow</th>\n",
       "      <th>working</th>\n",
       "      <th>worklist</th>\n",
       "      <th>works</th>\n",
       "    </tr>\n",
       "  </thead>\n",
       "  <tbody>\n",
       "    <tr>\n",
       "      <th>0</th>\n",
       "      <td>0.0</td>\n",
       "      <td>5.46602</td>\n",
       "      <td>0.0</td>\n",
       "      <td>0.0</td>\n",
       "      <td>0.000000</td>\n",
       "      <td>0.000000</td>\n",
       "      <td>0.000000</td>\n",
       "      <td>0.0</td>\n",
       "      <td>0.0</td>\n",
       "      <td>2.300877</td>\n",
       "      <td>...</td>\n",
       "      <td>2.515286</td>\n",
       "      <td>0.0</td>\n",
       "      <td>0.000000</td>\n",
       "      <td>0.000000</td>\n",
       "      <td>0.000000</td>\n",
       "      <td>0.000000</td>\n",
       "      <td>0.0</td>\n",
       "      <td>0.0</td>\n",
       "      <td>0.0</td>\n",
       "      <td>0.0</td>\n",
       "    </tr>\n",
       "    <tr>\n",
       "      <th>1</th>\n",
       "      <td>0.0</td>\n",
       "      <td>0.00000</td>\n",
       "      <td>0.0</td>\n",
       "      <td>0.0</td>\n",
       "      <td>0.000000</td>\n",
       "      <td>0.000000</td>\n",
       "      <td>0.000000</td>\n",
       "      <td>0.0</td>\n",
       "      <td>0.0</td>\n",
       "      <td>0.000000</td>\n",
       "      <td>...</td>\n",
       "      <td>0.000000</td>\n",
       "      <td>0.0</td>\n",
       "      <td>0.000000</td>\n",
       "      <td>3.399489</td>\n",
       "      <td>0.000000</td>\n",
       "      <td>0.000000</td>\n",
       "      <td>0.0</td>\n",
       "      <td>0.0</td>\n",
       "      <td>0.0</td>\n",
       "      <td>0.0</td>\n",
       "    </tr>\n",
       "    <tr>\n",
       "      <th>2</th>\n",
       "      <td>0.0</td>\n",
       "      <td>0.00000</td>\n",
       "      <td>0.0</td>\n",
       "      <td>0.0</td>\n",
       "      <td>3.223032</td>\n",
       "      <td>0.000000</td>\n",
       "      <td>3.571339</td>\n",
       "      <td>0.0</td>\n",
       "      <td>0.0</td>\n",
       "      <td>0.000000</td>\n",
       "      <td>...</td>\n",
       "      <td>0.000000</td>\n",
       "      <td>0.0</td>\n",
       "      <td>0.000000</td>\n",
       "      <td>0.000000</td>\n",
       "      <td>0.000000</td>\n",
       "      <td>6.982593</td>\n",
       "      <td>0.0</td>\n",
       "      <td>0.0</td>\n",
       "      <td>0.0</td>\n",
       "      <td>0.0</td>\n",
       "    </tr>\n",
       "    <tr>\n",
       "      <th>3</th>\n",
       "      <td>0.0</td>\n",
       "      <td>0.00000</td>\n",
       "      <td>0.0</td>\n",
       "      <td>0.0</td>\n",
       "      <td>0.000000</td>\n",
       "      <td>6.798978</td>\n",
       "      <td>3.571339</td>\n",
       "      <td>0.0</td>\n",
       "      <td>0.0</td>\n",
       "      <td>0.000000</td>\n",
       "      <td>...</td>\n",
       "      <td>0.000000</td>\n",
       "      <td>0.0</td>\n",
       "      <td>10.360668</td>\n",
       "      <td>0.000000</td>\n",
       "      <td>6.475695</td>\n",
       "      <td>0.000000</td>\n",
       "      <td>0.0</td>\n",
       "      <td>0.0</td>\n",
       "      <td>0.0</td>\n",
       "      <td>0.0</td>\n",
       "    </tr>\n",
       "    <tr>\n",
       "      <th>4</th>\n",
       "      <td>0.0</td>\n",
       "      <td>0.00000</td>\n",
       "      <td>0.0</td>\n",
       "      <td>0.0</td>\n",
       "      <td>0.000000</td>\n",
       "      <td>0.000000</td>\n",
       "      <td>0.000000</td>\n",
       "      <td>0.0</td>\n",
       "      <td>0.0</td>\n",
       "      <td>0.000000</td>\n",
       "      <td>...</td>\n",
       "      <td>0.000000</td>\n",
       "      <td>0.0</td>\n",
       "      <td>0.000000</td>\n",
       "      <td>0.000000</td>\n",
       "      <td>0.000000</td>\n",
       "      <td>0.000000</td>\n",
       "      <td>0.0</td>\n",
       "      <td>0.0</td>\n",
       "      <td>0.0</td>\n",
       "      <td>0.0</td>\n",
       "    </tr>\n",
       "  </tbody>\n",
       "</table>\n",
       "<p>5 rows × 142 columns</p>\n",
       "</div>"
      ],
      "text/plain": [
       "    22      398   43  able    access       add    advice  ahs_fl  application  \\\n",
       "0  0.0  5.46602  0.0   0.0  0.000000  0.000000  0.000000     0.0          0.0   \n",
       "1  0.0  0.00000  0.0   0.0  0.000000  0.000000  0.000000     0.0          0.0   \n",
       "2  0.0  0.00000  0.0   0.0  3.223032  0.000000  3.571339     0.0          0.0   \n",
       "3  0.0  0.00000  0.0   0.0  0.000000  6.798978  3.571339     0.0          0.0   \n",
       "4  0.0  0.00000  0.0   0.0  0.000000  0.000000  0.000000     0.0          0.0   \n",
       "\n",
       "   attached  ...        user  users      using   version      work    worker  \\\n",
       "0  2.300877  ...    2.515286    0.0   0.000000  0.000000  0.000000  0.000000   \n",
       "1  0.000000  ...    0.000000    0.0   0.000000  3.399489  0.000000  0.000000   \n",
       "2  0.000000  ...    0.000000    0.0   0.000000  0.000000  0.000000  6.982593   \n",
       "3  0.000000  ...    0.000000    0.0  10.360668  0.000000  6.475695  0.000000   \n",
       "4  0.000000  ...    0.000000    0.0   0.000000  0.000000  0.000000  0.000000   \n",
       "\n",
       "   workflow  working  worklist  works  \n",
       "0       0.0      0.0       0.0    0.0  \n",
       "1       0.0      0.0       0.0    0.0  \n",
       "2       0.0      0.0       0.0    0.0  \n",
       "3       0.0      0.0       0.0    0.0  \n",
       "4       0.0      0.0       0.0    0.0  \n",
       "\n",
       "[5 rows x 142 columns]"
      ]
     },
     "execution_count": 804,
     "metadata": {},
     "output_type": "execute_result"
    }
   ],
   "source": [
    "# tf-idf on content\n",
    "tfidf = TfidfVectorizer(use_idf=True, norm=None, \n",
    "                         stop_words = myStopwords, \n",
    "                         min_df = 0.06, \n",
    "                         max_df = 0.90, \n",
    "                         ngram_range = (1,3)) #define the transformation\n",
    "tfidf_dm = tfidf.fit_transform(ucernDf['cleancontent']) #apply the transformation\n",
    "print(tfidf_dm.shape)\n",
    "\n",
    "tfidf_content_df = pd.DataFrame(tfidf_dm.toarray(), columns = tfidf.get_feature_names())\n",
    "tfidf_content_df.head()"
   ]
  },
  {
   "cell_type": "code",
   "execution_count": 806,
   "metadata": {},
   "outputs": [
    {
     "name": "stdout",
     "output_type": "stream",
     "text": [
      "(627, 41)\n"
     ]
    },
    {
     "data": {
      "text/html": [
       "<div>\n",
       "<style>\n",
       "    .dataframe thead tr:only-child th {\n",
       "        text-align: right;\n",
       "    }\n",
       "\n",
       "    .dataframe thead th {\n",
       "        text-align: left;\n",
       "    }\n",
       "\n",
       "    .dataframe tbody tr th {\n",
       "        vertical-align: top;\n",
       "    }\n",
       "</style>\n",
       "<table border=\"1\" class=\"dataframe\">\n",
       "  <thead>\n",
       "    <tr style=\"text-align: right;\">\n",
       "      <th></th>\n",
       "      <th>bedrock_sub</th>\n",
       "      <th>carefinderpro_sub</th>\n",
       "      <th>clinicalreview_sub</th>\n",
       "      <th>compon_sub</th>\n",
       "      <th>component_sub</th>\n",
       "      <th>days_sub</th>\n",
       "      <th>discharge_sub</th>\n",
       "      <th>dischargeplanning_sub</th>\n",
       "      <th>dischargeworklist_sub</th>\n",
       "      <th>does_sub</th>\n",
       "      <th>...</th>\n",
       "      <th>script_sub</th>\n",
       "      <th>services_sub</th>\n",
       "      <th>showing_sub</th>\n",
       "      <th>sr_sub</th>\n",
       "      <th>status_sub</th>\n",
       "      <th>summary_sub</th>\n",
       "      <th>um_sub</th>\n",
       "      <th>umworklist_sub</th>\n",
       "      <th>working_sub</th>\n",
       "      <th>worklist_sub</th>\n",
       "    </tr>\n",
       "  </thead>\n",
       "  <tbody>\n",
       "    <tr>\n",
       "      <th>0</th>\n",
       "      <td>0.0</td>\n",
       "      <td>0.0</td>\n",
       "      <td>0.0</td>\n",
       "      <td>0.0</td>\n",
       "      <td>0.000000</td>\n",
       "      <td>0.0</td>\n",
       "      <td>0.0</td>\n",
       "      <td>0.0</td>\n",
       "      <td>0.0</td>\n",
       "      <td>0.0</td>\n",
       "      <td>...</td>\n",
       "      <td>0.0</td>\n",
       "      <td>0.0</td>\n",
       "      <td>0.0</td>\n",
       "      <td>0.0</td>\n",
       "      <td>0.0</td>\n",
       "      <td>0.0</td>\n",
       "      <td>0.0</td>\n",
       "      <td>0.0</td>\n",
       "      <td>0.00000</td>\n",
       "      <td>0.0</td>\n",
       "    </tr>\n",
       "    <tr>\n",
       "      <th>1</th>\n",
       "      <td>0.0</td>\n",
       "      <td>0.0</td>\n",
       "      <td>0.0</td>\n",
       "      <td>0.0</td>\n",
       "      <td>0.000000</td>\n",
       "      <td>0.0</td>\n",
       "      <td>0.0</td>\n",
       "      <td>0.0</td>\n",
       "      <td>0.0</td>\n",
       "      <td>0.0</td>\n",
       "      <td>...</td>\n",
       "      <td>0.0</td>\n",
       "      <td>0.0</td>\n",
       "      <td>0.0</td>\n",
       "      <td>0.0</td>\n",
       "      <td>0.0</td>\n",
       "      <td>0.0</td>\n",
       "      <td>0.0</td>\n",
       "      <td>0.0</td>\n",
       "      <td>0.00000</td>\n",
       "      <td>0.0</td>\n",
       "    </tr>\n",
       "    <tr>\n",
       "      <th>2</th>\n",
       "      <td>0.0</td>\n",
       "      <td>0.0</td>\n",
       "      <td>0.0</td>\n",
       "      <td>0.0</td>\n",
       "      <td>0.000000</td>\n",
       "      <td>0.0</td>\n",
       "      <td>0.0</td>\n",
       "      <td>0.0</td>\n",
       "      <td>0.0</td>\n",
       "      <td>0.0</td>\n",
       "      <td>...</td>\n",
       "      <td>0.0</td>\n",
       "      <td>0.0</td>\n",
       "      <td>0.0</td>\n",
       "      <td>0.0</td>\n",
       "      <td>0.0</td>\n",
       "      <td>0.0</td>\n",
       "      <td>0.0</td>\n",
       "      <td>0.0</td>\n",
       "      <td>0.00000</td>\n",
       "      <td>0.0</td>\n",
       "    </tr>\n",
       "    <tr>\n",
       "      <th>3</th>\n",
       "      <td>0.0</td>\n",
       "      <td>0.0</td>\n",
       "      <td>0.0</td>\n",
       "      <td>0.0</td>\n",
       "      <td>0.000000</td>\n",
       "      <td>0.0</td>\n",
       "      <td>0.0</td>\n",
       "      <td>0.0</td>\n",
       "      <td>0.0</td>\n",
       "      <td>0.0</td>\n",
       "      <td>...</td>\n",
       "      <td>0.0</td>\n",
       "      <td>0.0</td>\n",
       "      <td>0.0</td>\n",
       "      <td>0.0</td>\n",
       "      <td>0.0</td>\n",
       "      <td>0.0</td>\n",
       "      <td>0.0</td>\n",
       "      <td>0.0</td>\n",
       "      <td>0.00000</td>\n",
       "      <td>0.0</td>\n",
       "    </tr>\n",
       "    <tr>\n",
       "      <th>4</th>\n",
       "      <td>0.0</td>\n",
       "      <td>0.0</td>\n",
       "      <td>0.0</td>\n",
       "      <td>0.0</td>\n",
       "      <td>4.146703</td>\n",
       "      <td>0.0</td>\n",
       "      <td>0.0</td>\n",
       "      <td>0.0</td>\n",
       "      <td>0.0</td>\n",
       "      <td>0.0</td>\n",
       "      <td>...</td>\n",
       "      <td>0.0</td>\n",
       "      <td>0.0</td>\n",
       "      <td>0.0</td>\n",
       "      <td>0.0</td>\n",
       "      <td>0.0</td>\n",
       "      <td>0.0</td>\n",
       "      <td>0.0</td>\n",
       "      <td>0.0</td>\n",
       "      <td>4.73449</td>\n",
       "      <td>0.0</td>\n",
       "    </tr>\n",
       "  </tbody>\n",
       "</table>\n",
       "<p>5 rows × 41 columns</p>\n",
       "</div>"
      ],
      "text/plain": [
       "   bedrock_sub  carefinderpro_sub  clinicalreview_sub  compon_sub  \\\n",
       "0          0.0                0.0                 0.0         0.0   \n",
       "1          0.0                0.0                 0.0         0.0   \n",
       "2          0.0                0.0                 0.0         0.0   \n",
       "3          0.0                0.0                 0.0         0.0   \n",
       "4          0.0                0.0                 0.0         0.0   \n",
       "\n",
       "   component_sub  days_sub  discharge_sub  dischargeplanning_sub  \\\n",
       "0       0.000000       0.0            0.0                    0.0   \n",
       "1       0.000000       0.0            0.0                    0.0   \n",
       "2       0.000000       0.0            0.0                    0.0   \n",
       "3       0.000000       0.0            0.0                    0.0   \n",
       "4       4.146703       0.0            0.0                    0.0   \n",
       "\n",
       "   dischargeworklist_sub  does_sub      ...       script_sub  services_sub  \\\n",
       "0                    0.0       0.0      ...              0.0           0.0   \n",
       "1                    0.0       0.0      ...              0.0           0.0   \n",
       "2                    0.0       0.0      ...              0.0           0.0   \n",
       "3                    0.0       0.0      ...              0.0           0.0   \n",
       "4                    0.0       0.0      ...              0.0           0.0   \n",
       "\n",
       "   showing_sub  sr_sub  status_sub  summary_sub  um_sub  umworklist_sub  \\\n",
       "0          0.0     0.0         0.0          0.0     0.0             0.0   \n",
       "1          0.0     0.0         0.0          0.0     0.0             0.0   \n",
       "2          0.0     0.0         0.0          0.0     0.0             0.0   \n",
       "3          0.0     0.0         0.0          0.0     0.0             0.0   \n",
       "4          0.0     0.0         0.0          0.0     0.0             0.0   \n",
       "\n",
       "   working_sub  worklist_sub  \n",
       "0      0.00000           0.0  \n",
       "1      0.00000           0.0  \n",
       "2      0.00000           0.0  \n",
       "3      0.00000           0.0  \n",
       "4      4.73449           0.0  \n",
       "\n",
       "[5 rows x 41 columns]"
      ]
     },
     "execution_count": 806,
     "metadata": {},
     "output_type": "execute_result"
    }
   ],
   "source": [
    "# tf-idf on subject, because subject is smaller text so set minimual df to 2%\n",
    "tfidf_sub = TfidfVectorizer(use_idf=True, norm=None, \n",
    "                         stop_words = myStopwords, \n",
    "                         min_df = 0.02, \n",
    "                         max_df = 0.90, \n",
    "                         ngram_range = (1,3)) #define the transformation\n",
    "tfidf_sub_dm = tfidf_sub.fit_transform(ucernDf['cleansubject']) #apply the transformation\n",
    "print(tfidf_sub_dm.shape)\n",
    "\n",
    "tfidf_sub_df = pd.DataFrame(tfidf_sub_dm.toarray(), columns = tfidf_sub.get_feature_names())\n",
    "tfidf_sub_df.columns = [str(col) + '_sub' for col in tfidf_sub_df.columns]\n",
    "tfidf_sub_df.head()"
   ]
  },
  {
   "cell_type": "markdown",
   "metadata": {},
   "source": [
    "### Predicting Resolved status from tfid-idf generated from question body text, reply count, view count, questioner name, shared words ratio."
   ]
  },
  {
   "cell_type": "code",
   "execution_count": 1000,
   "metadata": {},
   "outputs": [
    {
     "data": {
      "text/html": [
       "<div>\n",
       "<style>\n",
       "    .dataframe thead tr:only-child th {\n",
       "        text-align: right;\n",
       "    }\n",
       "\n",
       "    .dataframe thead th {\n",
       "        text-align: left;\n",
       "    }\n",
       "\n",
       "    .dataframe tbody tr th {\n",
       "        vertical-align: top;\n",
       "    }\n",
       "</style>\n",
       "<table border=\"1\" class=\"dataframe\">\n",
       "  <thead>\n",
       "    <tr style=\"text-align: right;\">\n",
       "      <th></th>\n",
       "      <th>22</th>\n",
       "      <th>398</th>\n",
       "      <th>43</th>\n",
       "      <th>able</th>\n",
       "      <th>access</th>\n",
       "      <th>add</th>\n",
       "      <th>advice</th>\n",
       "      <th>ahs_fl</th>\n",
       "      <th>application</th>\n",
       "      <th>attached</th>\n",
       "      <th>...</th>\n",
       "      <th>status_sub</th>\n",
       "      <th>summary_sub</th>\n",
       "      <th>um_sub</th>\n",
       "      <th>umworklist_sub</th>\n",
       "      <th>working_sub</th>\n",
       "      <th>worklist_sub</th>\n",
       "      <th>replyCount</th>\n",
       "      <th>viewCount</th>\n",
       "      <th>authorCode</th>\n",
       "      <th>MaxSharedWordsRatio</th>\n",
       "    </tr>\n",
       "  </thead>\n",
       "  <tbody>\n",
       "    <tr>\n",
       "      <th>0</th>\n",
       "      <td>0.0</td>\n",
       "      <td>5.46602</td>\n",
       "      <td>0.0</td>\n",
       "      <td>0.0</td>\n",
       "      <td>0.000000</td>\n",
       "      <td>0.000000</td>\n",
       "      <td>0.000000</td>\n",
       "      <td>0.0</td>\n",
       "      <td>0.0</td>\n",
       "      <td>2.300877</td>\n",
       "      <td>...</td>\n",
       "      <td>0.0</td>\n",
       "      <td>0.0</td>\n",
       "      <td>0.0</td>\n",
       "      <td>0.0</td>\n",
       "      <td>0.00000</td>\n",
       "      <td>0.0</td>\n",
       "      <td>8</td>\n",
       "      <td>34</td>\n",
       "      <td>31</td>\n",
       "      <td>0.428571</td>\n",
       "    </tr>\n",
       "    <tr>\n",
       "      <th>1</th>\n",
       "      <td>0.0</td>\n",
       "      <td>0.00000</td>\n",
       "      <td>0.0</td>\n",
       "      <td>0.0</td>\n",
       "      <td>0.000000</td>\n",
       "      <td>0.000000</td>\n",
       "      <td>0.000000</td>\n",
       "      <td>0.0</td>\n",
       "      <td>0.0</td>\n",
       "      <td>0.000000</td>\n",
       "      <td>...</td>\n",
       "      <td>0.0</td>\n",
       "      <td>0.0</td>\n",
       "      <td>0.0</td>\n",
       "      <td>0.0</td>\n",
       "      <td>0.00000</td>\n",
       "      <td>0.0</td>\n",
       "      <td>0</td>\n",
       "      <td>9</td>\n",
       "      <td>31</td>\n",
       "      <td>0.309091</td>\n",
       "    </tr>\n",
       "    <tr>\n",
       "      <th>2</th>\n",
       "      <td>0.0</td>\n",
       "      <td>0.00000</td>\n",
       "      <td>0.0</td>\n",
       "      <td>0.0</td>\n",
       "      <td>3.223032</td>\n",
       "      <td>0.000000</td>\n",
       "      <td>3.571339</td>\n",
       "      <td>0.0</td>\n",
       "      <td>0.0</td>\n",
       "      <td>0.000000</td>\n",
       "      <td>...</td>\n",
       "      <td>0.0</td>\n",
       "      <td>0.0</td>\n",
       "      <td>0.0</td>\n",
       "      <td>0.0</td>\n",
       "      <td>0.00000</td>\n",
       "      <td>0.0</td>\n",
       "      <td>1</td>\n",
       "      <td>22</td>\n",
       "      <td>31</td>\n",
       "      <td>0.400000</td>\n",
       "    </tr>\n",
       "    <tr>\n",
       "      <th>3</th>\n",
       "      <td>0.0</td>\n",
       "      <td>0.00000</td>\n",
       "      <td>0.0</td>\n",
       "      <td>0.0</td>\n",
       "      <td>0.000000</td>\n",
       "      <td>6.798978</td>\n",
       "      <td>3.571339</td>\n",
       "      <td>0.0</td>\n",
       "      <td>0.0</td>\n",
       "      <td>0.000000</td>\n",
       "      <td>...</td>\n",
       "      <td>0.0</td>\n",
       "      <td>0.0</td>\n",
       "      <td>0.0</td>\n",
       "      <td>0.0</td>\n",
       "      <td>0.00000</td>\n",
       "      <td>0.0</td>\n",
       "      <td>1</td>\n",
       "      <td>32</td>\n",
       "      <td>31</td>\n",
       "      <td>0.276364</td>\n",
       "    </tr>\n",
       "    <tr>\n",
       "      <th>4</th>\n",
       "      <td>0.0</td>\n",
       "      <td>0.00000</td>\n",
       "      <td>0.0</td>\n",
       "      <td>0.0</td>\n",
       "      <td>0.000000</td>\n",
       "      <td>0.000000</td>\n",
       "      <td>0.000000</td>\n",
       "      <td>0.0</td>\n",
       "      <td>0.0</td>\n",
       "      <td>0.000000</td>\n",
       "      <td>...</td>\n",
       "      <td>0.0</td>\n",
       "      <td>0.0</td>\n",
       "      <td>0.0</td>\n",
       "      <td>0.0</td>\n",
       "      <td>4.73449</td>\n",
       "      <td>0.0</td>\n",
       "      <td>1</td>\n",
       "      <td>35</td>\n",
       "      <td>31</td>\n",
       "      <td>0.251163</td>\n",
       "    </tr>\n",
       "  </tbody>\n",
       "</table>\n",
       "<p>5 rows × 187 columns</p>\n",
       "</div>"
      ],
      "text/plain": [
       "    22      398   43  able    access       add    advice  ahs_fl  application  \\\n",
       "0  0.0  5.46602  0.0   0.0  0.000000  0.000000  0.000000     0.0          0.0   \n",
       "1  0.0  0.00000  0.0   0.0  0.000000  0.000000  0.000000     0.0          0.0   \n",
       "2  0.0  0.00000  0.0   0.0  3.223032  0.000000  3.571339     0.0          0.0   \n",
       "3  0.0  0.00000  0.0   0.0  0.000000  6.798978  3.571339     0.0          0.0   \n",
       "4  0.0  0.00000  0.0   0.0  0.000000  0.000000  0.000000     0.0          0.0   \n",
       "\n",
       "   attached         ...           status_sub  summary_sub  um_sub  \\\n",
       "0  2.300877         ...                  0.0          0.0     0.0   \n",
       "1  0.000000         ...                  0.0          0.0     0.0   \n",
       "2  0.000000         ...                  0.0          0.0     0.0   \n",
       "3  0.000000         ...                  0.0          0.0     0.0   \n",
       "4  0.000000         ...                  0.0          0.0     0.0   \n",
       "\n",
       "   umworklist_sub  working_sub  worklist_sub  replyCount  viewCount  \\\n",
       "0             0.0      0.00000           0.0           8         34   \n",
       "1             0.0      0.00000           0.0           0          9   \n",
       "2             0.0      0.00000           0.0           1         22   \n",
       "3             0.0      0.00000           0.0           1         32   \n",
       "4             0.0      4.73449           0.0           1         35   \n",
       "\n",
       "   authorCode  MaxSharedWordsRatio  \n",
       "0          31             0.428571  \n",
       "1          31             0.309091  \n",
       "2          31             0.400000  \n",
       "3          31             0.276364  \n",
       "4          31             0.251163  \n",
       "\n",
       "[5 rows x 187 columns]"
      ]
     },
     "execution_count": 1000,
     "metadata": {},
     "output_type": "execute_result"
    }
   ],
   "source": [
    "Xdf = pd.concat([tfidf_content_df, tfidf_sub_df], axis=1)\n",
    "Xdf['replyCount'] = np.transpose(ucernDf.replyCount.values)\n",
    "Xdf['viewCount'] = np.transpose(ucernDf.viewCount.values)\n",
    "# convert author to code\n",
    "ucernDf['authorCode'] = ucernDf['author'].astype('category').cat.codes\n",
    "Xdf['authorCode'] = np.transpose(ucernDf.authorCode.values)\n",
    "# shared words ratios\n",
    "Xdf['MaxSharedWordsRatio'] = np.transpose(ucernDf.MaxSharedWordsRatio)\n",
    "Xdf.head()"
   ]
  },
  {
   "cell_type": "markdown",
   "metadata": {},
   "source": [
    "#### Collinearity analysis on all features"
   ]
  },
  {
   "cell_type": "code",
   "execution_count": 1020,
   "metadata": {},
   "outputs": [
    {
     "data": {
      "image/png": "[encoded data removed]",
      "text/plain": [
       "<matplotlib.figure.Figure at 0xe83b470>"
      ]
     },
     "metadata": {},
     "output_type": "display_data"
    }
   ],
   "source": [
    "import matplotlib.pyplot as plt\n",
    "import seaborn as sns\n",
    "sns.set(style='whitegrid', context='notebook')\n",
    "sns.set(font_scale=1.5)\n",
    "hm = sns.heatmap(Xdf.corr(), \n",
    "            cbar=True,\n",
    "            annot=False,\n",
    "            square=True,\n",
    "            fmt='.2f')\n",
    "plt.show()"
   ]
  },
  {
   "cell_type": "code",
   "execution_count": 1001,
   "metadata": {},
   "outputs": [
    {
     "name": "stdout",
     "output_type": "stream",
     "text": [
      "(438, 187)\n",
      "(189, 187)\n",
      "(438,)\n",
      "(189,)\n"
     ]
    }
   ],
   "source": [
    "X = Xdf  #remember this is the output from the vectorizer and we are turning it into an array\n",
    "y = ucernDf.resolved.values #this is an array of labels\n",
    "X_train, X_test, y_train, y_test = train_test_split(X, y, test_size=0.3, random_state=42) #random_state is set seed\n",
    "\n",
    "# function creates 4 output structures - order matters\n",
    "print(X_train.shape)\n",
    "print(X_test.shape)\n",
    "print(y_train.shape)\n",
    "print(y_test.shape)"
   ]
  },
  {
   "cell_type": "markdown",
   "metadata": {},
   "source": [
    "### Run Logistic Regression Model using train/test "
   ]
  },
  {
   "cell_type": "code",
   "execution_count": 841,
   "metadata": {},
   "outputs": [
    {
     "name": "stdout",
     "output_type": "stream",
     "text": [
      "LogisticRegression(C=1.0, class_weight=None, dual=False, fit_intercept=True,\n",
      "          intercept_scaling=1, max_iter=100, multi_class='ovr', n_jobs=1,\n",
      "          penalty='l2', random_state=None, solver='liblinear', tol=0.0001,\n",
      "          verbose=0, warm_start=False)\n",
      "accuracy: 0.582010582011\n",
      "             precision    recall  f1-score   support\n",
      "\n",
      "          0       0.31      0.32      0.31        57\n",
      "          1       0.70      0.70      0.70       132\n",
      "\n",
      "avg / total       0.58      0.58      0.58       189\n",
      "\n",
      "[[18 39]\n",
      " [40 92]]\n"
     ]
    }
   ],
   "source": [
    "# Logistic Regression\n",
    "from sklearn.linear_model import LogisticRegression\n",
    "\n",
    "# fit a logistic regression model to the data\n",
    "clf_lg = LogisticRegression()\n",
    "print(clf_lg)\n",
    "clf_lg.fit(X_train, y_train)\n",
    "\n",
    "# make predictions\n",
    "clf_lg_expected = y_test\n",
    "clf_lg_predicted = clf_lg.predict(X_test)\n",
    "\n",
    "# summarize the fit of the model\n",
    "print(\"accuracy: \" + str(metrics.accuracy_score(clf_lg_expected, clf_lg_predicted)))\n",
    "print(metrics.classification_report(clf_lg_expected, clf_lg_predicted))\n",
    "print(confusion_matrix(clf_lg_expected, clf_lg_predicted))"
   ]
  },
  {
   "cell_type": "markdown",
   "metadata": {},
   "source": [
    "#### Verify with 10-fold Cross Validation\n",
    "All 10-folds results within 19.7 percentage from its mean the model is overfitting."
   ]
  },
  {
   "cell_type": "code",
   "execution_count": 842,
   "metadata": {},
   "outputs": [
    {
     "name": "stdout",
     "output_type": "stream",
     "text": [
      "Cross Validation Score for each K:  [ 0.51111111  0.4         0.55555556  0.57777778  0.51162791  0.51162791\n",
      "  0.74418605  0.53488372  0.6744186   0.44186047]\n",
      "Cross Validation Score mean:  0.546304909561\n",
      "Cross Validation Max and Min Score difference from mean score:  0.146304909561 0.197881136951\n"
     ]
    }
   ],
   "source": [
    "scores = cross_val_score(clf_lg, X_train, y_train, cv=10)\n",
    "print(\"Cross Validation Score for each K: \", scores)\n",
    "print(\"Cross Validation Score mean: \", scores.mean())\n",
    "print(\"Cross Validation Max and Min Score difference from mean score: \", scores.mean()-min(scores), max(scores)-scores.mean())"
   ]
  },
  {
   "cell_type": "markdown",
   "metadata": {},
   "source": [
    "### Run KNN Model using train/test "
   ]
  },
  {
   "cell_type": "code",
   "execution_count": 843,
   "metadata": {},
   "outputs": [
    {
     "name": "stdout",
     "output_type": "stream",
     "text": [
      "The optimal number of neighbors is 25\n"
     ]
    }
   ],
   "source": [
    "# KNN\n",
    "# creating odd list of K for KNN\n",
    "myList = list(range(1,35))\n",
    "\n",
    "# subsetting just the odd ones\n",
    "neighbors = list(filter(lambda x: x % 2 != 0, myList))\n",
    "\n",
    "# empty list that will hold cv scores\n",
    "cv_scores = []\n",
    "\n",
    "#takes some time, get a soda...\n",
    "# perform 10-fold cross validation\n",
    "for k in neighbors:\n",
    "    knn = KNeighborsClassifier(n_neighbors=k)\n",
    "    scores = cross_val_score(knn, X_train, y_train, cv=10, scoring='accuracy')\n",
    "    cv_scores.append(scores.mean())\n",
    "    \n",
    "# changing to misclassification error\n",
    "MSE = [1 - x for x in cv_scores]\n",
    "\n",
    "# determining best k\n",
    "optimal_k = neighbors[MSE.index(min(MSE))]\n",
    "print(\"The optimal number of neighbors is %d\" % optimal_k)"
   ]
  },
  {
   "cell_type": "code",
   "execution_count": 844,
   "metadata": {},
   "outputs": [
    {
     "data": {
      "image/png": "[encoded data removed]",
      "text/plain": [
       "<matplotlib.figure.Figure at 0xf135278>"
      ]
     },
     "metadata": {},
     "output_type": "display_data"
    }
   ],
   "source": [
    "# plot misclassification error vs k\n",
    "plt.plot(neighbors, MSE)\n",
    "plt.xlabel('Number of Neighbors K')\n",
    "plt.ylabel('Misclassification Error')\n",
    "plt.show()\n"
   ]
  },
  {
   "cell_type": "code",
   "execution_count": 845,
   "metadata": {
    "scrolled": true
   },
   "outputs": [
    {
     "name": "stdout",
     "output_type": "stream",
     "text": [
      "KNeighborsClassifier(algorithm='auto', leaf_size=30, metric='minkowski',\n",
      "           metric_params=None, n_jobs=1, n_neighbors=25, p=1,\n",
      "           weights='uniform')\n",
      "0.698412698413\n",
      "accuracy: 0.698412698413\n",
      "             precision    recall  f1-score   support\n",
      "\n",
      "          0       0.50      0.02      0.03        57\n",
      "          1       0.70      0.99      0.82       132\n",
      "\n",
      "avg / total       0.64      0.70      0.58       189\n",
      "\n"
     ]
    }
   ],
   "source": [
    "# loading library\n",
    "from sklearn.neighbors import KNeighborsClassifier\n",
    "\n",
    "# instantiate learning model (k = 25)\n",
    "clf_knn = KNeighborsClassifier(n_neighbors=25, p = 1)\n",
    "clf_knn.fit(X_train, y_train)\n",
    "print(clf_knn)\n",
    "\n",
    "# make predictions\n",
    "knn_expected = y_test\n",
    "knn_predicted = clf_knn.predict(X_test)\n",
    "print(clf_knn.score(X_test, y_test))\n",
    "\n",
    "# summarize the fit of the model\n",
    "print(\"accuracy: \" + str(metrics.accuracy_score(knn_expected, knn_predicted)))\n",
    "print(metrics.classification_report(knn_expected, knn_predicted))"
   ]
  },
  {
   "cell_type": "markdown",
   "metadata": {},
   "source": [
    "#### Verify with 10-fold Cross Validation\n",
    "All 10-folds results within 5.9 percentage from mean and this means the model does overfit."
   ]
  },
  {
   "cell_type": "code",
   "execution_count": 846,
   "metadata": {},
   "outputs": [
    {
     "name": "stdout",
     "output_type": "stream",
     "text": [
      "Cross Validation Score for each K:  [ 0.68888889  0.75555556  0.66666667  0.68888889  0.72093023  0.69767442\n",
      "  0.6744186   0.72093023  0.65116279  0.69767442]\n",
      "Cross Validation Score mean:  0.696279069767\n",
      "Cross Validation Max and Min Score difference from mean score:  0.0451162790698 0.0592764857881\n"
     ]
    }
   ],
   "source": [
    "scores = cross_val_score(clf_knn, X_train, y_train, cv=10)\n",
    "print(\"Cross Validation Score for each K: \", scores)\n",
    "print(\"Cross Validation Score mean: \", scores.mean())\n",
    "print(\"Cross Validation Max and Min Score difference from mean score: \", scores.mean()-min(scores), max(scores)-scores.mean())"
   ]
  },
  {
   "cell_type": "markdown",
   "metadata": {},
   "source": [
    "### Run Decision Tree Model using train/test\n",
    "Decision Tree Model will be the base line model"
   ]
  },
  {
   "cell_type": "code",
   "execution_count": 847,
   "metadata": {},
   "outputs": [
    {
     "name": "stdout",
     "output_type": "stream",
     "text": [
      "DecisionTreeClassifier(class_weight=None, criterion='gini', max_depth=None,\n",
      "            max_features=None, max_leaf_nodes=None,\n",
      "            min_impurity_decrease=0.0, min_impurity_split=None,\n",
      "            min_samples_leaf=4, min_samples_split=5,\n",
      "            min_weight_fraction_leaf=0.0, presort=False, random_state=None,\n",
      "            splitter='best')\n",
      "0.608465608466\n",
      "accuracy: 0.608465608466\n",
      "             precision    recall  f1-score   support\n",
      "\n",
      "          0       0.38      0.49      0.43        57\n",
      "          1       0.75      0.66      0.70       132\n",
      "\n",
      "avg / total       0.64      0.61      0.62       189\n",
      "\n"
     ]
    }
   ],
   "source": [
    "#Decision Tree train model. Call up my model and name it clf\n",
    "from sklearn import tree \n",
    "clf_dt = tree.DecisionTreeClassifier(criterion='gini', min_samples_leaf = 4, min_samples_split = 5)\n",
    "#Call up the model to see the parameters you can tune (and their default setting)\n",
    "print(clf_dt)\n",
    "#Fit clf to the training data\n",
    "clf_dt = clf_dt.fit(X_train, y_train)\n",
    "\n",
    "\n",
    "# make predictions\n",
    "dt_expected = y_test\n",
    "dt_predicted = clf_dt.predict(X_test)\n",
    "print(clf_dt.score(X_test, y_test))\n",
    "\n",
    "# summarize the fit of the model\n",
    "print(\"accuracy: \" + str(metrics.accuracy_score(dt_expected, dt_predicted)))\n",
    "print(metrics.classification_report(dt_expected, dt_predicted))"
   ]
  },
  {
   "cell_type": "markdown",
   "metadata": {},
   "source": [
    "##### Verify with 10-fold Cross Validation\n",
    "All 10-folds results within 10.9 percentage from mean and this means the model is overfitting."
   ]
  },
  {
   "cell_type": "code",
   "execution_count": 848,
   "metadata": {},
   "outputs": [
    {
     "name": "stdout",
     "output_type": "stream",
     "text": [
      "Cross Validation Score for each K:  [ 0.6         0.64444444  0.64444444  0.57777778  0.53488372  0.65116279\n",
      "  0.74418605  0.65116279  0.69767442  0.60465116]\n",
      "Cross Validation Score mean:  0.63503875969\n",
      "Cross Validation Max and Min Score difference from mean score:  0.10015503876 0.109147286822\n"
     ]
    }
   ],
   "source": [
    "scores = cross_val_score(clf_dt, X_train, y_train, cv=10)\n",
    "print(\"Cross Validation Score for each K: \", scores)\n",
    "print(\"Cross Validation Score mean: \", scores.mean())\n",
    "print(\"Cross Validation Max and Min Score difference from mean score: \", scores.mean()-min(scores), max(scores)-scores.mean())"
   ]
  },
  {
   "cell_type": "markdown",
   "metadata": {},
   "source": [
    "### Run Random Forest Model using train/test"
   ]
  },
  {
   "cell_type": "code",
   "execution_count": 887,
   "metadata": {},
   "outputs": [
    {
     "name": "stdout",
     "output_type": "stream",
     "text": [
      "SCORES {'mean_fit_time': array([ 0.11881185,  0.25902591,  0.60266032,  1.15491548,  0.13621354,\n",
      "        0.25262532,  0.59805965,  1.21032104,  0.11421132,  0.23522344,\n",
      "        0.61686168,  1.19651961,  0.11161118,  0.22302237,  0.55685558,\n",
      "        1.12751269,  0.11361141,  0.2368238 ,  0.55525546,  1.14751468,\n",
      "        0.11701174,  0.22342238,  0.5726573 ,  1.17851791,  0.11681166,\n",
      "        0.21862178,  0.55765576,  1.11051102,  0.11081109,  0.21842189,\n",
      "        0.55565572,  1.09510946,  0.10941091,  0.21782184,  0.54065404,\n",
      "        1.13891382,  0.11441135,  0.2258224 ,  0.57765779,  1.13064771,\n",
      "        0.12279997,  0.22719998,  0.56579995,  1.14100008,  0.11379995,\n",
      "        0.2276    ,  0.56460004,  1.12579999,  0.11339993,  0.22099996,\n",
      "        0.55180001,  1.10120001,  0.11200004,  0.22179999,  0.5552    ,\n",
      "        1.1132    ,  0.11139998,  0.22119999,  0.55020008,  1.10219998,\n",
      "        0.10899997,  0.21580005,  0.54039989,  1.08639994,  0.10920014,\n",
      "        0.21620002,  0.54560008,  1.07820005,  0.10979996,  0.21660008,\n",
      "        0.54039993,  1.09020014,  0.10419993,  0.20880003,  0.5184    ,\n",
      "        1.03559999,  0.10399995,  0.20840006,  0.52779994,  1.04439998,\n",
      "        0.10540009,  0.21060009,  0.51939993,  1.0427999 ,  0.10499997,\n",
      "        0.2052    ,  0.51359992,  1.01860008,  0.10340004,  0.20500011,\n",
      "        0.51739998,  1.01919999,  0.10459995,  0.2046    ,  0.50900006,\n",
      "        1.0296    ,  0.10159998,  0.20580001,  1.00120001,  2.32540002,\n",
      "        0.24860005,  0.48339996,  1.15259995,  1.00919995,  0.10200005,\n",
      "        0.20160012,  0.50279994,  1.00899997]), 'std_fit_time': array([  6.40052557e-03,   3.19343153e-02,   3.44975270e-02,\n",
      "         4.88695084e-02,   2.10771891e-02,   3.15791998e-02,\n",
      "         3.45809461e-02,   5.65932593e-02,   9.79812484e-04,\n",
      "         1.28294214e-02,   3.97199209e-02,   4.71198832e-02,\n",
      "         1.01989832e-03,   4.05006899e-03,   1.67277671e-02,\n",
      "         4.02066157e-02,   2.41692339e-03,   1.40497902e-02,\n",
      "         5.91334709e-03,   3.66238003e-02,   7.77245045e-03,\n",
      "         4.12831735e-03,   2.17148635e-02,   5.42810776e-02,\n",
      "         1.46356072e-02,   3.00706939e-03,   2.43876231e-02,\n",
      "         3.32093200e-02,   1.32670473e-03,   1.95982937e-03,\n",
      "         2.14273363e-02,   2.45137408e-02,   8.00061231e-04,\n",
      "         1.72063969e-03,   2.57711411e-03,   7.15707729e-02,\n",
      "         1.85498006e-03,   1.32679099e-03,   1.45837106e-02,\n",
      "         1.16240771e-02,   4.39983498e-03,   1.32676943e-03,\n",
      "         2.13559136e-03,   3.06855306e-02,   7.48366451e-04,\n",
      "         2.87040506e-03,   2.05910647e-03,   4.06944520e-03,\n",
      "         2.49796322e-03,   1.41414479e-03,   2.39990155e-03,\n",
      "         3.48716998e-03,   1.26497018e-03,   1.16620399e-03,\n",
      "         8.37609719e-03,   2.92056016e-02,   1.01974870e-03,\n",
      "         1.32672629e-03,   1.32664003e-03,   9.23910049e-03,\n",
      "         1.50789149e-07,   1.46964573e-03,   2.79988902e-03,\n",
      "         1.58063165e-02,   7.48353705e-04,   1.46965871e-03,\n",
      "         1.03654146e-02,   3.12407186e-03,   1.16619581e-03,\n",
      "         1.85470240e-03,   2.72766591e-03,   1.51049888e-02,\n",
      "         3.99923339e-04,   2.48192007e-03,   2.33239162e-03,\n",
      "         1.95953737e-03,   1.09549631e-03,   1.35643097e-03,\n",
      "         1.25442569e-02,   1.48943518e-02,   1.01983286e-03,\n",
      "         2.41662742e-03,   1.49677113e-03,   1.07963020e-02,\n",
      "         3.03319759e-03,   7.48251760e-04,   3.72014536e-03,\n",
      "         1.74362465e-03,   1.01972064e-03,   1.26497019e-03,\n",
      "         1.19766024e-02,   1.46975604e-03,   3.20005417e-03,\n",
      "         1.19996866e-03,   1.41427965e-03,   2.38294734e-02,\n",
      "         4.89920847e-04,   8.15849218e-03,   3.68532188e-02,\n",
      "         1.56876534e-01,   1.64875549e-02,   4.77184085e-02,\n",
      "         3.13947439e-01,   1.10706308e-02,   6.32409699e-04,\n",
      "         1.01980480e-03,   1.16613039e-03,   9.23036134e-03]), 'mean_score_time': array([ 0.0062007 ,  0.0130013 ,  0.02900286,  0.06920676,  0.00660071,\n",
      "        0.01220117,  0.02740283,  0.06440639,  0.00600066,  0.01160116,\n",
      "        0.03120308,  0.05740581,  0.00580053,  0.01280127,  0.02720284,\n",
      "        0.0538053 ,  0.00600061,  0.01200123,  0.02740278,  0.05720572,\n",
      "        0.00640073,  0.01140118,  0.03100309,  0.05600553,  0.00600057,\n",
      "        0.01120119,  0.02740269,  0.06780682,  0.00600061,  0.01120105,\n",
      "        0.02700262,  0.05400548,  0.00580063,  0.01120105,  0.02680278,\n",
      "        0.05800576,  0.00600066,  0.01140113,  0.02840281,  0.05460215,\n",
      "        0.00700006,  0.01100001,  0.02780008,  0.05479989,  0.00600004,\n",
      "        0.01120005,  0.02779994,  0.06859999,  0.00619998,  0.01100001,\n",
      "        0.0276    ,  0.05419993,  0.00560002,  0.01120005,  0.02780004,\n",
      "        0.0546    ,  0.00620008,  0.01120005,  0.02739997,  0.05460005,\n",
      "        0.00599985,  0.0112    ,  0.02700005,  0.05420003,  0.00599985,\n",
      "        0.01099997,  0.02759995,  0.05319991,  0.00579996,  0.0111999 ,\n",
      "        0.02680011,  0.06759987,  0.00600009,  0.01180005,  0.0276    ,\n",
      "        0.05480003,  0.00600004,  0.0112    ,  0.02840009,  0.05440006,\n",
      "        0.00599999,  0.01119995,  0.0276    ,  0.05439992,  0.00560002,\n",
      "        0.01100001,  0.02960005,  0.05380001,  0.00559998,  0.01139994,\n",
      "        0.02980003,  0.06759996,  0.00559993,  0.01120005,  0.02739997,\n",
      "        0.05380001,  0.00599999,  0.01099997,  0.05519991,  0.11340003,\n",
      "        0.01919994,  0.02060008,  0.05300012,  0.05300012,  0.00599995,\n",
      "        0.0111999 ,  0.02660007,  0.05379996]), 'std_score_time': array([  4.00114074e-04,   2.00016499e-03,   1.67354073e-03,\n",
      "         2.69945132e-02,   8.00061231e-04,   1.60019398e-03,\n",
      "         4.89920847e-04,   1.03276716e-02,   1.16800773e-07,\n",
      "         8.00108915e-04,   4.44558221e-03,   4.80051041e-03,\n",
      "         4.00090257e-04,   3.12444123e-03,   4.00066404e-04,\n",
      "         4.00042573e-04,   1.90734863e-07,   6.32560488e-04,\n",
      "         4.89959789e-04,   5.91317773e-03,   8.00061231e-04,\n",
      "         4.89881921e-04,   4.33623126e-03,   2.19116673e-03,\n",
      "         6.32635897e-04,   4.00042545e-04,   4.90037648e-04,\n",
      "         2.76244780e-02,   6.32560492e-04,   3.99994861e-04,\n",
      "         9.53674316e-08,   1.09558337e-03,   4.00137912e-04,\n",
      "         3.99994861e-04,   3.99947177e-04,   8.53312064e-03,\n",
      "         1.16800773e-07,   4.89920871e-04,   8.00132751e-04,\n",
      "         4.89597344e-04,   1.09532219e-03,   1.90734863e-07,\n",
      "         3.99947177e-04,   7.48353720e-04,   1.50789149e-07,\n",
      "         3.99899493e-04,   3.99994861e-04,   2.77098494e-02,\n",
      "         3.99994861e-04,   1.16800773e-07,   4.89940316e-04,\n",
      "         4.00066376e-04,   4.90018183e-04,   4.00018706e-04,\n",
      "         7.48315479e-04,   1.20000045e-03,   3.99947206e-04,\n",
      "         4.00018706e-04,   7.99918194e-04,   1.35642393e-03,\n",
      "         9.53674316e-08,   4.00042573e-04,   1.16800773e-07,\n",
      "         4.00018706e-04,   9.53674316e-08,   1.78416128e-07,\n",
      "         7.99965878e-04,   3.99994861e-04,   3.99923339e-04,\n",
      "         3.99971037e-04,   3.99923339e-04,   2.77315895e-02,\n",
      "         1.78416128e-07,   3.99947177e-04,   4.89842988e-04,\n",
      "         7.48328219e-04,   1.50789149e-07,   3.99923339e-04,\n",
      "         1.01987026e-03,   4.89901382e-04,   9.53674316e-08,\n",
      "         4.00066404e-04,   4.89842988e-04,   4.89920871e-04,\n",
      "         4.89920847e-04,   6.32409703e-04,   5.19995690e-03,\n",
      "         7.48366451e-04,   4.89979265e-04,   4.89823538e-04,\n",
      "         5.11465152e-03,   2.77100150e-02,   4.89842988e-04,\n",
      "         4.00018706e-04,   4.89823538e-04,   7.48366451e-04,\n",
      "         6.32560488e-04,   9.53674316e-08,   1.23191138e-02,\n",
      "         1.66325021e-02,   9.70357454e-03,   2.93943745e-03,\n",
      "         1.70645368e-02,   8.94468989e-04,   1.16800773e-07,\n",
      "         4.00090228e-04,   4.90037648e-04,   3.99994861e-04]), 'param_max_features': masked_array(data = ['auto' 'auto' 'auto' 'auto' 'auto' 'auto' 'auto' 'auto' 'auto' 'auto'\n",
      " 'auto' 'auto' 'auto' 'auto' 'auto' 'auto' 'auto' 'auto' 'auto' 'auto'\n",
      " 'auto' 'auto' 'auto' 'auto' 'auto' 'auto' 'auto' 'auto' 'auto' 'auto'\n",
      " 'auto' 'auto' 'auto' 'auto' 'auto' 'auto' 'sqrt' 'sqrt' 'sqrt' 'sqrt'\n",
      " 'sqrt' 'sqrt' 'sqrt' 'sqrt' 'sqrt' 'sqrt' 'sqrt' 'sqrt' 'sqrt' 'sqrt'\n",
      " 'sqrt' 'sqrt' 'sqrt' 'sqrt' 'sqrt' 'sqrt' 'sqrt' 'sqrt' 'sqrt' 'sqrt'\n",
      " 'sqrt' 'sqrt' 'sqrt' 'sqrt' 'sqrt' 'sqrt' 'sqrt' 'sqrt' 'sqrt' 'sqrt'\n",
      " 'sqrt' 'sqrt' 'log2' 'log2' 'log2' 'log2' 'log2' 'log2' 'log2' 'log2'\n",
      " 'log2' 'log2' 'log2' 'log2' 'log2' 'log2' 'log2' 'log2' 'log2' 'log2'\n",
      " 'log2' 'log2' 'log2' 'log2' 'log2' 'log2' 'log2' 'log2' 'log2' 'log2'\n",
      " 'log2' 'log2' 'log2' 'log2' 'log2' 'log2' 'log2' 'log2'],\n",
      "             mask = [False False False False False False False False False False False False\n",
      " False False False False False False False False False False False False\n",
      " False False False False False False False False False False False False\n",
      " False False False False False False False False False False False False\n",
      " False False False False False False False False False False False False\n",
      " False False False False False False False False False False False False\n",
      " False False False False False False False False False False False False\n",
      " False False False False False False False False False False False False\n",
      " False False False False False False False False False False False False],\n",
      "       fill_value = ?)\n",
      ", 'param_min_samples_leaf': masked_array(data = [4 4 4 4 4 4 4 4 4 4 4 4 5 5 5 5 5 5 5 5 5 5 5 5 6 6 6 6 6 6 6 6 6 6 6 6 4\n",
      " 4 4 4 4 4 4 4 4 4 4 4 5 5 5 5 5 5 5 5 5 5 5 5 6 6 6 6 6 6 6 6 6 6 6 6 4 4\n",
      " 4 4 4 4 4 4 4 4 4 4 5 5 5 5 5 5 5 5 5 5 5 5 6 6 6 6 6 6 6 6 6 6 6 6],\n",
      "             mask = [False False False False False False False False False False False False\n",
      " False False False False False False False False False False False False\n",
      " False False False False False False False False False False False False\n",
      " False False False False False False False False False False False False\n",
      " False False False False False False False False False False False False\n",
      " False False False False False False False False False False False False\n",
      " False False False False False False False False False False False False\n",
      " False False False False False False False False False False False False\n",
      " False False False False False False False False False False False False],\n",
      "       fill_value = ?)\n",
      ", 'param_min_samples_split': masked_array(data = [4 4 4 4 5 5 5 5 6 6 6 6 4 4 4 4 5 5 5 5 6 6 6 6 4 4 4 4 5 5 5 5 6 6 6 6 4\n",
      " 4 4 4 5 5 5 5 6 6 6 6 4 4 4 4 5 5 5 5 6 6 6 6 4 4 4 4 5 5 5 5 6 6 6 6 4 4\n",
      " 4 4 5 5 5 5 6 6 6 6 4 4 4 4 5 5 5 5 6 6 6 6 4 4 4 4 5 5 5 5 6 6 6 6],\n",
      "             mask = [False False False False False False False False False False False False\n",
      " False False False False False False False False False False False False\n",
      " False False False False False False False False False False False False\n",
      " False False False False False False False False False False False False\n",
      " False False False False False False False False False False False False\n",
      " False False False False False False False False False False False False\n",
      " False False False False False False False False False False False False\n",
      " False False False False False False False False False False False False\n",
      " False False False False False False False False False False False False],\n",
      "       fill_value = ?)\n",
      ", 'param_n_estimators': masked_array(data = [100 200 500 1000 100 200 500 1000 100 200 500 1000 100 200 500 1000 100\n",
      " 200 500 1000 100 200 500 1000 100 200 500 1000 100 200 500 1000 100 200\n",
      " 500 1000 100 200 500 1000 100 200 500 1000 100 200 500 1000 100 200 500\n",
      " 1000 100 200 500 1000 100 200 500 1000 100 200 500 1000 100 200 500 1000\n",
      " 100 200 500 1000 100 200 500 1000 100 200 500 1000 100 200 500 1000 100\n",
      " 200 500 1000 100 200 500 1000 100 200 500 1000 100 200 500 1000 100 200\n",
      " 500 1000 100 200 500 1000],\n",
      "             mask = [False False False False False False False False False False False False\n",
      " False False False False False False False False False False False False\n",
      " False False False False False False False False False False False False\n",
      " False False False False False False False False False False False False\n",
      " False False False False False False False False False False False False\n",
      " False False False False False False False False False False False False\n",
      " False False False False False False False False False False False False\n",
      " False False False False False False False False False False False False\n",
      " False False False False False False False False False False False False],\n",
      "       fill_value = ?)\n",
      ", 'params': [{'max_features': 'auto', 'min_samples_leaf': 4, 'min_samples_split': 4, 'n_estimators': 100}, {'max_features': 'auto', 'min_samples_leaf': 4, 'min_samples_split': 4, 'n_estimators': 200}, {'max_features': 'auto', 'min_samples_leaf': 4, 'min_samples_split': 4, 'n_estimators': 500}, {'max_features': 'auto', 'min_samples_leaf': 4, 'min_samples_split': 4, 'n_estimators': 1000}, {'max_features': 'auto', 'min_samples_leaf': 4, 'min_samples_split': 5, 'n_estimators': 100}, {'max_features': 'auto', 'min_samples_leaf': 4, 'min_samples_split': 5, 'n_estimators': 200}, {'max_features': 'auto', 'min_samples_leaf': 4, 'min_samples_split': 5, 'n_estimators': 500}, {'max_features': 'auto', 'min_samples_leaf': 4, 'min_samples_split': 5, 'n_estimators': 1000}, {'max_features': 'auto', 'min_samples_leaf': 4, 'min_samples_split': 6, 'n_estimators': 100}, {'max_features': 'auto', 'min_samples_leaf': 4, 'min_samples_split': 6, 'n_estimators': 200}, {'max_features': 'auto', 'min_samples_leaf': 4, 'min_samples_split': 6, 'n_estimators': 500}, {'max_features': 'auto', 'min_samples_leaf': 4, 'min_samples_split': 6, 'n_estimators': 1000}, {'max_features': 'auto', 'min_samples_leaf': 5, 'min_samples_split': 4, 'n_estimators': 100}, {'max_features': 'auto', 'min_samples_leaf': 5, 'min_samples_split': 4, 'n_estimators': 200}, {'max_features': 'auto', 'min_samples_leaf': 5, 'min_samples_split': 4, 'n_estimators': 500}, {'max_features': 'auto', 'min_samples_leaf': 5, 'min_samples_split': 4, 'n_estimators': 1000}, {'max_features': 'auto', 'min_samples_leaf': 5, 'min_samples_split': 5, 'n_estimators': 100}, {'max_features': 'auto', 'min_samples_leaf': 5, 'min_samples_split': 5, 'n_estimators': 200}, {'max_features': 'auto', 'min_samples_leaf': 5, 'min_samples_split': 5, 'n_estimators': 500}, {'max_features': 'auto', 'min_samples_leaf': 5, 'min_samples_split': 5, 'n_estimators': 1000}, {'max_features': 'auto', 'min_samples_leaf': 5, 'min_samples_split': 6, 'n_estimators': 100}, {'max_features': 'auto', 'min_samples_leaf': 5, 'min_samples_split': 6, 'n_estimators': 200}, {'max_features': 'auto', 'min_samples_leaf': 5, 'min_samples_split': 6, 'n_estimators': 500}, {'max_features': 'auto', 'min_samples_leaf': 5, 'min_samples_split': 6, 'n_estimators': 1000}, {'max_features': 'auto', 'min_samples_leaf': 6, 'min_samples_split': 4, 'n_estimators': 100}, {'max_features': 'auto', 'min_samples_leaf': 6, 'min_samples_split': 4, 'n_estimators': 200}, {'max_features': 'auto', 'min_samples_leaf': 6, 'min_samples_split': 4, 'n_estimators': 500}, {'max_features': 'auto', 'min_samples_leaf': 6, 'min_samples_split': 4, 'n_estimators': 1000}, {'max_features': 'auto', 'min_samples_leaf': 6, 'min_samples_split': 5, 'n_estimators': 100}, {'max_features': 'auto', 'min_samples_leaf': 6, 'min_samples_split': 5, 'n_estimators': 200}, {'max_features': 'auto', 'min_samples_leaf': 6, 'min_samples_split': 5, 'n_estimators': 500}, {'max_features': 'auto', 'min_samples_leaf': 6, 'min_samples_split': 5, 'n_estimators': 1000}, {'max_features': 'auto', 'min_samples_leaf': 6, 'min_samples_split': 6, 'n_estimators': 100}, {'max_features': 'auto', 'min_samples_leaf': 6, 'min_samples_split': 6, 'n_estimators': 200}, {'max_features': 'auto', 'min_samples_leaf': 6, 'min_samples_split': 6, 'n_estimators': 500}, {'max_features': 'auto', 'min_samples_leaf': 6, 'min_samples_split': 6, 'n_estimators': 1000}, {'max_features': 'sqrt', 'min_samples_leaf': 4, 'min_samples_split': 4, 'n_estimators': 100}, {'max_features': 'sqrt', 'min_samples_leaf': 4, 'min_samples_split': 4, 'n_estimators': 200}, {'max_features': 'sqrt', 'min_samples_leaf': 4, 'min_samples_split': 4, 'n_estimators': 500}, {'max_features': 'sqrt', 'min_samples_leaf': 4, 'min_samples_split': 4, 'n_estimators': 1000}, {'max_features': 'sqrt', 'min_samples_leaf': 4, 'min_samples_split': 5, 'n_estimators': 100}, {'max_features': 'sqrt', 'min_samples_leaf': 4, 'min_samples_split': 5, 'n_estimators': 200}, {'max_features': 'sqrt', 'min_samples_leaf': 4, 'min_samples_split': 5, 'n_estimators': 500}, {'max_features': 'sqrt', 'min_samples_leaf': 4, 'min_samples_split': 5, 'n_estimators': 1000}, {'max_features': 'sqrt', 'min_samples_leaf': 4, 'min_samples_split': 6, 'n_estimators': 100}, {'max_features': 'sqrt', 'min_samples_leaf': 4, 'min_samples_split': 6, 'n_estimators': 200}, {'max_features': 'sqrt', 'min_samples_leaf': 4, 'min_samples_split': 6, 'n_estimators': 500}, {'max_features': 'sqrt', 'min_samples_leaf': 4, 'min_samples_split': 6, 'n_estimators': 1000}, {'max_features': 'sqrt', 'min_samples_leaf': 5, 'min_samples_split': 4, 'n_estimators': 100}, {'max_features': 'sqrt', 'min_samples_leaf': 5, 'min_samples_split': 4, 'n_estimators': 200}, {'max_features': 'sqrt', 'min_samples_leaf': 5, 'min_samples_split': 4, 'n_estimators': 500}, {'max_features': 'sqrt', 'min_samples_leaf': 5, 'min_samples_split': 4, 'n_estimators': 1000}, {'max_features': 'sqrt', 'min_samples_leaf': 5, 'min_samples_split': 5, 'n_estimators': 100}, {'max_features': 'sqrt', 'min_samples_leaf': 5, 'min_samples_split': 5, 'n_estimators': 200}, {'max_features': 'sqrt', 'min_samples_leaf': 5, 'min_samples_split': 5, 'n_estimators': 500}, {'max_features': 'sqrt', 'min_samples_leaf': 5, 'min_samples_split': 5, 'n_estimators': 1000}, {'max_features': 'sqrt', 'min_samples_leaf': 5, 'min_samples_split': 6, 'n_estimators': 100}, {'max_features': 'sqrt', 'min_samples_leaf': 5, 'min_samples_split': 6, 'n_estimators': 200}, {'max_features': 'sqrt', 'min_samples_leaf': 5, 'min_samples_split': 6, 'n_estimators': 500}, {'max_features': 'sqrt', 'min_samples_leaf': 5, 'min_samples_split': 6, 'n_estimators': 1000}, {'max_features': 'sqrt', 'min_samples_leaf': 6, 'min_samples_split': 4, 'n_estimators': 100}, {'max_features': 'sqrt', 'min_samples_leaf': 6, 'min_samples_split': 4, 'n_estimators': 200}, {'max_features': 'sqrt', 'min_samples_leaf': 6, 'min_samples_split': 4, 'n_estimators': 500}, {'max_features': 'sqrt', 'min_samples_leaf': 6, 'min_samples_split': 4, 'n_estimators': 1000}, {'max_features': 'sqrt', 'min_samples_leaf': 6, 'min_samples_split': 5, 'n_estimators': 100}, {'max_features': 'sqrt', 'min_samples_leaf': 6, 'min_samples_split': 5, 'n_estimators': 200}, {'max_features': 'sqrt', 'min_samples_leaf': 6, 'min_samples_split': 5, 'n_estimators': 500}, {'max_features': 'sqrt', 'min_samples_leaf': 6, 'min_samples_split': 5, 'n_estimators': 1000}, {'max_features': 'sqrt', 'min_samples_leaf': 6, 'min_samples_split': 6, 'n_estimators': 100}, {'max_features': 'sqrt', 'min_samples_leaf': 6, 'min_samples_split': 6, 'n_estimators': 200}, {'max_features': 'sqrt', 'min_samples_leaf': 6, 'min_samples_split': 6, 'n_estimators': 500}, {'max_features': 'sqrt', 'min_samples_leaf': 6, 'min_samples_split': 6, 'n_estimators': 1000}, {'max_features': 'log2', 'min_samples_leaf': 4, 'min_samples_split': 4, 'n_estimators': 100}, {'max_features': 'log2', 'min_samples_leaf': 4, 'min_samples_split': 4, 'n_estimators': 200}, {'max_features': 'log2', 'min_samples_leaf': 4, 'min_samples_split': 4, 'n_estimators': 500}, {'max_features': 'log2', 'min_samples_leaf': 4, 'min_samples_split': 4, 'n_estimators': 1000}, {'max_features': 'log2', 'min_samples_leaf': 4, 'min_samples_split': 5, 'n_estimators': 100}, {'max_features': 'log2', 'min_samples_leaf': 4, 'min_samples_split': 5, 'n_estimators': 200}, {'max_features': 'log2', 'min_samples_leaf': 4, 'min_samples_split': 5, 'n_estimators': 500}, {'max_features': 'log2', 'min_samples_leaf': 4, 'min_samples_split': 5, 'n_estimators': 1000}, {'max_features': 'log2', 'min_samples_leaf': 4, 'min_samples_split': 6, 'n_estimators': 100}, {'max_features': 'log2', 'min_samples_leaf': 4, 'min_samples_split': 6, 'n_estimators': 200}, {'max_features': 'log2', 'min_samples_leaf': 4, 'min_samples_split': 6, 'n_estimators': 500}, {'max_features': 'log2', 'min_samples_leaf': 4, 'min_samples_split': 6, 'n_estimators': 1000}, {'max_features': 'log2', 'min_samples_leaf': 5, 'min_samples_split': 4, 'n_estimators': 100}, {'max_features': 'log2', 'min_samples_leaf': 5, 'min_samples_split': 4, 'n_estimators': 200}, {'max_features': 'log2', 'min_samples_leaf': 5, 'min_samples_split': 4, 'n_estimators': 500}, {'max_features': 'log2', 'min_samples_leaf': 5, 'min_samples_split': 4, 'n_estimators': 1000}, {'max_features': 'log2', 'min_samples_leaf': 5, 'min_samples_split': 5, 'n_estimators': 100}, {'max_features': 'log2', 'min_samples_leaf': 5, 'min_samples_split': 5, 'n_estimators': 200}, {'max_features': 'log2', 'min_samples_leaf': 5, 'min_samples_split': 5, 'n_estimators': 500}, {'max_features': 'log2', 'min_samples_leaf': 5, 'min_samples_split': 5, 'n_estimators': 1000}, {'max_features': 'log2', 'min_samples_leaf': 5, 'min_samples_split': 6, 'n_estimators': 100}, {'max_features': 'log2', 'min_samples_leaf': 5, 'min_samples_split': 6, 'n_estimators': 200}, {'max_features': 'log2', 'min_samples_leaf': 5, 'min_samples_split': 6, 'n_estimators': 500}, {'max_features': 'log2', 'min_samples_leaf': 5, 'min_samples_split': 6, 'n_estimators': 1000}, {'max_features': 'log2', 'min_samples_leaf': 6, 'min_samples_split': 4, 'n_estimators': 100}, {'max_features': 'log2', 'min_samples_leaf': 6, 'min_samples_split': 4, 'n_estimators': 200}, {'max_features': 'log2', 'min_samples_leaf': 6, 'min_samples_split': 4, 'n_estimators': 500}, {'max_features': 'log2', 'min_samples_leaf': 6, 'min_samples_split': 4, 'n_estimators': 1000}, {'max_features': 'log2', 'min_samples_leaf': 6, 'min_samples_split': 5, 'n_estimators': 100}, {'max_features': 'log2', 'min_samples_leaf': 6, 'min_samples_split': 5, 'n_estimators': 200}, {'max_features': 'log2', 'min_samples_leaf': 6, 'min_samples_split': 5, 'n_estimators': 500}, {'max_features': 'log2', 'min_samples_leaf': 6, 'min_samples_split': 5, 'n_estimators': 1000}, {'max_features': 'log2', 'min_samples_leaf': 6, 'min_samples_split': 6, 'n_estimators': 100}, {'max_features': 'log2', 'min_samples_leaf': 6, 'min_samples_split': 6, 'n_estimators': 200}, {'max_features': 'log2', 'min_samples_leaf': 6, 'min_samples_split': 6, 'n_estimators': 500}, {'max_features': 'log2', 'min_samples_leaf': 6, 'min_samples_split': 6, 'n_estimators': 1000}], 'split0_test_score': array([ 0.70454545,  0.71590909,  0.70454545,  0.71590909,  0.70454545,\n",
      "        0.70454545,  0.71590909,  0.69318182,  0.71590909,  0.69318182,\n",
      "        0.70454545,  0.70454545,  0.70454545,  0.70454545,  0.69318182,\n",
      "        0.70454545,  0.69318182,  0.69318182,  0.69318182,  0.69318182,\n",
      "        0.71590909,  0.69318182,  0.69318182,  0.69318182,  0.69318182,\n",
      "        0.69318182,  0.70454545,  0.69318182,  0.69318182,  0.69318182,\n",
      "        0.69318182,  0.69318182,  0.69318182,  0.69318182,  0.69318182,\n",
      "        0.69318182,  0.71590909,  0.70454545,  0.70454545,  0.70454545,\n",
      "        0.71590909,  0.70454545,  0.71590909,  0.70454545,  0.70454545,\n",
      "        0.71590909,  0.70454545,  0.70454545,  0.69318182,  0.70454545,\n",
      "        0.69318182,  0.69318182,  0.69318182,  0.70454545,  0.69318182,\n",
      "        0.70454545,  0.69318182,  0.70454545,  0.69318182,  0.69318182,\n",
      "        0.69318182,  0.69318182,  0.69318182,  0.69318182,  0.69318182,\n",
      "        0.69318182,  0.70454545,  0.69318182,  0.70454545,  0.70454545,\n",
      "        0.69318182,  0.69318182,  0.69318182,  0.69318182,  0.69318182,\n",
      "        0.69318182,  0.69318182,  0.69318182,  0.69318182,  0.69318182,\n",
      "        0.69318182,  0.69318182,  0.69318182,  0.69318182,  0.69318182,\n",
      "        0.69318182,  0.69318182,  0.69318182,  0.69318182,  0.69318182,\n",
      "        0.69318182,  0.69318182,  0.69318182,  0.69318182,  0.69318182,\n",
      "        0.69318182,  0.69318182,  0.69318182,  0.69318182,  0.69318182,\n",
      "        0.69318182,  0.69318182,  0.69318182,  0.69318182,  0.69318182,\n",
      "        0.69318182,  0.69318182,  0.69318182]), 'split1_test_score': array([ 0.70454545,  0.69318182,  0.70454545,  0.70454545,  0.71590909,\n",
      "        0.70454545,  0.70454545,  0.70454545,  0.70454545,  0.71590909,\n",
      "        0.70454545,  0.70454545,  0.69318182,  0.70454545,  0.70454545,\n",
      "        0.70454545,  0.70454545,  0.70454545,  0.70454545,  0.70454545,\n",
      "        0.69318182,  0.70454545,  0.70454545,  0.70454545,  0.70454545,\n",
      "        0.70454545,  0.70454545,  0.70454545,  0.69318182,  0.70454545,\n",
      "        0.69318182,  0.70454545,  0.69318182,  0.70454545,  0.70454545,\n",
      "        0.70454545,  0.70454545,  0.70454545,  0.70454545,  0.70454545,\n",
      "        0.69318182,  0.70454545,  0.70454545,  0.70454545,  0.69318182,\n",
      "        0.70454545,  0.70454545,  0.70454545,  0.69318182,  0.70454545,\n",
      "        0.70454545,  0.70454545,  0.69318182,  0.70454545,  0.70454545,\n",
      "        0.70454545,  0.69318182,  0.70454545,  0.70454545,  0.70454545,\n",
      "        0.70454545,  0.70454545,  0.69318182,  0.70454545,  0.70454545,\n",
      "        0.69318182,  0.70454545,  0.69318182,  0.70454545,  0.70454545,\n",
      "        0.70454545,  0.70454545,  0.70454545,  0.69318182,  0.69318182,\n",
      "        0.69318182,  0.69318182,  0.69318182,  0.69318182,  0.69318182,\n",
      "        0.69318182,  0.69318182,  0.69318182,  0.69318182,  0.69318182,\n",
      "        0.69318182,  0.69318182,  0.69318182,  0.69318182,  0.69318182,\n",
      "        0.69318182,  0.69318182,  0.69318182,  0.69318182,  0.69318182,\n",
      "        0.69318182,  0.69318182,  0.69318182,  0.69318182,  0.69318182,\n",
      "        0.69318182,  0.69318182,  0.69318182,  0.69318182,  0.69318182,\n",
      "        0.69318182,  0.69318182,  0.69318182]), 'split2_test_score': array([ 0.69318182,  0.71590909,  0.72727273,  0.71590909,  0.69318182,\n",
      "        0.72727273,  0.71590909,  0.70454545,  0.71590909,  0.70454545,\n",
      "        0.70454545,  0.69318182,  0.68181818,  0.68181818,  0.69318182,\n",
      "        0.70454545,  0.70454545,  0.70454545,  0.69318182,  0.68181818,\n",
      "        0.69318182,  0.68181818,  0.69318182,  0.70454545,  0.69318182,\n",
      "        0.68181818,  0.68181818,  0.68181818,  0.69318182,  0.68181818,\n",
      "        0.68181818,  0.68181818,  0.68181818,  0.68181818,  0.68181818,\n",
      "        0.68181818,  0.70454545,  0.70454545,  0.71590909,  0.70454545,\n",
      "        0.71590909,  0.71590909,  0.69318182,  0.71590909,  0.71590909,\n",
      "        0.70454545,  0.70454545,  0.70454545,  0.69318182,  0.69318182,\n",
      "        0.68181818,  0.70454545,  0.69318182,  0.68181818,  0.68181818,\n",
      "        0.69318182,  0.68181818,  0.69318182,  0.69318182,  0.69318182,\n",
      "        0.69318182,  0.68181818,  0.68181818,  0.68181818,  0.68181818,\n",
      "        0.68181818,  0.68181818,  0.68181818,  0.68181818,  0.68181818,\n",
      "        0.68181818,  0.68181818,  0.69318182,  0.68181818,  0.69318182,\n",
      "        0.69318182,  0.69318182,  0.71590909,  0.69318182,  0.69318182,\n",
      "        0.69318182,  0.71590909,  0.69318182,  0.69318182,  0.69318182,\n",
      "        0.69318182,  0.69318182,  0.69318182,  0.68181818,  0.69318182,\n",
      "        0.69318182,  0.69318182,  0.70454545,  0.69318182,  0.69318182,\n",
      "        0.69318182,  0.69318182,  0.69318182,  0.69318182,  0.69318182,\n",
      "        0.68181818,  0.69318182,  0.69318182,  0.69318182,  0.69318182,\n",
      "        0.69318182,  0.69318182,  0.69318182]), 'split3_test_score': array([ 0.70454545,  0.69318182,  0.69318182,  0.69318182,  0.69318182,\n",
      "        0.69318182,  0.69318182,  0.69318182,  0.69318182,  0.69318182,\n",
      "        0.69318182,  0.69318182,  0.69318182,  0.69318182,  0.69318182,\n",
      "        0.69318182,  0.69318182,  0.69318182,  0.69318182,  0.69318182,\n",
      "        0.69318182,  0.69318182,  0.69318182,  0.69318182,  0.69318182,\n",
      "        0.69318182,  0.69318182,  0.69318182,  0.69318182,  0.69318182,\n",
      "        0.69318182,  0.69318182,  0.69318182,  0.69318182,  0.69318182,\n",
      "        0.69318182,  0.70454545,  0.69318182,  0.69318182,  0.69318182,\n",
      "        0.69318182,  0.69318182,  0.69318182,  0.69318182,  0.69318182,\n",
      "        0.70454545,  0.69318182,  0.69318182,  0.69318182,  0.69318182,\n",
      "        0.69318182,  0.69318182,  0.69318182,  0.69318182,  0.69318182,\n",
      "        0.69318182,  0.69318182,  0.69318182,  0.69318182,  0.69318182,\n",
      "        0.69318182,  0.69318182,  0.69318182,  0.69318182,  0.69318182,\n",
      "        0.69318182,  0.69318182,  0.69318182,  0.69318182,  0.69318182,\n",
      "        0.69318182,  0.69318182,  0.69318182,  0.69318182,  0.69318182,\n",
      "        0.69318182,  0.69318182,  0.69318182,  0.69318182,  0.69318182,\n",
      "        0.69318182,  0.69318182,  0.69318182,  0.69318182,  0.69318182,\n",
      "        0.69318182,  0.69318182,  0.69318182,  0.69318182,  0.69318182,\n",
      "        0.69318182,  0.69318182,  0.69318182,  0.69318182,  0.69318182,\n",
      "        0.69318182,  0.69318182,  0.69318182,  0.69318182,  0.69318182,\n",
      "        0.69318182,  0.69318182,  0.69318182,  0.69318182,  0.69318182,\n",
      "        0.69318182,  0.69318182,  0.69318182]), 'split4_test_score': array([ 0.72093023,  0.72093023,  0.72093023,  0.72093023,  0.70930233,\n",
      "        0.72093023,  0.72093023,  0.72093023,  0.73255814,  0.72093023,\n",
      "        0.72093023,  0.73255814,  0.73255814,  0.72093023,  0.72093023,\n",
      "        0.72093023,  0.72093023,  0.72093023,  0.72093023,  0.72093023,\n",
      "        0.72093023,  0.72093023,  0.72093023,  0.72093023,  0.70930233,\n",
      "        0.72093023,  0.72093023,  0.72093023,  0.72093023,  0.72093023,\n",
      "        0.72093023,  0.72093023,  0.72093023,  0.72093023,  0.72093023,\n",
      "        0.72093023,  0.72093023,  0.72093023,  0.73255814,  0.72093023,\n",
      "        0.72093023,  0.72093023,  0.72093023,  0.72093023,  0.73255814,\n",
      "        0.72093023,  0.72093023,  0.72093023,  0.72093023,  0.72093023,\n",
      "        0.72093023,  0.72093023,  0.72093023,  0.72093023,  0.72093023,\n",
      "        0.72093023,  0.73255814,  0.72093023,  0.72093023,  0.72093023,\n",
      "        0.73255814,  0.72093023,  0.72093023,  0.72093023,  0.70930233,\n",
      "        0.72093023,  0.72093023,  0.72093023,  0.72093023,  0.72093023,\n",
      "        0.72093023,  0.72093023,  0.72093023,  0.72093023,  0.70930233,\n",
      "        0.72093023,  0.72093023,  0.69767442,  0.70930233,  0.70930233,\n",
      "        0.70930233,  0.72093023,  0.70930233,  0.72093023,  0.70930233,\n",
      "        0.69767442,  0.69767442,  0.69767442,  0.70930233,  0.69767442,\n",
      "        0.70930233,  0.69767442,  0.69767442,  0.69767442,  0.69767442,\n",
      "        0.69767442,  0.69767442,  0.69767442,  0.69767442,  0.69767442,\n",
      "        0.69767442,  0.70930233,  0.69767442,  0.69767442,  0.69767442,\n",
      "        0.69767442,  0.69767442,  0.69767442]), 'mean_test_score': array([ 0.70547945,  0.70776256,  0.71004566,  0.71004566,  0.70319635,\n",
      "        0.71004566,  0.71004566,  0.70319635,  0.71232877,  0.70547945,\n",
      "        0.70547945,  0.70547945,  0.70091324,  0.70091324,  0.70091324,\n",
      "        0.70547945,  0.70319635,  0.70319635,  0.70091324,  0.69863014,\n",
      "        0.70319635,  0.69863014,  0.70091324,  0.70319635,  0.69863014,\n",
      "        0.69863014,  0.70091324,  0.69863014,  0.69863014,  0.69863014,\n",
      "        0.69634703,  0.69863014,  0.69634703,  0.69863014,  0.69863014,\n",
      "        0.69863014,  0.71004566,  0.70547945,  0.71004566,  0.70547945,\n",
      "        0.70776256,  0.70776256,  0.70547945,  0.70776256,  0.70776256,\n",
      "        0.71004566,  0.70547945,  0.70547945,  0.69863014,  0.70319635,\n",
      "        0.69863014,  0.70319635,  0.69863014,  0.70091324,  0.69863014,\n",
      "        0.70319635,  0.69863014,  0.70319635,  0.70091324,  0.70091324,\n",
      "        0.70319635,  0.69863014,  0.69634703,  0.69863014,  0.69634703,\n",
      "        0.69634703,  0.70091324,  0.69634703,  0.70091324,  0.70091324,\n",
      "        0.69863014,  0.69863014,  0.70091324,  0.69634703,  0.69634703,\n",
      "        0.69863014,  0.69863014,  0.69863014,  0.69634703,  0.69634703,\n",
      "        0.69634703,  0.70319635,  0.69634703,  0.69863014,  0.69634703,\n",
      "        0.69406393,  0.69406393,  0.69406393,  0.69406393,  0.69406393,\n",
      "        0.69634703,  0.69406393,  0.69634703,  0.69406393,  0.69406393,\n",
      "        0.69406393,  0.69406393,  0.69406393,  0.69406393,  0.69406393,\n",
      "        0.69178082,  0.69634703,  0.69406393,  0.69406393,  0.69406393,\n",
      "        0.69406393,  0.69406393,  0.69406393]), 'std_test_score': array([ 0.0088195 ,  0.01208881,  0.01233617,  0.01001461,  0.00896972,\n",
      "        0.01233617,  0.01001461,  0.01013806,  0.01308926,  0.01138737,\n",
      "        0.0088195 ,  0.01432103,  0.01722059,  0.01300924,  0.0108329 ,\n",
      "        0.0088195 ,  0.01013806,  0.01013806,  0.0108329 ,  0.01316764,\n",
      "        0.0124366 ,  0.01316764,  0.0108329 ,  0.01013806,  0.00687641,\n",
      "        0.01316764,  0.01300924,  0.01316764,  0.01102261,  0.01316764,\n",
      "        0.01292703,  0.01316764,  0.01292703,  0.01316764,  0.01316764,\n",
      "        0.01316764,  0.00695727,  0.0088195 ,  0.01325564,  0.0088195 ,\n",
      "        0.01208881,  0.00970827,  0.01138737,  0.00970827,  0.01488486,\n",
      "        0.00695727,  0.0088195 ,  0.0088195 ,  0.01102261,  0.01013806,\n",
      "        0.01316764,  0.01013806,  0.01102261,  0.01300924,  0.01316764,\n",
      "        0.01013806,  0.01734057,  0.01013806,  0.0108329 ,  0.0108329 ,\n",
      "        0.01516867,  0.01316764,  0.01292703,  0.01316764,  0.00963821,\n",
      "        0.01292703,  0.01300924,  0.01292703,  0.01300924,  0.01300924,\n",
      "        0.01316764,  0.01316764,  0.0108329 ,  0.01292703,  0.00640361,\n",
      "        0.01102261,  0.01102261,  0.00883495,  0.00640361,  0.00640361,\n",
      "        0.00640361,  0.0124366 ,  0.00640361,  0.01102261,  0.00640361,\n",
      "        0.00178461,  0.00178461,  0.00178461,  0.00872875,  0.00178461,\n",
      "        0.00640361,  0.00178461,  0.00445968,  0.00178461,  0.00178461,\n",
      "        0.00178461,  0.00178461,  0.00178461,  0.00178461,  0.00178461,\n",
      "        0.00528626,  0.00640361,  0.00178461,  0.00178461,  0.00178461,\n",
      "        0.00178461,  0.00178461,  0.00178461]), 'rank_test_score': array([ 14,   9,   2,   2,  24,   2,   2,  24,   1,  14,  14,  14,  36,\n",
      "        36,  36,  14,  24,  24,  36,  49,  24,  49,  36,  24,  49,  49,\n",
      "        36,  49,  49,  49,  73,  49,  73,  49,  49,  49,   2,  14,   2,\n",
      "        14,   9,   9,  14,   9,   9,   2,  14,  14,  49,  24,  49,  24,\n",
      "        49,  36,  49,  24,  49,  24,  36,  36,  24,  49,  73,  49,  73,\n",
      "        73,  36,  73,  36,  36,  49,  49,  36,  73,  73,  49,  49,  49,\n",
      "        73,  73,  73,  24,  73,  49,  73,  89,  89,  89,  89,  89,  73,\n",
      "        89,  73,  89,  89,  89,  89,  89,  89,  89, 108,  73,  89,  89,\n",
      "        89,  89,  89,  89]), 'split0_train_score': array([ 0.82285714,  0.81714286,  0.81714286,  0.82      ,  0.81714286,\n",
      "        0.81428571,  0.82857143,  0.82571429,  0.81714286,  0.82571429,\n",
      "        0.81714286,  0.82285714,  0.78857143,  0.77142857,  0.77714286,\n",
      "        0.76857143,  0.78      ,  0.76285714,  0.76285714,  0.76857143,\n",
      "        0.77428571,  0.77714286,  0.76285714,  0.76857143,  0.72571429,\n",
      "        0.72857143,  0.71714286,  0.72285714,  0.72      ,  0.71428571,\n",
      "        0.72      ,  0.71714286,  0.73714286,  0.73142857,  0.72857143,\n",
      "        0.72571429,  0.82      ,  0.82285714,  0.82285714,  0.81714286,\n",
      "        0.82      ,  0.83142857,  0.82285714,  0.82      ,  0.81428571,\n",
      "        0.82571429,  0.82285714,  0.82      ,  0.78285714,  0.77714286,\n",
      "        0.77714286,  0.78      ,  0.77142857,  0.77714286,  0.78571429,\n",
      "        0.77428571,  0.78285714,  0.77428571,  0.76857143,  0.77142857,\n",
      "        0.73142857,  0.72571429,  0.72285714,  0.72285714,  0.74285714,\n",
      "        0.72571429,  0.72285714,  0.72      ,  0.74285714,  0.73714286,\n",
      "        0.73428571,  0.72      ,  0.74857143,  0.76      ,  0.75142857,\n",
      "        0.75714286,  0.76857143,  0.74571429,  0.75714286,  0.75142857,\n",
      "        0.76      ,  0.75428571,  0.75428571,  0.76      ,  0.72285714,\n",
      "        0.72285714,  0.72      ,  0.71142857,  0.72      ,  0.71428571,\n",
      "        0.71714286,  0.70571429,  0.73428571,  0.72285714,  0.71142857,\n",
      "        0.71428571,  0.7       ,  0.70285714,  0.70285714,  0.70285714,\n",
      "        0.70857143,  0.7       ,  0.70285714,  0.70285714,  0.70285714,\n",
      "        0.7       ,  0.7       ,  0.7       ]), 'split1_train_score': array([ 0.84      ,  0.82285714,  0.84      ,  0.83428571,  0.82285714,\n",
      "        0.83714286,  0.83428571,  0.83142857,  0.81714286,  0.82285714,\n",
      "        0.82285714,  0.83428571,  0.78285714,  0.78285714,  0.77142857,\n",
      "        0.78571429,  0.77428571,  0.76571429,  0.78      ,  0.78      ,\n",
      "        0.78857143,  0.79142857,  0.76857143,  0.77142857,  0.74857143,\n",
      "        0.75428571,  0.74857143,  0.75714286,  0.75428571,  0.74571429,\n",
      "        0.74857143,  0.75142857,  0.74857143,  0.75142857,  0.74      ,\n",
      "        0.74857143,  0.82571429,  0.82      ,  0.83142857,  0.82857143,\n",
      "        0.81428571,  0.84      ,  0.83142857,  0.82857143,  0.83142857,\n",
      "        0.84      ,  0.82571429,  0.83142857,  0.76857143,  0.76571429,\n",
      "        0.78571429,  0.76857143,  0.79142857,  0.78571429,  0.76857143,\n",
      "        0.77714286,  0.76285714,  0.78285714,  0.78285714,  0.77428571,\n",
      "        0.75714286,  0.75714286,  0.74571429,  0.75428571,  0.76571429,\n",
      "        0.75142857,  0.75428571,  0.75142857,  0.75142857,  0.75428571,\n",
      "        0.75142857,  0.74857143,  0.77428571,  0.76857143,  0.76857143,\n",
      "        0.76285714,  0.77428571,  0.75142857,  0.76571429,  0.76      ,\n",
      "        0.76      ,  0.75428571,  0.77142857,  0.76      ,  0.74571429,\n",
      "        0.72571429,  0.72571429,  0.72857143,  0.73142857,  0.73714286,\n",
      "        0.74285714,  0.73142857,  0.73714286,  0.73714286,  0.74      ,\n",
      "        0.72857143,  0.69714286,  0.71428571,  0.71428571,  0.71142857,\n",
      "        0.72285714,  0.71428571,  0.71142857,  0.70857143,  0.72571429,\n",
      "        0.71142857,  0.71714286,  0.70857143]), 'split2_train_score': array([ 0.83428571,  0.83428571,  0.83428571,  0.82857143,  0.82285714,\n",
      "        0.82857143,  0.83142857,  0.83142857,  0.84      ,  0.82857143,\n",
      "        0.84      ,  0.82857143,  0.77714286,  0.78      ,  0.79428571,\n",
      "        0.8       ,  0.81714286,  0.78857143,  0.78285714,  0.78285714,\n",
      "        0.80285714,  0.78285714,  0.78857143,  0.79142857,  0.74857143,\n",
      "        0.77142857,  0.75428571,  0.74857143,  0.75142857,  0.75142857,\n",
      "        0.74857143,  0.75142857,  0.75428571,  0.75142857,  0.75714286,\n",
      "        0.75142857,  0.84285714,  0.83428571,  0.83714286,  0.83428571,\n",
      "        0.84857143,  0.82571429,  0.82857143,  0.83142857,  0.82      ,\n",
      "        0.83142857,  0.82857143,  0.84      ,  0.78285714,  0.78      ,\n",
      "        0.78285714,  0.79142857,  0.78      ,  0.78571429,  0.78571429,\n",
      "        0.78571429,  0.78285714,  0.79428571,  0.79428571,  0.79142857,\n",
      "        0.75714286,  0.76285714,  0.76285714,  0.74571429,  0.73714286,\n",
      "        0.75428571,  0.75428571,  0.75428571,  0.74285714,  0.74571429,\n",
      "        0.74571429,  0.74857143,  0.77142857,  0.78857143,  0.76285714,\n",
      "        0.76285714,  0.76285714,  0.76857143,  0.76285714,  0.76571429,\n",
      "        0.77714286,  0.77428571,  0.77428571,  0.76285714,  0.70571429,\n",
      "        0.72      ,  0.71428571,  0.71714286,  0.74285714,  0.72285714,\n",
      "        0.72      ,  0.72857143,  0.72      ,  0.72571429,  0.72      ,\n",
      "        0.71714286,  0.70571429,  0.70571429,  0.70571429,  0.70285714,\n",
      "        0.70857143,  0.70285714,  0.69428571,  0.70285714,  0.7       ,\n",
      "        0.70285714,  0.70571429,  0.70285714]), 'split3_train_score': array([ 0.80571429,  0.80285714,  0.80571429,  0.80285714,  0.80857143,\n",
      "        0.8       ,  0.80857143,  0.8       ,  0.80285714,  0.80857143,\n",
      "        0.80285714,  0.81142857,  0.76285714,  0.75428571,  0.75714286,\n",
      "        0.75714286,  0.75714286,  0.75428571,  0.75428571,  0.75142857,\n",
      "        0.77428571,  0.75142857,  0.76      ,  0.76285714,  0.73142857,\n",
      "        0.72571429,  0.72857143,  0.72571429,  0.73428571,  0.72      ,\n",
      "        0.74285714,  0.73428571,  0.72285714,  0.72571429,  0.74285714,\n",
      "        0.72571429,  0.78857143,  0.82      ,  0.80571429,  0.80571429,\n",
      "        0.79142857,  0.79428571,  0.80857143,  0.80571429,  0.79428571,\n",
      "        0.8       ,  0.8       ,  0.79428571,  0.75714286,  0.76571429,\n",
      "        0.76      ,  0.76285714,  0.76571429,  0.75428571,  0.75714286,\n",
      "        0.75714286,  0.77428571,  0.75428571,  0.75714286,  0.75428571,\n",
      "        0.73714286,  0.72857143,  0.72571429,  0.74      ,  0.73428571,\n",
      "        0.74857143,  0.72857143,  0.73142857,  0.73428571,  0.72571429,\n",
      "        0.73142857,  0.72857143,  0.74857143,  0.76571429,  0.74      ,\n",
      "        0.75142857,  0.76      ,  0.75142857,  0.74857143,  0.74285714,\n",
      "        0.74857143,  0.74285714,  0.75714286,  0.75428571,  0.71428571,\n",
      "        0.72      ,  0.70857143,  0.70857143,  0.70571429,  0.71142857,\n",
      "        0.70285714,  0.70571429,  0.71428571,  0.70285714,  0.71142857,\n",
      "        0.70571429,  0.69428571,  0.69428571,  0.69714286,  0.69714286,\n",
      "        0.70571429,  0.69428571,  0.7       ,  0.69714286,  0.7       ,\n",
      "        0.69428571,  0.7       ,  0.69714286]), 'split4_train_score': array([ 0.83238636,  0.81818182,  0.82102273,  0.82670455,  0.82102273,\n",
      "        0.82954545,  0.83238636,  0.83238636,  0.85227273,  0.82954545,\n",
      "        0.83238636,  0.83238636,  0.77840909,  0.77556818,  0.79261364,\n",
      "        0.79261364,  0.77556818,  0.78693182,  0.78693182,  0.78977273,\n",
      "        0.78977273,  0.78693182,  0.78977273,  0.77840909,  0.74147727,\n",
      "        0.74715909,  0.75      ,  0.75284091,  0.75      ,  0.74431818,\n",
      "        0.75284091,  0.75852273,  0.75852273,  0.76136364,  0.74715909,\n",
      "        0.74715909,  0.84090909,  0.81818182,  0.82670455,  0.82386364,\n",
      "        0.83238636,  0.83522727,  0.82102273,  0.82954545,  0.82670455,\n",
      "        0.81818182,  0.84375   ,  0.82386364,  0.77840909,  0.77840909,\n",
      "        0.78977273,  0.78409091,  0.78693182,  0.78693182,  0.77556818,\n",
      "        0.79545455,  0.77556818,  0.79261364,  0.79261364,  0.78693182,\n",
      "        0.74147727,  0.74715909,  0.75284091,  0.75      ,  0.77840909,\n",
      "        0.73863636,  0.74715909,  0.75      ,  0.75284091,  0.75284091,\n",
      "        0.74431818,  0.74715909,  0.77556818,  0.77556818,  0.76988636,\n",
      "        0.76704545,  0.77272727,  0.75      ,  0.77272727,  0.75852273,\n",
      "        0.74147727,  0.76704545,  0.75568182,  0.76420455,  0.72159091,\n",
      "        0.71022727,  0.70170455,  0.70738636,  0.71875   ,  0.70738636,\n",
      "        0.70454545,  0.70738636,  0.71306818,  0.70454545,  0.70170455,\n",
      "        0.70454545,  0.69602273,  0.69318182,  0.69602273,  0.69602273,\n",
      "        0.69602273,  0.71306818,  0.69318182,  0.69602273,  0.69318182,\n",
      "        0.69602273,  0.69318182,  0.69318182]), 'mean_train_score': array([ 0.8270487 ,  0.81906494,  0.82363312,  0.82248377,  0.81849026,\n",
      "        0.82190909,  0.8270487 ,  0.82419156,  0.82588312,  0.82305195,\n",
      "        0.8230487 ,  0.82590584,  0.77796753,  0.77282792,  0.77852273,\n",
      "        0.78080844,  0.78082792,  0.77167208,  0.77338636,  0.77452597,\n",
      "        0.78595455,  0.77795779,  0.77395455,  0.77453896,  0.7391526 ,\n",
      "        0.74543182,  0.73971429,  0.74142532,  0.742     ,  0.73514935,\n",
      "        0.74256818,  0.74256169,  0.74427597,  0.74427273,  0.7431461 ,\n",
      "        0.73971753,  0.82361039,  0.82306494,  0.82476948,  0.82191558,\n",
      "        0.82133442,  0.82533117,  0.82249026,  0.82305195,  0.81734091,\n",
      "        0.82306494,  0.82417857,  0.82191558,  0.77396753,  0.7733961 ,\n",
      "        0.7790974 ,  0.77738961,  0.77910065,  0.77795779,  0.77454221,\n",
      "        0.77794805,  0.77568506,  0.77966558,  0.77909416,  0.77567208,\n",
      "        0.74486688,  0.74428896,  0.74199675,  0.74257143,  0.75168182,\n",
      "        0.74372727,  0.74143182,  0.74142857,  0.7448539 ,  0.74313961,\n",
      "        0.74143506,  0.73857468,  0.76368506,  0.77168506,  0.7585487 ,\n",
      "        0.76026623,  0.76768831,  0.75342857,  0.7614026 ,  0.75570455,\n",
      "        0.75743831,  0.75855195,  0.76256494,  0.76026948,  0.72203247,\n",
      "        0.71975974,  0.71405519,  0.71462013,  0.72375   ,  0.71862013,\n",
      "        0.71748052,  0.71576299,  0.72375649,  0.71862338,  0.71691234,\n",
      "        0.71405195,  0.69863312,  0.70206494,  0.70320455,  0.70206169,\n",
      "        0.7083474 ,  0.70489935,  0.70035065,  0.70149026,  0.70435065,\n",
      "        0.70091883,  0.70320779,  0.70035065]), 'std_train_score': array([ 0.01201106,  0.01013134,  0.01225867,  0.01082159,  0.00538055,\n",
      "        0.01321282,  0.009421  ,  0.0123244 ,  0.01776895,  0.00760844,\n",
      "        0.012784  ,  0.00822448,  0.00855044,  0.01005291,  0.01383008,\n",
      "        0.01575786,  0.01975301,  0.01366698,  0.01259059,  0.01342225,\n",
      "        0.0107652 ,  0.01407453,  0.01273364,  0.00981822,  0.00919871,\n",
      "        0.01691307,  0.01435412,  0.01428312,  0.01301804,  0.01500328,\n",
      "        0.01172189,  0.01501071,  0.0128939 ,  0.01344544,  0.00932111,\n",
      "        0.01151606,  0.01956974,  0.00580657,  0.01065782,  0.00986282,\n",
      "        0.01902538,  0.01621267,  0.0079107 ,  0.00951532,  0.01291578,\n",
      "        0.01356173,  0.01407868,  0.01541698,  0.00989915,  0.0063372 ,\n",
      "        0.01039627,  0.01037079,  0.00950967,  0.01234416,  0.01085422,\n",
      "        0.01275703,  0.00734037,  0.01459224,  0.01428501,  0.01305645,\n",
      "        0.01051796,  0.01490166,  0.01547912,  0.01093207,  0.01733862,\n",
      "        0.01043687,  0.01321859,  0.01340119,  0.00673319,  0.01062622,\n",
      "        0.00745302,  0.01198871,  0.0124128 ,  0.00981951,  0.01133412,\n",
      "        0.00542666,  0.00551629,  0.00785584,  0.00814541,  0.00787309,\n",
      "        0.01212246,  0.01097652,  0.00850015,  0.00340973,  0.01332666,\n",
      "        0.00521601,  0.00841354,  0.0077473 ,  0.01255701,  0.01056169,\n",
      "        0.0143638 ,  0.01167551,  0.01008074,  0.01309915,  0.01291506,\n",
      "        0.0087214 ,  0.00399866,  0.00778099,  0.00659597,  0.00547116,\n",
      "        0.00859609,  0.0076897 ,  0.00659244,  0.00453152,  0.01114661,\n",
      "        0.00605022,  0.00801958,  0.00520901])}\n",
      "BEST SCORE 0.712328767123\n",
      "BEST PARAM {'max_features': 'auto', 'min_samples_leaf': 4, 'min_samples_split': 6, 'n_estimators': 100}\n",
      "Time to run 316.24368872502237 seconds\n"
     ]
    }
   ],
   "source": [
    "start_time = time.clock()\n",
    "rfc = RandomForestClassifier() \n",
    "param_grid = { \n",
    "    'min_samples_leaf': [4, 5, 6],\n",
    "    'min_samples_split': [4, 5, 6],\n",
    "    'n_estimators': [100, 200, 500, 1000],\n",
    "    'max_features': ['auto', 'sqrt', 'log2']\n",
    "}\n",
    "CV_rfc = GridSearchCV(estimator=rfc, param_grid=param_grid, cv= 5)\n",
    "CV_rfc.fit(X_train, y_train)\n",
    "print(\"SCORES\", CV_rfc.cv_results_)\n",
    "print(\"BEST SCORE\", CV_rfc.best_score_)\n",
    "print(\"BEST PARAM\", CV_rfc.best_params_)\n",
    "print(\"Time to run\", time.clock() - start_time, \"seconds\")"
   ]
  },
  {
   "cell_type": "code",
   "execution_count": 885,
   "metadata": {},
   "outputs": [
    {
     "name": "stdout",
     "output_type": "stream",
     "text": [
      "0.698412698413\n",
      "accuracy: 0.698412698413\n",
      "             precision    recall  f1-score   support\n",
      "\n",
      "          0       0.50      0.07      0.12        57\n",
      "          1       0.71      0.97      0.82       132\n",
      "\n",
      "avg / total       0.64      0.70      0.61       189\n",
      "\n",
      "[[  4  53]\n",
      " [  4 128]]\n"
     ]
    }
   ],
   "source": [
    "from sklearn.ensemble import RandomForestClassifier\n",
    "\n",
    "clf_rf = RandomForestClassifier(max_features = 'auto', min_samples_leaf = 4, min_samples_split = 4, \n",
    "                                n_estimators=1000)\n",
    "clf_rf.fit(X_train, y_train)\n",
    "\n",
    "clf_rf_expected = y_test\n",
    "clf_rf_predicted = clf_rf.predict(X_test)\n",
    "print(clf_rf.score(X_test, y_test))\n",
    "#print(clf_rf.feature_importances_)\n",
    "\n",
    "# summarize the fit of the model\n",
    "print(\"accuracy: \" + str(metrics.accuracy_score(clf_rf_expected, clf_rf_predicted)))\n",
    "print(metrics.classification_report(clf_rf_expected, clf_rf_predicted))\n",
    "print(confusion_matrix(clf_rf_expected, clf_rf_predicted))"
   ]
  },
  {
   "cell_type": "markdown",
   "metadata": {},
   "source": [
    "#### Verify with 10-fold Cross Validation\n",
    "All 10-folds results within 3.4 percentage from its mean the model is not overfitting."
   ]
  },
  {
   "cell_type": "code",
   "execution_count": 886,
   "metadata": {},
   "outputs": [
    {
     "name": "stdout",
     "output_type": "stream",
     "text": [
      "Cross Validation Score for each K:  [ 0.73333333  0.71111111  0.68888889  0.68888889  0.72093023  0.69767442\n",
      "  0.69767442  0.69767442  0.72093023  0.74418605]\n",
      "Cross Validation Score mean:  0.710129198966\n",
      "Cross Validation Max and Min Score difference from mean score:  0.0212403100775 0.0340568475452\n"
     ]
    }
   ],
   "source": [
    "scores = cross_val_score(clf_rf, X_train, y_train, cv=10)\n",
    "print(\"Cross Validation Score for each K: \", scores)\n",
    "print(\"Cross Validation Score mean: \", scores.mean())\n",
    "print(\"Cross Validation Max and Min Score difference from mean score: \", scores.mean()-min(scores), max(scores)-scores.mean())"
   ]
  },
  {
   "cell_type": "markdown",
   "metadata": {},
   "source": [
    "### Run SVM Model using train/test "
   ]
  },
  {
   "cell_type": "markdown",
   "metadata": {},
   "source": [
    "#### Grid Search"
   ]
  },
  {
   "cell_type": "code",
   "execution_count": 852,
   "metadata": {},
   "outputs": [
    {
     "name": "stdout",
     "output_type": "stream",
     "text": [
      "SCORES {'mean_fit_time': array([ 0.02240224,  0.02400241,  0.03880391]), 'std_fit_time': array([ 0.0010198 ,  0.00303348,  0.0105726 ]), 'mean_score_time': array([ 0.00400038,  0.01080098,  0.00400043]), 'std_score_time': array([  1.78416128e-07,   1.26250947e-02,   6.32409692e-04]), 'param_C': masked_array(data = [0.0005 0.001 0.005],\n",
      "             mask = [False False False],\n",
      "       fill_value = ?)\n",
      ", 'param_gamma': masked_array(data = ['auto' 'auto' 'auto'],\n",
      "             mask = [False False False],\n",
      "       fill_value = ?)\n",
      ", 'param_kernel': masked_array(data = ['linear' 'linear' 'linear'],\n",
      "             mask = [False False False],\n",
      "       fill_value = ?)\n",
      ", 'params': [{'C': 0.0005, 'gamma': 'auto', 'kernel': 'linear'}, {'C': 0.001, 'gamma': 'auto', 'kernel': 'linear'}, {'C': 0.005, 'gamma': 'auto', 'kernel': 'linear'}], 'split0_test_score': array([ 0.69318182,  0.69318182,  0.625     ]), 'split1_test_score': array([ 0.69318182,  0.69318182,  0.68181818]), 'split2_test_score': array([ 0.69318182,  0.69318182,  0.63636364]), 'split3_test_score': array([ 0.70454545,  0.70454545,  0.65909091]), 'split4_test_score': array([ 0.69767442,  0.69767442,  0.63953488]), 'mean_test_score': array([ 0.69634703,  0.69634703,  0.64840183]), 'std_test_score': array([ 0.00445968,  0.00445968,  0.02004716]), 'rank_test_score': array([1, 1, 3]), 'split0_train_score': array([ 0.70285714,  0.70571429,  0.79142857]), 'split1_train_score': array([ 0.7       ,  0.70285714,  0.77142857]), 'split2_train_score': array([ 0.69714286,  0.7       ,  0.8       ]), 'split3_train_score': array([ 0.69714286,  0.70571429,  0.77428571]), 'split4_train_score': array([ 0.70170455,  0.70454545,  0.79545455]), 'mean_train_score': array([ 0.69976948,  0.70376623,  0.78651948]), 'std_train_score': array([ 0.00232936,  0.00215444,  0.01151572])}\n",
      "BEST SCORE 0.696347031963\n",
      "BEST PARAM {'C': 0.0005, 'gamma': 'auto', 'kernel': 'linear'}\n",
      "Time to run 8.84092027888255 seconds\n"
     ]
    }
   ],
   "source": [
    "start_time = time.clock()\n",
    "from sklearn.svm import SVC\n",
    "parameters = {'C':[0.0005, 0.001, 0.005],\n",
    "              'kernel': ['linear'],\n",
    "              'gamma': ['auto']}\n",
    "svr = SVC()\n",
    "grid_svm = GridSearchCV(svr, parameters,n_jobs=-1, cv=5)\n",
    "grid_svm.fit(X_train, y_train)\n",
    "print(\"SCORES\", grid_svm.cv_results_)\n",
    "print(\"BEST SCORE\", grid_svm.best_score_)\n",
    "print(\"BEST PARAM\", grid_svm.best_params_)\n",
    "print(\"Time to run\", time.clock() - start_time, \"seconds\")"
   ]
  },
  {
   "cell_type": "markdown",
   "metadata": {},
   "source": [
    "#### Linear SVM Model with Grid Search found Penalty Cost"
   ]
  },
  {
   "cell_type": "code",
   "execution_count": 853,
   "metadata": {},
   "outputs": [
    {
     "name": "stdout",
     "output_type": "stream",
     "text": [
      "Time to run 0.042690107991802506 seconds\n"
     ]
    }
   ],
   "source": [
    "from sklearn.svm import SVC\n",
    "start_time = time.clock()\n",
    "#standard linear SVC\n",
    "clf_SVC = SVC(kernel='linear', C=0.001, gamma='auto')\n",
    "clf_SVC.fit(X_train, y_train)\n",
    "predicted_SVC=clf_SVC.predict(X_test)\n",
    "print(\"Time to run\", time.clock() - start_time, \"seconds\")"
   ]
  },
  {
   "cell_type": "code",
   "execution_count": 854,
   "metadata": {},
   "outputs": [
    {
     "name": "stdout",
     "output_type": "stream",
     "text": [
      "             precision    recall  f1-score   support\n",
      "\n",
      "          0       1.00      0.02      0.03        57\n",
      "          1       0.70      1.00      0.82       132\n",
      "\n",
      "avg / total       0.79      0.70      0.59       189\n",
      "\n",
      "[[  1  56]\n",
      " [  0 132]]\n",
      "0.703703703704\n"
     ]
    }
   ],
   "source": [
    "# summarize the fit of the model\n",
    "clf_SVC_expected = y_test\n",
    "print(classification_report(clf_SVC_expected, predicted_SVC, target_names=['0', '1']))\n",
    "print(confusion_matrix(clf_SVC_expected, predicted_SVC))\n",
    "print(accuracy_score(clf_SVC_expected, predicted_SVC))"
   ]
  },
  {
   "cell_type": "markdown",
   "metadata": {},
   "source": [
    "#### Verify with 10-fold Cross Validation\n",
    "All 10-folds results within 4.5% from mean and this means the model is not overfitting."
   ]
  },
  {
   "cell_type": "code",
   "execution_count": 855,
   "metadata": {},
   "outputs": [
    {
     "name": "stdout",
     "output_type": "stream",
     "text": [
      "Cross Validation Score for each K:  [ 0.68888889  0.68888889  0.68888889  0.64444444  0.69767442  0.69767442\n",
      "  0.69767442  0.69767442  0.69767442  0.69767442]\n",
      "Cross Validation Score mean:  0.689715762274\n",
      "Cross Validation Max and Min Score difference from mean score:  0.0452713178295 0.00795865633075\n"
     ]
    }
   ],
   "source": [
    "scores = cross_val_score(clf_SVC, X_train, y_train, cv=10)\n",
    "print(\"Cross Validation Score for each K: \", scores)\n",
    "print(\"Cross Validation Score mean: \", scores.mean())\n",
    "print(\"Cross Validation Max and Min Score difference from mean score: \", scores.mean()-min(scores), max(scores)-scores.mean())"
   ]
  },
  {
   "attachments": {},
   "cell_type": "markdown",
   "metadata": {},
   "source": [
    "### Run Bagging Model using train/test \n",
    "Bootstrap sampling creates many random samples with replacement and combine output with voting. This reduced variance of a single learner."
   ]
  },
  {
   "cell_type": "markdown",
   "metadata": {},
   "source": [
    "#### Grid Search"
   ]
  },
  {
   "cell_type": "code",
   "execution_count": 856,
   "metadata": {},
   "outputs": [
    {
     "name": "stdout",
     "output_type": "stream",
     "text": [
      "SCORES {'mean_fit_time': array([ 0.15221539,  0.66986699,  1.35013494,  0.31763177,  0.96209626,\n",
      "        1.61636181,  0.35343537,  1.0581059 ,  1.37833781]), 'std_fit_time': array([ 0.00097988,  0.17907923,  0.05407561,  0.00300702,  0.03225228,\n",
      "        0.03522508,  0.00463077,  0.00814943,  0.13408113]), 'mean_score_time': array([ 0.00720062,  0.03000288,  0.05780587,  0.01280127,  0.03600359,\n",
      "        0.06100607,  0.01260128,  0.03560357,  0.04200425]), 'std_score_time': array([ 0.00040011,  0.00712815,  0.00116632,  0.00074848,  0.00063256,\n",
      "        0.00167346,  0.00080014,  0.00049002,  0.00864957]), 'param_max_features': masked_array(data = [30 30 30 40 40 40 50 50 50],\n",
      "             mask = [False False False False False False False False False],\n",
      "       fill_value = ?)\n",
      ", 'param_n_estimators': masked_array(data = [100 300 500 100 300 500 100 300 500],\n",
      "             mask = [False False False False False False False False False],\n",
      "       fill_value = ?)\n",
      ", 'params': [{'max_features': 30, 'n_estimators': 100}, {'max_features': 30, 'n_estimators': 300}, {'max_features': 30, 'n_estimators': 500}, {'max_features': 40, 'n_estimators': 100}, {'max_features': 40, 'n_estimators': 300}, {'max_features': 40, 'n_estimators': 500}, {'max_features': 50, 'n_estimators': 100}, {'max_features': 50, 'n_estimators': 300}, {'max_features': 50, 'n_estimators': 500}], 'split0_test_score': array([ 0.68181818,  0.69318182,  0.69318182,  0.70454545,  0.69318182,\n",
      "        0.70454545,  0.73863636,  0.68181818,  0.72727273]), 'split1_test_score': array([ 0.70454545,  0.70454545,  0.70454545,  0.70454545,  0.71590909,\n",
      "        0.70454545,  0.70454545,  0.69318182,  0.71590909]), 'split2_test_score': array([ 0.68181818,  0.73863636,  0.72727273,  0.71590909,  0.70454545,\n",
      "        0.71590909,  0.71590909,  0.70454545,  0.70454545]), 'split3_test_score': array([ 0.69318182,  0.70454545,  0.70454545,  0.69318182,  0.73863636,\n",
      "        0.71590909,  0.69318182,  0.73863636,  0.72727273]), 'split4_test_score': array([ 0.75581395,  0.74418605,  0.74418605,  0.70930233,  0.75581395,\n",
      "        0.73255814,  0.74418605,  0.72093023,  0.70930233]), 'mean_test_score': array([ 0.70319635,  0.71689498,  0.71461187,  0.70547945,  0.72146119,\n",
      "        0.71461187,  0.71917808,  0.70776256,  0.71689498]), 'std_test_score': array([ 0.02734537,  0.02038304,  0.0183555 ,  0.0074471 ,  0.02270102,\n",
      "        0.01022896,  0.0194887 ,  0.02013909,  0.00924292]), 'rank_test_score': array([9, 3, 5, 8, 1, 5, 2, 7, 3]), 'split0_train_score': array([ 1.,  1.,  1.,  1.,  1.,  1.,  1.,  1.,  1.]), 'split1_train_score': array([ 1.,  1.,  1.,  1.,  1.,  1.,  1.,  1.,  1.]), 'split2_train_score': array([ 1.,  1.,  1.,  1.,  1.,  1.,  1.,  1.,  1.]), 'split3_train_score': array([ 1.,  1.,  1.,  1.,  1.,  1.,  1.,  1.,  1.]), 'split4_train_score': array([ 1.,  1.,  1.,  1.,  1.,  1.,  1.,  1.,  1.]), 'mean_train_score': array([ 1.,  1.,  1.,  1.,  1.,  1.,  1.,  1.,  1.]), 'std_train_score': array([ 0.,  0.,  0.,  0.,  0.,  0.,  0.,  0.,  0.])}\n",
      "BEST SCORE 0.721461187215\n",
      "BEST PARAM {'max_features': 40, 'n_estimators': 300}\n",
      "Time to run 14.899083012693154 seconds\n"
     ]
    }
   ],
   "source": [
    "from sklearn.ensemble import BaggingClassifier\n",
    "start_time = time.clock()\n",
    "clf_bag = BaggingClassifier()\n",
    "parameters = {'n_estimators':[100, 300, 500], 'max_features':[30,40,50]}\n",
    "grid_svm = GridSearchCV(clf_bag, parameters, n_jobs=-1, cv=5)\n",
    "grid_svm.fit(X_train, y_train)\n",
    "print(\"SCORES\", grid_svm.cv_results_)\n",
    "print(\"BEST SCORE\", grid_svm.best_score_)\n",
    "print(\"BEST PARAM\", grid_svm.best_params_)\n",
    "print(\"Time to run\", time.clock() - start_time, \"seconds\")"
   ]
  },
  {
   "cell_type": "code",
   "execution_count": 888,
   "metadata": {},
   "outputs": [
    {
     "name": "stdout",
     "output_type": "stream",
     "text": [
      "0.693121693122\n",
      "             precision    recall  f1-score   support\n",
      "\n",
      "          0       0.43      0.05      0.09        57\n",
      "          1       0.70      0.97      0.82       132\n",
      "\n",
      "avg / total       0.62      0.69      0.60       189\n",
      "\n",
      "[[  3  54]\n",
      " [  4 128]]\n"
     ]
    }
   ],
   "source": [
    "from sklearn.ensemble import BaggingClassifier\n",
    "clf_bag = BaggingClassifier(n_estimators=300, max_features=40)\n",
    "clf_bag.fit(X_train, y_train)\n",
    "\n",
    "clf_bag_expected = y_test\n",
    "clf_bag_predicted = clf_bag.predict(X_test)\n",
    "print(accuracy_score(clf_bag_expected, clf_bag_predicted))\n",
    "\n",
    "print(classification_report(clf_bag_expected, clf_bag_predicted, target_names=['0', '1']))\n",
    "print(confusion_matrix(clf_bag_expected, clf_bag_predicted))"
   ]
  },
  {
   "cell_type": "markdown",
   "metadata": {},
   "source": [
    "#### Verify with 10-fold Cross Validation\n",
    "All 10-folds results within 3.8 percentage from mean and this means the model is not overfitting."
   ]
  },
  {
   "cell_type": "code",
   "execution_count": 889,
   "metadata": {},
   "outputs": [
    {
     "name": "stdout",
     "output_type": "stream",
     "text": [
      "Cross Validation Score for each K:  [ 0.71111111  0.71111111  0.71111111  0.71111111  0.72093023  0.76744186\n",
      "  0.69767442  0.74418605  0.74418605  0.76744186]\n",
      "Cross Validation Score mean:  0.728630490956\n",
      "Cross Validation Max and Min Score difference from mean score:  0.0309560723514 0.038811369509\n"
     ]
    }
   ],
   "source": [
    "scores = cross_val_score(clf_bag, X_train, y_train, cv=10)\n",
    "print(\"Cross Validation Score for each K: \", scores)\n",
    "print(\"Cross Validation Score mean: \", scores.mean())\n",
    "print(\"Cross Validation Max and Min Score difference from mean score: \", scores.mean()-min(scores), max(scores)-scores.mean())"
   ]
  },
  {
   "cell_type": "markdown",
   "metadata": {},
   "source": [
    "### Run Naive Bayes Model using train/test "
   ]
  },
  {
   "cell_type": "code",
   "execution_count": 859,
   "metadata": {},
   "outputs": [
    {
     "name": "stdout",
     "output_type": "stream",
     "text": [
      "GaussianNB(priors=None)\n",
      "accuracy: 0.597883597884\n",
      "             precision    recall  f1-score   support\n",
      "\n",
      "          0       0.19      0.11      0.14        57\n",
      "          1       0.68      0.81      0.74       132\n",
      "\n",
      "avg / total       0.53      0.60      0.56       189\n",
      "\n",
      "[[  6  51]\n",
      " [ 25 107]]\n"
     ]
    }
   ],
   "source": [
    "# Gaussian Naive Bayes\n",
    "from sklearn.naive_bayes import GaussianNB\n",
    "\n",
    "# fit a Naive Bayes model to the data\n",
    "clf_nb = GaussianNB()\n",
    "print(clf_nb)\n",
    "clf_nb.fit(X_train, y_train)\n",
    "\n",
    "# make predictions\n",
    "clf_nb_expected = y_test\n",
    "clf_nb_predicted = clf_nb.predict(X_test)\n",
    "\n",
    "# summarize the fit of the model\n",
    "print(\"accuracy: \" + str(metrics.accuracy_score(clf_nb_expected, clf_nb_predicted)))\n",
    "print(metrics.classification_report(clf_nb_expected, clf_nb_predicted))\n",
    "print(confusion_matrix(clf_nb_expected, clf_nb_predicted))"
   ]
  },
  {
   "cell_type": "markdown",
   "metadata": {},
   "source": [
    "#### Verify with 10-fold Cross Validation\n",
    "All 10-folds results within 14.6 percentage from mean and this means the model is overfitting."
   ]
  },
  {
   "cell_type": "code",
   "execution_count": 860,
   "metadata": {},
   "outputs": [
    {
     "name": "stdout",
     "output_type": "stream",
     "text": [
      "Cross Validation Score for each K:  [ 0.6         0.6         0.68888889  0.55555556  0.65116279  0.72093023\n",
      "  0.55813953  0.6744186   0.46511628  0.60465116]\n",
      "Cross Validation Score mean:  0.61188630491\n",
      "Cross Validation Max and Min Score difference from mean score:  0.14677002584 0.109043927649\n"
     ]
    }
   ],
   "source": [
    "scores = cross_val_score(clf_nb, X_train, y_train, cv=10)\n",
    "print(\"Cross Validation Score for each K: \", scores)\n",
    "print(\"Cross Validation Score mean: \", scores.mean())\n",
    "print(\"Cross Validation Max and Min Score difference from mean score: \", scores.mean()-min(scores), max(scores)-scores.mean())"
   ]
  },
  {
   "cell_type": "markdown",
   "metadata": {},
   "source": [
    "### Run AdaBoosting Model using train/test \n",
    "We can use Boosting on Naive Bayes to reduce overfitting.  Boosting reweights training data that previous learner did not do well, and can produce good result from many unstable learners. "
   ]
  },
  {
   "cell_type": "markdown",
   "metadata": {},
   "source": [
    "#### Grid Search"
   ]
  },
  {
   "cell_type": "code",
   "execution_count": 932,
   "metadata": {},
   "outputs": [
    {
     "name": "stdout",
     "output_type": "stream",
     "text": [
      "SCORES {'mean_fit_time': array([ 0.86160002,  3.16499996,  8.56620007,  1.28439999,  1.64139986,\n",
      "        3.64999995,  2.7894001 ,  3.99959998,  2.25439997]), 'std_fit_time': array([ 0.05247713,  3.64563806,  3.38757135,  0.04737341,  0.08012888,\n",
      "        3.43624422,  1.88667804,  3.28242282,  0.98712834]), 'mean_score_time': array([ 0.05459995,  0.40799999,  1.46499996,  0.25339999,  0.39400005,\n",
      "        1.51660004,  0.78719997,  0.3836    ,  0.12379994]), 'std_score_time': array([ 0.01040389,  0.60883757,  0.66483829,  0.20806211,  0.27237543,\n",
      "        2.02120488,  0.95534553,  0.33814882,  0.04047914]), 'param_learning_rate': masked_array(data = [0.003 0.003 0.003 0.005 0.005 0.005 0.007 0.007 0.007],\n",
      "             mask = [False False False False False False False False False],\n",
      "       fill_value = ?)\n",
      ", 'param_n_estimators': masked_array(data = [700 850 1000 700 850 1000 700 850 1000],\n",
      "             mask = [False False False False False False False False False],\n",
      "       fill_value = ?)\n",
      ", 'params': [{'learning_rate': 0.003, 'n_estimators': 700}, {'learning_rate': 0.003, 'n_estimators': 850}, {'learning_rate': 0.003, 'n_estimators': 1000}, {'learning_rate': 0.005, 'n_estimators': 700}, {'learning_rate': 0.005, 'n_estimators': 850}, {'learning_rate': 0.005, 'n_estimators': 1000}, {'learning_rate': 0.007, 'n_estimators': 700}, {'learning_rate': 0.007, 'n_estimators': 850}, {'learning_rate': 0.007, 'n_estimators': 1000}], 'split0_test_score': array([ 0.69318182,  0.69318182,  0.69318182,  0.69318182,  0.69318182,\n",
      "        0.69318182,  0.69318182,  0.70454545,  0.65909091]), 'split1_test_score': array([ 0.67045455,  0.67045455,  0.67045455,  0.65909091,  0.65909091,\n",
      "        0.64772727,  0.64772727,  0.63636364,  0.60227273]), 'split2_test_score': array([ 0.69318182,  0.69318182,  0.70454545,  0.69318182,  0.69318182,\n",
      "        0.65909091,  0.64772727,  0.63636364,  0.63636364]), 'split3_test_score': array([ 0.68181818,  0.65909091,  0.65909091,  0.63636364,  0.63636364,\n",
      "        0.625     ,  0.625     ,  0.60227273,  0.59090909]), 'split4_test_score': array([ 0.6744186 ,  0.6744186 ,  0.6744186 ,  0.6744186 ,  0.6744186 ,\n",
      "        0.6627907 ,  0.6627907 ,  0.6744186 ,  0.70930233]), 'mean_test_score': array([ 0.6826484 ,  0.67808219,  0.6803653 ,  0.67123288,  0.67123288,\n",
      "        0.65753425,  0.65525114,  0.65068493,  0.63926941]), 'std_test_score': array([ 0.00937521,  0.01335679,  0.01637326,  0.02166745,  0.02166745,\n",
      "        0.02220828,  0.02251292,  0.03530925,  0.0422909 ]), 'rank_test_score': array([1, 3, 2, 4, 4, 6, 7, 8, 9]), 'split0_train_score': array([ 0.68571429,  0.68285714,  0.68571429,  0.68571429,  0.68285714,\n",
      "        0.68571429,  0.68571429,  0.68      ,  0.69428571]), 'split1_train_score': array([ 0.68857143,  0.69142857,  0.68571429,  0.68      ,  0.68571429,\n",
      "        0.69714286,  0.69142857,  0.7       ,  0.70857143]), 'split2_train_score': array([ 0.68571429,  0.68571429,  0.68285714,  0.68      ,  0.68      ,\n",
      "        0.73142857,  0.71714286,  0.72571429,  0.73142857]), 'split3_train_score': array([ 0.70285714,  0.72571429,  0.74      ,  0.74      ,  0.75142857,\n",
      "        0.78      ,  0.77142857,  0.78      ,  0.79428571]), 'split4_train_score': array([ 0.6875    ,  0.6875    ,  0.6875    ,  0.68465909,  0.67897727,\n",
      "        0.68465909,  0.68181818,  0.68465909,  0.71022727]), 'mean_train_score': array([ 0.69007143,  0.69464286,  0.69635714,  0.69407468,  0.69579545,\n",
      "        0.71578896,  0.70950649,  0.71407468,  0.72775974]), 'std_train_score': array([ 0.00648546,  0.01578232,  0.02187208,  0.02308193,  0.02791566,\n",
      "        0.0363012 ,  0.03332321,  0.03662263,  0.03531361])}\n",
      "BEST SCORE 0.682648401826\n",
      "BEST PARAM {'learning_rate': 0.003, 'n_estimators': 700}\n",
      "Time to run 36.97404160221049 seconds\n"
     ]
    }
   ],
   "source": [
    "from sklearn.naive_bayes import MultinomialNB\n",
    "from sklearn.ensemble import AdaBoostClassifier\n",
    "\n",
    "start_time = time.clock()\n",
    "clf_boost = AdaBoostClassifier(base_estimator=MultinomialNB(), algorithm=\"SAMME\")\n",
    "\n",
    "parameters = {'n_estimators':[700, 850, 1000],\n",
    "              'learning_rate':[0.003, 0.005, 0.007]}\n",
    "grid_boost = GridSearchCV(clf_boost, parameters, n_jobs=-1, cv=5)\n",
    "grid_boost.fit(X_train, y_train)\n",
    "print(\"SCORES\", grid_boost.cv_results_)\n",
    "print(\"BEST SCORE\", grid_boost.best_score_)\n",
    "print(\"BEST PARAM\", grid_boost.best_params_)\n",
    "print(\"Time to run\", time.clock() - start_time, \"seconds\")"
   ]
  },
  {
   "cell_type": "code",
   "execution_count": 940,
   "metadata": {},
   "outputs": [
    {
     "name": "stdout",
     "output_type": "stream",
     "text": [
      "0.68253968254\n",
      "             precision    recall  f1-score   support\n",
      "\n",
      "          0       0.00      0.00      0.00        57\n",
      "          1       0.69      0.98      0.81       132\n",
      "\n",
      "avg / total       0.48      0.68      0.57       189\n",
      "\n",
      "[[  0  57]\n",
      " [  3 129]]\n"
     ]
    }
   ],
   "source": [
    "clf_boost = AdaBoostClassifier(base_estimator=MultinomialNB(),\n",
    "                         algorithm=\"SAMME\",      \n",
    "                         n_estimators=700, \n",
    "                         learning_rate=0.003)\n",
    "\n",
    "clf_boost.fit(X_train, y_train)\n",
    "\n",
    "clf_boost_expected = y_test\n",
    "clf_boost_predicted = clf_boost.predict(X_test)\n",
    "\n",
    "print(accuracy_score(clf_boost_expected, clf_boost_predicted))\n",
    "print(classification_report(clf_boost_expected, clf_boost_predicted, target_names=['0', '1']))\n",
    "print(confusion_matrix(clf_boost_expected, clf_boost_predicted))"
   ]
  },
  {
   "cell_type": "markdown",
   "metadata": {},
   "source": [
    "#### Verify with 10-fold Cross Validation\n",
    "All 10-folds results within 3.5% from mean and this means the model does not overfit."
   ]
  },
  {
   "cell_type": "code",
   "execution_count": 941,
   "metadata": {},
   "outputs": [
    {
     "name": "stdout",
     "output_type": "stream",
     "text": [
      "Cross Validation Score for each K:  [ 0.68888889  0.68888889  0.64444444  0.68888889  0.69767442  0.69767442\n",
      "  0.6744186   0.6744186   0.69767442  0.65116279]\n",
      "Cross Validation Score mean:  0.680413436693\n",
      "Cross Validation Max and Min Score difference from mean score:  0.0359689922481 0.0172609819121\n"
     ]
    }
   ],
   "source": [
    "scores = cross_val_score(clf_boost, X_train, y_train, cv=10)\n",
    "print(\"Cross Validation Score for each K: \", scores)\n",
    "print(\"Cross Validation Score mean: \", scores.mean())\n",
    "print(\"Cross Validation Max and Min Score difference from mean score: \", scores.mean()-min(scores), max(scores)-scores.mean())"
   ]
  },
  {
   "cell_type": "markdown",
   "metadata": {},
   "source": [
    "### Run Extra Tree Model using train/test "
   ]
  },
  {
   "cell_type": "markdown",
   "metadata": {},
   "source": [
    "#### Grid  Search"
   ]
  },
  {
   "cell_type": "code",
   "execution_count": 864,
   "metadata": {},
   "outputs": [
    {
     "name": "stdout",
     "output_type": "stream",
     "text": [
      "SCORES {'mean_fit_time': array([ 0.1150115 ,  0.329633  ,  0.54965491,  0.11081109,  0.3296329 ,\n",
      "        0.54765472,  0.11101117,  0.32923293,  0.54765482]), 'std_fit_time': array([ 0.00802579,  0.00185488,  0.00372066,  0.00097973,  0.00149682,\n",
      "        0.00307276,  0.00126505,  0.00116626,  0.00382663]), 'mean_score_time': array([ 0.00600066,  0.01740184,  0.02820282,  0.00600057,  0.01720166,\n",
      "        0.02780275,  0.00600057,  0.01660166,  0.02780271]), 'std_score_time': array([  1.16800773e-07,   4.90057117e-04,   4.00042545e-04,\n",
      "         1.78416128e-07,   3.99947177e-04,   3.99971008e-04,\n",
      "         9.53674316e-08,   4.89862488e-04,   4.00066376e-04]), 'param_max_depth': masked_array(data = [50 50 50 100 100 100 200 200 200],\n",
      "             mask = [False False False False False False False False False],\n",
      "       fill_value = ?)\n",
      ", 'param_min_samples_leaf': masked_array(data = [4 4 4 4 4 4 4 4 4],\n",
      "             mask = [False False False False False False False False False],\n",
      "       fill_value = ?)\n",
      ", 'param_min_samples_split': masked_array(data = [5 5 5 5 5 5 5 5 5],\n",
      "             mask = [False False False False False False False False False],\n",
      "       fill_value = ?)\n",
      ", 'param_n_estimators': masked_array(data = [100 300 500 100 300 500 100 300 500],\n",
      "             mask = [False False False False False False False False False],\n",
      "       fill_value = ?)\n",
      ", 'params': [{'max_depth': 50, 'min_samples_leaf': 4, 'min_samples_split': 5, 'n_estimators': 100}, {'max_depth': 50, 'min_samples_leaf': 4, 'min_samples_split': 5, 'n_estimators': 300}, {'max_depth': 50, 'min_samples_leaf': 4, 'min_samples_split': 5, 'n_estimators': 500}, {'max_depth': 100, 'min_samples_leaf': 4, 'min_samples_split': 5, 'n_estimators': 100}, {'max_depth': 100, 'min_samples_leaf': 4, 'min_samples_split': 5, 'n_estimators': 300}, {'max_depth': 100, 'min_samples_leaf': 4, 'min_samples_split': 5, 'n_estimators': 500}, {'max_depth': 200, 'min_samples_leaf': 4, 'min_samples_split': 5, 'n_estimators': 100}, {'max_depth': 200, 'min_samples_leaf': 4, 'min_samples_split': 5, 'n_estimators': 300}, {'max_depth': 200, 'min_samples_leaf': 4, 'min_samples_split': 5, 'n_estimators': 500}], 'split0_test_score': array([ 0.70454545,  0.70454545,  0.68181818,  0.67045455,  0.70454545,\n",
      "        0.69318182,  0.70454545,  0.69318182,  0.69318182]), 'split1_test_score': array([ 0.68181818,  0.68181818,  0.68181818,  0.68181818,  0.68181818,\n",
      "        0.68181818,  0.69318182,  0.68181818,  0.69318182]), 'split2_test_score': array([ 0.67045455,  0.68181818,  0.68181818,  0.68181818,  0.67045455,\n",
      "        0.68181818,  0.69318182,  0.69318182,  0.69318182]), 'split3_test_score': array([ 0.69318182,  0.68181818,  0.68181818,  0.68181818,  0.68181818,\n",
      "        0.68181818,  0.68181818,  0.68181818,  0.68181818]), 'split4_test_score': array([ 0.70930233,  0.72093023,  0.72093023,  0.72093023,  0.72093023,\n",
      "        0.72093023,  0.73255814,  0.70930233,  0.73255814]), 'mean_test_score': array([ 0.69178082,  0.69406393,  0.68949772,  0.68721461,  0.69178082,\n",
      "        0.69178082,  0.70091324,  0.69178082,  0.69863014]), 'std_test_score': array([ 0.01430833,  0.01594307,  0.01553664,  0.01723906,  0.01818873,\n",
      "        0.01506826,  0.01722059,  0.01004743,  0.01734057]), 'rank_test_score': array([4, 3, 8, 9, 4, 4, 1, 4, 2]), 'split0_train_score': array([ 0.86285714,  0.85428571,  0.85428571,  0.85714286,  0.85142857,\n",
      "        0.85428571,  0.86      ,  0.85714286,  0.85142857]), 'split1_train_score': array([ 0.82571429,  0.82857143,  0.82285714,  0.82      ,  0.83428571,\n",
      "        0.82857143,  0.83142857,  0.83142857,  0.83142857]), 'split2_train_score': array([ 0.84857143,  0.86571429,  0.85714286,  0.86571429,  0.86857143,\n",
      "        0.85714286,  0.86      ,  0.85714286,  0.86285714]), 'split3_train_score': array([ 0.83428571,  0.83142857,  0.84571429,  0.84285714,  0.84285714,\n",
      "        0.83714286,  0.84285714,  0.84571429,  0.84      ]), 'split4_train_score': array([ 0.85795455,  0.86363636,  0.86363636,  0.85227273,  0.85795455,\n",
      "        0.86363636,  0.85795455,  0.86363636,  0.85511364]), 'mean_train_score': array([ 0.84587662,  0.84872727,  0.84872727,  0.8475974 ,  0.85101948,\n",
      "        0.84815584,  0.85044805,  0.85101299,  0.84816558]), 'std_train_score': array([ 0.01401674,  0.01579392,  0.01415868,  0.01565428,  0.01185729,\n",
      "        0.01313639,  0.01147336,  0.01136772,  0.01114961])}\n",
      "BEST SCORE 0.700913242009\n",
      "BEST PARAM {'max_depth': 200, 'min_samples_leaf': 4, 'min_samples_split': 5, 'n_estimators': 100}\n",
      "Time to run 16.91920233797282 seconds\n"
     ]
    }
   ],
   "source": [
    "from sklearn.ensemble import ExtraTreesClassifier\n",
    "start_time = time.clock()\n",
    "clf_xdt = ExtraTreesClassifier()\n",
    "param_grid = { \n",
    "    'n_estimators': [100, 300, 500],\n",
    "    'max_depth': [50, 100, 200],\n",
    "    'min_samples_leaf': [4],\n",
    "    'min_samples_split' : [5]\n",
    "}\n",
    "clf_xdt = GridSearchCV(estimator=clf_xdt, param_grid=param_grid, cv= 5)\n",
    "clf_xdt.fit(X_train, y_train)\n",
    "print(\"SCORES\", clf_xdt.cv_results_)\n",
    "print(\"BEST SCORE\", clf_xdt.best_score_)\n",
    "print(\"BEST PARAM\", clf_xdt.best_params_)\n",
    "print(\"Time to run\", time.clock() - start_time, \"seconds\")"
   ]
  },
  {
   "cell_type": "markdown",
   "metadata": {},
   "source": [
    "#### Grid Search 2"
   ]
  },
  {
   "cell_type": "code",
   "execution_count": 865,
   "metadata": {},
   "outputs": [
    {
     "name": "stdout",
     "output_type": "stream",
     "text": [
      "SCORES {'mean_fit_time': array([ 0.11741161,  0.11101108,  0.10741076,  0.10801077,  0.10441041,\n",
      "        0.10401044,  0.11361141,  0.1138113 ,  0.10961089,  0.10981097,\n",
      "        0.10541039,  0.10541034]), 'std_fit_time': array([ 0.00906951,  0.00154954,  0.00101989,  0.00109567,  0.00048998,\n",
      "        0.00089452,  0.00120006,  0.00146978,  0.00135665,  0.00172057,\n",
      "        0.00101991,  0.00120012]), 'mean_score_time': array([ 0.00700073,  0.00600057,  0.00720067,  0.00600061,  0.00580058,\n",
      "        0.00600052,  0.00600047,  0.0062007 ,  0.00560055,  0.00580063,\n",
      "        0.0056006 ,  0.00600076]), 'std_score_time': array([  2.00018883e-03,   1.78416128e-07,   1.93930027e-03,\n",
      "         6.32409703e-04,   4.00114074e-04,   1.50789149e-07,\n",
      "         9.53674316e-08,   4.00114074e-04,   4.90057117e-04,\n",
      "         4.00137912e-04,   4.89901382e-04,   0.00000000e+00]), 'param_criterion': masked_array(data = ['gini' 'gini' 'gini' 'gini' 'gini' 'gini' 'entropy' 'entropy' 'entropy'\n",
      " 'entropy' 'entropy' 'entropy'],\n",
      "             mask = [False False False False False False False False False False False False],\n",
      "       fill_value = ?)\n",
      ", 'param_max_depth': masked_array(data = [50 50 50 50 50 50 50 50 50 50 50 50],\n",
      "             mask = [False False False False False False False False False False False False],\n",
      "       fill_value = ?)\n",
      ", 'param_min_samples_leaf': masked_array(data = [4 4 5 5 6 6 4 4 5 5 6 6],\n",
      "             mask = [False False False False False False False False False False False False],\n",
      "       fill_value = ?)\n",
      ", 'param_min_samples_split': masked_array(data = [5 10 5 10 5 10 5 10 5 10 5 10],\n",
      "             mask = [False False False False False False False False False False False False],\n",
      "       fill_value = ?)\n",
      ", 'param_n_estimators': masked_array(data = [100 100 100 100 100 100 100 100 100 100 100 100],\n",
      "             mask = [False False False False False False False False False False False False],\n",
      "       fill_value = ?)\n",
      ", 'params': [{'criterion': 'gini', 'max_depth': 50, 'min_samples_leaf': 4, 'min_samples_split': 5, 'n_estimators': 100}, {'criterion': 'gini', 'max_depth': 50, 'min_samples_leaf': 4, 'min_samples_split': 10, 'n_estimators': 100}, {'criterion': 'gini', 'max_depth': 50, 'min_samples_leaf': 5, 'min_samples_split': 5, 'n_estimators': 100}, {'criterion': 'gini', 'max_depth': 50, 'min_samples_leaf': 5, 'min_samples_split': 10, 'n_estimators': 100}, {'criterion': 'gini', 'max_depth': 50, 'min_samples_leaf': 6, 'min_samples_split': 5, 'n_estimators': 100}, {'criterion': 'gini', 'max_depth': 50, 'min_samples_leaf': 6, 'min_samples_split': 10, 'n_estimators': 100}, {'criterion': 'entropy', 'max_depth': 50, 'min_samples_leaf': 4, 'min_samples_split': 5, 'n_estimators': 100}, {'criterion': 'entropy', 'max_depth': 50, 'min_samples_leaf': 4, 'min_samples_split': 10, 'n_estimators': 100}, {'criterion': 'entropy', 'max_depth': 50, 'min_samples_leaf': 5, 'min_samples_split': 5, 'n_estimators': 100}, {'criterion': 'entropy', 'max_depth': 50, 'min_samples_leaf': 5, 'min_samples_split': 10, 'n_estimators': 100}, {'criterion': 'entropy', 'max_depth': 50, 'min_samples_leaf': 6, 'min_samples_split': 5, 'n_estimators': 100}, {'criterion': 'entropy', 'max_depth': 50, 'min_samples_leaf': 6, 'min_samples_split': 10, 'n_estimators': 100}], 'split0_test_score': array([ 0.71590909,  0.69318182,  0.69318182,  0.70454545,  0.70454545,\n",
      "        0.69318182,  0.69318182,  0.67045455,  0.68181818,  0.69318182,\n",
      "        0.70454545,  0.69318182]), 'split1_test_score': array([ 0.69318182,  0.69318182,  0.68181818,  0.69318182,  0.69318182,\n",
      "        0.69318182,  0.69318182,  0.69318182,  0.68181818,  0.69318182,\n",
      "        0.69318182,  0.69318182]), 'split2_test_score': array([ 0.70454545,  0.70454545,  0.68181818,  0.68181818,  0.69318182,\n",
      "        0.69318182,  0.68181818,  0.68181818,  0.68181818,  0.67045455,\n",
      "        0.69318182,  0.68181818]), 'split3_test_score': array([ 0.68181818,  0.68181818,  0.68181818,  0.68181818,  0.69318182,\n",
      "        0.69318182,  0.68181818,  0.68181818,  0.68181818,  0.68181818,\n",
      "        0.69318182,  0.69318182]), 'split4_test_score': array([ 0.73255814,  0.72093023,  0.70930233,  0.69767442,  0.69767442,\n",
      "        0.69767442,  0.70930233,  0.69767442,  0.72093023,  0.68604651,\n",
      "        0.68604651,  0.69767442]), 'mean_test_score': array([ 0.70547945,  0.69863014,  0.68949772,  0.69178082,  0.69634703,\n",
      "        0.69406393,  0.69178082,  0.68493151,  0.68949772,  0.68493151,\n",
      "        0.69406393,  0.69178082]), 'std_test_score': array([ 0.01757468,  0.01316764,  0.0107371 ,  0.00893495,  0.00445968,\n",
      "        0.00178461,  0.01004743,  0.00956878,  0.01553664,  0.00846468,\n",
      "        0.00592982,  0.00528626]), 'rank_test_score': array([ 1,  2,  9,  6,  3,  4,  6, 11, 10, 11,  4,  6]), 'split0_train_score': array([ 0.85142857,  0.84571429,  0.76857143,  0.78      ,  0.72571429,\n",
      "        0.72571429,  0.86285714,  0.86285714,  0.78      ,  0.77142857,\n",
      "        0.73428571,  0.72      ]), 'split1_train_score': array([ 0.82571429,  0.82571429,  0.77714286,  0.78857143,  0.74571429,\n",
      "        0.74857143,  0.85428571,  0.84571429,  0.77714286,  0.78285714,\n",
      "        0.74857143,  0.72857143]), 'split2_train_score': array([ 0.88      ,  0.86285714,  0.78285714,  0.77428571,  0.73142857,\n",
      "        0.74      ,  0.88      ,  0.88      ,  0.79714286,  0.78857143,\n",
      "        0.74285714,  0.75142857]), 'split3_train_score': array([ 0.84857143,  0.83714286,  0.77428571,  0.76285714,  0.72571429,\n",
      "        0.73142857,  0.86285714,  0.85142857,  0.76857143,  0.77428571,\n",
      "        0.72      ,  0.72571429]), 'split4_train_score': array([ 0.86647727,  0.86363636,  0.77556818,  0.77272727,  0.73295455,\n",
      "        0.72443182,  0.875     ,  0.87215909,  0.77840909,  0.79545455,\n",
      "        0.73579545,  0.73579545]), 'mean_train_score': array([ 0.85443831,  0.84701299,  0.77568506,  0.77568831,  0.73230519,\n",
      "        0.73402922,  0.867     ,  0.86243182,  0.78025325,  0.78251948,\n",
      "        0.73630195,  0.73230195]), 'std_train_score': array([ 0.01825861,  0.01469772,  0.00460738,  0.00848457,  0.00731948,\n",
      "        0.00911194,  0.00926261,  0.01268061,  0.00932591,  0.00888661,\n",
      "        0.00962898,  0.01083221])}\n",
      "BEST SCORE 0.705479452055\n",
      "BEST PARAM {'criterion': 'gini', 'max_depth': 50, 'min_samples_leaf': 4, 'min_samples_split': 5, 'n_estimators': 100}\n",
      "Time to run 7.6114898138766875 seconds\n"
     ]
    }
   ],
   "source": [
    "from sklearn.ensemble import ExtraTreesClassifier\n",
    "start_time = time.clock()\n",
    "clf_xdt = ExtraTreesClassifier()\n",
    "param_grid = { \n",
    "    'n_estimators': [100],\n",
    "    'max_depth': [50],\n",
    "    'min_samples_leaf': [4, 5, 6],\n",
    "    'min_samples_split' : [5, 10],\n",
    "    'criterion' : ['gini','entropy']\n",
    "}\n",
    "clf_xdt = GridSearchCV(estimator=clf_xdt, param_grid=param_grid, cv= 5)\n",
    "clf_xdt.fit(X_train, y_train)\n",
    "print(\"SCORES\", clf_xdt.cv_results_)\n",
    "print(\"BEST SCORE\", clf_xdt.best_score_)\n",
    "print(\"BEST PARAM\", clf_xdt.best_params_)\n",
    "print(\"Time to run\", time.clock() - start_time, \"seconds\")"
   ]
  },
  {
   "cell_type": "code",
   "execution_count": 866,
   "metadata": {},
   "outputs": [
    {
     "name": "stdout",
     "output_type": "stream",
     "text": [
      "Extra Trees 0.693121693122\n",
      "             precision    recall  f1-score   support\n",
      "\n",
      "          0       0.40      0.04      0.06        57\n",
      "          1       0.70      0.98      0.82       132\n",
      "\n",
      "avg / total       0.61      0.69      0.59       189\n",
      "\n",
      "[[  2  55]\n",
      " [  3 129]]\n"
     ]
    }
   ],
   "source": [
    "clf_xdt = ExtraTreesClassifier(criterion = 'gini', max_depth=50,\n",
    "                               n_estimators=100, \n",
    "                               min_samples_split=10, \n",
    "                               min_samples_leaf=5)\n",
    "clf_xdt.fit(X_train,y_train)\n",
    "\n",
    "clf_xdt_expected = y_test\n",
    "clf_xdt_predicted = clf_xdt.predict(X_test)\n",
    "\n",
    "print(\"Extra Trees\", accuracy_score(clf_xdt_expected, clf_xdt_predicted))\n",
    "print(classification_report(clf_xdt_expected, clf_xdt_predicted,target_names=['0', '1']))\n",
    "print(confusion_matrix(clf_xdt_expected, clf_xdt_predicted))"
   ]
  },
  {
   "cell_type": "markdown",
   "metadata": {},
   "source": [
    "#### Verify with 10-fold Cross Validation\n",
    "All 10-folds results within 4.5% from mean and this means the model is not overfitting."
   ]
  },
  {
   "cell_type": "code",
   "execution_count": 867,
   "metadata": {},
   "outputs": [
    {
     "name": "stdout",
     "output_type": "stream",
     "text": [
      "Cross Validation Score for each K:  [ 0.71111111  0.68888889  0.68888889  0.68888889  0.69767442  0.69767442\n",
      "  0.69767442  0.6744186   0.69767442  0.74418605]\n",
      "Cross Validation Score mean:  0.698708010336\n",
      "Cross Validation Max and Min Score difference from mean score:  0.0242894056848 0.0454780361757\n"
     ]
    }
   ],
   "source": [
    "scores = cross_val_score(clf_xdt, X_train, y_train, cv=10)\n",
    "print(\"Cross Validation Score for each K: \", scores)\n",
    "print(\"Cross Validation Score mean: \", scores.mean())\n",
    "print(\"Cross Validation Max and Min Score difference from mean score: \", scores.mean()-min(scores), max(scores)-scores.mean())"
   ]
  },
  {
   "cell_type": "markdown",
   "metadata": {},
   "source": [
    "### Run Gradient Boosting Model using train/test "
   ]
  },
  {
   "cell_type": "markdown",
   "metadata": {},
   "source": [
    "#### Grid Search"
   ]
  },
  {
   "cell_type": "code",
   "execution_count": 868,
   "metadata": {},
   "outputs": [
    {
     "name": "stdout",
     "output_type": "stream",
     "text": [
      "SCORES {'mean_fit_time': array([ 2.01160131,  3.98359833,  4.2956295 ,  4.14941483,  3.46214614,\n",
      "        4.06300626,  3.7927793 ,  4.23722367,  3.48634868,  3.55915589,\n",
      "        3.33253331,  2.78687873]), 'std_fit_time': array([ 0.030803  ,  0.62769582,  0.121834  ,  0.12762624,  0.02715714,\n",
      "        0.13325676,  0.09416803,  0.70794974,  0.0838224 ,  0.03880278,\n",
      "        0.13294702,  0.12226868]), 'mean_score_time': array([ 0.00240016,  0.00400038,  0.00380039,  0.00360036,  0.00360041,\n",
      "        0.00360041,  0.00380034,  0.00380044,  0.00400043,  0.00340028,\n",
      "        0.00340028,  0.00260024]), 'std_score_time': array([  4.89979242e-04,   1.78416128e-07,   4.00066404e-04,\n",
      "         4.89979265e-04,   4.90115523e-04,   4.90018230e-04,\n",
      "         4.00042545e-04,   4.00090257e-04,   2.13248060e-07,\n",
      "         4.89920847e-04,   4.89823515e-04,   7.99977784e-04]), 'param_learning_rate': masked_array(data = [0.06 0.06 0.06 0.06 0.07 0.07 0.07 0.07 0.08 0.08 0.08 0.08],\n",
      "             mask = [False False False False False False False False False False False False],\n",
      "       fill_value = ?)\n",
      ", 'param_max_depth': masked_array(data = [4 5 6 7 4 5 6 7 4 5 6 7],\n",
      "             mask = [False False False False False False False False False False False False],\n",
      "       fill_value = ?)\n",
      ", 'param_n_estimators': masked_array(data = [1000 1000 1000 1000 1000 1000 1000 1000 1000 1000 1000 1000],\n",
      "             mask = [False False False False False False False False False False False False],\n",
      "       fill_value = ?)\n",
      ", 'params': [{'learning_rate': 0.06, 'max_depth': 4, 'n_estimators': 1000}, {'learning_rate': 0.06, 'max_depth': 5, 'n_estimators': 1000}, {'learning_rate': 0.06, 'max_depth': 6, 'n_estimators': 1000}, {'learning_rate': 0.06, 'max_depth': 7, 'n_estimators': 1000}, {'learning_rate': 0.07, 'max_depth': 4, 'n_estimators': 1000}, {'learning_rate': 0.07, 'max_depth': 5, 'n_estimators': 1000}, {'learning_rate': 0.07, 'max_depth': 6, 'n_estimators': 1000}, {'learning_rate': 0.07, 'max_depth': 7, 'n_estimators': 1000}, {'learning_rate': 0.08, 'max_depth': 4, 'n_estimators': 1000}, {'learning_rate': 0.08, 'max_depth': 5, 'n_estimators': 1000}, {'learning_rate': 0.08, 'max_depth': 6, 'n_estimators': 1000}, {'learning_rate': 0.08, 'max_depth': 7, 'n_estimators': 1000}], 'split0_test_score': array([ 0.71590909,  0.71590909,  0.69318182,  0.69318182,  0.73863636,\n",
      "        0.72727273,  0.70454545,  0.67045455,  0.70454545,  0.70454545,\n",
      "        0.68181818,  0.67045455]), 'split1_test_score': array([ 0.76136364,  0.77272727,  0.75      ,  0.72727273,  0.73863636,\n",
      "        0.75      ,  0.73863636,  0.76136364,  0.76136364,  0.73863636,\n",
      "        0.71590909,  0.70454545]), 'split2_test_score': array([ 0.70454545,  0.70454545,  0.69318182,  0.68181818,  0.68181818,\n",
      "        0.68181818,  0.70454545,  0.70454545,  0.67045455,  0.68181818,\n",
      "        0.65909091,  0.70454545]), 'split3_test_score': array([ 0.69318182,  0.72727273,  0.69318182,  0.68181818,  0.72727273,\n",
      "        0.69318182,  0.64772727,  0.69318182,  0.72727273,  0.69318182,\n",
      "        0.67045455,  0.68181818]), 'split4_test_score': array([ 0.75581395,  0.75581395,  0.73255814,  0.74418605,  0.75581395,\n",
      "        0.74418605,  0.73255814,  0.74418605,  0.75581395,  0.75581395,\n",
      "        0.75581395,  0.75581395]), 'mean_test_score': array([ 0.7260274 ,  0.73515982,  0.71232877,  0.70547945,  0.7283105 ,\n",
      "        0.71917808,  0.70547945,  0.71461187,  0.72374429,  0.71461187,\n",
      "        0.69634703,  0.70319635]), 'std_test_score': array([ 0.02747934,  0.02534897,  0.0242165 ,  0.02539566,  0.02501732,\n",
      "        0.02725859,  0.03217626,  0.03339544,  0.03366572,  0.02789227,\n",
      "        0.03503152,  0.02918128]), 'rank_test_score': array([ 3,  1,  8,  9,  2,  5,  9,  6,  4,  6, 12, 11]), 'split0_train_score': array([ 1.,  1.,  1.,  1.,  1.,  1.,  1.,  1.,  1.,  1.,  1.,  1.]), 'split1_train_score': array([ 1.,  1.,  1.,  1.,  1.,  1.,  1.,  1.,  1.,  1.,  1.,  1.]), 'split2_train_score': array([ 1.,  1.,  1.,  1.,  1.,  1.,  1.,  1.,  1.,  1.,  1.,  1.]), 'split3_train_score': array([ 1.,  1.,  1.,  1.,  1.,  1.,  1.,  1.,  1.,  1.,  1.,  1.]), 'split4_train_score': array([ 1.,  1.,  1.,  1.,  1.,  1.,  1.,  1.,  1.,  1.,  1.,  1.]), 'mean_train_score': array([ 1.,  1.,  1.,  1.,  1.,  1.,  1.,  1.,  1.,  1.,  1.,  1.]), 'std_train_score': array([ 0.,  0.,  0.,  0.,  0.,  0.,  0.,  0.,  0.,  0.,  0.,  0.])}\n",
      "BEST SCORE 0.735159817352\n",
      "BEST PARAM {'learning_rate': 0.06, 'max_depth': 5, 'n_estimators': 1000}\n",
      "Time to run 38.463518992386525 seconds\n"
     ]
    }
   ],
   "source": [
    "from sklearn.ensemble import GradientBoostingClassifier\n",
    "\n",
    "start_time = time.clock()\n",
    "clf_gbc = GradientBoostingClassifier()\n",
    "parameters = {'n_estimators': [1000], 'learning_rate':[0.06, 0.07, 0.08], 'max_depth':[4,5,6,7]}\n",
    "grid_svm = GridSearchCV(clf_gbc, parameters, n_jobs=-1, cv=5)\n",
    "grid_svm.fit(X_train, y_train)\n",
    "print(\"SCORES\", grid_svm.cv_results_)\n",
    "print(\"BEST SCORE\", grid_svm.best_score_)\n",
    "print(\"BEST PARAM\", grid_svm.best_params_)\n",
    "print(\"Time to run\", time.clock() - start_time, \"seconds\")"
   ]
  },
  {
   "cell_type": "code",
   "execution_count": 869,
   "metadata": {},
   "outputs": [
    {
     "name": "stdout",
     "output_type": "stream",
     "text": [
      "Gradient Boost Accuracy 0.677248677249\n",
      "             precision    recall  f1-score   support\n",
      "\n",
      "          0       0.44      0.28      0.34        57\n",
      "          1       0.73      0.85      0.79       132\n",
      "\n",
      "avg / total       0.65      0.68      0.65       189\n",
      "\n",
      "[[ 16  41]\n",
      " [ 20 112]]\n"
     ]
    }
   ],
   "source": [
    "clf_GBC = GradientBoostingClassifier(n_estimators=1000, learning_rate=0.07, max_depth = 4)\n",
    "clf_GBC.fit(X_train, y_train)\n",
    "\n",
    "expected_GBC = y_test\n",
    "predicted_GBC=clf_GBC.predict(X_test)\n",
    "\n",
    "print(\"Gradient Boost Accuracy\", accuracy_score(expected_GBC,predicted_GBC))\n",
    "print(classification_report(expected_GBC, predicted_GBC,target_names=['0', '1']))\n",
    "print(confusion_matrix(expected_GBC, predicted_GBC))"
   ]
  },
  {
   "cell_type": "markdown",
   "metadata": {},
   "source": [
    "#### Verify with 10-fold Cross Validation\n",
    "All 10-folds results within 4.5% from mean and this means the model is not overfitting."
   ]
  },
  {
   "cell_type": "code",
   "execution_count": 870,
   "metadata": {},
   "outputs": [
    {
     "name": "stdout",
     "output_type": "stream",
     "text": [
      "Cross Validation Score for each K:  [ 0.73333333  0.68888889  0.73333333  0.66666667  0.6744186   0.74418605\n",
      "  0.74418605  0.72093023  0.72093023  0.69767442]\n",
      "Cross Validation Score mean:  0.712454780362\n",
      "Cross Validation Max and Min Score difference from mean score:  0.0457881136951 0.0317312661499\n"
     ]
    }
   ],
   "source": [
    "scores = cross_val_score(clf_GBC, X_train, y_train, cv=10)\n",
    "print(\"Cross Validation Score for each K: \", scores)\n",
    "print(\"Cross Validation Score mean: \", scores.mean())\n",
    "print(\"Cross Validation Max and Min Score difference from mean score: \", scores.mean()-min(scores), max(scores)-scores.mean())"
   ]
  },
  {
   "cell_type": "markdown",
   "metadata": {},
   "source": [
    "### Extreme Gradient Boosting\n",
    "XGBoost is a very popular algorithm on *Kaggle*. \n",
    "* http://xgboost.readthedocs.io/en/latest/python/python_api.html\n",
    "* https://machinelearningmastery.com/gentle-introduction-xgboost-applied-machine-learning/\n",
    "\n",
    "Avoid XGBoost overfitting:\n",
    "* https://machinelearningmastery.com/avoid-overfitting-by-early-stopping-with-xgboost-in-python/"
   ]
  },
  {
   "cell_type": "markdown",
   "metadata": {},
   "source": [
    "#### Grid Search\n",
    "XGBoost Grid Search example https://www.kaggle.com/phunter/xgboost-with-gridsearchcv"
   ]
  },
  {
   "cell_type": "code",
   "execution_count": null,
   "metadata": {},
   "outputs": [],
   "source": [
    "from xgboost import XGBClassifier\n",
    "\n",
    "start_time = time.clock()\n",
    "clf_xgb = XGBClassifier()\n",
    "\n",
    "parameters = {\n",
    "              'objective':['binary:logistic'],\n",
    "              'learning_rate': [0.05, 0.06, 0.07], #so called `eta` value\n",
    "              'max_depth': [4,5,6],\n",
    "              'min_child_weight': [10, 11, 12],\n",
    "              'subsample': [0.5, 0.6, 0.7],\n",
    "              'colsample_bytree': [0.6, 0.7, 0.8],\n",
    "              'n_estimators': [1000], #number of trees, change it to 1000 for better results\n",
    "              'seed': [1337]}\n",
    "\n",
    "grid_xgboost = GridSearchCV(clf_xgb, parameters, n_jobs=-1, cv=10)\n",
    "grid_xgboost.fit(X_train, y_train)\n",
    "print(\"SCORES\", grid_xgboost.cv_results_)\n",
    "print(\"BEST SCORE\", grid_xgboost.best_score_)\n",
    "print(\"BEST PARAM\", grid_xgboost.best_params_)\n",
    "print(\"Time to run\", time.clock() - start_time, \"seconds\")"
   ]
  },
  {
   "cell_type": "code",
   "execution_count": null,
   "metadata": {},
   "outputs": [],
   "source": [
    "from xgboost import XGBClassifier\n",
    "\n",
    "start_time = time.clock()\n",
    "clf_xgb = XGBClassifier()\n",
    "\n",
    "parameters = {\n",
    "              'objective':['binary:logistic'],\n",
    "              'learning_rate': [0.07,0.08,0.09], #so called `eta` value\n",
    "              'max_depth': [3,4],\n",
    "              'min_child_weight': [12,13,14],\n",
    "              'subsample': [0.6,0.7,0.8],\n",
    "              'colsample_bytree': [0.8, 0.9, 1.0],\n",
    "              'n_estimators': [800,900,1000,1100,1200], #number of trees, change it to 1000 for better results\n",
    "              'seed': [1337]}\n",
    "\n",
    "grid_xgboost = GridSearchCV(clf_xgb, parameters, n_jobs=-1, cv=10)\n",
    "grid_xgboost.fit(X_train, y_train)\n",
    "print(\"SCORES\", grid_xgboost.cv_results_)\n",
    "print(\"BEST SCORE\", grid_xgboost.best_score_)\n",
    "print(\"BEST PARAM\", grid_xgboost.best_params_)\n",
    "print(\"Time to run\", time.clock() - start_time, \"seconds\")"
   ]
  },
  {
   "cell_type": "code",
   "execution_count": 1027,
   "metadata": {},
   "outputs": [],
   "source": [
    "clf_xgboost = XGBClassifier(\n",
    "    colsample_bytree=0.8,\n",
    "    learning_rate=0.08, \n",
    "    max_depth = 3,\n",
    "    min_child_weight=14,\n",
    "    n_estimators=900,\n",
    "    objective=\"binary:logistic\",\n",
    "    subsample = 0.6,\n",
    "    seed = 1337               \n",
    "   )\n",
    "eval_set = [(X_train, y_train), (X_test, y_test)]\n",
    "clf_xgboost = clf_xgboost.fit(X_train, y_train, eval_metric=[\"error\", \"logloss\"], eval_set=eval_set, verbose=False)\n",
    "\n",
    "y_pred = clf_xgboost.predict(X_test)\n",
    "predictions = [round(value) for value in y_pred]"
   ]
  },
  {
   "cell_type": "code",
   "execution_count": 1028,
   "metadata": {},
   "outputs": [
    {
     "name": "stdout",
     "output_type": "stream",
     "text": [
      "Accuracy 0.62962962963\n",
      "             precision    recall  f1-score   support\n",
      "\n",
      "          0       0.29      0.16      0.20        57\n",
      "          1       0.70      0.83      0.76       132\n",
      "\n",
      "avg / total       0.57      0.63      0.59       189\n",
      "\n",
      "[[  9  48]\n",
      " [ 22 110]]\n"
     ]
    }
   ],
   "source": [
    "expected_xgboost = y_test\n",
    "predicted_xgboost= clf_xgboost.predict(X_test)\n",
    "print(\"Accuracy\", accuracy_score(expected_xgboost, predicted_xgboost))\n",
    "print(classification_report(expected_xgboost, predicted_xgboost,target_names=['0', '1']))\n",
    "print(confusion_matrix(expected_xgboost, predicted_xgboost))"
   ]
  },
  {
   "cell_type": "code",
   "execution_count": 1029,
   "metadata": {},
   "outputs": [
    {
     "data": {
      "image/png": "[encoded data removed]",
      "text/plain": [
       "<matplotlib.figure.Figure at 0x1281a240>"
      ]
     },
     "metadata": {},
     "output_type": "display_data"
    },
    {
     "data": {
      "image/png": "[encoded data removed]",
      "text/plain": [
       "<matplotlib.figure.Figure at 0x1d8368d0>"
      ]
     },
     "metadata": {},
     "output_type": "display_data"
    }
   ],
   "source": [
    "predictions = [round(value) for value in predicted_xgboost]\n",
    "# retrieve performance metrics\n",
    "results = clf_xgboost.evals_result()\n",
    "epochs = len(results['validation_0']['error'])\n",
    "x_axis = range(0, epochs)\n",
    "# plot log loss\n",
    "fig, ax = pyplot.subplots()\n",
    "ax.plot(x_axis, results['validation_0']['logloss'], label='Train')\n",
    "ax.plot(x_axis, results['validation_1']['logloss'], label='Test')\n",
    "ax.legend()\n",
    "pyplot.ylabel('Log Loss')\n",
    "pyplot.title('XGBoost Log Loss')\n",
    "pyplot.show()\n",
    "# plot classification error\n",
    "fig, ax = pyplot.subplots()\n",
    "ax.plot(x_axis, results['validation_0']['error'], label='Train')\n",
    "ax.plot(x_axis, results['validation_1']['error'], label='Test')\n",
    "ax.legend()\n",
    "pyplot.ylabel('Classification Error')\n",
    "pyplot.title('XGBoost Classification Error')\n",
    "pyplot.show()"
   ]
  },
  {
   "cell_type": "markdown",
   "metadata": {},
   "source": [
    "#### Select a early stopping rounds = 50 based on classification error"
   ]
  },
  {
   "cell_type": "code",
   "execution_count": 1036,
   "metadata": {},
   "outputs": [],
   "source": [
    "clf_xgboost = XGBClassifier(\n",
    "    colsample_bytree=1,\n",
    "    learning_rate=0.06, \n",
    "    max_depth = 3,\n",
    "    min_child_weight=11,\n",
    "    n_estimators=1000,\n",
    "    objective=\"binary:logistic\",\n",
    "    subsample = 0.6,\n",
    "    seed = 1337               \n",
    "   )\n",
    "\n",
    "eval_set = [(X_train, y_train), (X_test, y_test)]\n",
    "clf_xgboost = clf_xgboost.fit(X_train, y_train, eval_metric=[\"logloss\"], eval_set=eval_set, early_stopping_rounds=50, verbose=False)\n",
    "\n",
    "y_pred = clf_xgboost.predict(X_test)"
   ]
  },
  {
   "cell_type": "markdown",
   "metadata": {},
   "source": [
    "#### Verify with 10-fold Cross Validation\n",
    "All 10-folds results within 9.1% from mean and this means the model is overfitting."
   ]
  },
  {
   "cell_type": "code",
   "execution_count": 1037,
   "metadata": {},
   "outputs": [
    {
     "name": "stdout",
     "output_type": "stream",
     "text": [
      "Cross Validation Score for each K:  [ 0.75555556  0.75555556  0.68888889  0.71111111  0.72093023  0.72093023\n",
      "  0.72093023  0.6744186   0.60465116  0.60465116]\n",
      "Cross Validation Score mean:  0.695762273902\n",
      "Cross Validation Max and Min Score difference from mean score:  0.0911111111111 0.0597932816537\n"
     ]
    }
   ],
   "source": [
    "scores = cross_val_score(clf_xgboost, X_train, y_train, cv=10)\n",
    "print(\"Cross Validation Score for each K: \", scores)\n",
    "print(\"Cross Validation Score mean: \", scores.mean())\n",
    "print(\"Cross Validation Max and Min Score difference from mean score: \", scores.mean()-min(scores), max(scores)-scores.mean())"
   ]
  },
  {
   "cell_type": "markdown",
   "metadata": {},
   "source": [
    "### Run Multi-layer Perceptron Model using train/test  "
   ]
  },
  {
   "cell_type": "markdown",
   "metadata": {},
   "source": [
    "#### Grid Search"
   ]
  },
  {
   "cell_type": "code",
   "execution_count": 906,
   "metadata": {},
   "outputs": [
    {
     "name": "stdout",
     "output_type": "stream",
     "text": [
      "Fitting 3 folds for each of 6 candidates, totalling 18 fits\n"
     ]
    },
    {
     "name": "stderr",
     "output_type": "stream",
     "text": [
      "[Parallel(n_jobs=-1)]: Done  13 out of  18 | elapsed:   10.7s remaining:    4.1s\n",
      "[Parallel(n_jobs=-1)]: Done  18 out of  18 | elapsed:   11.5s finished\n"
     ]
    },
    {
     "name": "stdout",
     "output_type": "stream",
     "text": [
      "SCORES {'mean_fit_time': array([ 0.03800368,  0.03200324,  0.1290129 ,  0.69440277,  1.71883845,\n",
      "        1.47381385]), 'std_fit_time': array([ 0.00216042,  0.0304113 ,  0.01349219,  0.03002879,  0.35196732,\n",
      "        0.29167315]), 'mean_score_time': array([ 0.00133348,  0.00100017,  0.00100017,  0.00166686,  0.00100032,\n",
      "        0.00100017]), 'std_score_time': array([  4.71370354e-04,   0.00000000e+00,   8.16534753e-04,\n",
      "         9.42853099e-04,   1.12391596e-07,   0.00000000e+00]), 'param_activation': masked_array(data = ['relu' 'relu' 'relu' 'relu' 'relu' 'relu'],\n",
      "             mask = [False False False False False False],\n",
      "       fill_value = ?)\n",
      ", 'param_alpha': masked_array(data = [1e-05 1e-05 1e-05 1e-05 1e-05 1e-05],\n",
      "             mask = [False False False False False False],\n",
      "       fill_value = ?)\n",
      ", 'param_batch_size': masked_array(data = ['auto' 'auto' 'auto' 'auto' 'auto' 'auto'],\n",
      "             mask = [False False False False False False],\n",
      "       fill_value = ?)\n",
      ", 'param_beta_1': masked_array(data = [0.9 0.9 0.9 0.9 0.9 0.9],\n",
      "             mask = [False False False False False False],\n",
      "       fill_value = ?)\n",
      ", 'param_beta_2': masked_array(data = [0.999 0.999 0.999 0.999 0.999 0.999],\n",
      "             mask = [False False False False False False],\n",
      "       fill_value = ?)\n",
      ", 'param_early_stopping': masked_array(data = [False False False False False False],\n",
      "             mask = [False False False False False False],\n",
      "       fill_value = ?)\n",
      ", 'param_epsilon': masked_array(data = [1e-08 1e-08 1e-08 1e-08 1e-08 1e-08],\n",
      "             mask = [False False False False False False],\n",
      "       fill_value = ?)\n",
      ", 'param_hidden_layer_sizes': masked_array(data = [(10, 1) (10, 1) (10, 1) (10, 2) (10, 2) (10, 2)],\n",
      "             mask = [False False False False False False],\n",
      "       fill_value = ?)\n",
      ", 'param_learning_rate': masked_array(data = ['constant' 'constant' 'constant' 'constant' 'constant' 'constant'],\n",
      "             mask = [False False False False False False],\n",
      "       fill_value = ?)\n",
      ", 'param_learning_rate_init': masked_array(data = [True True True True True True],\n",
      "             mask = [False False False False False False],\n",
      "       fill_value = ?)\n",
      ", 'param_max_iter': masked_array(data = [100 300 500 100 300 500],\n",
      "             mask = [False False False False False False],\n",
      "       fill_value = ?)\n",
      ", 'param_momentum': masked_array(data = [0.9 0.9 0.9 0.9 0.9 0.9],\n",
      "             mask = [False False False False False False],\n",
      "       fill_value = ?)\n",
      ", 'param_power_t': masked_array(data = [0.5 0.5 0.5 0.5 0.5 0.5],\n",
      "             mask = [False False False False False False],\n",
      "       fill_value = ?)\n",
      ", 'param_random_state': masked_array(data = [47 47 47 47 47 47],\n",
      "             mask = [False False False False False False],\n",
      "       fill_value = ?)\n",
      ", 'param_shuffle': masked_array(data = [True True True True True True],\n",
      "             mask = [False False False False False False],\n",
      "       fill_value = ?)\n",
      ", 'param_solver': masked_array(data = ['lbfgs' 'lbfgs' 'lbfgs' 'lbfgs' 'lbfgs' 'lbfgs'],\n",
      "             mask = [False False False False False False],\n",
      "       fill_value = ?)\n",
      ", 'param_tol': masked_array(data = [0.0001 0.0001 0.0001 0.0001 0.0001 0.0001],\n",
      "             mask = [False False False False False False],\n",
      "       fill_value = ?)\n",
      ", 'param_validation_fraction': masked_array(data = [0.1 0.1 0.1 0.1 0.1 0.1],\n",
      "             mask = [False False False False False False],\n",
      "       fill_value = ?)\n",
      ", 'param_verbose': masked_array(data = [False False False False False False],\n",
      "             mask = [False False False False False False],\n",
      "       fill_value = ?)\n",
      ", 'param_warm_start': masked_array(data = [False False False False False False],\n",
      "             mask = [False False False False False False],\n",
      "       fill_value = ?)\n",
      ", 'params': [{'activation': 'relu', 'alpha': 1e-05, 'batch_size': 'auto', 'beta_1': 0.9, 'beta_2': 0.999, 'early_stopping': False, 'epsilon': 1e-08, 'hidden_layer_sizes': (10, 1), 'learning_rate': 'constant', 'learning_rate_init': True, 'max_iter': 100, 'momentum': 0.9, 'power_t': 0.5, 'random_state': 47, 'shuffle': True, 'solver': 'lbfgs', 'tol': 0.0001, 'validation_fraction': 0.1, 'verbose': False, 'warm_start': False}, {'activation': 'relu', 'alpha': 1e-05, 'batch_size': 'auto', 'beta_1': 0.9, 'beta_2': 0.999, 'early_stopping': False, 'epsilon': 1e-08, 'hidden_layer_sizes': (10, 1), 'learning_rate': 'constant', 'learning_rate_init': True, 'max_iter': 300, 'momentum': 0.9, 'power_t': 0.5, 'random_state': 47, 'shuffle': True, 'solver': 'lbfgs', 'tol': 0.0001, 'validation_fraction': 0.1, 'verbose': False, 'warm_start': False}, {'activation': 'relu', 'alpha': 1e-05, 'batch_size': 'auto', 'beta_1': 0.9, 'beta_2': 0.999, 'early_stopping': False, 'epsilon': 1e-08, 'hidden_layer_sizes': (10, 1), 'learning_rate': 'constant', 'learning_rate_init': True, 'max_iter': 500, 'momentum': 0.9, 'power_t': 0.5, 'random_state': 47, 'shuffle': True, 'solver': 'lbfgs', 'tol': 0.0001, 'validation_fraction': 0.1, 'verbose': False, 'warm_start': False}, {'activation': 'relu', 'alpha': 1e-05, 'batch_size': 'auto', 'beta_1': 0.9, 'beta_2': 0.999, 'early_stopping': False, 'epsilon': 1e-08, 'hidden_layer_sizes': (10, 2), 'learning_rate': 'constant', 'learning_rate_init': True, 'max_iter': 100, 'momentum': 0.9, 'power_t': 0.5, 'random_state': 47, 'shuffle': True, 'solver': 'lbfgs', 'tol': 0.0001, 'validation_fraction': 0.1, 'verbose': False, 'warm_start': False}, {'activation': 'relu', 'alpha': 1e-05, 'batch_size': 'auto', 'beta_1': 0.9, 'beta_2': 0.999, 'early_stopping': False, 'epsilon': 1e-08, 'hidden_layer_sizes': (10, 2), 'learning_rate': 'constant', 'learning_rate_init': True, 'max_iter': 300, 'momentum': 0.9, 'power_t': 0.5, 'random_state': 47, 'shuffle': True, 'solver': 'lbfgs', 'tol': 0.0001, 'validation_fraction': 0.1, 'verbose': False, 'warm_start': False}, {'activation': 'relu', 'alpha': 1e-05, 'batch_size': 'auto', 'beta_1': 0.9, 'beta_2': 0.999, 'early_stopping': False, 'epsilon': 1e-08, 'hidden_layer_sizes': (10, 2), 'learning_rate': 'constant', 'learning_rate_init': True, 'max_iter': 500, 'momentum': 0.9, 'power_t': 0.5, 'random_state': 47, 'shuffle': True, 'solver': 'lbfgs', 'tol': 0.0001, 'validation_fraction': 0.1, 'verbose': False, 'warm_start': False}], 'split0_test_score': array([ 0.69387755,  0.69387755,  0.69387755,  0.69387755,  0.69387755,\n",
      "        0.69387755]), 'split1_test_score': array([ 0.69178082,  0.69178082,  0.69178082,  0.69178082,  0.52054795,\n",
      "        0.52054795]), 'split2_test_score': array([ 0.69655172,  0.69655172,  0.69655172,  0.47586207,  0.51724138,\n",
      "        0.51724138]), 'mean_test_score': array([ 0.69406393,  0.69406393,  0.69406393,  0.62100457,  0.57762557,\n",
      "        0.57762557]), 'std_test_score': array([ 0.00194887,  0.00194887,  0.00194887,  0.10210808,  0.08263619,\n",
      "        0.08263619]), 'rank_test_score': array([1, 1, 1, 4, 5, 5]), 'split0_train_score': array([ 0.69415808,  0.69415808,  0.69415808,  0.69415808,  0.69415808,\n",
      "        0.69415808]), 'split1_train_score': array([ 0.69520548,  0.69520548,  0.69520548,  0.69520548,  0.69178082,\n",
      "        0.69178082]), 'split2_train_score': array([ 0.69283276,  0.69283276,  0.69283276,  0.78498294,  0.79522184,\n",
      "        0.79522184]), 'mean_train_score': array([ 0.69406544,  0.69406544,  0.69406544,  0.72478216,  0.72705358,\n",
      "        0.72705358]), 'std_train_score': array([ 0.00097087,  0.00097087,  0.00097087,  0.04257052,  0.04821201,\n",
      "        0.04821201])}\n",
      "BEST SCORE 0.694063926941\n",
      "BEST PARAM {'activation': 'relu', 'alpha': 1e-05, 'batch_size': 'auto', 'beta_1': 0.9, 'beta_2': 0.999, 'early_stopping': False, 'epsilon': 1e-08, 'hidden_layer_sizes': (10, 1), 'learning_rate': 'constant', 'learning_rate_init': True, 'max_iter': 100, 'momentum': 0.9, 'power_t': 0.5, 'random_state': 47, 'shuffle': True, 'solver': 'lbfgs', 'tol': 0.0001, 'validation_fraction': 0.1, 'verbose': False, 'warm_start': False}\n",
      "Time to run 11.968972642134759 seconds\n"
     ]
    }
   ],
   "source": [
    "from sklearn.neural_network import MLPClassifier\n",
    "start_time = time.clock()\n",
    "parameters={\n",
    "    'alpha':[1e-05], 'batch_size':['auto'], 'beta_1':[0.9], 'beta_2':[0.999], 'early_stopping':[False],'epsilon':[1e-08],\n",
    "    'learning_rate':['constant'],'learning_rate_init':[0.001],'momentum':[0.9],'learning_rate_init':[True],'power_t':[0.5],\n",
    "    'random_state':[47],'shuffle':[True],'solver':['lbfgs'],'tol':[0.0001],'validation_fraction':[0.1],'verbose':[False],\n",
    "    'warm_start':[False],'learning_rate': [\"constant\"],'activation': ['relu'],\n",
    "    'max_iter':[100,300,500],\n",
    "    'hidden_layer_sizes': [(10,1), (10,2)]\n",
    "}\n",
    "clf_NN = MLPClassifier(activation='relu', alpha=1e-05, batch_size='auto',\n",
    "       beta_1=0.9, beta_2=0.999, early_stopping=False,\n",
    "       epsilon=1e-08, hidden_layer_sizes=(5, 2), learning_rate='constant',\n",
    "       learning_rate_init=0.001, max_iter=200, momentum=0.9,\n",
    "       nesterovs_momentum=True, power_t=0.5, random_state=47, shuffle=True,\n",
    "       solver='lbfgs', tol=0.0001, validation_fraction=0.1, verbose=False,\n",
    "       warm_start=False)\n",
    "grid_nn = GridSearchCV(estimator=clf_NN,param_grid=parameters,n_jobs=-1,verbose=2,cv=3)\n",
    "grid_nn.fit(X_train, y_train)\n",
    "print(\"SCORES\", grid_nn.cv_results_)\n",
    "print(\"BEST SCORE\", grid_nn.best_score_)\n",
    "print(\"BEST PARAM\", grid_nn.best_params_)\n",
    "print(\"Time to run\", time.clock() - start_time, \"seconds\")"
   ]
  },
  {
   "cell_type": "code",
   "execution_count": 909,
   "metadata": {},
   "outputs": [
    {
     "name": "stdout",
     "output_type": "stream",
     "text": [
      "Accuracy 0.698412698413\n",
      "             precision    recall  f1-score   support\n",
      "\n",
      "          0       0.00      0.00      0.00        57\n",
      "          1       0.70      1.00      0.82       132\n",
      "\n",
      "avg / total       0.49      0.70      0.57       189\n",
      "\n",
      "[[  0  57]\n",
      " [  0 132]]\n"
     ]
    },
    {
     "name": "stderr",
     "output_type": "stream",
     "text": [
      "C:\\ProgramData\\Anaconda3\\lib\\site-packages\\sklearn\\metrics\\classification.py:1135: UndefinedMetricWarning: Precision and F-score are ill-defined and being set to 0.0 in labels with no predicted samples.\n",
      "  'precision', 'predicted', average, warn_for)\n"
     ]
    }
   ],
   "source": [
    "clf_NN = MLPClassifier(activation='relu', alpha=1e-05, batch_size='auto',\n",
    "       beta_1=0.9, beta_2=0.999, early_stopping=False,\n",
    "       epsilon=1e-08, hidden_layer_sizes=(10, 1), learning_rate='constant',\n",
    "       learning_rate_init=0.001, max_iter=100, momentum=0.9,\n",
    "       nesterovs_momentum=True, power_t=0.5, random_state=1, shuffle=True,\n",
    "       solver='lbfgs', tol=0.0001, validation_fraction=0.1, verbose=False,\n",
    "       warm_start=False)\n",
    "clf_NN.fit(X_train, y_train)\n",
    "\n",
    "expected_NN = y_test\n",
    "predicted_NN = clf_NN.predict(X_test)\n",
    "\n",
    "print(\"Accuracy\", accuracy_score(expected_NN,predicted_NN))\n",
    "print(classification_report(expected_NN, predicted_NN,target_names=['0', '1']))\n",
    "print(confusion_matrix(expected_NN, predicted_NN))"
   ]
  },
  {
   "cell_type": "markdown",
   "metadata": {},
   "source": [
    "#### Verify with 10-fold Cross Validation\n",
    "All 10-folds results within 0.5 percentage from mean and this means the model is not overfitting."
   ]
  },
  {
   "cell_type": "code",
   "execution_count": 910,
   "metadata": {},
   "outputs": [
    {
     "name": "stdout",
     "output_type": "stream",
     "text": [
      "Cross Validation Score for each K:  [ 0.68888889  0.68888889  0.68888889  0.68888889  0.69767442  0.69767442\n",
      "  0.69767442  0.69767442  0.69767442  0.69767442]\n",
      "Cross Validation Score mean:  0.694160206718\n",
      "Cross Validation Max and Min Score difference from mean score:  0.00527131782946 0.0035142118863\n"
     ]
    }
   ],
   "source": [
    "scores = cross_val_score(clf_NN, X_train, y_train, cv=10)\n",
    "print(\"Cross Validation Score for each K: \", scores)\n",
    "print(\"Cross Validation Score mean: \", scores.mean())\n",
    "print(\"Cross Validation Max and Min Score difference from mean score: \", scores.mean()-min(scores), max(scores)-scores.mean())"
   ]
  },
  {
   "cell_type": "markdown",
   "metadata": {},
   "source": [
    "### Run Stochastic Gradient Descent Model using train/test "
   ]
  },
  {
   "cell_type": "markdown",
   "metadata": {},
   "source": [
    "#### Grid Search"
   ]
  },
  {
   "cell_type": "code",
   "execution_count": 690,
   "metadata": {},
   "outputs": [
    {
     "name": "stdout",
     "output_type": "stream",
     "text": [
      "Fitting 3 folds for each of 9 candidates, totalling 27 fits\n"
     ]
    },
    {
     "name": "stderr",
     "output_type": "stream",
     "text": [
      "[Parallel(n_jobs=-1)]: Done  27 out of  27 | elapsed:   12.6s finished\n"
     ]
    },
    {
     "name": "stdout",
     "output_type": "stream",
     "text": [
      "SCORES {'mean_fit_time': array([ 0.37000004,  0.09433341,  0.77899996,  0.8053333 ,  0.3330001 ,\n",
      "        1.03433331,  0.7293334 ,  0.16733336,  0.62199998]), 'std_fit_time': array([ 0.00778889,  0.00047154,  0.23022751,  0.07486127,  0.01202778,\n",
      "        0.08605559,  0.00309132,  0.06341569,  0.00962636]), 'mean_score_time': array([ 0.01933328,  0.023     ,  0.12033327,  0.07900008,  0.09100016,\n",
      "        0.07300003,  0.0783333 ,  0.09999998,  0.0006667 ]), 'std_score_time': array([ 0.00368192,  0.01498898,  0.08719456,  0.00697624,  0.00496664,\n",
      "        0.0021602 ,  0.05490195,  0.02417989,  0.00047143]), 'param_loss': masked_array(data = ['modified_huber' 'modified_huber' 'modified_huber' 'log' 'log' 'log'\n",
      " 'hinge' 'hinge' 'hinge'],\n",
      "             mask = [False False False False False False False False False],\n",
      "       fill_value = ?)\n",
      ", 'param_penalty': masked_array(data = ['l1' 'l2' 'elasticnet' 'l1' 'l2' 'elasticnet' 'l1' 'l2' 'elasticnet'],\n",
      "             mask = [False False False False False False False False False],\n",
      "       fill_value = ?)\n",
      ", 'params': [{'loss': 'modified_huber', 'penalty': 'l1'}, {'loss': 'modified_huber', 'penalty': 'l2'}, {'loss': 'modified_huber', 'penalty': 'elasticnet'}, {'loss': 'log', 'penalty': 'l1'}, {'loss': 'log', 'penalty': 'l2'}, {'loss': 'log', 'penalty': 'elasticnet'}, {'loss': 'hinge', 'penalty': 'l1'}, {'loss': 'hinge', 'penalty': 'l2'}, {'loss': 'hinge', 'penalty': 'elasticnet'}], 'split0_test_score': array([ 0.57142857,  0.58503401,  0.57823129,  0.57142857,  0.56462585,\n",
      "        0.57823129,  0.58503401,  0.56462585,  0.57142857]), 'split1_test_score': array([ 0.63013699,  0.61643836,  0.60958904,  0.60958904,  0.64383562,\n",
      "        0.60273973,  0.61643836,  0.60273973,  0.5890411 ]), 'split2_test_score': array([ 0.62758621,  0.64827586,  0.64137931,  0.62068966,  0.62068966,\n",
      "        0.63448276,  0.59310345,  0.62758621,  0.62758621]), 'mean_test_score': array([ 0.60958904,  0.61643836,  0.60958904,  0.60045662,  0.60958904,\n",
      "        0.60502283,  0.59817352,  0.59817352,  0.59589041]), 'std_test_score': array([ 0.02714218,  0.02581777,  0.02577947,  0.02112165,  0.03332038,\n",
      "        0.0230207 ,  0.0133287 ,  0.02590486,  0.02343171]), 'rank_test_score': array([2, 1, 2, 6, 2, 5, 7, 7, 9]), 'split0_train_score': array([ 0.9347079 ,  1.        ,  1.        ,  0.95532646,  1.        ,\n",
      "        1.        ,  0.87628866,  1.        ,  1.        ]), 'split1_train_score': array([ 0.96917808,  1.        ,  1.        ,  0.96917808,  1.        ,\n",
      "        1.        ,  0.95547945,  1.        ,  1.        ]), 'split2_train_score': array([ 1.        ,  1.        ,  1.        ,  1.        ,  1.        ,\n",
      "        1.        ,  1.        ,  0.99658703,  1.        ]), 'mean_train_score': array([ 0.967962  ,  1.        ,  1.        ,  0.97483485,  1.        ,\n",
      "        1.        ,  0.9439227 ,  0.99886234,  1.        ]), 'std_train_score': array([ 0.02666925,  0.        ,  0.        ,  0.01867138,  0.        ,\n",
      "        0.        ,  0.05116179,  0.00160889,  0.        ])}\n",
      "BEST SCORE 0.616438356164\n",
      "BEST PARAM {'loss': 'modified_huber', 'penalty': 'l2'}\n",
      "Time to run 13.288542552101717 seconds\n"
     ]
    }
   ],
   "source": [
    "from sklearn.linear_model import SGDClassifier\n",
    "\n",
    "start_time = time.clock()\n",
    "parameters={\n",
    "'loss': [\"modified_huber\",\"log\", \"hinge\"],\n",
    "'penalty': [\"l1\", \"l2\", \"elasticnet\"]\n",
    "}\n",
    "clf_sgd = SGDClassifier(loss=\"log\", penalty=\"l1\", max_iter = 1000)\n",
    "grid_nn = GridSearchCV(estimator=clf_sgd,param_grid=parameters,n_jobs=-1,verbose=2,cv=3)\n",
    "grid_nn.fit(X_train, y_train)\n",
    "print(\"SCORES\", grid_nn.cv_results_)\n",
    "print(\"BEST SCORE\", grid_nn.best_score_)\n",
    "print(\"BEST PARAM\", grid_nn.best_params_)\n",
    "print(\"Time to run\", time.clock() - start_time, \"seconds\")"
   ]
  },
  {
   "cell_type": "code",
   "execution_count": 1011,
   "metadata": {},
   "outputs": [
    {
     "name": "stdout",
     "output_type": "stream",
     "text": [
      "Accuracy 0.560846560847\n",
      "             precision    recall  f1-score   support\n",
      "\n",
      "          0       0.30      0.35      0.33        57\n",
      "          1       0.70      0.65      0.67       132\n",
      "\n",
      "avg / total       0.58      0.56      0.57       189\n",
      "\n",
      "[[20 37]\n",
      " [46 86]]\n"
     ]
    }
   ],
   "source": [
    "clf_sgd = SGDClassifier(loss=\"modified_huber\", penalty=\"l2\", max_iter = 1000)\n",
    "clf_sgd.fit(X_train, y_train)\n",
    "expected_sgd = y_test\n",
    "predicted_sgd = clf_sgd.predict(X_test)\n",
    "print(\"Accuracy\", accuracy_score(expected_sgd,predicted_sgd))\n",
    "print(classification_report(expected_sgd, predicted_sgd,target_names=['0', '1']))\n",
    "print(confusion_matrix(expected_sgd, predicted_sgd))"
   ]
  },
  {
   "cell_type": "markdown",
   "metadata": {},
   "source": [
    "#### Verify with 10-fold Cross Validation\n",
    "All 10-folds results within 8.9 percentage from mean and this means the model is overfitting."
   ]
  },
  {
   "cell_type": "code",
   "execution_count": 1012,
   "metadata": {},
   "outputs": [
    {
     "name": "stdout",
     "output_type": "stream",
     "text": [
      "Cross Validation Score for each K:  [ 0.53333333  0.4         0.44444444  0.55555556  0.58139535  0.53488372\n",
      "  0.79069767  0.34883721  0.58139535  0.51162791]\n",
      "Cross Validation Score mean:  0.528217054264\n",
      "Cross Validation Max and Min Score difference from mean score:  0.179379844961 0.262480620155\n"
     ]
    }
   ],
   "source": [
    "scores = cross_val_score(clf_sgd, X_train, y_train, cv=10)\n",
    "print(\"Cross Validation Score for each K: \", scores)\n",
    "print(\"Cross Validation Score mean: \", scores.mean())\n",
    "print(\"Cross Validation Max and Min Score difference from mean score: \", scores.mean()-min(scores), max(scores)-scores.mean())"
   ]
  },
  {
   "cell_type": "markdown",
   "metadata": {},
   "source": [
    "### Stacking Models "
   ]
  },
  {
   "cell_type": "code",
   "execution_count": 1013,
   "metadata": {
    "collapsed": true
   },
   "outputs": [],
   "source": [
    "from sklearn.ensemble import VotingClassifier\n",
    "\n",
    "\n",
    "clf_rf = RandomForestClassifier(max_features = 'auto', min_samples_leaf = 4, min_samples_split = 5, \n",
    "                                n_estimators=100)\n",
    "clf_bag = BaggingClassifier(n_estimators=300, max_features=40)\n",
    "\n",
    "clf_boost = AdaBoostClassifier(base_estimator=MultinomialNB(),\n",
    "                         algorithm=\"SAMME\",      \n",
    "                         n_estimators=700, \n",
    "                         learning_rate=0.003)\n",
    "\n",
    "clf_gb = GradientBoostingClassifier(n_estimators=1000, learning_rate=0.07, max_depth = 4)\n",
    "\n",
    "clf_xdt = ExtraTreesClassifier(criterion = 'gini', max_depth=50,\n",
    "                               n_estimators=100, \n",
    "                               min_samples_split=10, \n",
    "                               min_samples_leaf=5)\n",
    "\n",
    "clf_nn = MLPClassifier(activation='relu', alpha=1e-05, batch_size='auto',\n",
    "       beta_1=0.9, beta_2=0.999, early_stopping=False,\n",
    "       epsilon=1e-08, hidden_layer_sizes=(10, 1), learning_rate='constant',\n",
    "       learning_rate_init=0.001, max_iter=100, momentum=0.9,\n",
    "       nesterovs_momentum=True, power_t=0.5, random_state=1, shuffle=True,\n",
    "       solver='lbfgs', tol=0.0001, validation_fraction=0.1, verbose=False,\n",
    "       warm_start=False)"
   ]
  },
  {
   "cell_type": "code",
   "execution_count": 1015,
   "metadata": {},
   "outputs": [
    {
     "name": "stdout",
     "output_type": "stream",
     "text": [
      "Accuracy: 0.72 (+/- 0.02) [Random Forest]\n",
      "Accuracy: 0.73 (+/- 0.03) [Bagging]\n",
      "Accuracy: 0.68 (+/- 0.02) [Gradient Boost]\n",
      "Accuracy: 0.71 (+/- 0.03) [Naive Bayes AdaBoost]\n",
      "Accuracy: 0.70 (+/- 0.01) [Multi-layer Perceptron]\n",
      "Accuracy: 0.69 (+/- 0.00) [stacking]\n"
     ]
    }
   ],
   "source": [
    "clf_voting = VotingClassifier(estimators=[('rf', clf_rf), ('bag', clf_bag), ('boost', clf_boost), ('gb', clf_gb), ('xt', clf_xdt), ('nn', clf_nn)], voting='soft')\n",
    "for MV, label in zip([clf_rf, clf_bag, clf_boost, clf_gb, clf_xdt, clf_nn, clf_voting], \n",
    "                     ['Random Forest', 'Bagging', 'Gradient Boost', 'Naive Bayes AdaBoost', 'Multi-layer Perceptron', 'stacking']):\n",
    "    scores = cross_val_score(MV, X_train, y_train, cv=10, scoring='accuracy')\n",
    "    print(\"Accuracy: %0.2f (+/- %0.2f) [%s]\" % (scores.mean(), scores.std(), label))"
   ]
  },
  {
   "cell_type": "code",
   "execution_count": 1018,
   "metadata": {},
   "outputs": [
    {
     "name": "stdout",
     "output_type": "stream",
     "text": [
      "Accuracy 0.693121693122\n",
      "             precision    recall  f1-score   support\n",
      "\n",
      "         No       0.33      0.02      0.03        57\n",
      "        Yes       0.70      0.98      0.82       132\n",
      "\n",
      "avg / total       0.59      0.69      0.58       189\n",
      "\n",
      "[[  1  56]\n",
      " [  2 130]]\n"
     ]
    }
   ],
   "source": [
    "clf_voting.fit(X_train, y_train)\n",
    "expected_voting = y_test\n",
    "predicted_voting = clf_voting.predict(X_test)\n",
    "print(\"Accuracy\", accuracy_score(expected_voting,predicted_voting))\n",
    "print(classification_report(expected_voting, predicted_voting,target_names=['No', 'Yes']))\n",
    "print(confusion_matrix(expected_voting, predicted_voting))"
   ]
  },
  {
   "cell_type": "code",
   "execution_count": 1016,
   "metadata": {},
   "outputs": [
    {
     "name": "stdout",
     "output_type": "stream",
     "text": [
      "Cross Validation Score for each K:  [ 0.71111111  0.71111111  0.68888889  0.68888889  0.74418605  0.72093023\n",
      "  0.69767442  0.74418605  0.72093023  0.76744186]\n",
      "Cross Validation Score mean:  0.719534883721\n",
      "Cross Validation Max and Min Score difference from mean score:  0.030645994832 0.0479069767442\n"
     ]
    }
   ],
   "source": [
    "scores = cross_val_score(clf_voting, X_train, y_train, cv=10)\n",
    "print(\"Cross Validation Score for each K: \", scores)\n",
    "print(\"Cross Validation Score mean: \", scores.mean())\n",
    "print(\"Cross Validation Max and Min Score difference from mean score: \", scores.mean()-min(scores), max(scores)-scores.mean())"
   ]
  },
  {
   "cell_type": "markdown",
   "metadata": {},
   "source": [
    "## Summary"
   ]
  },
  {
   "cell_type": "markdown",
   "metadata": {},
   "source": [
    "1. The Best models is those with higher recall and precision ratios on resolved status is true. \n",
    "2. I used Grid Search to determine the best parameters for each classification models.\n",
    "3. XGBoost is a much faster model than Gradient Boosting. But its 10-fold validations failed on overfitting.  Six out of fourteen models are overfitting.  Overfitting is determined by 10-fold cross validation accuracy is greater than 5% from the mean accuracy. Overfitting happens when the model is too specific only to the training dataset, and the model does not do well with new dataset.  \n",
    "4. The final model we picked is an ensemble model combining best models: Random Forest, Bagging, Adaboost, Extra Trees, Gradient Boosting, Multi-layer Perceptron. This model's accuracy is 69.3%, precision 70%, recall 98% on target resolved status is true, and 10-fold cross validations mean accuracy 71.9%.\n",
    "\n",
    "                                    \n",
    "                                    Table 1. Classification Models Results\n",
    "                                        \n",
    "| Models | Best Parameters| Accuracy | Precision Target=1| Recall Target=1| 10-fold CV Mean| 10-fold CV Overfitting\n",
    "| :---------:|:-----:|:------------------:|:------------------:|:-------:|:-----------------------:|:----:|------------------:|\n",
    "| Logistic Regression | None | 0.582 |0.7 |0.7 | 0.546| Yes|\n",
    "| KNN            | n_neighbors=25| 0.698 | 0.70 | 0.99 | 0.696 | Yes |\n",
    "| Decision Tree  | criterion='gini', min_samples_leaf = 4, min_samples_split = 5 | 0.608 | 0.75 | 0.66| 0.635 | Yes |   \n",
    "| Random Forest  | max_features = 'auto', min_samples_leaf = 4, min_samples_split = 4, n_estimators=1000 | 0.698 | 0.71 | 0.97 | 0.71 | No |\n",
    "| SVM Linear | kernel='linear', C=0.01, class_weight='balanced', gamma='auto' | 0.703 | 0.70 | 1.0| 0.689 | No |\n",
    "| Bagging  | n_estimators=300, max_features=40 | 0.693 | 0.70 | 0.97 | 0.728 | No |\n",
    "| Naive Bayes | None | 0.597 | 0.68 | 0.81 | 0.611 | Yes |\n",
    "| Adaboost | base_estimator=MultinomialNB(),algorithm=\"SAMME\",n_estimators=700,learning_rate=0.003 | 0.682 |0.69 | 0.98 | 0.68 | No |\n",
    "| Extra Trees | criterion = 'gini', max_depth=50,n_estimators=100,min_samples_split=10,min_samples_leaf=5 | 0.693 | 0.70 | 0.98 | 0.698 | No |\n",
    "| Gradient Boosting | n_estimators=1000, learning_rate=0.07, max_depth = 4 | 0.677 | 0.73 | 0.85 | 0.712 | No |\n",
    "| XGBoost | colsample_bytree=1,learning_rate=0.06,max_depth = 3,min_child_weight=11,n_estimators=1000,objective=\"binary:logistic\",subsample = 0.6,seed = 1337 | 0.619 | 0.69 | 0.83 | 0.695 | Yes\n",
    "| Multi-layer Perceptron | activation='relu', alpha=1e-05, batch_size='auto', beta_1=0.9, beta_2=0.999, early_stopping=False,epsilon=1e-08, hidden_layer_sizes=(10, 1), learning_rate='constant', learning_rate_init=0.001, max_iter=100, momentum=0.9,nesterovs_momentum=True, power_t=0.5, random_state=1, shuffle=True,solver='lbfgs', tol=0.0001, validation_fraction=0.1, verbose=False,warm_start=False | 0.698 | 0.70 | 1.0 | 0.694 | No |\n",
    "| Stochastic Gradient Descent| loss=\"log\", penalty=\"elasticnet\" | 0.56 | 0.70 | 0.65 | 0.528 | Yes |\n",
    "| Stacking | estimators=[('rf', clf_rf), ('bag', clf_bag), ('boost', clf_boost), ('gb', clf_gb), ('xt', clf_xdt), ('nn', clf_nn)], voting='soft' | 0.693 | 0.70 | 0.98 | 0.719 | No |\n"
   ]
  },
  {
   "cell_type": "markdown",
   "metadata": {},
   "source": [
    "### END"
   ]
  }
 ],
 "metadata": {
  "kernelspec": {
   "display_name": "Python 3",
   "language": "python",
   "name": "python3"
  },
  "language_info": {
   "codemirror_mode": {
    "name": "ipython",
    "version": 3
   },
   "file_extension": ".py",
   "mimetype": "text/x-python",
   "name": "python",
   "nbconvert_exporter": "python",
   "pygments_lexer": "ipython3",
   "version": "3.6.1"
  }
 },
 "nbformat": 4,
 "nbformat_minor": 2
}
