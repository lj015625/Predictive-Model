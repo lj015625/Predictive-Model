{
 "cells": [
  {
   "cell_type": "markdown",
   "metadata": {
    "collapsed": true,
    "pycharm": {
     "name": "#%%import numpy as np\n"
    }
   },
   "source": [
    "### Leonardo Ji\n",
    "#### Example notebook break downs to four sections:\n",
    "* EDA\n",
    "* Feature Engineering\n",
    "* Feature Selections\n",
    "* Modeling"
   ]
  },
  {
   "cell_type": "code",
   "execution_count": 226,
   "metadata": {},
   "outputs": [],
   "source": [
    "import pandas as pd\n",
    "import numpy as np\n",
    "import matplotlib.pyplot as plt\n",
    "import matplotlib.animation as animation\n",
    "import seaborn as sns\n",
    "import warnings\n",
    "from scipy.stats import pearsonr"
   ]
  },
  {
   "cell_type": "markdown",
   "metadata": {},
   "source": [
    "### EDA"
   ]
  },
  {
   "cell_type": "code",
   "execution_count": 227,
   "metadata": {
    "pycharm": {
     "name": "#%%\n"
    }
   },
   "outputs": [
    {
     "name": "stdout",
     "output_type": "stream",
     "text": [
      "(151, 14)\n"
     ]
    },
    {
     "data": {
      "text/html": [
       "<div>\n",
       "<style scoped>\n",
       "    .dataframe tbody tr th:only-of-type {\n",
       "        vertical-align: middle;\n",
       "    }\n",
       "\n",
       "    .dataframe tbody tr th {\n",
       "        vertical-align: top;\n",
       "    }\n",
       "\n",
       "    .dataframe thead th {\n",
       "        text-align: right;\n",
       "    }\n",
       "</style>\n",
       "<table border=\"1\" class=\"dataframe\">\n",
       "  <thead>\n",
       "    <tr style=\"text-align: right;\">\n",
       "      <th></th>\n",
       "      <th>Date</th>\n",
       "      <th>Stone</th>\n",
       "      <th>Pounds</th>\n",
       "      <th>Ounces</th>\n",
       "      <th>weight_oz</th>\n",
       "      <th>calories</th>\n",
       "      <th>cals_per_oz</th>\n",
       "      <th>five_donuts</th>\n",
       "      <th>walk</th>\n",
       "      <th>run</th>\n",
       "      <th>wine</th>\n",
       "      <th>prot</th>\n",
       "      <th>weight</th>\n",
       "      <th>change</th>\n",
       "    </tr>\n",
       "  </thead>\n",
       "  <tbody>\n",
       "    <tr>\n",
       "      <th>0</th>\n",
       "      <td>7/30/2018</td>\n",
       "      <td>12.0</td>\n",
       "      <td>2.0</td>\n",
       "      <td>6.0</td>\n",
       "      <td>2726.0</td>\n",
       "      <td>1950.0</td>\n",
       "      <td>0.72</td>\n",
       "      <td>1.0</td>\n",
       "      <td>1.0</td>\n",
       "      <td>0.0</td>\n",
       "      <td>0.0</td>\n",
       "      <td>0.0</td>\n",
       "      <td>0.0</td>\n",
       "      <td>-30.0</td>\n",
       "    </tr>\n",
       "    <tr>\n",
       "      <th>1</th>\n",
       "      <td>7/31/2018</td>\n",
       "      <td>12.0</td>\n",
       "      <td>0.0</td>\n",
       "      <td>8.0</td>\n",
       "      <td>2696.0</td>\n",
       "      <td>2600.0</td>\n",
       "      <td>0.96</td>\n",
       "      <td>1.0</td>\n",
       "      <td>0.0</td>\n",
       "      <td>0.0</td>\n",
       "      <td>0.0</td>\n",
       "      <td>0.0</td>\n",
       "      <td>0.0</td>\n",
       "      <td>8.0</td>\n",
       "    </tr>\n",
       "    <tr>\n",
       "      <th>2</th>\n",
       "      <td>8/1/2018</td>\n",
       "      <td>12.0</td>\n",
       "      <td>1.0</td>\n",
       "      <td>0.0</td>\n",
       "      <td>2704.0</td>\n",
       "      <td>2500.0</td>\n",
       "      <td>0.92</td>\n",
       "      <td>1.0</td>\n",
       "      <td>1.0</td>\n",
       "      <td>0.0</td>\n",
       "      <td>0.0</td>\n",
       "      <td>0.0</td>\n",
       "      <td>0.0</td>\n",
       "      <td>0.0</td>\n",
       "    </tr>\n",
       "    <tr>\n",
       "      <th>3</th>\n",
       "      <td>8/2/2018</td>\n",
       "      <td>12.0</td>\n",
       "      <td>1.0</td>\n",
       "      <td>0.0</td>\n",
       "      <td>2704.0</td>\n",
       "      <td>1850.0</td>\n",
       "      <td>0.68</td>\n",
       "      <td>1.0</td>\n",
       "      <td>1.0</td>\n",
       "      <td>0.0</td>\n",
       "      <td>1.0</td>\n",
       "      <td>0.0</td>\n",
       "      <td>0.0</td>\n",
       "      <td>-40.0</td>\n",
       "    </tr>\n",
       "    <tr>\n",
       "      <th>4</th>\n",
       "      <td>8/3/2018</td>\n",
       "      <td>11.0</td>\n",
       "      <td>12.0</td>\n",
       "      <td>8.0</td>\n",
       "      <td>2664.0</td>\n",
       "      <td>2900.0</td>\n",
       "      <td>1.09</td>\n",
       "      <td>1.0</td>\n",
       "      <td>1.0</td>\n",
       "      <td>0.0</td>\n",
       "      <td>0.0</td>\n",
       "      <td>0.0</td>\n",
       "      <td>0.0</td>\n",
       "      <td>14.0</td>\n",
       "    </tr>\n",
       "  </tbody>\n",
       "</table>\n",
       "</div>"
      ],
      "text/plain": [
       "        Date  Stone  Pounds  Ounces  weight_oz  calories cals_per_oz  \\\n",
       "0  7/30/2018   12.0     2.0     6.0     2726.0    1950.0        0.72   \n",
       "1  7/31/2018   12.0     0.0     8.0     2696.0    2600.0        0.96   \n",
       "2   8/1/2018   12.0     1.0     0.0     2704.0    2500.0        0.92   \n",
       "3   8/2/2018   12.0     1.0     0.0     2704.0    1850.0        0.68   \n",
       "4   8/3/2018   11.0    12.0     8.0     2664.0    2900.0        1.09   \n",
       "\n",
       "   five_donuts  walk  run  wine  prot  weight  change  \n",
       "0          1.0   1.0  0.0   0.0   0.0     0.0   -30.0  \n",
       "1          1.0   0.0  0.0   0.0   0.0     0.0     8.0  \n",
       "2          1.0   1.0  0.0   0.0   0.0     0.0     0.0  \n",
       "3          1.0   1.0  0.0   1.0   0.0     0.0   -40.0  \n",
       "4          1.0   1.0  0.0   0.0   0.0     0.0    14.0  "
      ]
     },
     "execution_count": 227,
     "metadata": {},
     "output_type": "execute_result"
    }
   ],
   "source": [
    "diet_df = pd.read_csv('../data/diet_data.csv')\n",
    "print(diet_df.shape)\n",
    "diet_df.head()"
   ]
  },
  {
   "cell_type": "code",
   "execution_count": 228,
   "metadata": {},
   "outputs": [
    {
     "name": "stdout",
     "output_type": "stream",
     "text": [
      "Date   object\n",
      "Stone   float64\n",
      "Pounds   float64\n",
      "Ounces   float64\n",
      "weight_oz   float64\n",
      "calories   float64\n",
      "cals_per_oz   object\n",
      "five_donuts   float64\n",
      "walk   float64\n",
      "run   float64\n",
      "wine   float64\n",
      "prot   float64\n",
      "weight   float64\n",
      "change   float64\n"
     ]
    }
   ],
   "source": [
    "for col in diet_df.columns:\n",
    "    print(col, ' ', diet_df[col].dtype)"
   ]
  },
  {
   "cell_type": "code",
   "execution_count": 229,
   "metadata": {},
   "outputs": [],
   "source": [
    "diet_df['Date'] = pd.to_datetime(diet_df['Date'])"
   ]
  },
  {
   "cell_type": "code",
   "execution_count": 230,
   "metadata": {},
   "outputs": [
    {
     "data": {
      "text/html": [
       "<div>\n",
       "<style scoped>\n",
       "    .dataframe tbody tr th:only-of-type {\n",
       "        vertical-align: middle;\n",
       "    }\n",
       "\n",
       "    .dataframe tbody tr th {\n",
       "        vertical-align: top;\n",
       "    }\n",
       "\n",
       "    .dataframe thead th {\n",
       "        text-align: right;\n",
       "    }\n",
       "</style>\n",
       "<table border=\"1\" class=\"dataframe\">\n",
       "  <thead>\n",
       "    <tr style=\"text-align: right;\">\n",
       "      <th></th>\n",
       "      <th>column_name</th>\n",
       "      <th>missing_count</th>\n",
       "    </tr>\n",
       "  </thead>\n",
       "  <tbody>\n",
       "    <tr>\n",
       "      <th>8</th>\n",
       "      <td>walk</td>\n",
       "      <td>11</td>\n",
       "    </tr>\n",
       "    <tr>\n",
       "      <th>9</th>\n",
       "      <td>run</td>\n",
       "      <td>11</td>\n",
       "    </tr>\n",
       "    <tr>\n",
       "      <th>10</th>\n",
       "      <td>wine</td>\n",
       "      <td>11</td>\n",
       "    </tr>\n",
       "    <tr>\n",
       "      <th>11</th>\n",
       "      <td>prot</td>\n",
       "      <td>11</td>\n",
       "    </tr>\n",
       "    <tr>\n",
       "      <th>12</th>\n",
       "      <td>weight</td>\n",
       "      <td>11</td>\n",
       "    </tr>\n",
       "  </tbody>\n",
       "</table>\n",
       "</div>"
      ],
      "text/plain": [
       "   column_name  missing_count\n",
       "8         walk             11\n",
       "9          run             11\n",
       "10        wine             11\n",
       "11        prot             11\n",
       "12      weight             11"
      ]
     },
     "execution_count": 230,
     "metadata": {},
     "output_type": "execute_result"
    }
   ],
   "source": [
    "missing_df = diet_df.isnull().sum(axis=0).reset_index()\n",
    "missing_df.columns = ['column_name', 'missing_count']\n",
    "missing_df = missing_df.loc[missing_df['missing_count']>0]\n",
    "missing_df = missing_df.sort_values(by='missing_count')\n",
    "missing_df.tail()"
   ]
  },
  {
   "cell_type": "code",
   "execution_count": 231,
   "metadata": {},
   "outputs": [
    {
     "data": {
      "image/png": "[encoded data removed]",
      "text/plain": [
       "<Figure size 864x1296 with 1 Axes>"
      ]
     },
     "metadata": {
      "needs_background": "light"
     },
     "output_type": "display_data"
    }
   ],
   "source": [
    "ind = np.arange(missing_df.shape[0])\n",
    "width = 0.9\n",
    "fig, ax = plt.subplots(figsize=(12,18))\n",
    "rects = ax.barh(ind, missing_df.missing_count.values, color='red')\n",
    "ax.set_yticks(ind)\n",
    "ax.set_yticklabels(missing_df.column_name.values, rotation='horizontal')\n",
    "ax.set_xlabel(\"Count of missing values\")\n",
    "ax.set_title(\"Number of missing values in each column\")\n",
    "plt.show()"
   ]
  },
  {
   "cell_type": "code",
   "execution_count": 232,
   "metadata": {},
   "outputs": [
    {
     "data": {
      "text/plain": [
       "(140, 14)"
      ]
     },
     "execution_count": 232,
     "metadata": {},
     "output_type": "execute_result"
    }
   ],
   "source": [
    "diet_df.dropna(subset=['Date', 'weight_oz', 'weight'], inplace=True)\n",
    "diet_df.shape"
   ]
  },
  {
   "cell_type": "code",
   "execution_count": 233,
   "metadata": {},
   "outputs": [
    {
     "data": {
      "text/plain": [
       "['five_donuts', 'walk', 'run', 'wine', 'prot', 'weight']"
      ]
     },
     "execution_count": 233,
     "metadata": {},
     "output_type": "execute_result"
    }
   ],
   "source": [
    "bin_cols = [col for col in diet_df if diet_df[col].value_counts().index.isin([0, 1]).all()]\n",
    "bin_cols"
   ]
  },
  {
   "cell_type": "code",
   "execution_count": 234,
   "metadata": {},
   "outputs": [
    {
     "data": {
      "text/plain": [
       "['calories']"
      ]
     },
     "execution_count": 234,
     "metadata": {},
     "output_type": "execute_result"
    }
   ],
   "source": [
    "# exclude date, target related columns\n",
    "exclude = ['Date', 'change', 'weight_oz', 'Stone', 'Pounds', 'Ounces', 'cals_per_oz'] + bin_cols\n",
    "cont_cols = [col for col in diet_df.columns.tolist() if col not in exclude]\n",
    "cont_cols"
   ]
  },
  {
   "cell_type": "code",
   "execution_count": 235,
   "metadata": {},
   "outputs": [],
   "source": [
    "medians = diet_df[cont_cols].median().to_dict()\n",
    "diet_df[cont_cols] = diet_df[cont_cols].fillna(medians)"
   ]
  },
  {
   "cell_type": "code",
   "execution_count": 236,
   "metadata": {},
   "outputs": [
    {
     "data": {
      "image/png": "[encoded data removed]",
      "text/plain": [
       "<Figure size 360x360 with 1 Axes>"
      ]
     },
     "metadata": {
      "needs_background": "light"
     },
     "output_type": "display_data"
    }
   ],
   "source": [
    "g = sns.relplot(x=\"Date\", y=\"weight_oz\", kind=\"line\", data=diet_df)\n",
    "g.figure.autofmt_xdate()"
   ]
  },
  {
   "cell_type": "code",
   "execution_count": 237,
   "metadata": {},
   "outputs": [
    {
     "data": {
      "text/plain": [
       "<seaborn.axisgrid.FacetGrid at 0x15f89dad908>"
      ]
     },
     "execution_count": 237,
     "metadata": {},
     "output_type": "execute_result"
    },
    {
     "data": {
      "image/png": "[encoded data removed]",
      "text/plain": [
       "<Figure size 360x360 with 1 Axes>"
      ]
     },
     "metadata": {
      "needs_background": "light"
     },
     "output_type": "display_data"
    }
   ],
   "source": [
    "sns.relplot(x=diet_df.calories, y=diet_df.change)"
   ]
  },
  {
   "cell_type": "markdown",
   "metadata": {},
   "source": [
    "### Feature Engineering"
   ]
  },
  {
   "cell_type": "code",
   "execution_count": 238,
   "metadata": {},
   "outputs": [
    {
     "name": "stdout",
     "output_type": "stream",
     "text": [
      "(140, 14)\n",
      "[]\n",
      "(140, 14)\n"
     ]
    }
   ],
   "source": [
    "# find columns with less than 0.01% prevalence\n",
    "threshold = 0.001\n",
    "\n",
    "cols_drop = []\n",
    "for col in bin_cols:\n",
    "    if(diet_df[col].sum() / diet_df.shape[0] < threshold):\n",
    "        cols_drop.append(col)\n",
    "        \n",
    "## drop columns below threshold\n",
    "print(diet_df.shape)\n",
    "print(cols_drop)\n",
    "diet_df.drop(cols_drop, axis = 1, inplace=True)\n",
    "print(diet_df.shape)"
   ]
  },
  {
   "cell_type": "code",
   "execution_count": 239,
   "metadata": {},
   "outputs": [],
   "source": [
    "def _corr(df_, threshold = 0.95, impute = 0, keep=[]):\n",
    "    '''\n",
    "    A function to find the ocrrelated variables\n",
    "    inputs :\n",
    "            df : dataframe\n",
    "            threshold : correlation threshold value as a cut-off\n",
    "            impute : string for dataframes with Null values : can be \"mean\" and \"median\"\n",
    "                     If nothing passes, it will be None. Pandas by default drops the null values\n",
    "    output : pruned dataframe\n",
    "    '''\n",
    "    # check for imputation\n",
    "    if(impute == \"median\"):\n",
    "        df = df_.copy()\n",
    "        df.fillna(df.median(), inplace = True)\n",
    "    elif(impute == \"mean\"):\n",
    "        df = df_.copy()\n",
    "        df.fillna(df.mean(), inplace = True)\n",
    "    else:\n",
    "        df = df_.copy()\n",
    "        \n",
    "        \n",
    "    # pair-wised correlation:\n",
    "        # methods can be pearosn, kendall, and spearman\n",
    "        # min_periods sets the minimum number of observation for each feature\n",
    "    corr = df.corr(method = \"pearson\", min_periods = 1)\n",
    "    \n",
    "    # mean of absoulte value of the of each column of the correlation matrix\n",
    "    mean_corr_col = abs(corr).mean(axis = 1)\n",
    "    \n",
    "    # empty list for adding correlated columns\n",
    "    correlated_cols = []\n",
    "    for i in range(len(corr)):\n",
    "        for j in range(len(corr)):\n",
    "            # skip this round if one of them is already removed\n",
    "            if(i != j and corr.iloc[i,j] > threshold and corr.columns[i] not in correlated_cols and corr.columns[j] not in correlated_cols):\n",
    "            \n",
    "                if (corr.columns[j] in keep):\n",
    "                    correlated_cols.append(corr.columns[i])\n",
    "                    print('Keep: ',corr.columns[j], ' Remove: ',corr.columns[i])\n",
    "                elif (mean_corr_col[i] >= mean_corr_col[j]):\n",
    "                    correlated_cols.append(corr.columns[i])\n",
    "                    print('Keep: ',corr.columns[j], mean_corr_col[j], ' Remove: ',corr.columns[i], mean_corr_col[i])\n",
    "                    \n",
    "    # dropping correlated features\n",
    "    drops = list(set(correlated_cols))\n",
    "    print('Dropping below: ', drops)\n",
    "    df_pruned = df.drop(drops, axis = 1)\n",
    "    \n",
    "    return df_pruned"
   ]
  },
  {
   "cell_type": "code",
   "execution_count": 240,
   "metadata": {},
   "outputs": [
    {
     "name": "stdout",
     "output_type": "stream",
     "text": [
      "Dropping below:  []\n",
      "(140, 14)\n"
     ]
    }
   ],
   "source": [
    "diet_df = _corr(diet_df, threshold = 0.80, impute = 0, keep=['weight_oz','weight','change'])\n",
    "print(diet_df.shape)"
   ]
  },
  {
   "cell_type": "markdown",
   "metadata": {},
   "source": [
    "### Feature Selection"
   ]
  },
  {
   "cell_type": "code",
   "execution_count": 241,
   "metadata": {},
   "outputs": [
    {
     "name": "stdout",
     "output_type": "stream",
     "text": [
      "(140, 14)\n"
     ]
    },
    {
     "data": {
      "text/plain": [
       "(140, 21)"
      ]
     },
     "execution_count": 241,
     "metadata": {},
     "output_type": "execute_result"
    }
   ],
   "source": [
    "# add random shuffled columns for feature selection threshold later\n",
    "from sklearn.utils import shuffle\n",
    "def permute(df, exclude=[]):\n",
    "    \"\"\"\n",
    "    a funtion to permute the rows of features and add them\n",
    "    to the dataframe as noisy features to explore stability\n",
    "    \"\"\"\n",
    "    ids = [col for col in df.columns.tolist() if col not in exclude]\n",
    "    noisy_df = df.loc[:, ids].copy()\n",
    "    noisy_df.rename(columns = {col : \"random_\" + col for col in noisy_df.columns}, inplace = True)\n",
    "    noisy_df = noisy_df.reindex(shuffle(noisy_df.index)).reset_index(drop = True)\n",
    "    merged_df = pd.concat([df.reset_index(drop = True), noisy_df] , axis = 1)\n",
    "    return merged_df\n",
    "\n",
    "diet_df.shape\n",
    "print(diet_df.shape)\n",
    "\n",
    "df = permute(diet_df, ['Date', 'change', 'weight_oz', 'Stone', 'Pounds', 'Ounces', 'cals_per_oz'])\n",
    "df.shape"
   ]
  },
  {
   "cell_type": "code",
   "execution_count": 242,
   "metadata": {},
   "outputs": [
    {
     "name": "stdout",
     "output_type": "stream",
     "text": [
      "12\n",
      "2\n"
     ]
    }
   ],
   "source": [
    "# separate features to binary and continuous features\n",
    "\n",
    "cols = [col for col in df.columns.tolist() if col not in ['Date', 'change', 'weight_oz', 'Stone', 'Pounds', 'Ounces', 'cals_per_oz']]\n",
    "features = df.loc[:, cols]\n",
    "bin_cols = [col for col in features if features[col].value_counts().index.isin([0, 1]).all()]\n",
    "cont_cols = [col for col in features.columns.tolist() if col not in bin_cols]\n",
    "print(len(bin_cols))\n",
    "print(len(cont_cols))"
   ]
  },
  {
   "cell_type": "code",
   "execution_count": 243,
   "metadata": {},
   "outputs": [
    {
     "name": "stdout",
     "output_type": "stream",
     "text": [
      "(140, 12)\n",
      "(140,)\n"
     ]
    }
   ],
   "source": [
    "## create tes-train split\n",
    "X=df[bin_cols]\n",
    "Y=df['change']\n",
    "## print df shape\n",
    "print(X.shape)\n",
    "print(Y.shape)"
   ]
  },
  {
   "cell_type": "code",
   "execution_count": 244,
   "metadata": {},
   "outputs": [
    {
     "name": "stdout",
     "output_type": "stream",
     "text": [
      "Fitting 10 folds for each of 1 candidates, totalling 10 fits\n",
      "[00:16:13] WARNING: C:/Users/Administrator/workspace/xgboost-win64_release_1.4.0/src/learner.cc:573: \n",
      "Parameters: { \"bootstrap\", \"oob_score\" } might not be used.\n",
      "\n",
      "  This may not be accurate due to some parameters are only used in language bindings but\n",
      "  passed down to XGBoost core.  Or some parameters are not used but slip through this\n",
      "  verification. Please open an issue if you find above cases.\n",
      "\n",
      "\n",
      "[CV] END ....bootstrap=True, n_estimators=10, oob_score=True; total time=   0.0s\n",
      "[00:16:13] WARNING: C:/Users/Administrator/workspace/xgboost-win64_release_1.4.0/src/learner.cc:573: \n",
      "Parameters: { \"bootstrap\", \"oob_score\" } might not be used.\n",
      "\n",
      "  This may not be accurate due to some parameters are only used in language bindings but\n",
      "  passed down to XGBoost core.  Or some parameters are not used but slip through this\n",
      "  verification. Please open an issue if you find above cases.\n",
      "\n",
      "\n",
      "[CV] END ....bootstrap=True, n_estimators=10, oob_score=True; total time=   0.0s\n",
      "[00:16:13] WARNING: C:/Users/Administrator/workspace/xgboost-win64_release_1.4.0/src/learner.cc:573: \n",
      "Parameters: { \"bootstrap\", \"oob_score\" } might not be used.\n",
      "\n",
      "  This may not be accurate due to some parameters are only used in language bindings but\n",
      "  passed down to XGBoost core.  Or some parameters are not used but slip through this\n",
      "  verification. Please open an issue if you find above cases.\n",
      "\n",
      "\n",
      "[CV] END ....bootstrap=True, n_estimators=10, oob_score=True; total time=   0.0s\n",
      "[00:16:13] WARNING: C:/Users/Administrator/workspace/xgboost-win64_release_1.4.0/src/learner.cc:573: \n",
      "Parameters: { \"bootstrap\", \"oob_score\" } might not be used.\n",
      "\n",
      "  This may not be accurate due to some parameters are only used in language bindings but\n",
      "  passed down to XGBoost core.  Or some parameters are not used but slip through this\n",
      "  verification. Please open an issue if you find above cases.\n",
      "\n",
      "\n",
      "[CV] END ....bootstrap=True, n_estimators=10, oob_score=True; total time=   0.0s\n",
      "[00:16:13] WARNING: C:/Users/Administrator/workspace/xgboost-win64_release_1.4.0/src/learner.cc:573: \n",
      "Parameters: { \"bootstrap\", \"oob_score\" } might not be used.\n",
      "\n",
      "  This may not be accurate due to some parameters are only used in language bindings but\n",
      "  passed down to XGBoost core.  Or some parameters are not used but slip through this\n",
      "  verification. Please open an issue if you find above cases.\n",
      "\n",
      "\n",
      "[CV] END ....bootstrap=True, n_estimators=10, oob_score=True; total time=   0.0s\n",
      "[00:16:13] WARNING: C:/Users/Administrator/workspace/xgboost-win64_release_1.4.0/src/learner.cc:573: \n",
      "Parameters: { \"bootstrap\", \"oob_score\" } might not be used.\n",
      "\n",
      "  This may not be accurate due to some parameters are only used in language bindings but\n",
      "  passed down to XGBoost core.  Or some parameters are not used but slip through this\n",
      "  verification. Please open an issue if you find above cases.\n",
      "\n",
      "\n",
      "[CV] END ....bootstrap=True, n_estimators=10, oob_score=True; total time=   0.0s\n",
      "[00:16:13] WARNING: C:/Users/Administrator/workspace/xgboost-win64_release_1.4.0/src/learner.cc:573: \n",
      "Parameters: { \"bootstrap\", \"oob_score\" } might not be used.\n",
      "\n",
      "  This may not be accurate due to some parameters are only used in language bindings but\n",
      "  passed down to XGBoost core.  Or some parameters are not used but slip through this\n",
      "  verification. Please open an issue if you find above cases.\n",
      "\n",
      "\n",
      "[CV] END ....bootstrap=True, n_estimators=10, oob_score=True; total time=   0.0s\n",
      "[00:16:13] WARNING: C:/Users/Administrator/workspace/xgboost-win64_release_1.4.0/src/learner.cc:573: \n",
      "Parameters: { \"bootstrap\", \"oob_score\" } might not be used.\n",
      "\n",
      "  This may not be accurate due to some parameters are only used in language bindings but\n",
      "  passed down to XGBoost core.  Or some parameters are not used but slip through this\n",
      "  verification. Please open an issue if you find above cases.\n",
      "\n",
      "\n",
      "[CV] END ....bootstrap=True, n_estimators=10, oob_score=True; total time=   0.0s\n",
      "[00:16:13] WARNING: C:/Users/Administrator/workspace/xgboost-win64_release_1.4.0/src/learner.cc:573: \n",
      "Parameters: { \"bootstrap\", \"oob_score\" } might not be used.\n",
      "\n",
      "  This may not be accurate due to some parameters are only used in language bindings but\n",
      "  passed down to XGBoost core.  Or some parameters are not used but slip through this\n",
      "  verification. Please open an issue if you find above cases.\n",
      "\n",
      "\n",
      "[CV] END ....bootstrap=True, n_estimators=10, oob_score=True; total time=   0.0s\n",
      "[00:16:13] WARNING: C:/Users/Administrator/workspace/xgboost-win64_release_1.4.0/src/learner.cc:573: \n",
      "Parameters: { \"bootstrap\", \"oob_score\" } might not be used.\n",
      "\n",
      "  This may not be accurate due to some parameters are only used in language bindings but\n",
      "  passed down to XGBoost core.  Or some parameters are not used but slip through this\n",
      "  verification. Please open an issue if you find above cases.\n",
      "\n",
      "\n",
      "[CV] END ....bootstrap=True, n_estimators=10, oob_score=True; total time=   0.0s\n",
      "[00:16:13] WARNING: C:/Users/Administrator/workspace/xgboost-win64_release_1.4.0/src/learner.cc:573: \n",
      "Parameters: { \"bootstrap\", \"oob_score\" } might not be used.\n",
      "\n",
      "  This may not be accurate due to some parameters are only used in language bindings but\n",
      "  passed down to XGBoost core.  Or some parameters are not used but slip through this\n",
      "  verification. Please open an issue if you find above cases.\n",
      "\n",
      "\n"
     ]
    }
   ],
   "source": [
    "# import xgboost as xg\n",
    "\n",
    "# dtrain = xgb.DMatrix(data = X, label = Y)\n",
    "# xgb_params = {\"eval_metric\" : \"rmse\",\n",
    "#                   \"tree_method\": \"hist\",\n",
    "#                   \"objective\" : \"reg:squarederror\",\n",
    "#                   \"max_delta_step\": 1,\n",
    "#                   \"nthread\" : 1,\n",
    "#                   \"scale_pos_weight\" : 1,\n",
    "#                   \"reg_alpha\" : 0.0,\n",
    "#                   \"reg_lambda\" : 1.0,\n",
    "#                   \"learning_rate\" : 0.05,\n",
    "#                   \"max_depth\": 2,\n",
    "#                   \"min_child_weight\": 5,\n",
    "#                   \"gamma\" : 0.0,\n",
    "#                   \"subsample\" : 1.0,\n",
    "#                   \"colsample_bytree\" : 0.9 \n",
    "#                  }\n",
    "# bst = xgb.train(params = xgb_params,\n",
    "#                     dtrain = dtrain,\n",
    "#                     num_boost_round = 10)\n",
    "\n",
    "\n",
    "from xgboost import XGBRFRegressor\n",
    "from sklearn.model_selection import GridSearchCV\n",
    "\n",
    "xgb_rf = XGBRFRegressor()\n",
    "\n",
    "param_grid = {\n",
    "    'bootstrap': [True],\n",
    "    'oob_score': [True],\n",
    "    'n_estimators': [10]\n",
    "}\n",
    "  \n",
    "xgb_grid_search = GridSearchCV(estimator = xgb_rf, param_grid = param_grid, \n",
    "                           cv = 10, verbose = 2)\n",
    "xgb_grid_search.fit(X, Y);\n"
   ]
  },
  {
   "cell_type": "code",
   "execution_count": 245,
   "metadata": {},
   "outputs": [
    {
     "data": {
      "image/png": "[encoded data removed]",
      "text/plain": [
       "<Figure size 432x288 with 1 Axes>"
      ]
     },
     "metadata": {
      "needs_background": "light"
     },
     "output_type": "display_data"
    }
   ],
   "source": [
    "from xgboost import plot_importance\n",
    "\n",
    "plot_importance(xgb_grid_search.best_estimator_, importance_type = \"total_gain\", color = \"skyblue\", xlabel = \"total_gain\")\n",
    "plt.show()   "
   ]
  },
  {
   "cell_type": "code",
   "execution_count": 246,
   "metadata": {},
   "outputs": [
    {
     "data": {
      "text/plain": [
       "['calories', 'random_calories']"
      ]
     },
     "execution_count": 246,
     "metadata": {},
     "output_type": "execute_result"
    }
   ],
   "source": [
    "cont_cols"
   ]
  },
  {
   "cell_type": "code",
   "execution_count": 247,
   "metadata": {},
   "outputs": [
    {
     "name": "stdout",
     "output_type": "stream",
     "text": [
      "(140, 2)\n",
      "(140,)\n"
     ]
    }
   ],
   "source": [
    "## create tes-train split\n",
    "X=df[cont_cols]\n",
    "Y=df['change']\n",
    "## print df shape\n",
    "print(X.shape)\n",
    "print(Y.shape)"
   ]
  },
  {
   "cell_type": "code",
   "execution_count": 248,
   "metadata": {},
   "outputs": [
    {
     "name": "stdout",
     "output_type": "stream",
     "text": [
      "Fitting 10 folds for each of 1 candidates, totalling 10 fits\n",
      "[00:16:14] WARNING: C:/Users/Administrator/workspace/xgboost-win64_release_1.4.0/src/learner.cc:573: \n",
      "Parameters: { \"bootstrap\", \"oob_score\" } might not be used.\n",
      "\n",
      "  This may not be accurate due to some parameters are only used in language bindings but\n",
      "  passed down to XGBoost core.  Or some parameters are not used but slip through this\n",
      "  verification. Please open an issue if you find above cases.\n",
      "\n",
      "\n",
      "[CV] END ....bootstrap=True, n_estimators=10, oob_score=True; total time=   0.0s\n",
      "[00:16:14] WARNING: C:/Users/Administrator/workspace/xgboost-win64_release_1.4.0/src/learner.cc:573: \n",
      "Parameters: { \"bootstrap\", \"oob_score\" } might not be used.\n",
      "\n",
      "  This may not be accurate due to some parameters are only used in language bindings but\n",
      "  passed down to XGBoost core.  Or some parameters are not used but slip through this\n",
      "  verification. Please open an issue if you find above cases.\n",
      "\n",
      "\n",
      "[CV] END ....bootstrap=True, n_estimators=10, oob_score=True; total time=   0.0s\n",
      "[00:16:14] WARNING: C:/Users/Administrator/workspace/xgboost-win64_release_1.4.0/src/learner.cc:573: \n",
      "Parameters: { \"bootstrap\", \"oob_score\" } might not be used.\n",
      "\n",
      "  This may not be accurate due to some parameters are only used in language bindings but\n",
      "  passed down to XGBoost core.  Or some parameters are not used but slip through this\n",
      "  verification. Please open an issue if you find above cases.\n",
      "\n",
      "\n",
      "[CV] END ....bootstrap=True, n_estimators=10, oob_score=True; total time=   0.0s\n",
      "[00:16:14] WARNING: C:/Users/Administrator/workspace/xgboost-win64_release_1.4.0/src/learner.cc:573: \n",
      "Parameters: { \"bootstrap\", \"oob_score\" } might not be used.\n",
      "\n",
      "  This may not be accurate due to some parameters are only used in language bindings but\n",
      "  passed down to XGBoost core.  Or some parameters are not used but slip through this\n",
      "  verification. Please open an issue if you find above cases.\n",
      "\n",
      "\n",
      "[CV] END ....bootstrap=True, n_estimators=10, oob_score=True; total time=   0.0s\n",
      "[00:16:14] WARNING: C:/Users/Administrator/workspace/xgboost-win64_release_1.4.0/src/learner.cc:573: \n",
      "Parameters: { \"bootstrap\", \"oob_score\" } might not be used.\n",
      "\n",
      "  This may not be accurate due to some parameters are only used in language bindings but\n",
      "  passed down to XGBoost core.  Or some parameters are not used but slip through this\n",
      "  verification. Please open an issue if you find above cases.\n",
      "\n",
      "\n",
      "[CV] END ....bootstrap=True, n_estimators=10, oob_score=True; total time=   0.0s\n",
      "[00:16:14] WARNING: C:/Users/Administrator/workspace/xgboost-win64_release_1.4.0/src/learner.cc:573: \n",
      "Parameters: { \"bootstrap\", \"oob_score\" } might not be used.\n",
      "\n",
      "  This may not be accurate due to some parameters are only used in language bindings but\n",
      "  passed down to XGBoost core.  Or some parameters are not used but slip through this\n",
      "  verification. Please open an issue if you find above cases.\n",
      "\n",
      "\n",
      "[CV] END ....bootstrap=True, n_estimators=10, oob_score=True; total time=   0.0s\n",
      "[00:16:14] WARNING: C:/Users/Administrator/workspace/xgboost-win64_release_1.4.0/src/learner.cc:573: \n",
      "Parameters: { \"bootstrap\", \"oob_score\" } might not be used.\n",
      "\n",
      "  This may not be accurate due to some parameters are only used in language bindings but\n",
      "  passed down to XGBoost core.  Or some parameters are not used but slip through this\n",
      "  verification. Please open an issue if you find above cases.\n",
      "\n",
      "\n",
      "[CV] END ....bootstrap=True, n_estimators=10, oob_score=True; total time=   0.0s\n",
      "[00:16:14] WARNING: C:/Users/Administrator/workspace/xgboost-win64_release_1.4.0/src/learner.cc:573: \n",
      "Parameters: { \"bootstrap\", \"oob_score\" } might not be used.\n",
      "\n",
      "  This may not be accurate due to some parameters are only used in language bindings but\n",
      "  passed down to XGBoost core.  Or some parameters are not used but slip through this\n",
      "  verification. Please open an issue if you find above cases.\n",
      "\n",
      "\n",
      "[CV] END ....bootstrap=True, n_estimators=10, oob_score=True; total time=   0.0s\n",
      "[00:16:14] WARNING: C:/Users/Administrator/workspace/xgboost-win64_release_1.4.0/src/learner.cc:573: \n",
      "Parameters: { \"bootstrap\", \"oob_score\" } might not be used.\n",
      "\n",
      "  This may not be accurate due to some parameters are only used in language bindings but\n",
      "  passed down to XGBoost core.  Or some parameters are not used but slip through this\n",
      "  verification. Please open an issue if you find above cases.\n",
      "\n",
      "\n",
      "[CV] END ....bootstrap=True, n_estimators=10, oob_score=True; total time=   0.0s\n",
      "[00:16:14] WARNING: C:/Users/Administrator/workspace/xgboost-win64_release_1.4.0/src/learner.cc:573: \n",
      "Parameters: { \"bootstrap\", \"oob_score\" } might not be used.\n",
      "\n",
      "  This may not be accurate due to some parameters are only used in language bindings but\n",
      "  passed down to XGBoost core.  Or some parameters are not used but slip through this\n",
      "  verification. Please open an issue if you find above cases.\n",
      "\n",
      "\n",
      "[CV] END ....bootstrap=True, n_estimators=10, oob_score=True; total time=   0.0s\n",
      "[00:16:14] WARNING: C:/Users/Administrator/workspace/xgboost-win64_release_1.4.0/src/learner.cc:573: \n",
      "Parameters: { \"bootstrap\", \"oob_score\" } might not be used.\n",
      "\n",
      "  This may not be accurate due to some parameters are only used in language bindings but\n",
      "  passed down to XGBoost core.  Or some parameters are not used but slip through this\n",
      "  verification. Please open an issue if you find above cases.\n",
      "\n",
      "\n"
     ]
    }
   ],
   "source": [
    "\n",
    "from xgboost import XGBRFRegressor\n",
    "from sklearn.model_selection import GridSearchCV\n",
    "\n",
    "xgb_rf = XGBRFRegressor()\n",
    "\n",
    "param_grid = {\n",
    "    'bootstrap': [True],\n",
    "    'oob_score': [True],\n",
    "    'n_estimators': [10]\n",
    "}\n",
    "  \n",
    "xgb_grid_search = GridSearchCV(estimator = xgb_rf, param_grid = param_grid, \n",
    "                           cv = 10, verbose = 2)\n",
    "xgb_grid_search.fit(X, Y);\n"
   ]
  },
  {
   "cell_type": "code",
   "execution_count": 249,
   "metadata": {},
   "outputs": [
    {
     "data": {
      "image/png": "[encoded data removed]",
      "text/plain": [
       "<Figure size 432x288 with 1 Axes>"
      ]
     },
     "metadata": {
      "needs_background": "light"
     },
     "output_type": "display_data"
    }
   ],
   "source": [
    "from xgboost import plot_importance\n",
    "\n",
    "plot_importance(xgb_grid_search.best_estimator_, importance_type = \"total_gain\", color = \"skyblue\", xlabel = \"total_gain\")\n",
    "plt.show()   "
   ]
  },
  {
   "cell_type": "markdown",
   "metadata": {},
   "source": [
    "### Modeling"
   ]
  },
  {
   "cell_type": "code",
   "execution_count": 253,
   "metadata": {},
   "outputs": [
    {
     "data": {
      "text/plain": [
       "{'calories': 3180.714285714286,\n",
       " 'walk': 0.6785714285714286,\n",
       " 'run': 0.25,\n",
       " 'wine': 0.30714285714285716,\n",
       " 'five_donuts': 0.37142857142857144}"
      ]
     },
     "execution_count": 253,
     "metadata": {},
     "output_type": "execute_result"
    }
   ],
   "source": [
    "features = ['calories', 'walk', 'run', 'wine', 'five_donuts']\n",
    "means = diet_df[features].mean().to_dict()\n",
    "means"
   ]
  },
  {
   "cell_type": "code",
   "execution_count": 254,
   "metadata": {},
   "outputs": [
    {
     "data": {
      "text/plain": [
       "{'calories': 1478.753433247481,\n",
       " 'walk': 0.46870182177899816,\n",
       " 'run': 0.4345675101331315,\n",
       " 'wine': 0.4629655513611933,\n",
       " 'five_donuts': 0.48492166752809907}"
      ]
     },
     "execution_count": 254,
     "metadata": {},
     "output_type": "execute_result"
    }
   ],
   "source": [
    "stds = diet_df[features].std().to_dict()\n",
    "stds"
   ]
  },
  {
   "cell_type": "code",
   "execution_count": 255,
   "metadata": {},
   "outputs": [],
   "source": [
    "target = diet_df.change\n",
    "date = diet_df.Date\n",
    "\n",
    "# Normalize the all matrix\n",
    "df = (diet_df[features] - means)/stds\n",
    "df.fillna(0, inplace=True)\n",
    "\n",
    "\n",
    "# add back after normalization\n",
    "df.loc[:,'target'] = target\n",
    "df.loc[:,'Date'] = date"
   ]
  },
  {
   "cell_type": "code",
   "execution_count": 257,
   "metadata": {},
   "outputs": [],
   "source": [
    "from sklearn.model_selection import train_test_split\n",
    "\n",
    "train, test = train_test_split(df, test_size=.3, shuffle=False, random_state=None)\n",
    "X_train, X_test = train[features], test[features]\n",
    "y_train, y_test = train['target'], test['target']"
   ]
  },
  {
   "cell_type": "code",
   "execution_count": 277,
   "metadata": {},
   "outputs": [
    {
     "name": "stdout",
     "output_type": "stream",
     "text": [
      "[00:32:07] WARNING: C:/Users/Administrator/workspace/xgboost-win64_release_1.4.0/src/learner.cc:573: \n",
      "Parameters: { \"params\" } might not be used.\n",
      "\n",
      "  This may not be accurate due to some parameters are only used in language bindings but\n",
      "  passed down to XGBoost core.  Or some parameters are not used but slip through this\n",
      "  verification. Please open an issue if you find above cases.\n",
      "\n",
      "\n",
      "RMSE :  23.183938\n"
     ]
    }
   ],
   "source": [
    "from sklearn.metrics import mean_squared_error as MSE\n",
    "\n",
    "# Instantiation\n",
    "xgb_params = {\"eval_metric\" : \"rmse\",\n",
    "                  \"tree_method\": \"hist\",\n",
    "                  \"objective\" : \"reg:squarederror\",\n",
    "                  \"n_estimators\": 10\n",
    "                 }\n",
    "xgb_r = xg.XGBRegressor(params = xgb_params, seed = 123)\n",
    "  \n",
    "# Fitting the model\n",
    "xgb_r.fit(X_train, y_train)\n",
    "  \n",
    "# Predict the model\n",
    "pred = xgb_r.predict(X_test)\n",
    "  \n",
    "# RMSE Computation\n",
    "rmse = np.sqrt(MSE(y_test, pred))\n",
    "print(\"RMSE : % f\" %(rmse))"
   ]
  },
  {
   "cell_type": "code",
   "execution_count": null,
   "metadata": {},
   "outputs": [],
   "source": []
  }
 ],
 "metadata": {
  "kernelspec": {
   "display_name": "Python 3 (ipykernel)",
   "language": "python",
   "name": "python3"
  },
  "language_info": {
   "codemirror_mode": {
    "name": "ipython",
    "version": 3
   },
   "file_extension": ".py",
   "mimetype": "text/x-python",
   "name": "python",
   "nbconvert_exporter": "python",
   "pygments_lexer": "ipython3",
   "version": "3.7.10"
  }
 },
 "nbformat": 4,
 "nbformat_minor": 1
}
