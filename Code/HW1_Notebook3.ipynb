{
 "cells": [
  {
   "cell_type": "markdown",
   "metadata": {},
   "source": [
    "# BIA 6304 Predictive Models Fall 2017\n",
    "## Assignment 1 \n",
    "## Notebook 3\n",
    "### Stuent:  Leonardo Ji\n",
    "### 10/29/2017"
   ]
  },
  {
   "cell_type": "markdown",
   "metadata": {},
   "source": [
    "### Import Standard packages"
   ]
  },
  {
   "cell_type": "code",
   "execution_count": 1,
   "metadata": {
    "collapsed": true
   },
   "outputs": [],
   "source": [
    "#Add packages\n",
    "#These are my standard packages I load for almost every project\n",
    "%matplotlib inline \n",
    "import numpy as np\n",
    "import matplotlib.pyplot as plt\n",
    "import pandas as pd\n",
    "pd.set_option('display.max_colwidth', 15000) #important for getting all the text\n",
    "#From Scikit Learn\n",
    "from sklearn import preprocessing\n",
    "from sklearn.model_selection  import train_test_split, cross_val_score, KFold\n",
    "from sklearn.model_selection import GridSearchCV\n",
    "from sklearn.metrics import mean_squared_error, mean_absolute_error, r2_score, explained_variance_score\n",
    "from sklearn.metrics import accuracy_score, precision_score, recall_score, f1_score\n",
    "from sklearn.metrics import roc_curve, auc, confusion_matrix, classification_report\n",
    "#Notice I did not load my Datamining packages yet (ie decision tree). I will do that as I use them."
   ]
  },
  {
   "cell_type": "markdown",
   "metadata": {},
   "source": [
    "Notebook 3- GLM modeling and Regularization. \n",
    "http://scikit-learn.org/stable/modules/linear_model.html\n",
    "Using the dataset in UCO called Crimes and Communities (https://archive.ics.uci.edu/ml/datasets/Communities+and+Crime - it has 128 variables and 1994 rows. Read this file in DIRECTLY from the URL address. Cal is Crime. You will create in Scikit learn at least 4 of these GLMs:\n",
    "\n",
    "-Ridge Regression\n",
    "\n",
    "-LASSO Regression\n",
    "\n",
    "-ElecticNet Regression\n",
    "\n",
    "-Use one other linear model found in the sci-kit learn documentation.\n",
    "\n",
    "a) Build at least four models from the above list. Make sure your coefficients and the MSE are printed. Also, add in two other regression error metric to help determine the best(better) model. http://scikit-learn.org/stable/modules/classes.html#module-sklearn.metrics\n",
    "\n",
    "b) In your models that has a penalty parameter, tune it with a grid search. Explain what the grid search is doing (I know it is searching for different alphas (the penalty)- so explain why you would do this). Make some explanation of how what occurred as you changed the penalty. \n",
    "\n",
    "c) On another model, add a cross validation to it. Explain what this is doing.\n",
    "\n",
    "d) Discuss your optimal model with the optional parameters.\n",
    "\n",
    "e) optional- get creative and see what else you can do with GLM in Sklearn.  \n",
    "On the above- don’t fret if you get bad results on one or more models. The objective is to get your playing with Scikit and thinking about advanced GLM models used in data mining.  Comment (in markup) about how each model performed and what you learned from each penalized (regularized) model. \n",
    "\n",
    "Enter your answers as brief comments in a markdown code block. Ie everything should be nicely done in one Juyter notebook.\n",
    "You should create one .html python file for this warm up. \n"
   ]
  },
  {
   "cell_type": "markdown",
   "metadata": {},
   "source": [
    "## Preprocessing\n",
    "### Import Data"
   ]
  },
  {
   "cell_type": "code",
   "execution_count": 22,
   "metadata": {
    "collapsed": true
   },
   "outputs": [],
   "source": [
    "dataset = pd.read_csv('https://archive.ics.uci.edu/ml/machine-learning-databases/communities/communities.data', \n",
    "                 header=None, sep=',')"
   ]
  },
  {
   "cell_type": "markdown",
   "metadata": {},
   "source": [
    "#### Set 128 Column names\n",
    "Column names are not imported from the communities.data file.  Tokenize the string from communities.name and grab the names."
   ]
  },
  {
   "cell_type": "code",
   "execution_count": 23,
   "metadata": {},
   "outputs": [
    {
     "name": "stdout",
     "output_type": "stream",
     "text": [
      "128\n",
      "['state', 'county', 'community', 'communityname', 'fold', 'population', 'householdsize', 'racepctblack', 'racePctWhite', 'racePctAsian', 'racePctHisp', 'agePct12t21', 'agePct12t29', 'agePct16t24', 'agePct65up', 'numbUrban', 'pctUrban', 'medIncome', 'pctWWage', 'pctWFarmSelf', 'pctWInvInc', 'pctWSocSec', 'pctWPubAsst', 'pctWRetire', 'medFamInc', 'perCapInc', 'whitePerCap', 'blackPerCap', 'indianPerCap', 'AsianPerCap', 'OtherPerCap', 'HispPerCap', 'NumUnderPov', 'PctPopUnderPov', 'PctLess9thGrade', 'PctNotHSGrad', 'PctBSorMore', 'PctUnemployed', 'PctEmploy', 'PctEmplManu', 'PctEmplProfServ', 'PctOccupManu', 'PctOccupMgmtProf', 'MalePctDivorce', 'MalePctNevMarr', 'FemalePctDiv', 'TotalPctDiv', 'PersPerFam', 'PctFam2Par', 'PctKids2Par', 'PctYoungKids2Par', 'PctTeen2Par', 'PctWorkMomYoungKids', 'PctWorkMom', 'NumIlleg', 'PctIlleg', 'NumImmig', 'PctImmigRecent', 'PctImmigRec5', 'PctImmigRec8', 'PctImmigRec10', 'PctRecentImmig', 'PctRecImmig5', 'PctRecImmig8', 'PctRecImmig10', 'PctSpeakEnglOnly', 'PctNotSpeakEnglWell', 'PctLargHouseFam', 'PctLargHouseOccup', 'PersPerOccupHous', 'PersPerOwnOccHous', 'PersPerRentOccHous', 'PctPersOwnOccup', 'PctPersDenseHous', 'PctHousLess3BR', 'MedNumBR', 'HousVacant', 'PctHousOccup', 'PctHousOwnOcc', 'PctVacantBoarded', 'PctVacMore6Mos', 'MedYrHousBuilt', 'PctHousNoPhone', 'PctWOFullPlumb', 'OwnOccLowQuart', 'OwnOccMedVal', 'OwnOccHiQuart', 'RentLowQ', 'RentMedian', 'RentHighQ', 'MedRent', 'MedRentPctHousInc', 'MedOwnCostPctInc', 'MedOwnCostPctIncNoMtg', 'NumInShelters', 'NumStreet', 'PctForeignBorn', 'PctBornSameState', 'PctSameHouse85', 'PctSameCity85', 'PctSameState85', 'LemasSwornFT', 'LemasSwFTPerPop', 'LemasSwFTFieldOps', 'LemasSwFTFieldPerPop', 'LemasTotalReq', 'LemasTotReqPerPop', 'PolicReqPerOffic', 'PolicPerPop', 'RacialMatchCommPol', 'PctPolicWhite', 'PctPolicBlack', 'PctPolicHisp', 'PctPolicAsian', 'PctPolicMinor', 'OfficAssgnDrugUnits', 'NumKindsDrugsSeiz', 'PolicAveOTWorked', 'LandArea', 'PopDens', 'PctUsePubTrans', 'PolicCars', 'PolicOperBudg', 'LemasPctPolicOnPatr', 'LemasGangUnitDeploy', 'LemasPctOfficDrugUn', 'PolicBudgPerPop', 'ViolentCrimesPerPop']\n"
     ]
    }
   ],
   "source": [
    "import requests\n",
    "import re\n",
    "page = requests.get('https://archive.ics.uci.edu/ml/machine-learning-databases/communities/communities.names')\n",
    "pattern = re.compile(r'@attribute\\s(\\w+)\\s?(numeric|string)')\n",
    "columns = []\n",
    "for (token, type) in re.findall(pattern, page.text):\n",
    "    columns.append(token)\n",
    "print(len(columns))\n",
    "print(columns)"
   ]
  },
  {
   "cell_type": "code",
   "execution_count": 24,
   "metadata": {},
   "outputs": [
    {
     "data": {
      "text/html": [
       "<div>\n",
       "<style>\n",
       "    .dataframe thead tr:only-child th {\n",
       "        text-align: right;\n",
       "    }\n",
       "\n",
       "    .dataframe thead th {\n",
       "        text-align: left;\n",
       "    }\n",
       "\n",
       "    .dataframe tbody tr th {\n",
       "        vertical-align: top;\n",
       "    }\n",
       "</style>\n",
       "<table border=\"1\" class=\"dataframe\">\n",
       "  <thead>\n",
       "    <tr style=\"text-align: right;\">\n",
       "      <th></th>\n",
       "      <th>state</th>\n",
       "      <th>county</th>\n",
       "      <th>community</th>\n",
       "      <th>communityname</th>\n",
       "      <th>fold</th>\n",
       "      <th>population</th>\n",
       "      <th>householdsize</th>\n",
       "      <th>racepctblack</th>\n",
       "      <th>racePctWhite</th>\n",
       "      <th>racePctAsian</th>\n",
       "      <th>...</th>\n",
       "      <th>LandArea</th>\n",
       "      <th>PopDens</th>\n",
       "      <th>PctUsePubTrans</th>\n",
       "      <th>PolicCars</th>\n",
       "      <th>PolicOperBudg</th>\n",
       "      <th>LemasPctPolicOnPatr</th>\n",
       "      <th>LemasGangUnitDeploy</th>\n",
       "      <th>LemasPctOfficDrugUn</th>\n",
       "      <th>PolicBudgPerPop</th>\n",
       "      <th>ViolentCrimesPerPop</th>\n",
       "    </tr>\n",
       "  </thead>\n",
       "  <tbody>\n",
       "    <tr>\n",
       "      <th>0</th>\n",
       "      <td>8</td>\n",
       "      <td>?</td>\n",
       "      <td>?</td>\n",
       "      <td>Lakewoodcity</td>\n",
       "      <td>1</td>\n",
       "      <td>0.19</td>\n",
       "      <td>0.33</td>\n",
       "      <td>0.02</td>\n",
       "      <td>0.90</td>\n",
       "      <td>0.12</td>\n",
       "      <td>...</td>\n",
       "      <td>0.12</td>\n",
       "      <td>0.26</td>\n",
       "      <td>0.20</td>\n",
       "      <td>0.06</td>\n",
       "      <td>0.04</td>\n",
       "      <td>0.9</td>\n",
       "      <td>0.5</td>\n",
       "      <td>0.32</td>\n",
       "      <td>0.14</td>\n",
       "      <td>0.20</td>\n",
       "    </tr>\n",
       "    <tr>\n",
       "      <th>1</th>\n",
       "      <td>53</td>\n",
       "      <td>?</td>\n",
       "      <td>?</td>\n",
       "      <td>Tukwilacity</td>\n",
       "      <td>1</td>\n",
       "      <td>0.00</td>\n",
       "      <td>0.16</td>\n",
       "      <td>0.12</td>\n",
       "      <td>0.74</td>\n",
       "      <td>0.45</td>\n",
       "      <td>...</td>\n",
       "      <td>0.02</td>\n",
       "      <td>0.12</td>\n",
       "      <td>0.45</td>\n",
       "      <td>?</td>\n",
       "      <td>?</td>\n",
       "      <td>?</td>\n",
       "      <td>?</td>\n",
       "      <td>0.00</td>\n",
       "      <td>?</td>\n",
       "      <td>0.67</td>\n",
       "    </tr>\n",
       "    <tr>\n",
       "      <th>2</th>\n",
       "      <td>24</td>\n",
       "      <td>?</td>\n",
       "      <td>?</td>\n",
       "      <td>Aberdeentown</td>\n",
       "      <td>1</td>\n",
       "      <td>0.00</td>\n",
       "      <td>0.42</td>\n",
       "      <td>0.49</td>\n",
       "      <td>0.56</td>\n",
       "      <td>0.17</td>\n",
       "      <td>...</td>\n",
       "      <td>0.01</td>\n",
       "      <td>0.21</td>\n",
       "      <td>0.02</td>\n",
       "      <td>?</td>\n",
       "      <td>?</td>\n",
       "      <td>?</td>\n",
       "      <td>?</td>\n",
       "      <td>0.00</td>\n",
       "      <td>?</td>\n",
       "      <td>0.43</td>\n",
       "    </tr>\n",
       "    <tr>\n",
       "      <th>3</th>\n",
       "      <td>34</td>\n",
       "      <td>5</td>\n",
       "      <td>81440</td>\n",
       "      <td>Willingborotownship</td>\n",
       "      <td>1</td>\n",
       "      <td>0.04</td>\n",
       "      <td>0.77</td>\n",
       "      <td>1.00</td>\n",
       "      <td>0.08</td>\n",
       "      <td>0.12</td>\n",
       "      <td>...</td>\n",
       "      <td>0.02</td>\n",
       "      <td>0.39</td>\n",
       "      <td>0.28</td>\n",
       "      <td>?</td>\n",
       "      <td>?</td>\n",
       "      <td>?</td>\n",
       "      <td>?</td>\n",
       "      <td>0.00</td>\n",
       "      <td>?</td>\n",
       "      <td>0.12</td>\n",
       "    </tr>\n",
       "    <tr>\n",
       "      <th>4</th>\n",
       "      <td>42</td>\n",
       "      <td>95</td>\n",
       "      <td>6096</td>\n",
       "      <td>Bethlehemtownship</td>\n",
       "      <td>1</td>\n",
       "      <td>0.01</td>\n",
       "      <td>0.55</td>\n",
       "      <td>0.02</td>\n",
       "      <td>0.95</td>\n",
       "      <td>0.09</td>\n",
       "      <td>...</td>\n",
       "      <td>0.04</td>\n",
       "      <td>0.09</td>\n",
       "      <td>0.02</td>\n",
       "      <td>?</td>\n",
       "      <td>?</td>\n",
       "      <td>?</td>\n",
       "      <td>?</td>\n",
       "      <td>0.00</td>\n",
       "      <td>?</td>\n",
       "      <td>0.03</td>\n",
       "    </tr>\n",
       "  </tbody>\n",
       "</table>\n",
       "<p>5 rows × 128 columns</p>\n",
       "</div>"
      ],
      "text/plain": [
       "   state county community        communityname  fold  population  \\\n",
       "0      8      ?         ?         Lakewoodcity     1        0.19   \n",
       "1     53      ?         ?          Tukwilacity     1        0.00   \n",
       "2     24      ?         ?         Aberdeentown     1        0.00   \n",
       "3     34      5     81440  Willingborotownship     1        0.04   \n",
       "4     42     95      6096    Bethlehemtownship     1        0.01   \n",
       "\n",
       "   householdsize  racepctblack  racePctWhite  racePctAsian  \\\n",
       "0           0.33          0.02          0.90          0.12   \n",
       "1           0.16          0.12          0.74          0.45   \n",
       "2           0.42          0.49          0.56          0.17   \n",
       "3           0.77          1.00          0.08          0.12   \n",
       "4           0.55          0.02          0.95          0.09   \n",
       "\n",
       "          ...           LandArea  PopDens  PctUsePubTrans  PolicCars  \\\n",
       "0         ...               0.12     0.26            0.20       0.06   \n",
       "1         ...               0.02     0.12            0.45          ?   \n",
       "2         ...               0.01     0.21            0.02          ?   \n",
       "3         ...               0.02     0.39            0.28          ?   \n",
       "4         ...               0.04     0.09            0.02          ?   \n",
       "\n",
       "   PolicOperBudg  LemasPctPolicOnPatr  LemasGangUnitDeploy  \\\n",
       "0           0.04                  0.9                  0.5   \n",
       "1              ?                    ?                    ?   \n",
       "2              ?                    ?                    ?   \n",
       "3              ?                    ?                    ?   \n",
       "4              ?                    ?                    ?   \n",
       "\n",
       "   LemasPctOfficDrugUn  PolicBudgPerPop  ViolentCrimesPerPop  \n",
       "0                 0.32             0.14                 0.20  \n",
       "1                 0.00                ?                 0.67  \n",
       "2                 0.00                ?                 0.43  \n",
       "3                 0.00                ?                 0.12  \n",
       "4                 0.00                ?                 0.03  \n",
       "\n",
       "[5 rows x 128 columns]"
      ]
     },
     "execution_count": 24,
     "metadata": {},
     "output_type": "execute_result"
    }
   ],
   "source": [
    "dataset.columns = columns\n",
    "dataset.head()"
   ]
  },
  {
   "cell_type": "code",
   "execution_count": 25,
   "metadata": {},
   "outputs": [
    {
     "name": "stdout",
     "output_type": "stream",
     "text": [
      "(1994, 128)\n"
     ]
    }
   ],
   "source": [
    "print(dataset.shape)"
   ]
  },
  {
   "cell_type": "code",
   "execution_count": 26,
   "metadata": {},
   "outputs": [
    {
     "data": {
      "text/plain": [
       "state                     int64\n",
       "county                   object\n",
       "community                object\n",
       "communityname            object\n",
       "fold                      int64\n",
       "population              float64\n",
       "householdsize           float64\n",
       "racepctblack            float64\n",
       "racePctWhite            float64\n",
       "racePctAsian            float64\n",
       "racePctHisp             float64\n",
       "agePct12t21             float64\n",
       "agePct12t29             float64\n",
       "agePct16t24             float64\n",
       "agePct65up              float64\n",
       "numbUrban               float64\n",
       "pctUrban                float64\n",
       "medIncome               float64\n",
       "pctWWage                float64\n",
       "pctWFarmSelf            float64\n",
       "pctWInvInc              float64\n",
       "pctWSocSec              float64\n",
       "pctWPubAsst             float64\n",
       "pctWRetire              float64\n",
       "medFamInc               float64\n",
       "perCapInc               float64\n",
       "whitePerCap             float64\n",
       "blackPerCap             float64\n",
       "indianPerCap            float64\n",
       "AsianPerCap             float64\n",
       "                         ...   \n",
       "PctSameHouse85          float64\n",
       "PctSameCity85           float64\n",
       "PctSameState85          float64\n",
       "LemasSwornFT             object\n",
       "LemasSwFTPerPop          object\n",
       "LemasSwFTFieldOps        object\n",
       "LemasSwFTFieldPerPop     object\n",
       "LemasTotalReq            object\n",
       "LemasTotReqPerPop        object\n",
       "PolicReqPerOffic         object\n",
       "PolicPerPop              object\n",
       "RacialMatchCommPol       object\n",
       "PctPolicWhite            object\n",
       "PctPolicBlack            object\n",
       "PctPolicHisp             object\n",
       "PctPolicAsian            object\n",
       "PctPolicMinor            object\n",
       "OfficAssgnDrugUnits      object\n",
       "NumKindsDrugsSeiz        object\n",
       "PolicAveOTWorked         object\n",
       "LandArea                float64\n",
       "PopDens                 float64\n",
       "PctUsePubTrans          float64\n",
       "PolicCars                object\n",
       "PolicOperBudg            object\n",
       "LemasPctPolicOnPatr      object\n",
       "LemasGangUnitDeploy      object\n",
       "LemasPctOfficDrugUn     float64\n",
       "PolicBudgPerPop          object\n",
       "ViolentCrimesPerPop     float64\n",
       "Length: 128, dtype: object"
      ]
     },
     "execution_count": 26,
     "metadata": {},
     "output_type": "execute_result"
    }
   ],
   "source": [
    "dataset.dtypes"
   ]
  },
  {
   "cell_type": "markdown",
   "metadata": {},
   "source": [
    "#### Target variable is 'ViolentCrimesPerPop\", move this column to the front column."
   ]
  },
  {
   "cell_type": "code",
   "execution_count": 27,
   "metadata": {},
   "outputs": [
    {
     "data": {
      "text/html": [
       "<div>\n",
       "<style>\n",
       "    .dataframe thead tr:only-child th {\n",
       "        text-align: right;\n",
       "    }\n",
       "\n",
       "    .dataframe thead th {\n",
       "        text-align: left;\n",
       "    }\n",
       "\n",
       "    .dataframe tbody tr th {\n",
       "        vertical-align: top;\n",
       "    }\n",
       "</style>\n",
       "<table border=\"1\" class=\"dataframe\">\n",
       "  <thead>\n",
       "    <tr style=\"text-align: right;\">\n",
       "      <th></th>\n",
       "      <th>ViolentCrimesPerPop</th>\n",
       "      <th>state</th>\n",
       "      <th>county</th>\n",
       "      <th>community</th>\n",
       "      <th>communityname</th>\n",
       "      <th>fold</th>\n",
       "      <th>population</th>\n",
       "      <th>householdsize</th>\n",
       "      <th>racepctblack</th>\n",
       "      <th>racePctWhite</th>\n",
       "      <th>...</th>\n",
       "      <th>PolicAveOTWorked</th>\n",
       "      <th>LandArea</th>\n",
       "      <th>PopDens</th>\n",
       "      <th>PctUsePubTrans</th>\n",
       "      <th>PolicCars</th>\n",
       "      <th>PolicOperBudg</th>\n",
       "      <th>LemasPctPolicOnPatr</th>\n",
       "      <th>LemasGangUnitDeploy</th>\n",
       "      <th>LemasPctOfficDrugUn</th>\n",
       "      <th>PolicBudgPerPop</th>\n",
       "    </tr>\n",
       "  </thead>\n",
       "  <tbody>\n",
       "    <tr>\n",
       "      <th>0</th>\n",
       "      <td>0.20</td>\n",
       "      <td>8</td>\n",
       "      <td>?</td>\n",
       "      <td>?</td>\n",
       "      <td>Lakewoodcity</td>\n",
       "      <td>1</td>\n",
       "      <td>0.19</td>\n",
       "      <td>0.33</td>\n",
       "      <td>0.02</td>\n",
       "      <td>0.90</td>\n",
       "      <td>...</td>\n",
       "      <td>0.29</td>\n",
       "      <td>0.12</td>\n",
       "      <td>0.26</td>\n",
       "      <td>0.20</td>\n",
       "      <td>0.06</td>\n",
       "      <td>0.04</td>\n",
       "      <td>0.9</td>\n",
       "      <td>0.5</td>\n",
       "      <td>0.32</td>\n",
       "      <td>0.14</td>\n",
       "    </tr>\n",
       "    <tr>\n",
       "      <th>1</th>\n",
       "      <td>0.67</td>\n",
       "      <td>53</td>\n",
       "      <td>?</td>\n",
       "      <td>?</td>\n",
       "      <td>Tukwilacity</td>\n",
       "      <td>1</td>\n",
       "      <td>0.00</td>\n",
       "      <td>0.16</td>\n",
       "      <td>0.12</td>\n",
       "      <td>0.74</td>\n",
       "      <td>...</td>\n",
       "      <td>?</td>\n",
       "      <td>0.02</td>\n",
       "      <td>0.12</td>\n",
       "      <td>0.45</td>\n",
       "      <td>?</td>\n",
       "      <td>?</td>\n",
       "      <td>?</td>\n",
       "      <td>?</td>\n",
       "      <td>0.00</td>\n",
       "      <td>?</td>\n",
       "    </tr>\n",
       "    <tr>\n",
       "      <th>2</th>\n",
       "      <td>0.43</td>\n",
       "      <td>24</td>\n",
       "      <td>?</td>\n",
       "      <td>?</td>\n",
       "      <td>Aberdeentown</td>\n",
       "      <td>1</td>\n",
       "      <td>0.00</td>\n",
       "      <td>0.42</td>\n",
       "      <td>0.49</td>\n",
       "      <td>0.56</td>\n",
       "      <td>...</td>\n",
       "      <td>?</td>\n",
       "      <td>0.01</td>\n",
       "      <td>0.21</td>\n",
       "      <td>0.02</td>\n",
       "      <td>?</td>\n",
       "      <td>?</td>\n",
       "      <td>?</td>\n",
       "      <td>?</td>\n",
       "      <td>0.00</td>\n",
       "      <td>?</td>\n",
       "    </tr>\n",
       "    <tr>\n",
       "      <th>3</th>\n",
       "      <td>0.12</td>\n",
       "      <td>34</td>\n",
       "      <td>5</td>\n",
       "      <td>81440</td>\n",
       "      <td>Willingborotownship</td>\n",
       "      <td>1</td>\n",
       "      <td>0.04</td>\n",
       "      <td>0.77</td>\n",
       "      <td>1.00</td>\n",
       "      <td>0.08</td>\n",
       "      <td>...</td>\n",
       "      <td>?</td>\n",
       "      <td>0.02</td>\n",
       "      <td>0.39</td>\n",
       "      <td>0.28</td>\n",
       "      <td>?</td>\n",
       "      <td>?</td>\n",
       "      <td>?</td>\n",
       "      <td>?</td>\n",
       "      <td>0.00</td>\n",
       "      <td>?</td>\n",
       "    </tr>\n",
       "    <tr>\n",
       "      <th>4</th>\n",
       "      <td>0.03</td>\n",
       "      <td>42</td>\n",
       "      <td>95</td>\n",
       "      <td>6096</td>\n",
       "      <td>Bethlehemtownship</td>\n",
       "      <td>1</td>\n",
       "      <td>0.01</td>\n",
       "      <td>0.55</td>\n",
       "      <td>0.02</td>\n",
       "      <td>0.95</td>\n",
       "      <td>...</td>\n",
       "      <td>?</td>\n",
       "      <td>0.04</td>\n",
       "      <td>0.09</td>\n",
       "      <td>0.02</td>\n",
       "      <td>?</td>\n",
       "      <td>?</td>\n",
       "      <td>?</td>\n",
       "      <td>?</td>\n",
       "      <td>0.00</td>\n",
       "      <td>?</td>\n",
       "    </tr>\n",
       "  </tbody>\n",
       "</table>\n",
       "<p>5 rows × 128 columns</p>\n",
       "</div>"
      ],
      "text/plain": [
       "   ViolentCrimesPerPop  state county community        communityname  fold  \\\n",
       "0                 0.20      8      ?         ?         Lakewoodcity     1   \n",
       "1                 0.67     53      ?         ?          Tukwilacity     1   \n",
       "2                 0.43     24      ?         ?         Aberdeentown     1   \n",
       "3                 0.12     34      5     81440  Willingborotownship     1   \n",
       "4                 0.03     42     95      6096    Bethlehemtownship     1   \n",
       "\n",
       "   population  householdsize  racepctblack  racePctWhite       ...         \\\n",
       "0        0.19           0.33          0.02          0.90       ...          \n",
       "1        0.00           0.16          0.12          0.74       ...          \n",
       "2        0.00           0.42          0.49          0.56       ...          \n",
       "3        0.04           0.77          1.00          0.08       ...          \n",
       "4        0.01           0.55          0.02          0.95       ...          \n",
       "\n",
       "   PolicAveOTWorked  LandArea  PopDens  PctUsePubTrans  PolicCars  \\\n",
       "0              0.29      0.12     0.26            0.20       0.06   \n",
       "1                 ?      0.02     0.12            0.45          ?   \n",
       "2                 ?      0.01     0.21            0.02          ?   \n",
       "3                 ?      0.02     0.39            0.28          ?   \n",
       "4                 ?      0.04     0.09            0.02          ?   \n",
       "\n",
       "   PolicOperBudg  LemasPctPolicOnPatr  LemasGangUnitDeploy  \\\n",
       "0           0.04                  0.9                  0.5   \n",
       "1              ?                    ?                    ?   \n",
       "2              ?                    ?                    ?   \n",
       "3              ?                    ?                    ?   \n",
       "4              ?                    ?                    ?   \n",
       "\n",
       "   LemasPctOfficDrugUn  PolicBudgPerPop  \n",
       "0                 0.32             0.14  \n",
       "1                 0.00                ?  \n",
       "2                 0.00                ?  \n",
       "3                 0.00                ?  \n",
       "4                 0.00                ?  \n",
       "\n",
       "[5 rows x 128 columns]"
      ]
     },
     "execution_count": 27,
     "metadata": {},
     "output_type": "execute_result"
    }
   ],
   "source": [
    "# designate target variable name is Per Capita Violent Crimes\n",
    "targetName = 'ViolentCrimesPerPop'\n",
    "targetSeries = dataset[targetName]\n",
    "#remove target from current location and insert in collum 0\n",
    "del dataset[targetName]\n",
    "dataset.insert(0, targetName, targetSeries)\n",
    "#reprint dataframe and see target is in position 0\n",
    "dataset.head()"
   ]
  },
  {
   "cell_type": "markdown",
   "metadata": {},
   "source": [
    "### A Histogram of Frequency of Crimes Per Population\n",
    "Most of the communities have low Violent Crimes Per Population."
   ]
  },
  {
   "cell_type": "code",
   "execution_count": 28,
   "metadata": {},
   "outputs": [
    {
     "data": {
      "image/png": "[encoded data removed]",
      "text/plain": [
       "<matplotlib.figure.Figure at 0xd48a5f8>"
      ]
     },
     "metadata": {},
     "output_type": "display_data"
    }
   ],
   "source": [
    "#histogram of Violent Crimes Per Population using 10 bins\n",
    "n, bins, patches = plt.hist(dataset['ViolentCrimesPerPop'], 10, facecolor='purple', alpha=0.75)\n",
    "plt.title('histogram of Violent Crimes Per Population using 10 bins')\n",
    "plt.xlabel(\"Violent Crimes Per Population\"),dataset['ViolentCrimesPerPop']\n",
    "plt.ylabel(\"Frequency\")\n",
    "plt.show()"
   ]
  },
  {
   "cell_type": "markdown",
   "metadata": {},
   "source": [
    "### Clean Data\n",
    "* Remove all question marks and replace with empty string (NAN).\n",
    "* Convert columns type object to number.  This way I do not throw away any columns.\n",
    "* Fill nan in each column with column mean."
   ]
  },
  {
   "cell_type": "code",
   "execution_count": 29,
   "metadata": {
    "collapsed": true
   },
   "outputs": [],
   "source": [
    "# Remove all question marks from this data set\n",
    "for attName in dataset.columns[1:]:\n",
    "    dType = dataset[attName].dtype\n",
    "    if dType == object:\n",
    "        dataset[attName] = dataset[attName].str.replace('?', '')"
   ]
  },
  {
   "cell_type": "code",
   "execution_count": 30,
   "metadata": {
    "collapsed": true
   },
   "outputs": [],
   "source": [
    "# Convert feature columns to float\n",
    "for attName in dataset.columns[5:]:\n",
    "    dType = dataset[attName].dtype\n",
    "    if dType == object:\n",
    "        dataset[attName] = pd.to_numeric(dataset[attName], errors='coerce')"
   ]
  },
  {
   "cell_type": "code",
   "execution_count": 31,
   "metadata": {},
   "outputs": [
    {
     "data": {
      "text/plain": [
       "count    319.000000\n",
       "mean       0.195078\n",
       "std        0.164718\n",
       "min        0.000000\n",
       "25%        0.110000\n",
       "50%        0.150000\n",
       "75%        0.220000\n",
       "max        1.000000\n",
       "Name: PolicBudgPerPop, dtype: float64"
      ]
     },
     "execution_count": 31,
     "metadata": {},
     "output_type": "execute_result"
    }
   ],
   "source": [
    "dataset.PolicBudgPerPop.describe()"
   ]
  },
  {
   "cell_type": "code",
   "execution_count": 32,
   "metadata": {
    "collapsed": true
   },
   "outputs": [],
   "source": [
    "# Convert all feature columns to float, and replace nan with mean\n",
    "for attName in dataset.columns[5:]:\n",
    "    dType = dataset[attName].dtype\n",
    "    if pd.isnull(dataset[attName]).any():\n",
    "        dataset[attName] = dataset[attName].fillna(dataset[attName].mean())"
   ]
  },
  {
   "cell_type": "code",
   "execution_count": 33,
   "metadata": {},
   "outputs": [
    {
     "data": {
      "text/plain": [
       "count    1994.000000\n",
       "mean        0.195078\n",
       "std         0.065796\n",
       "min         0.000000\n",
       "25%         0.195078\n",
       "50%         0.195078\n",
       "75%         0.195078\n",
       "max         1.000000\n",
       "Name: PolicBudgPerPop, dtype: float64"
      ]
     },
     "execution_count": 33,
     "metadata": {},
     "output_type": "execute_result"
    }
   ],
   "source": [
    "# Sanity check mean is still the same 0.195078\n",
    "dataset.PolicBudgPerPop.describe()"
   ]
  },
  {
   "cell_type": "code",
   "execution_count": 34,
   "metadata": {
    "collapsed": true
   },
   "outputs": [],
   "source": [
    "dataset.to_csv(\"cleanedCrimes.csv\", sep=',', encoding='utf-8')"
   ]
  },
  {
   "cell_type": "markdown",
   "metadata": {},
   "source": [
    "### Separate data to target and features."
   ]
  },
  {
   "cell_type": "code",
   "execution_count": 35,
   "metadata": {},
   "outputs": [
    {
     "name": "stdout",
     "output_type": "stream",
     "text": [
      "(1994,)\n",
      "(1994, 123)\n",
      "Index(['fold', 'population', 'householdsize', 'racepctblack', 'racePctWhite',\n",
      "       'racePctAsian', 'racePctHisp', 'agePct12t21', 'agePct12t29',\n",
      "       'agePct16t24',\n",
      "       ...\n",
      "       'PolicAveOTWorked', 'LandArea', 'PopDens', 'PctUsePubTrans',\n",
      "       'PolicCars', 'PolicOperBudg', 'LemasPctPolicOnPatr',\n",
      "       'LemasGangUnitDeploy', 'LemasPctOfficDrugUn', 'PolicBudgPerPop'],\n",
      "      dtype='object', length=123)\n"
     ]
    }
   ],
   "source": [
    "dataset.target=dataset['ViolentCrimesPerPop'] \n",
    "dataset.features=dataset.iloc[:, 5:]                        \n",
    "print(dataset.target.shape)\n",
    "print(dataset.features.shape)\n",
    "print(dataset.features.columns)"
   ]
  },
  {
   "cell_type": "markdown",
   "metadata": {},
   "source": [
    "## Run Regression Models\n",
    "### Linear Regression - Ordinary Least Squares"
   ]
  },
  {
   "cell_type": "code",
   "execution_count": 36,
   "metadata": {},
   "outputs": [
    {
     "name": "stdout",
     "output_type": "stream",
     "text": [
      "LinearRegression(copy_X=True, fit_intercept=True, n_jobs=1, normalize=False)\n"
     ]
    }
   ],
   "source": [
    "# Linear Regression-Ordinary Least Squares\n",
    "from sklearn.linear_model import LinearRegression\n",
    "\n",
    "# fit a linear regression model to the data\n",
    "model_LR = LinearRegression()\n",
    "model_LR.fit(dataset.features, dataset.target)\n",
    "print(model_LR)"
   ]
  },
  {
   "cell_type": "code",
   "execution_count": 37,
   "metadata": {
    "collapsed": true
   },
   "outputs": [],
   "source": [
    "# make predictions\n",
    "expected_LR = dataset.target\n",
    "predicted_LR = model_LR.predict(dataset.features)"
   ]
  },
  {
   "cell_type": "code",
   "execution_count": 38,
   "metadata": {},
   "outputs": [
    {
     "name": "stdout",
     "output_type": "stream",
     "text": [
      "Mean Squared Error: 0.016265772585\n",
      "Mean Absolute Error: 0.0901160898484\n",
      "R2 Score: 0.700196295284\n",
      "Explained Variance Score: 0.700196295284\n",
      "Score: 0.700196295284\n",
      "Coef: 1.31715769397 [ -1.54007763e-03   1.38255577e-01  -1.84989195e-02   1.86084455e-01\n",
      "  -4.75943283e-02  -2.78083048e-02   5.65394709e-02   1.11489868e-01\n",
      "  -2.47560418e-01  -1.31306171e-01   4.99327158e-02  -2.47365632e-01\n",
      "   4.71100179e-02  -1.96927623e-01  -1.98981689e-01   4.60100180e-02\n",
      "  -1.81963561e-01   8.64321852e-02   5.88299473e-03  -9.72136299e-02\n",
      "   3.04809641e-01   1.16557081e-01  -3.66653474e-01  -3.67146936e-02\n",
      "  -3.48098027e-02   2.12738498e-02   4.36879380e-02   3.19521858e-02\n",
      "   8.47412430e-02  -1.78419864e-01  -1.11073934e-01   7.35003752e-02\n",
      "   5.71636038e-02   8.31686344e-03   2.56373460e-01  -6.26065679e-02\n",
      "  -2.10350658e-02   6.11594631e-02   1.08136527e-01   4.21588383e-01\n",
      "   2.28034032e-01   1.29366227e-01  -5.10204533e-01  -1.08628324e-01\n",
      "   2.61258642e-02  -3.39471077e-01  -2.81427759e-02  -4.31004320e-03\n",
      "   6.44936661e-02  -1.88655462e-01  -8.74081744e-02   1.17785087e-01\n",
      "  -1.79406154e-01   2.27508884e-02   2.79482269e-02  -7.86853972e-02\n",
      "   4.80003557e-02  -4.81004506e-02  -1.51506348e-01   4.15448862e-01\n",
      "  -2.17769475e-01  -3.51004914e-02  -1.82527895e-01  -1.86952449e-02\n",
      "  -1.36684490e-01   6.21422633e-01  -1.00937912e-01  -2.43167664e-01\n",
      "  -6.28936057e-01   2.10121790e-01   9.85836927e-02   2.92571117e-02\n",
      "   1.54520742e-01  -4.50854230e-02   4.97695122e-01   5.29833725e-02\n",
      "  -7.61030798e-02  -1.99711466e-02   1.48991395e-02  -1.52448351e-02\n",
      "  -3.18292135e-01   2.52373543e-01  -7.34431693e-03  -2.20297385e-01\n",
      "  -4.52941813e-02  -4.62509568e-02   3.57879249e-01   4.30819977e-02\n",
      "  -4.77823651e-02  -8.31274839e-02   1.13141767e-01   1.65907637e-01\n",
      "   1.54618117e-01   9.75799894e-03  -2.03165325e-02   2.29121043e-02\n",
      "   1.58239594e-02  -8.69577600e-01  -2.14678738e+01  -6.43708600e-01\n",
      "   4.51149731e-01  -2.47905581e-01   8.25166097e-03   1.47426778e-01\n",
      "   2.13547959e+01  -6.07073055e-02  -9.10194991e-02   2.30088927e-02\n",
      "   7.12355213e-02   7.90151869e-02  -1.08577255e-01  -2.94548417e-01\n",
      "  -2.27404433e-02  -2.57680730e-02   3.57897609e-02  -7.56509742e-03\n",
      "  -4.31336450e-02   7.94166578e-02   6.53536418e-01  -7.76089819e-02\n",
      "   3.76929846e-02   3.82963013e-02  -2.99941289e-01]\n"
     ]
    }
   ],
   "source": [
    "# summarize the fit of the model\n",
    "print(\"Mean Squared Error:\", mean_squared_error(expected_LR, predicted_LR))\n",
    "print(\"Mean Absolute Error:\", mean_absolute_error(expected_LR, predicted_LR))\n",
    "print(\"R2 Score:\", r2_score(expected_LR, predicted_LR))\n",
    "print(\"Explained Variance Score:\", explained_variance_score(expected_LR, predicted_LR))\n",
    "print(\"Score:\", model_LR.score(dataset.features, dataset.target))\n",
    "print(\"Coef:\", model_LR.intercept_, model_LR.coef_)"
   ]
  },
  {
   "cell_type": "code",
   "execution_count": 39,
   "metadata": {},
   "outputs": [
    {
     "data": {
      "image/png": "[encoded data removed]",
      "text/plain": [
       "<matplotlib.figure.Figure at 0xd874dd8>"
      ]
     },
     "metadata": {},
     "output_type": "display_data"
    }
   ],
   "source": [
    "fig, ax = plt.subplots()\n",
    "plt.plot(model_LR.coef_, label='LR')\n",
    "plt.axhline(linewidth=4, color='r') # for reference\n",
    "legend = ax.legend(loc='lower right', shadow=True)\n",
    "plt.show()"
   ]
  },
  {
   "cell_type": "markdown",
   "metadata": {},
   "source": [
    "#### Run Cross Validation to check Overfitting\n",
    "The results show wide variance so the model is overfitting."
   ]
  },
  {
   "cell_type": "code",
   "execution_count": 40,
   "metadata": {},
   "outputs": [
    {
     "name": "stderr",
     "output_type": "stream",
     "text": [
      "C:\\ProgramData\\Anaconda3\\lib\\site-packages\\sklearn\\cross_validation.py:44: DeprecationWarning: This module was deprecated in version 0.18 in favor of the model_selection module into which all the refactored classes and functions are moved. Also note that the interface of the new CV iterators are different from that of this module. This module will be removed in 0.20.\n",
      "  \"This module will be removed in 0.20.\", DeprecationWarning)\n"
     ]
    }
   ],
   "source": [
    "from sklearn.cross_validation import train_test_split\n",
    "\n",
    "X = dataset.features\n",
    "y = dataset.target\n",
    "\n",
    "X_train, X_test, y_train, y_test = train_test_split(\n",
    "    X, y, test_size=0.3, random_state=0)"
   ]
  },
  {
   "cell_type": "code",
   "execution_count": 41,
   "metadata": {
    "collapsed": true
   },
   "outputs": [],
   "source": [
    "model_LR.fit(X_train, y_train)\n",
    "y_train_pred = model_LR.predict(X_train)\n",
    "y_test_pred = model_LR.predict(X_test)"
   ]
  },
  {
   "cell_type": "code",
   "execution_count": 42,
   "metadata": {},
   "outputs": [
    {
     "name": "stdout",
     "output_type": "stream",
     "text": [
      "MSE train: 0.016, test: 0.020\n",
      "MSE train: 0.090, test: 0.100\n",
      "R2 train: 0.714, test: 0.632\n",
      "EVS train: 0.714, test: 0.632\n",
      "Score train: 0.690, test: 0.690\n"
     ]
    }
   ],
   "source": [
    "print('MSE train: %.3f, test: %.3f' % (\n",
    "        mean_squared_error(y_train, y_train_pred),\n",
    "        mean_squared_error(y_test, y_test_pred)))\n",
    "print('MSE train: %.3f, test: %.3f' % (\n",
    "        mean_absolute_error(y_train, y_train_pred),\n",
    "        mean_absolute_error(y_test, y_test_pred)))\n",
    "print('R2 train: %.3f, test: %.3f' % (\n",
    "        r2_score(y_train, y_train_pred),\n",
    "        r2_score(y_test, y_test_pred)))\n",
    "print('EVS train: %.3f, test: %.3f' % (\n",
    "        explained_variance_score(y_train, y_train_pred),\n",
    "        explained_variance_score(y_test, y_test_pred)))\n",
    "print('Score train: %.3f, test: %.3f' % (\n",
    "        model_LR.score(dataset.features, dataset.target),\n",
    "        model_LR.score(dataset.features, dataset.target)))"
   ]
  },
  {
   "cell_type": "code",
   "execution_count": 43,
   "metadata": {},
   "outputs": [
    {
     "name": "stdout",
     "output_type": "stream",
     "text": [
      "Cross Validation Score for each K [  0.62319478   0.67190588   0.58577935   0.67703256   0.62183926\n",
      "   0.59875191   0.62617742   0.507694   -80.41997715   0.69601645]\n"
     ]
    },
    {
     "data": {
      "text/plain": [
       "-7.4811585521446036"
      ]
     },
     "execution_count": 43,
     "metadata": {},
     "output_type": "execute_result"
    }
   ],
   "source": [
    "scores = cross_val_score(model_LR, X_train, y_train, cv=10)\n",
    "print(\"Cross Validation Score for each K\", scores)\n",
    "scores.mean()  "
   ]
  },
  {
   "cell_type": "markdown",
   "metadata": {},
   "source": [
    "### Ridge Regression"
   ]
  },
  {
   "cell_type": "code",
   "execution_count": 44,
   "metadata": {
    "collapsed": true
   },
   "outputs": [],
   "source": [
    "from sklearn.linear_model import Ridge\n",
    "\n",
    "# fit a ridge regression model to the data\n",
    "model_RG = Ridge()"
   ]
  },
  {
   "cell_type": "markdown",
   "metadata": {},
   "source": [
    "#### Grid Search on Ridge Regression model\n",
    "Grid search tries different alpha parameters in this case from 0.005 to 2 and cross validation to find best accuracy score.\n",
    "In this case it found alpha = 2 had the best accuracy score from rank_test_score list.  The bigger alpha means more penalty, we tries to find balance between variance and bias.  "
   ]
  },
  {
   "cell_type": "code",
   "execution_count": 45,
   "metadata": {},
   "outputs": [
    {
     "name": "stdout",
     "output_type": "stream",
     "text": [
      "Grid Scores: {'split0_test_score': array([ 0.61360965,  0.61362527,  0.61471389,  0.6170949 ,  0.61815672,\n",
      "        0.61854762]), 'split1_test_score': array([ 0.6093986 ,  0.61047535,  0.62248928,  0.63463062,  0.63759874,\n",
      "        0.63851109]), 'split2_test_score': array([ 0.70508419,  0.70634039,  0.71231628,  0.71632772,  0.71649403,\n",
      "        0.71523832]), 'split3_test_score': array([ 0.67025116,  0.67093324,  0.67403382,  0.67504295,  0.675444  ,\n",
      "        0.67587639]), 'split4_test_score': array([ 0.61205741,  0.61292546,  0.61893418,  0.62513941,  0.62867966,\n",
      "        0.63235736]), 'mean_test_score': array([ 0.64209526,  0.64287495,  0.64851232,  0.65366141,  0.65528797,\n",
      "        0.65611807]), 'std_test_score': array([ 0.03884496,  0.03903575,  0.03851809,  0.03714415,  0.03620386,\n",
      "        0.03513799]), 'rank_test_score': array([6, 5, 4, 3, 2, 1]), 'split0_train_score': array([ 0.71390528,  0.71385424,  0.7130426 ,  0.71024548,  0.7075885 ,\n",
      "        0.70357939]), 'split1_train_score': array([ 0.71466311,  0.71456643,  0.71276183,  0.70772549,  0.70421859,\n",
      "        0.69973553]), 'split2_train_score': array([ 0.69030863,  0.69019222,  0.68879252,  0.68502848,  0.68207816,\n",
      "        0.67810167]), 'split3_train_score': array([ 0.69904379,  0.69898053,  0.69798976,  0.69527302,  0.69288282,\n",
      "        0.68928073]), 'split4_train_score': array([ 0.70999521,  0.70996048,  0.70889752,  0.70565388,  0.70281649,\n",
      "        0.69855932]), 'mean_train_score': array([ 0.7055832 ,  0.70551078,  0.70429685,  0.70078527,  0.69791691,\n",
      "        0.69385133]), 'std_train_score': array([ 0.00945774,  0.00947334,  0.00948129,  0.00938112,  0.00931091,\n",
      "        0.00916915]), 'mean_fit_time': array([ 0.03608012,  0.09671998,  0.08423991,  0.05928001,  0.05304003,\n",
      "        0.02496004]), 'std_fit_time': array([ 0.01173408,  0.04873602,  0.06735156,  0.02069575,  0.01248002,\n",
      "        0.00764237]), 'mean_score_time': array([ 0.00331993,  0.00623989,  0.00624008,  0.        ,  0.00312004,  0.        ]), 'std_score_time': array([ 0.0061521 ,  0.00764227,  0.00764251,  0.        ,  0.00624008,  0.        ]), 'param_alpha': masked_array(data = [0.005 0.01 0.1 0.5 1 2],\n",
      "             mask = [False False False False False False],\n",
      "       fill_value = ?)\n",
      ", 'params': ({'alpha': 0.005}, {'alpha': 0.01}, {'alpha': 0.1}, {'alpha': 0.5}, {'alpha': 1}, {'alpha': 2})}\n",
      "Best: {'alpha': 2}\n"
     ]
    }
   ],
   "source": [
    "# use a full grid over several parameters and cross validate 5 times\n",
    "from sklearn.model_selection import GridSearchCV\n",
    "param_grid = {\"alpha\": [.005,.01,.1, .5, 1, 2]}\n",
    "#param_grid={\"alpha\": [1,10,1]} this does a range 1 through 10 changes by a factor of 1. \n",
    "#param_grid={\"alpha\": [.01,1,.05]} this does a range 1 through 1 changes by a factor of .05\n",
    "\n",
    "# run grid search\n",
    "grid_search = GridSearchCV(model_RG, param_grid=param_grid, n_jobs=-1, cv=5)\n",
    "grid_search.fit(dataset.features, dataset.target)\n",
    "print(\"Grid Scores:\", grid_search.cv_results_)\n",
    "print(\"Best:\", grid_search.best_params_)  "
   ]
  },
  {
   "cell_type": "code",
   "execution_count": 46,
   "metadata": {},
   "outputs": [
    {
     "name": "stdout",
     "output_type": "stream",
     "text": [
      "Ridge(alpha=2, copy_X=True, fit_intercept=True, max_iter=None,\n",
      "   normalize=False, random_state=None, solver='auto', tol=0.001)\n"
     ]
    }
   ],
   "source": [
    "# fit a ridge regression model to the data\n",
    "model_RG = Ridge(alpha=2)\n",
    "model_RG.fit(dataset.features, dataset.target)\n",
    "print(model_RG)"
   ]
  },
  {
   "cell_type": "code",
   "execution_count": 47,
   "metadata": {
    "collapsed": true
   },
   "outputs": [],
   "source": [
    "# make predictions\n",
    "expected_RG = dataset.target\n",
    "predicted_RG= model_RG.predict(dataset.features)"
   ]
  },
  {
   "cell_type": "code",
   "execution_count": 48,
   "metadata": {},
   "outputs": [
    {
     "name": "stdout",
     "output_type": "stream",
     "text": [
      "Mean Squared Error: 0.0167596438641\n",
      "Mean Absolute Error: 0.09062218902\n",
      "R2 Score: 0.691093472879\n",
      "Explained Variance Score: 0.691093472879\n",
      "Score: 0.691093472879\n",
      "Coef: 0.532578664965 [ -1.75988971e-03  -2.03567382e-02   2.59944141e-02   1.57519567e-01\n",
      "  -6.54024239e-02  -3.09583234e-02   4.29918091e-02   1.87420030e-02\n",
      "  -1.26645621e-01  -3.28656156e-02   4.26831151e-02  -3.40611917e-02\n",
      "   4.04215394e-02   4.06503061e-02  -9.62367961e-02   3.23383033e-02\n",
      "  -1.35319746e-01   5.23819338e-02   1.94610377e-02  -7.98242960e-02\n",
      "   4.58242398e-02  -2.05733328e-02  -1.11077219e-01  -2.68865323e-02\n",
      "  -2.94855845e-02   2.66370699e-02   4.25388161e-02   2.59359579e-02\n",
      "  -5.33047246e-03  -1.23440969e-01  -7.62007289e-02   4.62147134e-02\n",
      "   2.81913846e-02  -1.86528853e-02   1.12424286e-01  -4.77203753e-02\n",
      "  -9.99339973e-03   4.33210202e-02   3.49499904e-02   1.24739617e-01\n",
      "   1.03620587e-01  -7.02493826e-02  -1.05879633e-02   3.15373864e-02\n",
      "  -7.22444045e-02  -1.50298111e-01  -5.23857771e-02  -1.74979237e-02\n",
      "   2.21850834e-02  -1.25176694e-01  -3.03483672e-02   1.45141979e-01\n",
      "  -7.85721521e-02   1.76212593e-02  -6.75997500e-03  -1.82830164e-02\n",
      "   6.23382149e-03  -1.75999043e-02  -4.02096077e-03   4.39331884e-02\n",
      "   2.66116646e-02  -1.12398106e-02  -9.52051256e-02  -4.43305005e-02\n",
      "  -4.15204604e-02   1.22087699e-01  -5.88666496e-02  -2.07773906e-02\n",
      "  -8.01931660e-02   1.19888049e-01   5.60383905e-02   1.22764979e-02\n",
      "   1.23109393e-01  -6.17308953e-02   1.62888483e-02   5.74640494e-02\n",
      "  -5.95777898e-02  -7.67803782e-03   2.25706658e-02  -1.02458988e-02\n",
      "  -5.79459217e-02   7.98989397e-03   1.82362159e-02  -1.62999156e-01\n",
      "   1.36496633e-02   3.23331722e-02   1.31324654e-01   5.75710119e-02\n",
      "  -3.30808020e-02  -8.00778245e-02   1.01068795e-01   1.50546459e-01\n",
      "   6.74469855e-02  -8.06180751e-03   2.78282939e-03   3.53793832e-02\n",
      "   7.29872968e-03  -1.56818026e-02   9.78259491e-03   7.50643483e-03\n",
      "   3.56042490e-02  -5.07538354e-02   3.50825755e-02   6.67494225e-02\n",
      "   1.06462796e-02  -5.46450746e-02  -4.21354477e-02  -2.35201636e-03\n",
      "   1.44064742e-02   5.36626044e-02  -4.11107981e-03  -5.35385395e-02\n",
      "  -4.65985634e-03  -2.19750932e-02   3.24770912e-02  -2.51318825e-05\n",
      "  -3.53287192e-02   4.77889170e-02   1.19309026e-02   3.55450059e-03\n",
      "   3.13247766e-02   2.88155186e-02  -4.22904824e-02]\n"
     ]
    }
   ],
   "source": [
    "print(\"Mean Squared Error:\", mean_squared_error(expected_RG, predicted_RG))\n",
    "print(\"Mean Absolute Error:\", mean_absolute_error(expected_RG, predicted_RG))\n",
    "print(\"R2 Score:\", r2_score(expected_RG, predicted_RG))\n",
    "print(\"Explained Variance Score:\", explained_variance_score(expected_RG, predicted_RG))\n",
    "print(\"Score:\", model_RG.score(dataset.features, dataset.target))\n",
    "print(\"Coef:\", model_RG.intercept_, model_RG.coef_)"
   ]
  },
  {
   "cell_type": "markdown",
   "metadata": {},
   "source": [
    "#### The Ridge Regression has smaller coefficients than Linear Regression."
   ]
  },
  {
   "cell_type": "code",
   "execution_count": 49,
   "metadata": {},
   "outputs": [
    {
     "data": {
      "image/png": "[encoded data removed]",
      "text/plain": [
       "<matplotlib.figure.Figure at 0xd34d240>"
      ]
     },
     "metadata": {},
     "output_type": "display_data"
    }
   ],
   "source": [
    "fig, ax = plt.subplots()\n",
    "plt.plot(model_RG.coef_, label='Ridge')\n",
    "plt.axhline(linewidth=4, color='r') # for reference\n",
    "legend = ax.legend(loc='lower right', shadow=True)\n",
    "plt.show()"
   ]
  },
  {
   "cell_type": "markdown",
   "metadata": {},
   "source": [
    "#### Run Cross Validation to check Overfitting\n",
    "The results show wide variance so the model is overfitting.  Mean is .65 and there is one result at .54."
   ]
  },
  {
   "cell_type": "code",
   "execution_count": 50,
   "metadata": {},
   "outputs": [
    {
     "name": "stdout",
     "output_type": "stream",
     "text": [
      "Cross Validation Score for each K [ 0.701294    0.69835047  0.61471662  0.69777452  0.65171593  0.62480538\n",
      "  0.64317186  0.54001428  0.64313832  0.68686007]\n"
     ]
    },
    {
     "data": {
      "text/plain": [
       "0.65018414419784998"
      ]
     },
     "execution_count": 50,
     "metadata": {},
     "output_type": "execute_result"
    }
   ],
   "source": [
    "model_RG.fit(X_train, y_train)\n",
    "y_train_pred = model_RG.predict(X_train)\n",
    "y_test_pred = model_RG.predict(X_test)\n",
    "scores = cross_val_score(model_RG, X_train, y_train, cv=10)\n",
    "print(\"Cross Validation Score for each K\", scores)\n",
    "scores.mean()  "
   ]
  },
  {
   "cell_type": "code",
   "execution_count": 51,
   "metadata": {},
   "outputs": [
    {
     "name": "stdout",
     "output_type": "stream",
     "text": [
      "MSE train: 0.016, test: 0.019\n",
      "MSE train: 0.090, test: 0.097\n",
      "R2 train: 0.702, test: 0.640\n",
      "EVS train: 0.702, test: 0.640\n",
      "Score train: 0.683, test: 0.683\n"
     ]
    }
   ],
   "source": [
    "print('MSE train: %.3f, test: %.3f' % (\n",
    "        mean_squared_error(y_train, y_train_pred),\n",
    "        mean_squared_error(y_test, y_test_pred)))\n",
    "print('MSE train: %.3f, test: %.3f' % (\n",
    "        mean_absolute_error(y_train, y_train_pred),\n",
    "        mean_absolute_error(y_test, y_test_pred)))\n",
    "print('R2 train: %.3f, test: %.3f' % (\n",
    "        r2_score(y_train, y_train_pred),\n",
    "        r2_score(y_test, y_test_pred)))\n",
    "print('EVS train: %.3f, test: %.3f' % (\n",
    "        explained_variance_score(y_train, y_train_pred),\n",
    "        explained_variance_score(y_test, y_test_pred)))\n",
    "print('Score train: %.3f, test: %.3f' % (\n",
    "        model_RG.score(dataset.features, dataset.target),\n",
    "        model_RG.score(dataset.features, dataset.target)))"
   ]
  },
  {
   "cell_type": "markdown",
   "metadata": {},
   "source": [
    "### Lasso Regression"
   ]
  },
  {
   "cell_type": "code",
   "execution_count": 52,
   "metadata": {
    "collapsed": true
   },
   "outputs": [],
   "source": [
    "from sklearn.linear_model import Lasso\n",
    "model_LAS = Lasso()"
   ]
  },
  {
   "cell_type": "markdown",
   "metadata": {},
   "source": [
    "#### Grid Search on Lasso\n",
    "This time Grid Search picked alpha = .005"
   ]
  },
  {
   "cell_type": "code",
   "execution_count": 53,
   "metadata": {},
   "outputs": [
    {
     "name": "stdout",
     "output_type": "stream",
     "text": [
      "Grid Scores: {'split0_test_score': array([  5.46645285e-01,   4.97148617e-01,  -8.27313888e-07,\n",
      "        -8.27313888e-07,  -8.27313888e-07,  -8.27313888e-07]), 'split1_test_score': array([ 0.59043305,  0.54309189, -0.01196901, -0.01196901, -0.01196901,\n",
      "       -0.01196901]), 'split2_test_score': array([  6.66693036e-01,   6.11348904e-01,  -2.03624241e-04,\n",
      "        -2.03624241e-04,  -2.03624241e-04,  -2.03624241e-04]), 'split3_test_score': array([ 0.62970507,  0.57812376, -0.00256005, -0.00256005, -0.00256005,\n",
      "       -0.00256005]), 'split4_test_score': array([ 0.60277421,  0.55609948, -0.00363055, -0.00363055, -0.00363055,\n",
      "       -0.00363055]), 'mean_test_score': array([ 0.60725237,  0.55716306, -0.00367283, -0.00367283, -0.00367283,\n",
      "       -0.00367283]), 'std_test_score': array([ 0.04004359,  0.03789437,  0.00437341,  0.00437341,  0.00437341,\n",
      "        0.00437341]), 'rank_test_score': array([1, 2, 3, 3, 3, 3]), 'split0_train_score': array([ 0.63025375,  0.57715885,  0.        ,  0.        ,  0.        ,  0.        ]), 'split1_train_score': array([ 0.61716912,  0.56222593,  0.        ,  0.        ,  0.        ,  0.        ]), 'split2_train_score': array([ 0.60320744,  0.53946643,  0.        ,  0.        ,  0.        ,  0.        ]), 'split3_train_score': array([ 0.61156729,  0.55917362,  0.        ,  0.        ,  0.        ,  0.        ]), 'split4_train_score': array([ 0.61750838,  0.56790421,  0.        ,  0.        ,  0.        ,  0.        ]), 'mean_train_score': array([ 0.6159412 ,  0.56118581,  0.        ,  0.        ,  0.        ,  0.        ]), 'std_train_score': array([ 0.00883281,  0.01246705,  0.        ,  0.        ,  0.        ,  0.        ]), 'mean_fit_time': array([ 0.00935998,  0.01247997,  0.01248002,  0.00623994,  0.00624003,\n",
      "        0.00935993]), 'std_fit_time': array([ 0.00764239,  0.00623999,  0.00624001,  0.00764233,  0.00764245,\n",
      "        0.00764235]), 'mean_score_time': array([ 0.00935998,  0.02184   ,  0.01248012,  0.02807994,  0.02495999,\n",
      "        0.02808008]), 'std_score_time': array([ 0.00764239,  0.03638515,  0.01167405,  0.01819261,  0.01248   ,\n",
      "        0.0181926 ]), 'param_alpha': masked_array(data = [0.005 0.01 0.1 0.5 1 2],\n",
      "             mask = [False False False False False False],\n",
      "       fill_value = ?)\n",
      ", 'params': ({'alpha': 0.005}, {'alpha': 0.01}, {'alpha': 0.1}, {'alpha': 0.5}, {'alpha': 1}, {'alpha': 2})}\n",
      "Best: {'alpha': 0.005}\n"
     ]
    }
   ],
   "source": [
    "# use a full grid over several parameters and cross validate 5 times\n",
    "from sklearn.model_selection import GridSearchCV\n",
    "param_grid = {\"alpha\": [.005,.01,.1, .5, 1, 2]}\n",
    "#param_grid={\"alpha\": [1,10,1]} this does a range 1 through 10 changes by a factor of 1. \n",
    "#param_grid={\"alpha\": [.01,1,.05]} this does a range 1 through 1 changes by a factor of .05\n",
    "\n",
    "# run grid search\n",
    "grid_search = GridSearchCV(model_LAS, param_grid=param_grid, n_jobs=-1, cv=5)\n",
    "grid_search.fit(dataset.features, dataset.target)\n",
    "print(\"Grid Scores:\", grid_search.cv_results_)\n",
    "print(\"Best:\", grid_search.best_params_)  "
   ]
  },
  {
   "cell_type": "code",
   "execution_count": 54,
   "metadata": {},
   "outputs": [
    {
     "name": "stdout",
     "output_type": "stream",
     "text": [
      "Lasso(alpha=0.005, copy_X=True, fit_intercept=True, max_iter=1000,\n",
      "   normalize=False, positive=False, precompute=False, random_state=None,\n",
      "   selection='cyclic', tol=0.0001, warm_start=False)\n"
     ]
    }
   ],
   "source": [
    "model_LAS = Lasso(alpha=.005)\n",
    "model_LAS.fit(dataset.features, dataset.target)\n",
    "print(model_LAS)"
   ]
  },
  {
   "cell_type": "code",
   "execution_count": 55,
   "metadata": {
    "collapsed": true
   },
   "outputs": [],
   "source": [
    "# make predictions\n",
    "expected_LAS = dataset.target\n",
    "predicted_LAS = model_LR.predict(dataset.features)"
   ]
  },
  {
   "cell_type": "code",
   "execution_count": 56,
   "metadata": {},
   "outputs": [
    {
     "name": "stdout",
     "output_type": "stream",
     "text": [
      "Mean Squared Error: 0.0168245987013\n",
      "Mean Absolute Error: 0.0925825237167\n",
      "R2 Score: 0.689896253335\n",
      "Explained Variance Score: 0.689905245295\n",
      "Score: 0.615374105146\n",
      "Coef: 0.497126939647 [-0.00136611  0.         -0.          0.         -0.20146398  0.          0.\n",
      " -0.         -0.         -0.          0.          0.          0.02151714\n",
      " -0.         -0.         -0.         -0.          0.          0.         -0.\n",
      " -0.         -0.         -0.         -0.         -0.          0.          0.\n",
      " -0.          0.          0.          0.          0.         -0.          0.\n",
      " -0.         -0.         -0.          0.         -0.          0.040332    0.\n",
      "  0.          0.          0.         -0.         -0.30877405 -0.         -0.\n",
      " -0.         -0.          0.          0.20328591  0.          0.          0.\n",
      "  0.          0.          0.          0.          0.          0.         -0.\n",
      "  0.          0.          0.          0.         -0.          0.         -0.\n",
      "  0.01264064  0.         -0.          0.04279364 -0.         -0.\n",
      "  0.00406926 -0.          0.          0.          0.         -0.         -0.\n",
      "  0.         -0.         -0.         -0.         -0.          0.          0.\n",
      " -0.          0.          0.          0.         -0.         -0.          0.\n",
      " -0.          0.          0.         -0.          0.          0.          0.\n",
      "  0.          0.         -0.         -0.          0.          0.          0.\n",
      "  0.          0.          0.          0.          0.          0.          0.\n",
      "  0.          0.         -0.          0.          0.01028934  0.        ]\n"
     ]
    }
   ],
   "source": [
    "# summarize the fit of the model\n",
    "print(\"Mean Squared Error:\", mean_squared_error(expected_LAS, predicted_LAS))\n",
    "print(\"Mean Absolute Error:\", mean_absolute_error(expected_LAS, predicted_LAS))\n",
    "print(\"R2 Score:\", r2_score(expected_LAS, predicted_LAS))\n",
    "print(\"Explained Variance Score:\", explained_variance_score(expected_LAS, predicted_LAS))\n",
    "print(\"Score:\", model_LAS.score(dataset.features, dataset.target))\n",
    "print(\"Coef:\", model_LAS.intercept_, model_LAS.coef_)"
   ]
  },
  {
   "cell_type": "markdown",
   "metadata": {},
   "source": [
    "#### Lasso reduced the number of features to add to the model as we can see in plot below.  Lasso coefficients are small segments of Ridge regression line."
   ]
  },
  {
   "cell_type": "code",
   "execution_count": 57,
   "metadata": {},
   "outputs": [
    {
     "data": {
      "image/png": "[encoded data removed]",
      "text/plain": [
       "<matplotlib.figure.Figure at 0xd2a1c50>"
      ]
     },
     "metadata": {},
     "output_type": "display_data"
    }
   ],
   "source": [
    "fig, ax = plt.subplots()\n",
    "plt.plot(model_RG.coef_, label='Ridge')\n",
    "plt.plot(model_LAS.coef_, label='Lasso')\n",
    "plt.axhline(linewidth=4, color='r') # for reference\n",
    "legend = ax.legend(loc='lower right', shadow=True)\n",
    "plt.show()"
   ]
  },
  {
   "cell_type": "markdown",
   "metadata": {},
   "source": [
    "#### Run Cross Validation to check Overfitting\n",
    "The variance is much less than Ridge.  All ten results are within 4% of the mean.  "
   ]
  },
  {
   "cell_type": "code",
   "execution_count": 58,
   "metadata": {},
   "outputs": [
    {
     "name": "stdout",
     "output_type": "stream",
     "text": [
      "Cross Validation Score for each K [ 0.65330619  0.625218    0.58575201  0.6402722   0.62865529  0.56990759\n",
      "  0.59690714  0.5813888   0.61513158  0.6238728 ]\n"
     ]
    },
    {
     "data": {
      "text/plain": [
       "0.61204115965580264"
      ]
     },
     "execution_count": 58,
     "metadata": {},
     "output_type": "execute_result"
    }
   ],
   "source": [
    "model_LAS.fit(X_train, y_train)\n",
    "y_train_pred = model_LAS.predict(X_train)\n",
    "y_test_pred = model_LAS.predict(X_test)\n",
    "scores = cross_val_score(model_LAS, X_train, y_train, cv=10)\n",
    "print(\"Cross Validation Score for each K\", scores)\n",
    "scores.mean()  "
   ]
  },
  {
   "cell_type": "code",
   "execution_count": 59,
   "metadata": {},
   "outputs": [
    {
     "name": "stdout",
     "output_type": "stream",
     "text": [
      "MSE train: 0.020, test: 0.021\n",
      "MSE train: 0.101, test: 0.102\n",
      "R2 train: 0.625, test: 0.608\n",
      "EVS train: 0.625, test: 0.608\n",
      "Score train: 0.620, test: 0.620\n"
     ]
    }
   ],
   "source": [
    "print('MSE train: %.3f, test: %.3f' % (\n",
    "        mean_squared_error(y_train, y_train_pred),\n",
    "        mean_squared_error(y_test, y_test_pred)))\n",
    "print('MSE train: %.3f, test: %.3f' % (\n",
    "        mean_absolute_error(y_train, y_train_pred),\n",
    "        mean_absolute_error(y_test, y_test_pred)))\n",
    "print('R2 train: %.3f, test: %.3f' % (\n",
    "        r2_score(y_train, y_train_pred),\n",
    "        r2_score(y_test, y_test_pred)))\n",
    "print('EVS train: %.3f, test: %.3f' % (\n",
    "        explained_variance_score(y_train, y_train_pred),\n",
    "        explained_variance_score(y_test, y_test_pred)))\n",
    "print('Score train: %.3f, test: %.3f' % (\n",
    "        model_LAS.score(dataset.features, dataset.target),\n",
    "        model_LAS.score(dataset.features, dataset.target)))"
   ]
  },
  {
   "cell_type": "markdown",
   "metadata": {},
   "source": [
    "### ElasticNet Regression"
   ]
  },
  {
   "cell_type": "code",
   "execution_count": 60,
   "metadata": {
    "collapsed": true
   },
   "outputs": [],
   "source": [
    "from sklearn.linear_model import ElasticNet\n",
    "model_EN = ElasticNet()"
   ]
  },
  {
   "cell_type": "markdown",
   "metadata": {},
   "source": [
    "#### Grid Search on ElasticNet\n",
    "Grid Search picks alpha = 0.005"
   ]
  },
  {
   "cell_type": "code",
   "execution_count": 61,
   "metadata": {},
   "outputs": [
    {
     "name": "stdout",
     "output_type": "stream",
     "text": [
      "Grid Scores: {'split0_test_score': array([  5.78164675e-01,   5.49914081e-01,  -8.27313888e-07,\n",
      "        -8.27313888e-07,  -8.27313888e-07,  -8.27313888e-07]), 'split1_test_score': array([ 0.61780121,  0.58952507, -0.01196901, -0.01196901, -0.01196901,\n",
      "       -0.01196901]), 'split2_test_score': array([  6.87097131e-01,   6.62703615e-01,  -2.03624241e-04,\n",
      "        -2.03624241e-04,  -2.03624241e-04,  -2.03624241e-04]), 'split3_test_score': array([ 0.65978355,  0.63040027, -0.00256005, -0.00256005, -0.00256005,\n",
      "       -0.00256005]), 'split4_test_score': array([ 0.62858208,  0.60081066, -0.00363055, -0.00363055, -0.00363055,\n",
      "       -0.00363055]), 'mean_test_score': array([ 0.63428859,  0.60667368, -0.00367283, -0.00367283, -0.00367283,\n",
      "       -0.00367283]), 'std_test_score': array([ 0.03713866,  0.03809451,  0.00437341,  0.00437341,  0.00437341,\n",
      "        0.00437341]), 'rank_test_score': array([1, 2, 3, 3, 3, 3]), 'split0_train_score': array([ 0.65606366,  0.62907594,  0.        ,  0.        ,  0.        ,  0.        ]), 'split1_train_score': array([ 0.64727079,  0.61656749,  0.        ,  0.        ,  0.        ,  0.        ]), 'split2_train_score': array([ 0.62947177,  0.60086541,  0.        ,  0.        ,  0.        ,  0.        ]), 'split3_train_score': array([ 0.63862276,  0.61044097,  0.        ,  0.        ,  0.        ,  0.        ]), 'split4_train_score': array([ 0.64631139,  0.61795898,  0.        ,  0.        ,  0.        ,  0.        ]), 'mean_train_score': array([ 0.64354807,  0.61498176,  0.        ,  0.        ,  0.        ,  0.        ]), 'std_train_score': array([ 0.00895026,  0.0092727 ,  0.        ,  0.        ,  0.        ,  0.        ]), 'mean_fit_time': array([ 0.01248007,  0.01248007,  0.00935993,  0.00935993,  0.01248007,\n",
      "        0.00936003]), 'std_fit_time': array([ 0.00624003,  0.00624003,  0.00764235,  0.00764235,  0.00624003,\n",
      "        0.00764243]), 'mean_score_time': array([ 0.01560001,  0.02184   ,  0.02184005,  0.05304008,  0.02495995,\n",
      "        0.01871986]), 'std_score_time': array([ 0.00986628,  0.02116081,  0.00764241,  0.00764243,  0.02334789,\n",
      "        0.01819246]), 'param_alpha': masked_array(data = [0.005 0.01 0.1 0.5 1 2],\n",
      "             mask = [False False False False False False],\n",
      "       fill_value = ?)\n",
      ", 'params': ({'alpha': 0.005}, {'alpha': 0.01}, {'alpha': 0.1}, {'alpha': 0.5}, {'alpha': 1}, {'alpha': 2})}\n",
      "Best: {'alpha': 0.005}\n"
     ]
    }
   ],
   "source": [
    "# use a full grid over several parameters and cross validate 5 times\n",
    "from sklearn.model_selection import GridSearchCV\n",
    "param_grid = {\"alpha\": [.005,.01,.1, .5, 1, 2]}\n",
    "#param_grid={\"alpha\": [1,10,1]} this does a range 1 through 10 changes by a factor of 1. \n",
    "#param_grid={\"alpha\": [.01,1,.05]} this does a range 1 through 1 changes by a factor of .05\n",
    "\n",
    "# run grid search\n",
    "grid_search = GridSearchCV(model_EN, param_grid=param_grid, n_jobs=-1, cv=5)\n",
    "grid_search.fit(dataset.features, dataset.target)\n",
    "print(\"Grid Scores:\", grid_search.cv_results_)\n",
    "print(\"Best:\", grid_search.best_params_)  "
   ]
  },
  {
   "cell_type": "code",
   "execution_count": 62,
   "metadata": {},
   "outputs": [
    {
     "name": "stdout",
     "output_type": "stream",
     "text": [
      "ElasticNet(alpha=0.005, copy_X=True, fit_intercept=True, l1_ratio=0.5,\n",
      "      max_iter=1000, normalize=False, positive=False, precompute=False,\n",
      "      random_state=None, selection='cyclic', tol=0.0001, warm_start=False)\n"
     ]
    }
   ],
   "source": [
    "model_EN = ElasticNet(alpha=.005)\n",
    "model_EN.fit(dataset.features, dataset.target)\n",
    "print(model_EN)"
   ]
  },
  {
   "cell_type": "code",
   "execution_count": 63,
   "metadata": {
    "collapsed": true
   },
   "outputs": [],
   "source": [
    "# make predictions\n",
    "expected_EN = dataset.target\n",
    "predicted_EN = model_EN.predict(dataset.features)"
   ]
  },
  {
   "cell_type": "code",
   "execution_count": 64,
   "metadata": {},
   "outputs": [
    {
     "name": "stdout",
     "output_type": "stream",
     "text": [
      "Mean Squared Error: 0.0194003317046\n",
      "Mean Absolute Error: 0.0965809080858\n",
      "R2 Score: 0.642421453554\n",
      "Explained Variance Score: 0.642421453554\n",
      "Score: 0.642421453554\n",
      "Coef: 0.368664360003 [-0.00173066  0.         -0.          0.05781793 -0.14879276  0.          0.\n",
      " -0.         -0.         -0.          0.          0.          0.03294456\n",
      " -0.         -0.         -0.         -0.          0.          0.01616216\n",
      " -0.         -0.         -0.          0.         -0.         -0.          0.\n",
      "  0.          0.          0.          0.          0.          0.         -0.\n",
      "  0.         -0.         -0.         -0.          0.         -0.\n",
      "  0.07551418  0.          0.          0.02719692  0.         -0.02974863\n",
      " -0.17823518 -0.03159657 -0.         -0.         -0.0018059   0.\n",
      "  0.18984371  0.          0.          0.          0.          0.          0.\n",
      "  0.          0.          0.         -0.          0.          0.          0.\n",
      "  0.         -0.          0.         -0.          0.09057556  0.         -0.\n",
      "  0.09361368 -0.03333945 -0.          0.02636208 -0.          0.          0.\n",
      "  0.          0.          0.          0.         -0.          0.          0.\n",
      "  0.          0.          0.         -0.          0.          0.          0.\n",
      " -0.         -0.          0.         -0.          0.          0.         -0.\n",
      "  0.          0.          0.          0.          0.         -0.         -0.\n",
      "  0.          0.          0.          0.          0.          0.          0.\n",
      "  0.          0.          0.          0.          0.          0.          0.\n",
      "  0.02171065  0.        ]\n"
     ]
    }
   ],
   "source": [
    "print(\"Mean Squared Error:\", mean_squared_error(expected_EN, predicted_EN))\n",
    "print(\"Mean Absolute Error:\", mean_absolute_error(expected_EN, predicted_EN))\n",
    "print(\"R2 Score:\", r2_score(expected_EN, predicted_EN))\n",
    "print(\"Explained Variance Score:\", explained_variance_score(expected_EN, predicted_EN))\n",
    "print(\"Score:\", model_EN.score(dataset.features, dataset.target))\n",
    "print(\"Coef:\", model_EN.intercept_, model_EN.coef_)"
   ]
  },
  {
   "cell_type": "markdown",
   "metadata": {},
   "source": [
    "#### Elastic Net coefficients are also subset of Ridge Regression because Elastic Net reduced the number of features."
   ]
  },
  {
   "cell_type": "code",
   "execution_count": 65,
   "metadata": {},
   "outputs": [
    {
     "data": {
      "image/png": "[encoded data removed]",
      "text/plain": [
       "<matplotlib.figure.Figure at 0xde97048>"
      ]
     },
     "metadata": {},
     "output_type": "display_data"
    }
   ],
   "source": [
    "fig, ax = plt.subplots()\n",
    "plt.plot(model_RG.coef_, label='Ridge')\n",
    "plt.plot(model_LAS.coef_, label='Lasso')\n",
    "plt.plot(model_EN.coef_, label='ElasticNet')\n",
    "plt.axhline(linewidth=4, color='r') # for reference\n",
    "legend = ax.legend(loc='lower right', shadow=True)\n",
    "plt.show()"
   ]
  },
  {
   "cell_type": "markdown",
   "metadata": {},
   "source": [
    "#### Run Cross Validation to check Overfitting\n",
    "Less overfitting than Ridge.  All results are 4% from the mean."
   ]
  },
  {
   "cell_type": "code",
   "execution_count": 66,
   "metadata": {},
   "outputs": [
    {
     "name": "stdout",
     "output_type": "stream",
     "text": [
      "Cross Validation Score for each K [ 0.67075153  0.66199615  0.59277921  0.67533707  0.64488255  0.59741952\n",
      "  0.62282122  0.59019109  0.64041672  0.65335323]\n"
     ]
    },
    {
     "data": {
      "text/plain": [
       "0.63499482812754748"
      ]
     },
     "execution_count": 66,
     "metadata": {},
     "output_type": "execute_result"
    }
   ],
   "source": [
    "model_EN.fit(X_train, y_train)\n",
    "y_train_pred = model_EN.predict(X_train)\n",
    "y_test_pred = model_EN.predict(X_test)\n",
    "scores = cross_val_score(model_EN, X_train, y_train, cv=10)\n",
    "print(\"Cross Validation Score for each K\", scores)\n",
    "scores.mean() "
   ]
  },
  {
   "cell_type": "code",
   "execution_count": 67,
   "metadata": {},
   "outputs": [
    {
     "name": "stdout",
     "output_type": "stream",
     "text": [
      "MSE train: 0.019, test: 0.020\n",
      "MSE train: 0.097, test: 0.098\n",
      "R2 train: 0.651, test: 0.624\n",
      "EVS train: 0.651, test: 0.625\n",
      "Score train: 0.643, test: 0.643\n"
     ]
    }
   ],
   "source": [
    "print('MSE train: %.3f, test: %.3f' % (\n",
    "        mean_squared_error(y_train, y_train_pred),\n",
    "        mean_squared_error(y_test, y_test_pred)))\n",
    "print('MSE train: %.3f, test: %.3f' % (\n",
    "        mean_absolute_error(y_train, y_train_pred),\n",
    "        mean_absolute_error(y_test, y_test_pred)))\n",
    "print('R2 train: %.3f, test: %.3f' % (\n",
    "        r2_score(y_train, y_train_pred),\n",
    "        r2_score(y_test, y_test_pred)))\n",
    "print('EVS train: %.3f, test: %.3f' % (\n",
    "        explained_variance_score(y_train, y_train_pred),\n",
    "        explained_variance_score(y_test, y_test_pred)))\n",
    "print('Score train: %.3f, test: %.3f' % (\n",
    "        model_EN.score(dataset.features, dataset.target),\n",
    "        model_EN.score(dataset.features, dataset.target)))"
   ]
  },
  {
   "cell_type": "markdown",
   "metadata": {},
   "source": [
    "### Least Angle Regression "
   ]
  },
  {
   "cell_type": "code",
   "execution_count": 68,
   "metadata": {},
   "outputs": [
    {
     "name": "stdout",
     "output_type": "stream",
     "text": [
      "Lars(copy_X=True, eps=2.2204460492503131e-16, fit_intercept=True,\n",
      "   fit_path=True, n_nonzero_coefs=7, normalize=True, positive=False,\n",
      "   precompute='auto', verbose=False)\n"
     ]
    }
   ],
   "source": [
    "#LARS Regression Model- Least Angle Regression model\n",
    "from sklearn.linear_model import Lars\n",
    "model_LAR = Lars(n_nonzero_coefs=7)\n",
    "model_LAR.fit(dataset.features, dataset.target)\n",
    "print(model_LAR)"
   ]
  },
  {
   "cell_type": "code",
   "execution_count": 69,
   "metadata": {
    "collapsed": true
   },
   "outputs": [],
   "source": [
    "# make predictions\n",
    "expected_LAR = dataset.target\n",
    "predicted_LAR = model_LAR.predict(dataset.features)"
   ]
  },
  {
   "cell_type": "code",
   "execution_count": 70,
   "metadata": {},
   "outputs": [
    {
     "name": "stdout",
     "output_type": "stream",
     "text": [
      "Mean Squared Error: 0.0213361093477\n",
      "Mean Absolute Error: 0.102520683407\n",
      "R2 Score: 0.606742034954\n",
      "Explained Variance Score: 0.606742034954\n",
      "Score: 0.606742034954\n",
      "Coef: 0.502055478695 [-0.00273476  0.         -0.          0.         -0.19909966  0.          0.\n",
      " -0.         -0.         -0.          0.          0.          0.02765399\n",
      " -0.         -0.         -0.         -0.          0.          0.         -0.\n",
      " -0.         -0.         -0.         -0.         -0.          0.          0.\n",
      " -0.          0.          0.          0.          0.         -0.          0.\n",
      " -0.         -0.         -0.          0.         -0.          0.04107972\n",
      "  0.          0.          0.          0.         -0.         -0.30593808\n",
      " -0.         -0.         -0.         -0.          0.          0.19049338\n",
      "  0.          0.          0.          0.          0.          0.          0.\n",
      "  0.          0.         -0.          0.          0.          0.          0.\n",
      " -0.          0.         -0.          0.          0.         -0.          0.0749574\n",
      " -0.         -0.          0.0336362  -0.          0.          0.          0.\n",
      " -0.          0.          0.         -0.         -0.         -0.         -0.\n",
      "  0.          0.         -0.          0.          0.          0.         -0.\n",
      " -0.          0.         -0.          0.          0.         -0.          0.\n",
      "  0.          0.          0.          0.         -0.         -0.          0.\n",
      "  0.          0.          0.          0.          0.          0.          0.\n",
      "  0.          0.          0.          0.          0.          0.\n",
      "  0.00697769  0.        ]\n"
     ]
    }
   ],
   "source": [
    "# summarize the fit of the model\n",
    "print(\"Mean Squared Error:\", mean_squared_error(expected_LAR, predicted_LAR))\n",
    "print(\"Mean Absolute Error:\", mean_absolute_error(expected_LAR, predicted_LAR))\n",
    "print(\"R2 Score:\", r2_score(expected_LAR, predicted_LAR))\n",
    "print(\"Explained Variance Score:\", explained_variance_score(expected_LAR, predicted_LAR))\n",
    "print(\"Score:\", model_LAR.score(dataset.features, dataset.target))\n",
    "print(\"Coef:\", model_LAR.intercept_, model_LAS.coef_)"
   ]
  },
  {
   "cell_type": "markdown",
   "metadata": {},
   "source": [
    "#### Least Angle Regression coefficients are also subset of Ridge Regression.  I defined to leave seven features."
   ]
  },
  {
   "cell_type": "code",
   "execution_count": 71,
   "metadata": {},
   "outputs": [
    {
     "data": {
      "image/png": "[encoded data removed]",
      "text/plain": [
       "<matplotlib.figure.Figure at 0xd919f28>"
      ]
     },
     "metadata": {},
     "output_type": "display_data"
    }
   ],
   "source": [
    "fig, ax = plt.subplots()\n",
    "plt.plot(model_RG.coef_, label='Ridge')\n",
    "plt.plot(model_LAS.coef_, label='Lasso')\n",
    "plt.plot(model_EN.coef_, label='ElasticNet')\n",
    "plt.plot(model_LAS.coef_, label='LAR')\n",
    "plt.axhline(linewidth=4, color='r') # for reference\n",
    "legend = ax.legend(loc='lower right', shadow=True)\n",
    "plt.show()"
   ]
  },
  {
   "cell_type": "markdown",
   "metadata": {},
   "source": [
    "#### Run Cross Validation to check Overfitting\n",
    "Less overfitting than Ridge.  All results are within 5% from the mean."
   ]
  },
  {
   "cell_type": "code",
   "execution_count": 72,
   "metadata": {},
   "outputs": [
    {
     "name": "stdout",
     "output_type": "stream",
     "text": [
      "Cross Validation Score for each K [ 0.64902383  0.59640807  0.57791356  0.63491898  0.61541295  0.58131182\n",
      "  0.58818768  0.58696939  0.61339029  0.61342148]\n"
     ]
    },
    {
     "data": {
      "text/plain": [
       "0.60569580657424971"
      ]
     },
     "execution_count": 72,
     "metadata": {},
     "output_type": "execute_result"
    }
   ],
   "source": [
    "model_LAR.fit(X_train, y_train)\n",
    "y_train_pred = model_LAR.predict(X_train)\n",
    "y_test_pred = model_LAR.predict(X_test)\n",
    "scores = cross_val_score(model_LAR, X_train, y_train, cv=10)\n",
    "print(\"Cross Validation Score for each K\", scores)\n",
    "scores.mean() "
   ]
  },
  {
   "cell_type": "code",
   "execution_count": 73,
   "metadata": {},
   "outputs": [
    {
     "name": "stdout",
     "output_type": "stream",
     "text": [
      "MSE train: 0.021, test: 0.021\n",
      "MSE train: 0.101, test: 0.103\n",
      "R2 train: 0.618, test: 0.604\n",
      "EVS train: 0.618, test: 0.605\n",
      "Score train: 0.614, test: 0.614\n"
     ]
    }
   ],
   "source": [
    "print('MSE train: %.3f, test: %.3f' % (\n",
    "        mean_squared_error(y_train, y_train_pred),\n",
    "        mean_squared_error(y_test, y_test_pred)))\n",
    "print('MSE train: %.3f, test: %.3f' % (\n",
    "        mean_absolute_error(y_train, y_train_pred),\n",
    "        mean_absolute_error(y_test, y_test_pred)))\n",
    "print('R2 train: %.3f, test: %.3f' % (\n",
    "        r2_score(y_train, y_train_pred),\n",
    "        r2_score(y_test, y_test_pred)))\n",
    "print('EVS train: %.3f, test: %.3f' % (\n",
    "        explained_variance_score(y_train, y_train_pred),\n",
    "        explained_variance_score(y_test, y_test_pred)))\n",
    "print('Score train: %.3f, test: %.3f' % (\n",
    "        model_LAR.score(dataset.features, dataset.target),\n",
    "        model_LAR.score(dataset.features, dataset.target)))"
   ]
  },
  {
   "cell_type": "markdown",
   "metadata": {},
   "source": [
    "### Random Forest Regressor\n",
    "Random Forest Regressor has the highest R2 and smallest Mean Squared Error."
   ]
  },
  {
   "cell_type": "code",
   "execution_count": 74,
   "metadata": {},
   "outputs": [
    {
     "data": {
      "text/plain": [
       "RandomForestRegressor(bootstrap=True, criterion='mse', max_depth=None,\n",
       "           max_features='auto', max_leaf_nodes=None,\n",
       "           min_impurity_split=1e-07, min_samples_leaf=1,\n",
       "           min_samples_split=2, min_weight_fraction_leaf=0.0,\n",
       "           n_estimators=1000, n_jobs=-1, oob_score=False, random_state=1,\n",
       "           verbose=0, warm_start=False)"
      ]
     },
     "execution_count": 74,
     "metadata": {},
     "output_type": "execute_result"
    }
   ],
   "source": [
    "from sklearn.ensemble import RandomForestRegressor\n",
    "\n",
    "model_forest = RandomForestRegressor(n_estimators=1000, \n",
    "                               criterion='mse', \n",
    "                               random_state=1, \n",
    "                               n_jobs=-1)\n",
    "model_forest.fit(dataset.features, dataset.target)"
   ]
  },
  {
   "cell_type": "code",
   "execution_count": 75,
   "metadata": {
    "collapsed": true
   },
   "outputs": [],
   "source": [
    "expected_forest = dataset.target\n",
    "predicted_forest = model_forest.predict(dataset.features)"
   ]
  },
  {
   "cell_type": "code",
   "execution_count": 76,
   "metadata": {},
   "outputs": [
    {
     "name": "stdout",
     "output_type": "stream",
     "text": [
      "Mean Squared Error: 0.00253424278696\n",
      "Mean Absolute Error: 0.0345440220662\n",
      "R2 Score: 0.953289929992\n",
      "Explained Variance Score: 0.953342978084\n",
      "Score: 0.953289929992\n"
     ]
    }
   ],
   "source": [
    "# summarize the fit of the model\n",
    "print(\"Mean Squared Error:\", mean_squared_error(expected_forest, predicted_forest))\n",
    "print(\"Mean Absolute Error:\", mean_absolute_error(expected_forest, predicted_forest))\n",
    "print(\"R2 Score:\", r2_score(expected_forest, predicted_forest))\n",
    "print(\"Explained Variance Score:\", explained_variance_score(expected_forest, predicted_forest))\n",
    "print(\"Score:\", model_forest.score(dataset.features, dataset.target))"
   ]
  },
  {
   "cell_type": "markdown",
   "metadata": {},
   "source": [
    "#### Run Cross Validation to check Overfitting\n",
    "Less overfitting than Ridge but more than Lasso, Elastic Net, and Least Angle Regression.  This is because all 10 folds accuracy results are within 8% from the mean."
   ]
  },
  {
   "cell_type": "code",
   "execution_count": 77,
   "metadata": {},
   "outputs": [
    {
     "name": "stdout",
     "output_type": "stream",
     "text": [
      "Cross Validation Score for each K [ 0.68503902  0.64853043  0.56310821  0.72065542  0.6087769   0.65080189\n",
      "  0.62883499  0.57772762  0.66982124  0.67751189]\n"
     ]
    },
    {
     "data": {
      "text/plain": [
       "0.64308075984280877"
      ]
     },
     "execution_count": 77,
     "metadata": {},
     "output_type": "execute_result"
    }
   ],
   "source": [
    "model_forest.fit(X_train, y_train)\n",
    "y_train_pred = model_forest.predict(X_train)\n",
    "y_test_pred = model_forest.predict(X_test)\n",
    "scores = cross_val_score(model_forest, X_train, y_train, cv=10)\n",
    "print(\"Cross Validation Score for each K\", scores)\n",
    "scores.mean() "
   ]
  },
  {
   "cell_type": "code",
   "execution_count": 78,
   "metadata": {},
   "outputs": [
    {
     "name": "stdout",
     "output_type": "stream",
     "text": [
      "MSE train: 0.003, test: 0.020\n",
      "MSE train: 0.035, test: 0.098\n",
      "R2 train: 0.953, test: 0.634\n",
      "EVS train: 0.953, test: 0.634\n",
      "Score train: 0.858, test: 0.858\n"
     ]
    }
   ],
   "source": [
    "print('MSE train: %.3f, test: %.3f' % (\n",
    "        mean_squared_error(y_train, y_train_pred),\n",
    "        mean_squared_error(y_test, y_test_pred)))\n",
    "print('MSE train: %.3f, test: %.3f' % (\n",
    "        mean_absolute_error(y_train, y_train_pred),\n",
    "        mean_absolute_error(y_test, y_test_pred)))\n",
    "print('R2 train: %.3f, test: %.3f' % (\n",
    "        r2_score(y_train, y_train_pred),\n",
    "        r2_score(y_test, y_test_pred)))\n",
    "print('EVS train: %.3f, test: %.3f' % (\n",
    "        explained_variance_score(y_train, y_train_pred),\n",
    "        explained_variance_score(y_test, y_test_pred)))\n",
    "print('Score train: %.3f, test: %.3f' % (\n",
    "        model_forest.score(dataset.features, dataset.target),\n",
    "        model_forest.score(dataset.features, dataset.target)))"
   ]
  },
  {
   "cell_type": "markdown",
   "metadata": {},
   "source": [
    "### Summary\n",
    "\n",
    "The best model is ElasticNet Regression with alpha set to 0.005, and 10-fold cross validation mean score of 63.5%. Here are why:\n",
    "\n",
    "* The Lasso, ElasticNet, and Least Angle Regression both reduced number of features.  The ridge Regression did not reduce the number of features.\n",
    "* 10-fold cross validation test showed ElasticNet has all 10 accuracy scores within 2% of the mean. Ridge regression and random forest scores are more than 2% from their means.\n",
    "* The grid search ran models with several alpha parameters with 5-fold cross validation.  It picked alpha = 0.005 as the optimal penalty for ElasticNet model. The bigger alpha means more penalty, we tries to find balance between variance and bias. \n",
    "\n",
    "\n",
    "                                   Table 1. Regression Models Results\n",
    "| Regression | Parameters| Mean Squared Error| Mean Absolute Error| R^2 Score| Explained Variance Score| Score|10-fold CV Score|\n",
    "| :---------:|:-----:|:------------------:|:------------------:|:-------:|:-----------------------:|:----:|------------------:|\n",
    "| Linear Regression-OLS |   | 0.0163 | 0.090 | 0.700 | 0.700 | 0.700 |       |   \n",
    "| Ridge Regression      | alpha=2 | 0.0167 | 0.091 | 0.691 | 0.691 | 0.691 | 0.650 |   \n",
    "| Lasso Regression  | alpha=.005 | 0.0168 | 0.093 | 0.690 | 0.690 | 0.615 | 0.612 |\n",
    "| ElasticNet Regression  | alpha=.005 | 0.0194 | 0.0966 | 0.642 | 0.642 | 0.642 | 0.635 |\n",
    "| Least Angle Regression | n_nonzero_coefs=7 | 0.0213 | 0.103 | 0.607 | 0.607 | 0.607 | 0.606 |\n",
    "| Random Forest Regressor | n_estimators=1000,criterion='mse'| 0.003 | 0.035 | 0.953 | 0.953 | 0.953 | 0.643 |\n"
   ]
  },
  {
   "cell_type": "markdown",
   "metadata": {},
   "source": [
    "# END"
   ]
  }
 ],
 "metadata": {
  "kernelspec": {
   "display_name": "Python 3",
   "language": "python",
   "name": "python3"
  },
  "language_info": {
   "codemirror_mode": {
    "name": "ipython",
    "version": 3
   },
   "file_extension": ".py",
   "mimetype": "text/x-python",
   "name": "python",
   "nbconvert_exporter": "python",
   "pygments_lexer": "ipython3",
   "version": "3.6.1"
  }
 },
 "nbformat": 4,
 "nbformat_minor": 2
}
