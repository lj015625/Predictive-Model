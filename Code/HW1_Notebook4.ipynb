{
 "cells": [
  {
   "cell_type": "markdown",
   "metadata": {},
   "source": [
    "# BIA 6304 Predictive Models Fall 2017\n",
    "## Assignment 1 \n",
    "## Notebook 4\n",
    "### Stuent:  Leonardo Ji\n",
    "### 10/30/2017"
   ]
  },
  {
   "cell_type": "markdown",
   "metadata": {},
   "source": [
    "### Import Standard packages"
   ]
  },
  {
   "cell_type": "code",
   "execution_count": 1,
   "metadata": {
    "collapsed": true
   },
   "outputs": [],
   "source": [
    "#Add packages\n",
    "#These are my standard packages I load for almost every project\n",
    "%matplotlib inline \n",
    "import numpy as np\n",
    "import matplotlib.pyplot as plt\n",
    "import pandas as pd\n",
    "pd.set_option('display.max_colwidth', 15000) #important for getting all the text\n",
    "#From Scikit Learn\n",
    "from sklearn import preprocessing\n",
    "from sklearn.model_selection  import train_test_split, cross_val_score, KFold\n",
    "from sklearn.model_selection import GridSearchCV\n",
    "from sklearn.metrics import mean_squared_error, mean_absolute_error, r2_score, explained_variance_score\n",
    "from sklearn.metrics import accuracy_score, precision_score, recall_score, f1_score\n",
    "from sklearn.metrics import roc_curve, auc, confusion_matrix, classification_report\n",
    "#Notice I did not load my Datamining packages yet (ie decision tree). I will do that as I use them."
   ]
  },
  {
   "cell_type": "markdown",
   "metadata": {},
   "source": [
    "### Start to think about automating your code. You should be able to use 98% of the above code and run a second data set through it.\n",
    "\n",
    "Hence I would take your Notebook 3 and “make a copy”. Start with that. Also, think about starting a code notebook. \n",
    "For Notebook 4, repeat all the steps in Notebook 3 using the Prostate data set. The target is LPSA (log PSA test results). More info on the variables can be found here.\n",
    "https://rafalab.github.io/pages/649/prostate.html\n",
    "You will find a prostate.csv file in the BB folder. "
   ]
  },
  {
   "cell_type": "markdown",
   "metadata": {},
   "source": [
    "### Import Data and set Column names"
   ]
  },
  {
   "cell_type": "code",
   "execution_count": 2,
   "metadata": {},
   "outputs": [
    {
     "name": "stdout",
     "output_type": "stream",
     "text": [
      "C:\\Users\\lj015625\\Desktop\\Predictive Model\\Pred_Models_git\\Week 2\n"
     ]
    }
   ],
   "source": [
    "cd C:\\\\Users\\\\lj015625\\\\Desktop\\\\Predictive Model\\\\Pred_Models_git\\\\Week 2"
   ]
  },
  {
   "cell_type": "code",
   "execution_count": 3,
   "metadata": {},
   "outputs": [
    {
     "name": "stdout",
     "output_type": "stream",
     "text": [
      "(97, 10)\n",
      "Index(['Obs', 'lcavol', 'lweight', 'age', 'lbph', 'svi', 'lcp', 'gleason',\n",
      "       'pgg45', 'lpsa'],\n",
      "      dtype='object')\n"
     ]
    },
    {
     "data": {
      "text/html": [
       "<div>\n",
       "<style>\n",
       "    .dataframe thead tr:only-child th {\n",
       "        text-align: right;\n",
       "    }\n",
       "\n",
       "    .dataframe thead th {\n",
       "        text-align: left;\n",
       "    }\n",
       "\n",
       "    .dataframe tbody tr th {\n",
       "        vertical-align: top;\n",
       "    }\n",
       "</style>\n",
       "<table border=\"1\" class=\"dataframe\">\n",
       "  <thead>\n",
       "    <tr style=\"text-align: right;\">\n",
       "      <th></th>\n",
       "      <th>Obs</th>\n",
       "      <th>lcavol</th>\n",
       "      <th>lweight</th>\n",
       "      <th>age</th>\n",
       "      <th>lbph</th>\n",
       "      <th>svi</th>\n",
       "      <th>lcp</th>\n",
       "      <th>gleason</th>\n",
       "      <th>pgg45</th>\n",
       "      <th>lpsa</th>\n",
       "    </tr>\n",
       "  </thead>\n",
       "  <tbody>\n",
       "    <tr>\n",
       "      <th>0</th>\n",
       "      <td>1</td>\n",
       "      <td>-0.579818</td>\n",
       "      <td>2.769459</td>\n",
       "      <td>50</td>\n",
       "      <td>-1.386294</td>\n",
       "      <td>0</td>\n",
       "      <td>-1.386294</td>\n",
       "      <td>6</td>\n",
       "      <td>0</td>\n",
       "      <td>-0.430783</td>\n",
       "    </tr>\n",
       "    <tr>\n",
       "      <th>1</th>\n",
       "      <td>2</td>\n",
       "      <td>-0.994252</td>\n",
       "      <td>3.319626</td>\n",
       "      <td>58</td>\n",
       "      <td>-1.386294</td>\n",
       "      <td>0</td>\n",
       "      <td>-1.386294</td>\n",
       "      <td>6</td>\n",
       "      <td>0</td>\n",
       "      <td>-0.162519</td>\n",
       "    </tr>\n",
       "    <tr>\n",
       "      <th>2</th>\n",
       "      <td>3</td>\n",
       "      <td>-0.510826</td>\n",
       "      <td>2.691243</td>\n",
       "      <td>74</td>\n",
       "      <td>-1.386294</td>\n",
       "      <td>0</td>\n",
       "      <td>-1.386294</td>\n",
       "      <td>7</td>\n",
       "      <td>20</td>\n",
       "      <td>-0.162519</td>\n",
       "    </tr>\n",
       "    <tr>\n",
       "      <th>3</th>\n",
       "      <td>4</td>\n",
       "      <td>-1.203973</td>\n",
       "      <td>3.282789</td>\n",
       "      <td>58</td>\n",
       "      <td>-1.386294</td>\n",
       "      <td>0</td>\n",
       "      <td>-1.386294</td>\n",
       "      <td>6</td>\n",
       "      <td>0</td>\n",
       "      <td>-0.162519</td>\n",
       "    </tr>\n",
       "    <tr>\n",
       "      <th>4</th>\n",
       "      <td>5</td>\n",
       "      <td>0.751416</td>\n",
       "      <td>3.432373</td>\n",
       "      <td>62</td>\n",
       "      <td>-1.386294</td>\n",
       "      <td>0</td>\n",
       "      <td>-1.386294</td>\n",
       "      <td>6</td>\n",
       "      <td>0</td>\n",
       "      <td>0.371564</td>\n",
       "    </tr>\n",
       "  </tbody>\n",
       "</table>\n",
       "</div>"
      ],
      "text/plain": [
       "   Obs    lcavol   lweight  age      lbph  svi       lcp  gleason  pgg45  \\\n",
       "0    1 -0.579818  2.769459   50 -1.386294    0 -1.386294        6      0   \n",
       "1    2 -0.994252  3.319626   58 -1.386294    0 -1.386294        6      0   \n",
       "2    3 -0.510826  2.691243   74 -1.386294    0 -1.386294        7     20   \n",
       "3    4 -1.203973  3.282789   58 -1.386294    0 -1.386294        6      0   \n",
       "4    5  0.751416  3.432373   62 -1.386294    0 -1.386294        6      0   \n",
       "\n",
       "       lpsa  \n",
       "0 -0.430783  \n",
       "1 -0.162519  \n",
       "2 -0.162519  \n",
       "3 -0.162519  \n",
       "4  0.371564  "
      ]
     },
     "execution_count": 3,
     "metadata": {},
     "output_type": "execute_result"
    }
   ],
   "source": [
    "dataset = pd.read_csv(\"data/prostate.csv\", sep=\",\", encoding = 'utf8')\n",
    "print(dataset.shape)\n",
    "print(dataset.columns)\n",
    "dataset.head()"
   ]
  },
  {
   "cell_type": "code",
   "execution_count": 4,
   "metadata": {},
   "outputs": [
    {
     "data": {
      "text/plain": [
       "Obs          int64\n",
       "lcavol     float64\n",
       "lweight    float64\n",
       "age          int64\n",
       "lbph       float64\n",
       "svi          int64\n",
       "lcp        float64\n",
       "gleason      int64\n",
       "pgg45        int64\n",
       "lpsa       float64\n",
       "dtype: object"
      ]
     },
     "execution_count": 4,
     "metadata": {},
     "output_type": "execute_result"
    }
   ],
   "source": [
    "h"
   ]
  },
  {
   "cell_type": "code",
   "execution_count": 5,
   "metadata": {},
   "outputs": [
    {
     "data": {
      "text/html": [
       "<div>\n",
       "<style>\n",
       "    .dataframe thead tr:only-child th {\n",
       "        text-align: right;\n",
       "    }\n",
       "\n",
       "    .dataframe thead th {\n",
       "        text-align: left;\n",
       "    }\n",
       "\n",
       "    .dataframe tbody tr th {\n",
       "        vertical-align: top;\n",
       "    }\n",
       "</style>\n",
       "<table border=\"1\" class=\"dataframe\">\n",
       "  <thead>\n",
       "    <tr style=\"text-align: right;\">\n",
       "      <th></th>\n",
       "      <th>lpsa</th>\n",
       "      <th>Obs</th>\n",
       "      <th>lcavol</th>\n",
       "      <th>lweight</th>\n",
       "      <th>age</th>\n",
       "      <th>lbph</th>\n",
       "      <th>svi</th>\n",
       "      <th>lcp</th>\n",
       "      <th>gleason</th>\n",
       "      <th>pgg45</th>\n",
       "    </tr>\n",
       "  </thead>\n",
       "  <tbody>\n",
       "    <tr>\n",
       "      <th>0</th>\n",
       "      <td>-0.430783</td>\n",
       "      <td>1</td>\n",
       "      <td>-0.579818</td>\n",
       "      <td>2.769459</td>\n",
       "      <td>50</td>\n",
       "      <td>-1.386294</td>\n",
       "      <td>0</td>\n",
       "      <td>-1.386294</td>\n",
       "      <td>6</td>\n",
       "      <td>0</td>\n",
       "    </tr>\n",
       "    <tr>\n",
       "      <th>1</th>\n",
       "      <td>-0.162519</td>\n",
       "      <td>2</td>\n",
       "      <td>-0.994252</td>\n",
       "      <td>3.319626</td>\n",
       "      <td>58</td>\n",
       "      <td>-1.386294</td>\n",
       "      <td>0</td>\n",
       "      <td>-1.386294</td>\n",
       "      <td>6</td>\n",
       "      <td>0</td>\n",
       "    </tr>\n",
       "    <tr>\n",
       "      <th>2</th>\n",
       "      <td>-0.162519</td>\n",
       "      <td>3</td>\n",
       "      <td>-0.510826</td>\n",
       "      <td>2.691243</td>\n",
       "      <td>74</td>\n",
       "      <td>-1.386294</td>\n",
       "      <td>0</td>\n",
       "      <td>-1.386294</td>\n",
       "      <td>7</td>\n",
       "      <td>20</td>\n",
       "    </tr>\n",
       "    <tr>\n",
       "      <th>3</th>\n",
       "      <td>-0.162519</td>\n",
       "      <td>4</td>\n",
       "      <td>-1.203973</td>\n",
       "      <td>3.282789</td>\n",
       "      <td>58</td>\n",
       "      <td>-1.386294</td>\n",
       "      <td>0</td>\n",
       "      <td>-1.386294</td>\n",
       "      <td>6</td>\n",
       "      <td>0</td>\n",
       "    </tr>\n",
       "    <tr>\n",
       "      <th>4</th>\n",
       "      <td>0.371564</td>\n",
       "      <td>5</td>\n",
       "      <td>0.751416</td>\n",
       "      <td>3.432373</td>\n",
       "      <td>62</td>\n",
       "      <td>-1.386294</td>\n",
       "      <td>0</td>\n",
       "      <td>-1.386294</td>\n",
       "      <td>6</td>\n",
       "      <td>0</td>\n",
       "    </tr>\n",
       "  </tbody>\n",
       "</table>\n",
       "</div>"
      ],
      "text/plain": [
       "       lpsa  Obs    lcavol   lweight  age      lbph  svi       lcp  gleason  \\\n",
       "0 -0.430783    1 -0.579818  2.769459   50 -1.386294    0 -1.386294        6   \n",
       "1 -0.162519    2 -0.994252  3.319626   58 -1.386294    0 -1.386294        6   \n",
       "2 -0.162519    3 -0.510826  2.691243   74 -1.386294    0 -1.386294        7   \n",
       "3 -0.162519    4 -1.203973  3.282789   58 -1.386294    0 -1.386294        6   \n",
       "4  0.371564    5  0.751416  3.432373   62 -1.386294    0 -1.386294        6   \n",
       "\n",
       "   pgg45  \n",
       "0      0  \n",
       "1      0  \n",
       "2     20  \n",
       "3      0  \n",
       "4      0  "
      ]
     },
     "execution_count": 5,
     "metadata": {},
     "output_type": "execute_result"
    }
   ],
   "source": [
    "# designate target variable name is log(prostate specific antigen)\n",
    "targetName = 'lpsa'\n",
    "targetSeries = dataset[targetName]\n",
    "#remove target from current location and insert in collum 0\n",
    "del dataset[targetName]\n",
    "dataset.insert(0, targetName, targetSeries)\n",
    "#reprint dataframe and see target is in position 0\n",
    "dataset.head()"
   ]
  },
  {
   "cell_type": "code",
   "execution_count": 6,
   "metadata": {},
   "outputs": [
    {
     "data": {
      "image/png": "[encoded data removed]",
      "text/plain": [
       "<matplotlib.figure.Figure at 0x522e8d0>"
      ]
     },
     "metadata": {},
     "output_type": "display_data"
    }
   ],
   "source": [
    "#histogram of log(prostate specific antigen) using 10 bins\n",
    "n, bins, patches = plt.hist(dataset['lpsa'], 10, facecolor='red', alpha=0.75)\n",
    "plt.title('histogram of log(prostate specific antigen) using 10 bins')\n",
    "plt.xlabel(\"log(prostate specific antigen)\")\n",
    "plt.ylabel(\"Frequency\")\n",
    "plt.show()"
   ]
  },
  {
   "cell_type": "markdown",
   "metadata": {},
   "source": [
    "### Clean Data"
   ]
  },
  {
   "cell_type": "code",
   "execution_count": 8,
   "metadata": {},
   "outputs": [
    {
     "data": {
      "text/html": [
       "<div>\n",
       "<style>\n",
       "    .dataframe thead tr:only-child th {\n",
       "        text-align: right;\n",
       "    }\n",
       "\n",
       "    .dataframe thead th {\n",
       "        text-align: left;\n",
       "    }\n",
       "\n",
       "    .dataframe tbody tr th {\n",
       "        vertical-align: top;\n",
       "    }\n",
       "</style>\n",
       "<table border=\"1\" class=\"dataframe\">\n",
       "  <thead>\n",
       "    <tr style=\"text-align: right;\">\n",
       "      <th></th>\n",
       "      <th>lpsa</th>\n",
       "      <th>Obs</th>\n",
       "      <th>lcavol</th>\n",
       "      <th>lweight</th>\n",
       "      <th>age</th>\n",
       "      <th>lbph</th>\n",
       "      <th>svi</th>\n",
       "      <th>lcp</th>\n",
       "      <th>gleason</th>\n",
       "      <th>pgg45</th>\n",
       "    </tr>\n",
       "  </thead>\n",
       "  <tbody>\n",
       "    <tr>\n",
       "      <th>count</th>\n",
       "      <td>97.000000</td>\n",
       "      <td>97.000000</td>\n",
       "      <td>97.000000</td>\n",
       "      <td>97.000000</td>\n",
       "      <td>97.000000</td>\n",
       "      <td>97.000000</td>\n",
       "      <td>97.000000</td>\n",
       "      <td>97.000000</td>\n",
       "      <td>97.000000</td>\n",
       "      <td>97.000000</td>\n",
       "    </tr>\n",
       "    <tr>\n",
       "      <th>mean</th>\n",
       "      <td>2.478387</td>\n",
       "      <td>49.000000</td>\n",
       "      <td>1.350010</td>\n",
       "      <td>3.628943</td>\n",
       "      <td>63.865979</td>\n",
       "      <td>0.100356</td>\n",
       "      <td>0.216495</td>\n",
       "      <td>-0.179366</td>\n",
       "      <td>6.752577</td>\n",
       "      <td>24.381443</td>\n",
       "    </tr>\n",
       "    <tr>\n",
       "      <th>std</th>\n",
       "      <td>1.154329</td>\n",
       "      <td>28.145456</td>\n",
       "      <td>1.178625</td>\n",
       "      <td>0.428411</td>\n",
       "      <td>7.445117</td>\n",
       "      <td>1.450807</td>\n",
       "      <td>0.413995</td>\n",
       "      <td>1.398250</td>\n",
       "      <td>0.722134</td>\n",
       "      <td>28.204035</td>\n",
       "    </tr>\n",
       "    <tr>\n",
       "      <th>min</th>\n",
       "      <td>-0.430783</td>\n",
       "      <td>1.000000</td>\n",
       "      <td>-1.347074</td>\n",
       "      <td>2.374906</td>\n",
       "      <td>41.000000</td>\n",
       "      <td>-1.386294</td>\n",
       "      <td>0.000000</td>\n",
       "      <td>-1.386294</td>\n",
       "      <td>6.000000</td>\n",
       "      <td>0.000000</td>\n",
       "    </tr>\n",
       "    <tr>\n",
       "      <th>25%</th>\n",
       "      <td>1.731656</td>\n",
       "      <td>25.000000</td>\n",
       "      <td>0.512824</td>\n",
       "      <td>3.375880</td>\n",
       "      <td>60.000000</td>\n",
       "      <td>-1.386294</td>\n",
       "      <td>0.000000</td>\n",
       "      <td>-1.386294</td>\n",
       "      <td>6.000000</td>\n",
       "      <td>0.000000</td>\n",
       "    </tr>\n",
       "    <tr>\n",
       "      <th>50%</th>\n",
       "      <td>2.591516</td>\n",
       "      <td>49.000000</td>\n",
       "      <td>1.446919</td>\n",
       "      <td>3.623007</td>\n",
       "      <td>65.000000</td>\n",
       "      <td>0.300105</td>\n",
       "      <td>0.000000</td>\n",
       "      <td>-0.798508</td>\n",
       "      <td>7.000000</td>\n",
       "      <td>15.000000</td>\n",
       "    </tr>\n",
       "    <tr>\n",
       "      <th>75%</th>\n",
       "      <td>3.056357</td>\n",
       "      <td>73.000000</td>\n",
       "      <td>2.127041</td>\n",
       "      <td>3.876396</td>\n",
       "      <td>68.000000</td>\n",
       "      <td>1.558145</td>\n",
       "      <td>0.000000</td>\n",
       "      <td>1.178655</td>\n",
       "      <td>7.000000</td>\n",
       "      <td>40.000000</td>\n",
       "    </tr>\n",
       "    <tr>\n",
       "      <th>max</th>\n",
       "      <td>5.582932</td>\n",
       "      <td>97.000000</td>\n",
       "      <td>3.821004</td>\n",
       "      <td>4.780383</td>\n",
       "      <td>79.000000</td>\n",
       "      <td>2.326302</td>\n",
       "      <td>1.000000</td>\n",
       "      <td>2.904165</td>\n",
       "      <td>9.000000</td>\n",
       "      <td>100.000000</td>\n",
       "    </tr>\n",
       "  </tbody>\n",
       "</table>\n",
       "</div>"
      ],
      "text/plain": [
       "            lpsa        Obs     lcavol    lweight        age       lbph  \\\n",
       "count  97.000000  97.000000  97.000000  97.000000  97.000000  97.000000   \n",
       "mean    2.478387  49.000000   1.350010   3.628943  63.865979   0.100356   \n",
       "std     1.154329  28.145456   1.178625   0.428411   7.445117   1.450807   \n",
       "min    -0.430783   1.000000  -1.347074   2.374906  41.000000  -1.386294   \n",
       "25%     1.731656  25.000000   0.512824   3.375880  60.000000  -1.386294   \n",
       "50%     2.591516  49.000000   1.446919   3.623007  65.000000   0.300105   \n",
       "75%     3.056357  73.000000   2.127041   3.876396  68.000000   1.558145   \n",
       "max     5.582932  97.000000   3.821004   4.780383  79.000000   2.326302   \n",
       "\n",
       "             svi        lcp    gleason       pgg45  \n",
       "count  97.000000  97.000000  97.000000   97.000000  \n",
       "mean    0.216495  -0.179366   6.752577   24.381443  \n",
       "std     0.413995   1.398250   0.722134   28.204035  \n",
       "min     0.000000  -1.386294   6.000000    0.000000  \n",
       "25%     0.000000  -1.386294   6.000000    0.000000  \n",
       "50%     0.000000  -0.798508   7.000000   15.000000  \n",
       "75%     0.000000   1.178655   7.000000   40.000000  \n",
       "max     1.000000   2.904165   9.000000  100.000000  "
      ]
     },
     "execution_count": 8,
     "metadata": {},
     "output_type": "execute_result"
    }
   ],
   "source": [
    "dataset.describe()"
   ]
  },
  {
   "cell_type": "code",
   "execution_count": 10,
   "metadata": {},
   "outputs": [
    {
     "name": "stdout",
     "output_type": "stream",
     "text": [
      "(97,)\n",
      "(97, 9)\n",
      "Index(['Obs', 'lcavol', 'lweight', 'age', 'lbph', 'svi', 'lcp', 'gleason',\n",
      "       'pgg45'],\n",
      "      dtype='object')\n"
     ]
    }
   ],
   "source": [
    "#In a imported data set, you would break the data into two objects dataname.features (your PV) and dataname.target (your target/DV)\n",
    "#There are a lot of ways to do this- here is one.\n",
    "#View our .data and .target\n",
    "dataset.target=targetSeries  \n",
    "dataset.features=dataset.iloc[:, 1:]                        \n",
    "print(dataset.target.shape)\n",
    "print(dataset.features.shape)\n",
    "print(dataset.features.columns)"
   ]
  },
  {
   "cell_type": "markdown",
   "metadata": {},
   "source": [
    "### Linear Regression - Ordinary Least Squares"
   ]
  },
  {
   "cell_type": "code",
   "execution_count": 11,
   "metadata": {},
   "outputs": [
    {
     "name": "stdout",
     "output_type": "stream",
     "text": [
      "LinearRegression(copy_X=True, fit_intercept=True, n_jobs=1, normalize=True)\n"
     ]
    }
   ],
   "source": [
    "# Linear Regression-Ordinary Least Squares\n",
    "from sklearn.linear_model import LinearRegression\n",
    "\n",
    "# fit a linear regression model to the data\n",
    "model_LR = LinearRegression(normalize=True)\n",
    "model_LR.fit(dataset.features, dataset.target)\n",
    "print(model_LR)"
   ]
  },
  {
   "cell_type": "code",
   "execution_count": 12,
   "metadata": {
    "collapsed": true
   },
   "outputs": [],
   "source": [
    "# make predictions\n",
    "expected_LR = dataset.target\n",
    "predicted_LR = model_LR.predict(dataset.features)"
   ]
  },
  {
   "cell_type": "code",
   "execution_count": 13,
   "metadata": {},
   "outputs": [
    {
     "name": "stdout",
     "output_type": "stream",
     "text": [
      "Mean Squared Error: 0.0956507368481\n",
      "Mean Absolute Error: 0.229512332004\n",
      "R2 Score: 0.927468016886\n",
      "Explained Variance Score: 0.927468016886\n",
      "Score: 0.927468016886\n",
      "Coef: 1.07026930612 [ 0.0354051   0.11342688  0.030487   -0.00644175  0.03672821  0.06457229\n",
      "  0.01565418 -0.02577244 -0.00081676]\n"
     ]
    }
   ],
   "source": [
    "# summarize the fit of the model\n",
    "print(\"Mean Squared Error:\", mean_squared_error(expected_LR, predicted_LR))\n",
    "print(\"Mean Absolute Error:\", mean_absolute_error(expected_LR, predicted_LR))\n",
    "print(\"R2 Score:\", r2_score(expected_LR, predicted_LR))\n",
    "print(\"Explained Variance Score:\", explained_variance_score(expected_LR, predicted_LR))\n",
    "print(\"Score:\", model_LR.score(dataset.features, dataset.target))\n",
    "print(\"Coef:\", model_LR.intercept_, model_LR.coef_)"
   ]
  },
  {
   "cell_type": "code",
   "execution_count": 14,
   "metadata": {},
   "outputs": [
    {
     "data": {
      "image/png": "[encoded data removed]",
      "text/plain": [
       "<matplotlib.figure.Figure at 0xc8fcfd0>"
      ]
     },
     "metadata": {},
     "output_type": "display_data"
    }
   ],
   "source": [
    "fig, ax = plt.subplots()\n",
    "plt.plot(model_LR.coef_, label='LR')\n",
    "plt.axhline(linewidth=4, color='r') # for reference\n",
    "legend = ax.legend(loc='lower right', shadow=True)\n",
    "plt.show()"
   ]
  },
  {
   "cell_type": "code",
   "execution_count": 15,
   "metadata": {},
   "outputs": [
    {
     "name": "stderr",
     "output_type": "stream",
     "text": [
      "C:\\ProgramData\\Anaconda3\\lib\\site-packages\\sklearn\\cross_validation.py:44: DeprecationWarning: This module was deprecated in version 0.18 in favor of the model_selection module into which all the refactored classes and functions are moved. Also note that the interface of the new CV iterators are different from that of this module. This module will be removed in 0.20.\n",
      "  \"This module will be removed in 0.20.\", DeprecationWarning)\n"
     ]
    }
   ],
   "source": [
    "from sklearn.cross_validation import train_test_split\n",
    "\n",
    "X = dataset.features\n",
    "y = dataset.target\n",
    "\n",
    "X_train, X_test, y_train, y_test = train_test_split(\n",
    "    X, y, test_size=0.3, random_state=0)"
   ]
  },
  {
   "cell_type": "code",
   "execution_count": 16,
   "metadata": {
    "collapsed": true
   },
   "outputs": [],
   "source": [
    "model_LR.fit(X_train, y_train)\n",
    "y_train_pred = model_LR.predict(X_train)\n",
    "y_test_pred = model_LR.predict(X_test)"
   ]
  },
  {
   "cell_type": "code",
   "execution_count": 17,
   "metadata": {},
   "outputs": [
    {
     "name": "stdout",
     "output_type": "stream",
     "text": [
      "MSE train: 0.086, test: 0.134\n",
      "MSE train: 0.206, test: 0.279\n",
      "R2 train: 0.930, test: 0.912\n",
      "EVS train: 0.930, test: 0.914\n",
      "Score train: 0.924, test: 0.924\n"
     ]
    }
   ],
   "source": [
    "print('MSE train: %.3f, test: %.3f' % (\n",
    "        mean_squared_error(y_train, y_train_pred),\n",
    "        mean_squared_error(y_test, y_test_pred)))\n",
    "print('MSE train: %.3f, test: %.3f' % (\n",
    "        mean_absolute_error(y_train, y_train_pred),\n",
    "        mean_absolute_error(y_test, y_test_pred)))\n",
    "print('R2 train: %.3f, test: %.3f' % (\n",
    "        r2_score(y_train, y_train_pred),\n",
    "        r2_score(y_test, y_test_pred)))\n",
    "print('EVS train: %.3f, test: %.3f' % (\n",
    "        explained_variance_score(y_train, y_train_pred),\n",
    "        explained_variance_score(y_test, y_test_pred)))\n",
    "print('Score train: %.3f, test: %.3f' % (\n",
    "        model_LR.score(dataset.features, dataset.target),\n",
    "        model_LR.score(dataset.features, dataset.target)))"
   ]
  },
  {
   "cell_type": "code",
   "execution_count": 18,
   "metadata": {},
   "outputs": [
    {
     "name": "stdout",
     "output_type": "stream",
     "text": [
      "Cross Validation Score for each K [ 0.89429521  0.83005612  0.95197232  0.77815274  0.94589605  0.93673892\n",
      "  0.72400751  0.79753743  0.92571727  0.94612212]\n"
     ]
    },
    {
     "data": {
      "text/plain": [
       "0.87304956931727884"
      ]
     },
     "execution_count": 18,
     "metadata": {},
     "output_type": "execute_result"
    }
   ],
   "source": [
    "scores = cross_val_score(model_LR, X_train, y_train, cv=10)\n",
    "print(\"Cross Validation Score for each K\", scores)\n",
    "scores.mean() "
   ]
  },
  {
   "cell_type": "markdown",
   "metadata": {},
   "source": [
    "### Ridge Regression"
   ]
  },
  {
   "cell_type": "code",
   "execution_count": 19,
   "metadata": {
    "collapsed": true
   },
   "outputs": [],
   "source": [
    "from sklearn.linear_model import Ridge\n",
    "\n",
    "# fit a ridge regression model to the data\n",
    "model_RG = Ridge()"
   ]
  },
  {
   "cell_type": "markdown",
   "metadata": {},
   "source": [
    "#### Grid Search on Ridge Regression model\n",
    "Grid search tries different alpha parameters in this case from 0.05 to 2 and cross validation to find best accuracy score.\n",
    "In this case it found alpha = 2 had the best accuracy score from rank_test_score list.  The bigger alpha means more penalty, we tries to find balance between variance and bias.  "
   ]
  },
  {
   "cell_type": "code",
   "execution_count": 38,
   "metadata": {},
   "outputs": [
    {
     "name": "stdout",
     "output_type": "stream",
     "text": [
      "Grid Scores: {'split0_test_score': array([ 0.34467201,  0.34524192,  0.34758683,  0.35014252,  0.35427941,\n",
      "        0.36192872,  0.36748258,  0.37023911,  0.36722429,  0.36022628]), 'split1_test_score': array([-1.22449438, -1.21582333, -1.18038702, -1.1420786 , -1.08017878,\n",
      "       -0.96084339, -0.85516498, -0.75463282, -0.66194948, -0.64119098]), 'split2_test_score': array([-0.71939704, -0.71559747, -0.69914365, -0.67952602, -0.64317306,\n",
      "       -0.55251843, -0.44168343, -0.29624038, -0.07625682,  0.07541332]), 'split3_test_score': array([-2.51681181, -2.5118665 , -2.49242338, -2.47279294, -2.44415117,\n",
      "       -2.40007589, -2.37441204, -2.36375527, -2.37442516, -2.39580438]), 'split4_test_score': array([ 0.26460678,  0.26705351,  0.27671757,  0.28660511,  0.3015002 ,\n",
      "        0.32710907,  0.34701205,  0.36373117,  0.37679847,  0.37842693]), 'mean_test_score': array([-0.76347306, -0.75937553, -0.74266127, -0.72461118, -0.69534685,\n",
      "       -0.63775787, -0.58418797, -0.5290402 , -0.46699269, -0.43831559]), 'std_test_score': array([ 1.05194561,  1.050173  ,  1.04317166,  1.03605801,  1.02563196,\n",
      "        1.00980312,  1.0017337 ,  1.00166257,  1.01653697,  1.03579624]), 'rank_test_score': array([10,  9,  8,  7,  6,  5,  4,  3,  2,  1]), 'split0_train_score': array([ 0.90581277,  0.90581227,  0.90580127,  0.90577199,  0.90568173,\n",
      "        0.90532884,  0.90477323,  0.90394847,  0.90244562,  0.90090278]), 'split1_train_score': array([ 0.93193573,  0.93193528,  0.93192574,  0.9319009 ,  0.93182648,\n",
      "        0.93154451,  0.93108948,  0.93032305,  0.92861727,  0.92679531]), 'split2_train_score': array([ 0.93132065,  0.93132054,  0.93131821,  0.93131161,  0.93128919,\n",
      "        0.93117976,  0.93094274,  0.93043665,  0.92907509,  0.92738631]), 'split3_train_score': array([ 0.9362172 ,  0.93621681,  0.93620865,  0.93618812,  0.93612958,\n",
      "        0.93592677,  0.93562818,  0.93514737,  0.93403074,  0.93270136]), 'split4_train_score': array([ 0.91862563,  0.91862417,  0.9185945 ,  0.91852262,  0.91832765,\n",
      "        0.91769857,  0.91682504,  0.91550955,  0.91298041,  0.91067572]), 'mean_train_score': array([ 0.9247824 ,  0.92478181,  0.92476967,  0.92473905,  0.92465092,\n",
      "        0.92433569,  0.92385173,  0.92307302,  0.92142982,  0.91969229]), 'std_train_score': array([ 0.01115729,  0.01115748,  0.01116133,  0.01117108,  0.01119937,\n",
      "        0.01130021,  0.01144304,  0.01162351,  0.01183795,  0.01194346]), 'mean_fit_time': array([ 0.01359954,  0.01799846,  0.01599874,  0.02199812,  0.00599947,\n",
      "        0.01979923,  0.01599989,  0.02559996,  0.03219995,  0.01300001]), 'std_fit_time': array([ 0.00770997,  0.01599872,  0.01624679,  0.01832875,  0.00799931,\n",
      "        0.01755422,  0.0089442 ,  0.01318482,  0.00331066,  0.00613184]), 'mean_score_time': array([ 0.00019999,  0.        ,  0.        ,  0.        ,  0.        ,\n",
      "        0.00020003,  0.00059996,  0.00040002,  0.00059996,  0.00040007]), 'std_score_time': array([ 0.00039997,  0.        ,  0.        ,  0.        ,  0.        ,\n",
      "        0.00040007,  0.00048986,  0.00048992,  0.00048986,  0.00048998]), 'param_alpha': masked_array(data = [0.01 0.1 0.5 1 2 5 10 20 50 100],\n",
      "             mask = [False False False False False False False False False False],\n",
      "       fill_value = ?)\n",
      ", 'params': ({'alpha': 0.01}, {'alpha': 0.1}, {'alpha': 0.5}, {'alpha': 1}, {'alpha': 2}, {'alpha': 5}, {'alpha': 10}, {'alpha': 20}, {'alpha': 50}, {'alpha': 100})}\n",
      "Best: {'alpha': 100}\n"
     ]
    }
   ],
   "source": [
    "# use a full grid over several parameters and cross validate 5 times\n",
    "from sklearn.model_selection import GridSearchCV\n",
    "param_grid = {\"alpha\": [.01,.1, .5, 1, 2, 5, 10, 20, 50, 100]}\n",
    "#param_grid={\"alpha\": [1,10,1]} this does a range 1 through 10 changes by a factor of 1. \n",
    "#param_grid={\"alpha\": [.01,1,.05]} this does a range 1 through 1 changes by a factor of .05\n",
    "\n",
    "# run grid search\n",
    "grid_search = GridSearchCV(model_RG, param_grid=param_grid, n_jobs=-1, cv=5)\n",
    "grid_search.fit(dataset.features, dataset.target)\n",
    "print(\"Grid Scores:\", grid_search.cv_results_)\n",
    "print(\"Best:\", grid_search.best_params_)  "
   ]
  },
  {
   "cell_type": "code",
   "execution_count": 39,
   "metadata": {},
   "outputs": [
    {
     "name": "stdout",
     "output_type": "stream",
     "text": [
      "Ridge(alpha=100, copy_X=True, fit_intercept=True, max_iter=None,\n",
      "   normalize=False, random_state=None, solver='auto', tol=0.001)\n"
     ]
    }
   ],
   "source": [
    "# fit a ridge regression model to the data\n",
    "model_RG = Ridge(alpha=100)\n",
    "model_RG.fit(dataset.features, dataset.target)\n",
    "print(model_RG)"
   ]
  },
  {
   "cell_type": "code",
   "execution_count": 40,
   "metadata": {
    "collapsed": true
   },
   "outputs": [],
   "source": [
    "# make predictions\n",
    "expected_RG = dataset.target\n",
    "predicted_RG= model_RG.predict(dataset.features)"
   ]
  },
  {
   "cell_type": "code",
   "execution_count": 41,
   "metadata": {},
   "outputs": [
    {
     "name": "stdout",
     "output_type": "stream",
     "text": [
      "Mean Squared Error: 0.0993401353122\n",
      "Mean Absolute Error: 0.229138544231\n",
      "R2 Score: 0.924670344898\n",
      "Explained Variance Score: 0.924670344898\n",
      "Score: 0.924670344898\n",
      "Coef: [ 0.8569922] [[ 0.03779291  0.04104007  0.00494047 -0.00408275  0.01849965  0.00682849\n",
      "   0.0249151  -0.00267212 -0.0009788 ]]\n"
     ]
    }
   ],
   "source": [
    "print(\"Mean Squared Error:\", mean_squared_error(expected_RG, predicted_RG))\n",
    "print(\"Mean Absolute Error:\", mean_absolute_error(expected_RG, predicted_RG))\n",
    "print(\"R2 Score:\", r2_score(expected_RG, predicted_RG))\n",
    "print(\"Explained Variance Score:\", explained_variance_score(expected_RG, predicted_RG))\n",
    "print(\"Score:\", model_RG.score(dataset.features, dataset.target))\n",
    "print(\"Coef:\", model_RG.intercept_, model_RG.coef_)"
   ]
  },
  {
   "cell_type": "code",
   "execution_count": 44,
   "metadata": {},
   "outputs": [
    {
     "data": {
      "image/png": "[encoded data removed]",
      "text/plain": [
       "<matplotlib.figure.Figure at 0xd4aac88>"
      ]
     },
     "metadata": {},
     "output_type": "display_data"
    }
   ],
   "source": [
    "fig, ax = plt.subplots()\n",
    "plt.plot(model_LR.coef_, label='LR')\n",
    "plt.plot(model_RG.coef_, label='Ridge')\n",
    "plt.axhline(linewidth=4, color='r') # for reference\n",
    "legend = ax.legend(loc='lower right', shadow=True)\n",
    "plt.show()"
   ]
  },
  {
   "cell_type": "code",
   "execution_count": 45,
   "metadata": {},
   "outputs": [
    {
     "name": "stdout",
     "output_type": "stream",
     "text": [
      "Cross Validation Score for each K [ 0.94801679  0.84311601  0.96597443  0.79481207  0.96463792  0.93069068\n",
      "  0.73439456  0.8183831   0.91363387  0.94570021]\n"
     ]
    },
    {
     "data": {
      "text/plain": [
       "0.88593596361470672"
      ]
     },
     "execution_count": 45,
     "metadata": {},
     "output_type": "execute_result"
    }
   ],
   "source": [
    "model_RG.fit(X_train, y_train)\n",
    "y_train_pred = model_RG.predict(X_train)\n",
    "y_test_pred = model_RG.predict(X_test)\n",
    "scores = cross_val_score(model_RG, X_train, y_train, cv=10)\n",
    "print(\"Cross Validation Score for each K\", scores)\n",
    "scores.mean()  "
   ]
  },
  {
   "cell_type": "code",
   "execution_count": 46,
   "metadata": {},
   "outputs": [
    {
     "name": "stdout",
     "output_type": "stream",
     "text": [
      "MSE train: 0.091, test: 0.129\n",
      "MSE train: 0.214, test: 0.253\n",
      "R2 train: 0.926, test: 0.915\n",
      "EVS train: 0.926, test: 0.917\n",
      "Score train: 0.922, test: 0.922\n"
     ]
    }
   ],
   "source": [
    "print('MSE train: %.3f, test: %.3f' % (\n",
    "        mean_squared_error(y_train, y_train_pred),\n",
    "        mean_squared_error(y_test, y_test_pred)))\n",
    "print('MSE train: %.3f, test: %.3f' % (\n",
    "        mean_absolute_error(y_train, y_train_pred),\n",
    "        mean_absolute_error(y_test, y_test_pred)))\n",
    "print('R2 train: %.3f, test: %.3f' % (\n",
    "        r2_score(y_train, y_train_pred),\n",
    "        r2_score(y_test, y_test_pred)))\n",
    "print('EVS train: %.3f, test: %.3f' % (\n",
    "        explained_variance_score(y_train, y_train_pred),\n",
    "        explained_variance_score(y_test, y_test_pred)))\n",
    "print('Score train: %.3f, test: %.3f' % (\n",
    "        model_RG.score(dataset.features, dataset.target),\n",
    "        model_RG.score(dataset.features, dataset.target)))"
   ]
  },
  {
   "cell_type": "markdown",
   "metadata": {},
   "source": [
    "### Lasso Regression"
   ]
  },
  {
   "cell_type": "code",
   "execution_count": 48,
   "metadata": {
    "collapsed": true
   },
   "outputs": [],
   "source": [
    "from sklearn.linear_model import Lasso\n",
    "model_LAS = Lasso()"
   ]
  },
  {
   "cell_type": "markdown",
   "metadata": {},
   "source": [
    "#### Grid Search on Lasso"
   ]
  },
  {
   "cell_type": "code",
   "execution_count": 49,
   "metadata": {},
   "outputs": [
    {
     "name": "stdout",
     "output_type": "stream",
     "text": [
      "Grid Scores: {'split0_test_score': array([ 0.36390897,  0.35205785,  0.32787587,  0.2487065 ,  0.05490809,\n",
      "       -0.81016452, -3.19754342, -9.5317962 , -9.5317962 , -9.5317962 ]), 'split1_test_score': array([ -0.77525676,  -0.75422771,  -0.53558795,  -0.36398415,\n",
      "        -0.05171141,   0.63762784,   0.96159672,  -1.48395253,\n",
      "       -13.07095892, -13.07095892]), 'split2_test_score': array([-0.28978784,  0.34152336,  0.44677955,  0.45540261,  0.47063065,\n",
      "        0.50017022,  0.49558759,  0.28461517, -0.77939493, -0.77939493]), 'split3_test_score': array([ -2.28881278,  -2.41754513,  -2.1967246 ,  -1.9275252 ,\n",
      "        -1.42670006,  -0.22481405,   0.77636463,  -0.97864549,\n",
      "       -12.73813202, -12.73813202]), 'split4_test_score': array([ 0.37529531,  0.37829502,  0.33632833,  0.27444181,  0.11924156,\n",
      "       -0.59777687, -2.63086653, -8.76356664, -8.76356664, -8.76356664]), 'mean_test_score': array([-0.51638924, -0.41546603, -0.31972123, -0.25836585, -0.16325562,\n",
      "       -0.09872914, -0.72719903, -4.12380739, -9.0246998 , -9.0246998 ]), 'std_test_score': array([ 0.97710653,  1.07977586,  0.99275658,  0.86973723,  0.64760469,\n",
      "        0.58164485,  1.81434719,  4.17469292,  4.41132657,  4.41132657]), 'rank_test_score': array([6, 5, 4, 3, 2, 1, 7, 8, 9, 9]), 'split0_train_score': array([ 0.9037302 ,  0.89345362,  0.88984812,  0.88779978,  0.87960639,\n",
      "        0.8222527 ,  0.6174181 ,  0.        ,  0.        ,  0.        ]), 'split1_train_score': array([ 0.93040309,  0.92045334,  0.91952278,  0.9189652 ,  0.91673487,\n",
      "        0.9011226 ,  0.84536447,  0.62233198,  0.        ,  0.        ]), 'split2_train_score': array([ 0.93052887,  0.92003173,  0.91918851,  0.91871287,  0.91681034,\n",
      "        0.90349259,  0.85592918,  0.66567558,  0.        ,  0.        ]), 'split3_train_score': array([ 0.93505466,  0.92693351,  0.9267351 ,  0.92616015,  0.92386034,\n",
      "        0.90776166,  0.8502664 ,  0.62028534,  0.        ,  0.        ]), 'split4_train_score': array([ 0.91588709,  0.90350203,  0.90288925,  0.90097431,  0.89331453,\n",
      "        0.83969607,  0.64820158,  0.        ,  0.        ,  0.        ]), 'mean_train_score': array([ 0.92312079,  0.91287485,  0.91163675,  0.91052246,  0.90606529,\n",
      "        0.87486512,  0.76343595,  0.38165858,  0.        ,  0.        ]), 'std_train_score': array([ 0.01165032,  0.01242042,  0.01340479,  0.014074  ,  0.01678461,\n",
      "        0.03632106,  0.10715128,  0.31204443,  0.        ,  0.        ]), 'mean_fit_time': array([ 0.00459967,  0.        ,  0.        ,  0.00199986,  0.00199986,\n",
      "        0.        ,  0.00199981,  0.        ,  0.00019999,  0.        ]), 'std_fit_time': array([ 0.0045428 ,  0.        ,  0.        ,  0.00399971,  0.00399971,\n",
      "        0.        ,  0.00399961,  0.        ,  0.00039997,  0.        ]), 'mean_score_time': array([ 0.        ,  0.        ,  0.00199986,  0.        ,  0.        ,\n",
      "        0.00199981,  0.        ,  0.        ,  0.        ,  0.        ]), 'std_score_time': array([ 0.        ,  0.        ,  0.00399971,  0.        ,  0.        ,\n",
      "        0.00399961,  0.        ,  0.        ,  0.        ,  0.        ]), 'param_alpha': masked_array(data = [0.01 0.1 0.5 1 2 5 10 20 50 100],\n",
      "             mask = [False False False False False False False False False False],\n",
      "       fill_value = ?)\n",
      ", 'params': ({'alpha': 0.01}, {'alpha': 0.1}, {'alpha': 0.5}, {'alpha': 1}, {'alpha': 2}, {'alpha': 5}, {'alpha': 10}, {'alpha': 20}, {'alpha': 50}, {'alpha': 100})}\n",
      "Best: {'alpha': 5}\n"
     ]
    }
   ],
   "source": [
    "# use a full grid over several parameters and cross validate 5 times\n",
    "from sklearn.model_selection import GridSearchCV\n",
    "param_grid = {\"alpha\": [.01,.1, .5, 1, 2, 5, 10, 20, 50, 100]}\n",
    "#param_grid={\"alpha\": [1,10,1]} this does a range 1 through 10 changes by a factor of 1. \n",
    "#param_grid={\"alpha\": [.01,1,.05]} this does a range 1 through 1 changes by a factor of .05\n",
    "\n",
    "# run grid search\n",
    "grid_search = GridSearchCV(model_LAS, param_grid=param_grid, n_jobs=-1, cv=5)\n",
    "grid_search.fit(dataset.features, dataset.target)\n",
    "print(\"Grid Scores:\", grid_search.cv_results_)\n",
    "print(\"Best:\", grid_search.best_params_)  "
   ]
  },
  {
   "cell_type": "code",
   "execution_count": 50,
   "metadata": {},
   "outputs": [
    {
     "name": "stdout",
     "output_type": "stream",
     "text": [
      "Lasso(alpha=5, copy_X=True, fit_intercept=True, max_iter=1000,\n",
      "   normalize=False, positive=False, precompute=False, random_state=None,\n",
      "   selection='cyclic', tol=0.0001, warm_start=False)\n"
     ]
    }
   ],
   "source": [
    "model_LAS = Lasso(alpha=5)\n",
    "model_LAS.fit(dataset.features, dataset.target)\n",
    "print(model_LAS)"
   ]
  },
  {
   "cell_type": "code",
   "execution_count": 51,
   "metadata": {
    "collapsed": true
   },
   "outputs": [],
   "source": [
    "# make predictions\n",
    "expected_LAS = dataset.target\n",
    "predicted_LAS = model_LR.predict(dataset.features)"
   ]
  },
  {
   "cell_type": "code",
   "execution_count": 52,
   "metadata": {},
   "outputs": [
    {
     "name": "stdout",
     "output_type": "stream",
     "text": [
      "Mean Squared Error: 0.100689006218\n",
      "Mean Absolute Error: 0.228934177724\n",
      "R2 Score: 0.923647495676\n",
      "Explained Variance Score: 0.923933015562\n",
      "Score: 0.893803597667\n",
      "Coef: [ 0.86542462] [ 0.0329176  0.         0.         0.         0.         0.         0.         0.\n",
      "  0.       ]\n"
     ]
    }
   ],
   "source": [
    "# summarize the fit of the model\n",
    "print(\"Mean Squared Error:\", mean_squared_error(expected_LAS, predicted_LAS))\n",
    "print(\"Mean Absolute Error:\", mean_absolute_error(expected_LAS, predicted_LAS))\n",
    "print(\"R2 Score:\", r2_score(expected_LAS, predicted_LAS))\n",
    "print(\"Explained Variance Score:\", explained_variance_score(expected_LAS, predicted_LAS))\n",
    "print(\"Score:\", model_LAS.score(dataset.features, dataset.target))\n",
    "print(\"Coef:\", model_LAS.intercept_, model_LAS.coef_)"
   ]
  },
  {
   "cell_type": "code",
   "execution_count": 56,
   "metadata": {},
   "outputs": [
    {
     "data": {
      "image/png": "[encoded data removed]",
      "text/plain": [
       "<matplotlib.figure.Figure at 0xd43b780>"
      ]
     },
     "metadata": {},
     "output_type": "display_data"
    }
   ],
   "source": [
    "fig, ax = plt.subplots()\n",
    "plt.plot(model_LR.coef_, label='LR')\n",
    "plt.plot(model_RG.coef_, label='Ridge')\n",
    "plt.plot(model_LAS.coef_, label='Lasso')\n",
    "plt.axhline(linewidth=4, color='r') # for reference\n",
    "legend = ax.legend(loc='lower right', shadow=True)\n",
    "plt.show()"
   ]
  },
  {
   "cell_type": "code",
   "execution_count": 57,
   "metadata": {},
   "outputs": [
    {
     "name": "stdout",
     "output_type": "stream",
     "text": [
      "Cross Validation Score for each K [ 0.96280268  0.80294147  0.91185558  0.70357527  0.99363013  0.99533889\n",
      "  0.57334772  0.93576095  0.98693871  0.90096746]\n"
     ]
    },
    {
     "data": {
      "text/plain": [
       "0.87671588561527347"
      ]
     },
     "execution_count": 57,
     "metadata": {},
     "output_type": "execute_result"
    }
   ],
   "source": [
    "model_LAS.fit(X_train, y_train)\n",
    "y_train_pred = model_LAS.predict(X_train)\n",
    "y_test_pred = model_LAS.predict(X_test)\n",
    "scores = cross_val_score(model_LAS, X_train, y_train, cv=10)\n",
    "print(\"Cross Validation Score for each K\", scores)\n",
    "scores.mean()  "
   ]
  },
  {
   "cell_type": "code",
   "execution_count": 58,
   "metadata": {},
   "outputs": [
    {
     "name": "stdout",
     "output_type": "stream",
     "text": [
      "MSE train: 0.130, test: 0.190\n",
      "MSE train: 0.172, test: 0.207\n",
      "R2 train: 0.894, test: 0.875\n",
      "EVS train: 0.894, test: 0.878\n",
      "Score train: 0.888, test: 0.888\n"
     ]
    }
   ],
   "source": [
    "print('MSE train: %.3f, test: %.3f' % (\n",
    "        mean_squared_error(y_train, y_train_pred),\n",
    "        mean_squared_error(y_test, y_test_pred)))\n",
    "print('MSE train: %.3f, test: %.3f' % (\n",
    "        mean_absolute_error(y_train, y_train_pred),\n",
    "        mean_absolute_error(y_test, y_test_pred)))\n",
    "print('R2 train: %.3f, test: %.3f' % (\n",
    "        r2_score(y_train, y_train_pred),\n",
    "        r2_score(y_test, y_test_pred)))\n",
    "print('EVS train: %.3f, test: %.3f' % (\n",
    "        explained_variance_score(y_train, y_train_pred),\n",
    "        explained_variance_score(y_test, y_test_pred)))\n",
    "print('Score train: %.3f, test: %.3f' % (\n",
    "        model_LAS.score(dataset.features, dataset.target),\n",
    "        model_LAS.score(dataset.features, dataset.target)))"
   ]
  },
  {
   "cell_type": "markdown",
   "metadata": {},
   "source": [
    "### ElasticNet Regression"
   ]
  },
  {
   "cell_type": "code",
   "execution_count": 59,
   "metadata": {
    "collapsed": true
   },
   "outputs": [],
   "source": [
    "from sklearn.linear_model import ElasticNet\n",
    "model_EN = ElasticNet()"
   ]
  },
  {
   "cell_type": "markdown",
   "metadata": {},
   "source": [
    "#### Grid Search on ElasticNet"
   ]
  },
  {
   "cell_type": "code",
   "execution_count": 60,
   "metadata": {},
   "outputs": [
    {
     "name": "stdout",
     "output_type": "stream",
     "text": [
      "Grid Scores: {'split0_test_score': array([ 0.35719662,  0.35025829,  0.35142282,  0.32526733,  0.24281489,\n",
      "       -0.07875086, -0.85757515, -3.29337668, -9.5317962 , -9.5317962 ]), 'split1_test_score': array([ -0.95418881,  -0.71713959,  -0.62659756,  -0.52853154,\n",
      "        -0.35091051,   0.11423536,   0.66605967,   0.94889827,\n",
      "        -4.44246044, -13.07095892]), 'split2_test_score': array([-0.48470061,  0.18488316,  0.4138965 ,  0.44712687,  0.45603516,\n",
      "        0.47837399,  0.50111949,  0.49328102,  0.06226773, -0.77939493]), 'split3_test_score': array([ -2.35459801,  -2.35305187,  -2.33028055,  -2.18558866,\n",
      "        -1.90660896,  -1.15246723,  -0.1686773 ,   0.7959587 ,\n",
      "        -3.92644824, -12.73813202]), 'split4_test_score': array([ 0.33318638,  0.38424967,  0.36240066,  0.33427719,  0.26970825,\n",
      "        0.01001549, -0.63887907, -2.71864563, -8.76356664, -8.76356664]), 'mean_test_score': array([-0.61397914, -0.42507307, -0.36112556, -0.31695662, -0.25359132,\n",
      "       -0.12276069, -0.09951145, -0.76338434, -5.35476628, -9.0246998 ]), 'std_test_score': array([ 0.99538471,  1.03479527,  1.04830106,  0.98775436,  0.86038539,\n",
      "        0.54212784,  0.60656131,  1.85976875,  3.49178527,  4.41132657]), 'rank_test_score': array([ 7,  6,  5,  4,  3,  2,  1,  8,  9, 10]), 'split0_train_score': array([ 0.90514985,  0.89737198,  0.89177063,  0.88979878,  0.88760831,\n",
      "        0.87237488,  0.81863268,  0.60861592,  0.        ,  0.        ]), 'split1_train_score': array([ 0.9314965 ,  0.92516765,  0.91974467,  0.91950762,  0.91890551,\n",
      "        0.91470638,  0.89981416,  0.84103552,  0.44439959,  0.        ]), 'split2_train_score': array([ 0.93104123,  0.92570232,  0.91949954,  0.91917596,  0.91866339,\n",
      "        0.91508733,  0.90239568,  0.85223354,  0.51247238,  0.        ]), 'split3_train_score': array([ 0.93581755,  0.93051912,  0.92687485,  0.92671927,  0.92609783,\n",
      "        0.9217643 ,  0.90639801,  0.84576774,  0.43699382,  0.        ]), 'split4_train_score': array([ 0.91763322,  0.90702595,  0.90335609,  0.90284235,  0.90079209,\n",
      "        0.88653139,  0.83620526,  0.63942269,  0.        ,  0.        ]), 'mean_train_score': array([ 0.92422767,  0.9171574 ,  0.91224916,  0.9116088 ,  0.91041342,\n",
      "        0.90209286,  0.87268916,  0.75741508,  0.27877316,  0.        ]), 'std_train_score': array([ 0.01132286,  0.01272654,  0.01281498,  0.01342019,  0.0141338 ,\n",
      "        0.01918458,  0.03743717,  0.10940978,  0.22913322,  0.        ]), 'mean_fit_time': array([ 0.00239997,  0.0067997 ,  0.        ,  0.002     ,  0.002     ,\n",
      "        0.00399981,  0.        ,  0.0039999 ,  0.        ,  0.        ]), 'std_fit_time': array([ 0.00119998,  0.00411803,  0.        ,  0.004     ,  0.004     ,\n",
      "        0.00489874,  0.        ,  0.00489886,  0.        ,  0.        ]), 'mean_score_time': array([ 0.0006,  0.002 ,  0.    ,  0.    ,  0.    ,  0.    ,  0.    ,\n",
      "        0.    ,  0.    ,  0.    ]), 'std_score_time': array([ 0.0004899,  0.004    ,  0.       ,  0.       ,  0.       ,\n",
      "        0.       ,  0.       ,  0.       ,  0.       ,  0.       ]), 'param_alpha': masked_array(data = [0.01 0.1 0.5 1 2 5 10 20 50 100],\n",
      "             mask = [False False False False False False False False False False],\n",
      "       fill_value = ?)\n",
      ", 'params': ({'alpha': 0.01}, {'alpha': 0.1}, {'alpha': 0.5}, {'alpha': 1}, {'alpha': 2}, {'alpha': 5}, {'alpha': 10}, {'alpha': 20}, {'alpha': 50}, {'alpha': 100})}\n",
      "Best: {'alpha': 10}\n"
     ]
    }
   ],
   "source": [
    "# use a full grid over several parameters and cross validate 5 times\n",
    "from sklearn.model_selection import GridSearchCV\n",
    "param_grid = {\"alpha\": [.01,.1, .5, 1, 2, 5, 10, 20, 50, 100]}\n",
    "#param_grid={\"alpha\": [1,10,1]} this does a range 1 through 10 changes by a factor of 1. \n",
    "#param_grid={\"alpha\": [.01,1,.05]} this does a range 1 through 1 changes by a factor of .05\n",
    "\n",
    "# run grid search\n",
    "grid_search = GridSearchCV(model_EN, param_grid=param_grid, n_jobs=-1, cv=5)\n",
    "grid_search.fit(dataset.features, dataset.target)\n",
    "print(\"Grid Scores:\", grid_search.cv_results_)\n",
    "print(\"Best:\", grid_search.best_params_)  "
   ]
  },
  {
   "cell_type": "code",
   "execution_count": 61,
   "metadata": {},
   "outputs": [
    {
     "name": "stdout",
     "output_type": "stream",
     "text": [
      "ElasticNet(alpha=10, copy_X=True, fit_intercept=True, l1_ratio=0.5,\n",
      "      max_iter=1000, normalize=False, positive=False, precompute=False,\n",
      "      random_state=None, selection='cyclic', tol=0.0001, warm_start=False)\n"
     ]
    }
   ],
   "source": [
    "model_EN = ElasticNet(alpha=10)\n",
    "model_EN.fit(dataset.features, dataset.target)\n",
    "print(model_EN)"
   ]
  },
  {
   "cell_type": "code",
   "execution_count": 62,
   "metadata": {
    "collapsed": true
   },
   "outputs": [],
   "source": [
    "# make predictions\n",
    "expected_EN = dataset.target\n",
    "predicted_EN = model_EN.predict(dataset.features)"
   ]
  },
  {
   "cell_type": "code",
   "execution_count": 63,
   "metadata": {},
   "outputs": [
    {
     "name": "stdout",
     "output_type": "stream",
     "text": [
      "Mean Squared Error: 0.142165459803\n",
      "Mean Absolute Error: 0.18667690288\n",
      "R2 Score: 0.892195888191\n",
      "Explained Variance Score: 0.892195888191\n",
      "Score: 0.892195888191\n",
      "Coef: [ 0.87564618] [ 0.03270899  0.          0.          0.          0.          0.          0.\n",
      "  0.          0.        ]\n"
     ]
    }
   ],
   "source": [
    "print(\"Mean Squared Error:\", mean_squared_error(expected_EN, predicted_EN))\n",
    "print(\"Mean Absolute Error:\", mean_absolute_error(expected_EN, predicted_EN))\n",
    "print(\"R2 Score:\", r2_score(expected_EN, predicted_EN))\n",
    "print(\"Explained Variance Score:\", explained_variance_score(expected_EN, predicted_EN))\n",
    "print(\"Score:\", model_EN.score(dataset.features, dataset.target))\n",
    "print(\"Coef:\", model_EN.intercept_, model_EN.coef_)"
   ]
  },
  {
   "cell_type": "code",
   "execution_count": 65,
   "metadata": {},
   "outputs": [
    {
     "data": {
      "image/png": "[encoded data removed]",
      "text/plain": [
       "<matplotlib.figure.Figure at 0xc5255c0>"
      ]
     },
     "metadata": {},
     "output_type": "display_data"
    }
   ],
   "source": [
    "fig, ax = plt.subplots()\n",
    "plt.plot(model_LR.coef_, label='LR')\n",
    "plt.plot(model_RG.coef_, label='Ridge')\n",
    "plt.plot(model_LAS.coef_, label='Lasso')\n",
    "plt.plot(model_EN.coef_, label='ElasticNet')\n",
    "plt.axhline(linewidth=4, color='r') # for reference\n",
    "legend = ax.legend(loc='lower right', shadow=True)\n",
    "plt.show()"
   ]
  },
  {
   "cell_type": "code",
   "execution_count": 66,
   "metadata": {},
   "outputs": [
    {
     "name": "stdout",
     "output_type": "stream",
     "text": [
      "Cross Validation Score for each K [ 0.96154186  0.80039181  0.90860353  0.69904056  0.99333477  0.99607017\n",
      "  0.56678042  0.93811371  0.98782657  0.89869085]\n"
     ]
    },
    {
     "data": {
      "text/plain": [
       "0.87503942444334792"
      ]
     },
     "execution_count": 66,
     "metadata": {},
     "output_type": "execute_result"
    }
   ],
   "source": [
    "model_EN.fit(X_train, y_train)\n",
    "y_train_pred = model_EN.predict(X_train)\n",
    "y_test_pred = model_EN.predict(X_test)\n",
    "scores = cross_val_score(model_EN, X_train, y_train, cv=10)\n",
    "print(\"Cross Validation Score for each K\", scores)\n",
    "scores.mean() "
   ]
  },
  {
   "cell_type": "code",
   "execution_count": 67,
   "metadata": {},
   "outputs": [
    {
     "name": "stdout",
     "output_type": "stream",
     "text": [
      "MSE train: 0.132, test: 0.193\n",
      "MSE train: 0.172, test: 0.207\n",
      "R2 train: 0.893, test: 0.873\n",
      "EVS train: 0.893, test: 0.876\n",
      "Score train: 0.886, test: 0.886\n"
     ]
    }
   ],
   "source": [
    "print('MSE train: %.3f, test: %.3f' % (\n",
    "        mean_squared_error(y_train, y_train_pred),\n",
    "        mean_squared_error(y_test, y_test_pred)))\n",
    "print('MSE train: %.3f, test: %.3f' % (\n",
    "        mean_absolute_error(y_train, y_train_pred),\n",
    "        mean_absolute_error(y_test, y_test_pred)))\n",
    "print('R2 train: %.3f, test: %.3f' % (\n",
    "        r2_score(y_train, y_train_pred),\n",
    "        r2_score(y_test, y_test_pred)))\n",
    "print('EVS train: %.3f, test: %.3f' % (\n",
    "        explained_variance_score(y_train, y_train_pred),\n",
    "        explained_variance_score(y_test, y_test_pred)))\n",
    "print('Score train: %.3f, test: %.3f' % (\n",
    "        model_EN.score(dataset.features, dataset.target),\n",
    "        model_EN.score(dataset.features, dataset.target)))"
   ]
  },
  {
   "cell_type": "markdown",
   "metadata": {},
   "source": [
    "### Least Angle Regression model"
   ]
  },
  {
   "cell_type": "code",
   "execution_count": 68,
   "metadata": {},
   "outputs": [
    {
     "name": "stdout",
     "output_type": "stream",
     "text": [
      "Lars(copy_X=True, eps=2.2204460492503131e-16, fit_intercept=True,\n",
      "   fit_path=True, n_nonzero_coefs=7, normalize=True, positive=False,\n",
      "   precompute='auto', verbose=False)\n"
     ]
    }
   ],
   "source": [
    "#LARS Regression Model- Least Angle Regression model\n",
    "from sklearn.linear_model import Lars\n",
    "model_LAR = Lars(n_nonzero_coefs=7)\n",
    "model_LAR.fit(dataset.features, dataset.target)\n",
    "print(model_LAR)"
   ]
  },
  {
   "cell_type": "code",
   "execution_count": 69,
   "metadata": {
    "collapsed": true
   },
   "outputs": [],
   "source": [
    "# make predictions\n",
    "expected_LAR = dataset.target\n",
    "predicted_LAR = model_LAR.predict(dataset.features)"
   ]
  },
  {
   "cell_type": "code",
   "execution_count": 70,
   "metadata": {},
   "outputs": [
    {
     "name": "stdout",
     "output_type": "stream",
     "text": [
      "Mean Squared Error: 0.0973193381741\n",
      "Mean Absolute Error: 0.222857136629\n",
      "R2 Score: 0.926202715988\n",
      "Explained Variance Score: 0.926202715988\n",
      "Score: 0.926202715988\n",
      "Coef: [ 0.82607004] [ 0.03218035  0.          0.          0.          0.          0.          0.\n",
      "  0.          0.        ]\n"
     ]
    }
   ],
   "source": [
    "# summarize the fit of the model\n",
    "print(\"Mean Squared Error:\", mean_squared_error(expected_LAR, predicted_LAR))\n",
    "print(\"Mean Absolute Error:\", mean_absolute_error(expected_LAR, predicted_LAR))\n",
    "print(\"R2 Score:\", r2_score(expected_LAR, predicted_LAR))\n",
    "print(\"Explained Variance Score:\", explained_variance_score(expected_LAR, predicted_LAR))\n",
    "print(\"Score:\", model_LAR.score(dataset.features, dataset.target))\n",
    "print(\"Coef:\", model_LAR.intercept_, model_LAS.coef_)"
   ]
  },
  {
   "cell_type": "code",
   "execution_count": 71,
   "metadata": {},
   "outputs": [
    {
     "data": {
      "image/png": "[encoded data removed]",
      "text/plain": [
       "<matplotlib.figure.Figure at 0xc578dd8>"
      ]
     },
     "metadata": {},
     "output_type": "display_data"
    }
   ],
   "source": [
    "fig, ax = plt.subplots()\n",
    "plt.plot(model_LR.coef_, label='LR')\n",
    "plt.plot(model_RG.coef_, label='Ridge')\n",
    "plt.plot(model_LAS.coef_, label='Lasso')\n",
    "plt.plot(model_EN.coef_, label='ElasticNet')\n",
    "plt.plot(model_LAS.coef_, label='LAR')\n",
    "plt.axhline(linewidth=4, color='r') # for reference\n",
    "legend = ax.legend(loc='lower right', shadow=True)\n",
    "plt.show()"
   ]
  },
  {
   "cell_type": "code",
   "execution_count": 72,
   "metadata": {},
   "outputs": [
    {
     "name": "stdout",
     "output_type": "stream",
     "text": [
      "Cross Validation Score for each K [ 0.92439103  0.85252385  0.95515964  0.78735293  0.96205252  0.93532173\n",
      "  0.72523897  0.81313946  0.93656811  0.94680396]\n"
     ]
    },
    {
     "data": {
      "text/plain": [
       "0.88385522000718131"
      ]
     },
     "execution_count": 72,
     "metadata": {},
     "output_type": "execute_result"
    }
   ],
   "source": [
    "model_LAR.fit(X_train, y_train)\n",
    "y_train_pred = model_LAR.predict(X_train)\n",
    "y_test_pred = model_LAR.predict(X_test)\n",
    "scores = cross_val_score(model_LAR, X_train, y_train, cv=10)\n",
    "print(\"Cross Validation Score for each K\", scores)\n",
    "scores.mean() "
   ]
  },
  {
   "cell_type": "code",
   "execution_count": 73,
   "metadata": {},
   "outputs": [
    {
     "name": "stdout",
     "output_type": "stream",
     "text": [
      "MSE train: 0.087, test: 0.123\n",
      "MSE train: 0.204, test: 0.254\n",
      "R2 train: 0.929, test: 0.919\n",
      "EVS train: 0.929, test: 0.920\n",
      "Score train: 0.925, test: 0.925\n"
     ]
    }
   ],
   "source": [
    "print('MSE train: %.3f, test: %.3f' % (\n",
    "        mean_squared_error(y_train, y_train_pred),\n",
    "        mean_squared_error(y_test, y_test_pred)))\n",
    "print('MSE train: %.3f, test: %.3f' % (\n",
    "        mean_absolute_error(y_train, y_train_pred),\n",
    "        mean_absolute_error(y_test, y_test_pred)))\n",
    "print('R2 train: %.3f, test: %.3f' % (\n",
    "        r2_score(y_train, y_train_pred),\n",
    "        r2_score(y_test, y_test_pred)))\n",
    "print('EVS train: %.3f, test: %.3f' % (\n",
    "        explained_variance_score(y_train, y_train_pred),\n",
    "        explained_variance_score(y_test, y_test_pred)))\n",
    "print('Score train: %.3f, test: %.3f' % (\n",
    "        model_LAR.score(dataset.features, dataset.target),\n",
    "        model_LAR.score(dataset.features, dataset.target)))"
   ]
  },
  {
   "cell_type": "markdown",
   "metadata": {},
   "source": [
    "### Random Forest Regressor"
   ]
  },
  {
   "cell_type": "code",
   "execution_count": 20,
   "metadata": {},
   "outputs": [
    {
     "data": {
      "text/plain": [
       "RandomForestRegressor(bootstrap=True, criterion='mse', max_depth=None,\n",
       "           max_features='auto', max_leaf_nodes=None,\n",
       "           min_impurity_split=1e-07, min_samples_leaf=1,\n",
       "           min_samples_split=2, min_weight_fraction_leaf=0.0,\n",
       "           n_estimators=1000, n_jobs=-1, oob_score=False, random_state=42,\n",
       "           verbose=0, warm_start=False)"
      ]
     },
     "execution_count": 20,
     "metadata": {},
     "output_type": "execute_result"
    }
   ],
   "source": [
    "from sklearn.ensemble import RandomForestRegressor\n",
    "\n",
    "model_forest = RandomForestRegressor(n_estimators=1000, \n",
    "                               criterion='mse', \n",
    "                               random_state=42, \n",
    "                               n_jobs=-1)\n",
    "model_forest.fit(dataset.features, dataset.target)"
   ]
  },
  {
   "cell_type": "code",
   "execution_count": 21,
   "metadata": {
    "collapsed": true
   },
   "outputs": [],
   "source": [
    "expected_forest = dataset.target\n",
    "predicted_forest = model_forest.predict(dataset.features)"
   ]
  },
  {
   "cell_type": "code",
   "execution_count": 22,
   "metadata": {},
   "outputs": [
    {
     "name": "stdout",
     "output_type": "stream",
     "text": [
      "Mean Squared Error: 0.00234277522951\n",
      "Mean Absolute Error: 0.0237085973206\n",
      "R2 Score: 0.998223472824\n",
      "Explained Variance Score: 0.998342784748\n",
      "Score: 0.998223472824\n"
     ]
    }
   ],
   "source": [
    "# summarize the fit of the model\n",
    "print(\"Mean Squared Error:\", mean_squared_error(expected_forest, predicted_forest))\n",
    "print(\"Mean Absolute Error:\", mean_absolute_error(expected_forest, predicted_forest))\n",
    "print(\"R2 Score:\", r2_score(expected_forest, predicted_forest))\n",
    "print(\"Explained Variance Score:\", explained_variance_score(expected_forest, predicted_forest))\n",
    "print(\"Score:\", model_forest.score(dataset.features, dataset.target))"
   ]
  },
  {
   "cell_type": "code",
   "execution_count": 23,
   "metadata": {},
   "outputs": [
    {
     "name": "stdout",
     "output_type": "stream",
     "text": [
      "Cross Validation Score for each K [ 0.99074401  0.97230111  0.94109885  0.9296507   0.98344919  0.99479462\n",
      "  0.79954245  0.99005718  0.98342071  0.98866206]\n"
     ]
    },
    {
     "data": {
      "text/plain": [
       "0.95737208845046529"
      ]
     },
     "execution_count": 23,
     "metadata": {},
     "output_type": "execute_result"
    }
   ],
   "source": [
    "model_forest.fit(X_train, y_train)\n",
    "y_train_pred = model_forest.predict(X_train)\n",
    "y_test_pred = model_forest.predict(X_test)\n",
    "scores = cross_val_score(model_forest, X_train, y_train, cv=10)\n",
    "print(\"Cross Validation Score for each K\", scores)\n",
    "scores.mean() "
   ]
  },
  {
   "cell_type": "code",
   "execution_count": 24,
   "metadata": {},
   "outputs": [
    {
     "name": "stdout",
     "output_type": "stream",
     "text": [
      "MSE train: 0.005, test: 0.024\n",
      "MSE train: 0.038, test: 0.073\n",
      "R2 train: 0.996, test: 0.984\n",
      "EVS train: 0.996, test: 0.984\n",
      "Score train: 0.992, test: 0.992\n"
     ]
    }
   ],
   "source": [
    "print('MSE train: %.3f, test: %.3f' % (\n",
    "        mean_squared_error(y_train, y_train_pred),\n",
    "        mean_squared_error(y_test, y_test_pred)))\n",
    "print('MSE train: %.3f, test: %.3f' % (\n",
    "        mean_absolute_error(y_train, y_train_pred),\n",
    "        mean_absolute_error(y_test, y_test_pred)))\n",
    "print('R2 train: %.3f, test: %.3f' % (\n",
    "        r2_score(y_train, y_train_pred),\n",
    "        r2_score(y_test, y_test_pred)))\n",
    "print('EVS train: %.3f, test: %.3f' % (\n",
    "        explained_variance_score(y_train, y_train_pred),\n",
    "        explained_variance_score(y_test, y_test_pred)))\n",
    "print('Score train: %.3f, test: %.3f' % (\n",
    "        model_forest.score(dataset.features, dataset.target),\n",
    "        model_forest.score(dataset.features, dataset.target)))"
   ]
  },
  {
   "cell_type": "markdown",
   "metadata": {},
   "source": [
    "### Summary\n",
    "\n",
    "The random forest model has the highest cross validation accuracy score, smallest MSE and largest $R^2$.  \n",
    " Here are why:\n",
    "\n",
    "* The Lasso, ElasticNet, and Least Angle Regression both reduced number of features.  The ridge Regression did not reduce the number of features.\n",
    "* However, none of the models have cross validation within 2% of the mean.\n",
    "* The grid search ran models with several alpha parameters with 5-fold cross validation. The bigger alpha means more penalty, we tries to find balance between variance and bias. \n",
    "\n",
    "\n",
    "                                   Table 1. Regression Models Results\n",
    "| Regression | Parameters| Mean Squared Error| Mean Absolute Error| $R^2$ Score|Explained Variance Score|Score|10-fold CV Score|\n",
    "| :---------:|:-----:|:------------------:|:------------------:|:-------:|:-----------------------:|:----:|------------------:|\n",
    "| Linear Regression-OLS | normalize=True | 0.096 | 0.230 | 0.927 | 0.927 | 0.927 | 0.873  |   \n",
    "| Ridge Regression      | alpha=100 | 0.099 | 0.229 | 0.925 | 0.925 | 0.925 | 0.886 |   \n",
    "| Lasso Regression  | alpha=5 | 0.100 | 0.229 | 0.924 | 0.924 | 0.894 | 0.877 |\n",
    "| ElasticNet Regression  | alpha=10 | 0.142 | 0.187 | 0.892 | 0.892 | 0.892 | 0.875 |\n",
    "| Least Angle Regression | n_nonzero_coefs=7 | 0.097 | 0.223 | 0.926 | 0.926 | 0.926 | 0.884 |\n",
    "| Random Forest Regressor | n_estimators=1000,criterion='mse'| 0.002 | 0.023 | 0.998 | 0.998 | 0.998 | 0.957 |"
   ]
  },
  {
   "cell_type": "markdown",
   "metadata": {},
   "source": [
    "## END"
   ]
  }
 ],
 "metadata": {
  "kernelspec": {
   "display_name": "Python 3",
   "language": "python",
   "name": "python3"
  },
  "language_info": {
   "codemirror_mode": {
    "name": "ipython",
    "version": 3
   },
   "file_extension": ".py",
   "mimetype": "text/x-python",
   "name": "python",
   "nbconvert_exporter": "python",
   "pygments_lexer": "ipython3",
   "version": "3.6.1"
  }
 },
 "nbformat": 4,
 "nbformat_minor": 2
}
